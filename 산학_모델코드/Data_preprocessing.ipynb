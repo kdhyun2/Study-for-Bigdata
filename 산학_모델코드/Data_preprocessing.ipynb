{
 "metadata": {
  "language_info": {
   "codemirror_mode": {
    "name": "ipython",
    "version": 3
   },
   "file_extension": ".py",
   "mimetype": "text/x-python",
   "name": "python",
   "nbconvert_exporter": "python",
   "pygments_lexer": "ipython3",
   "version": 3
  },
  "orig_nbformat": 2
 },
 "nbformat": 4,
 "nbformat_minor": 2,
 "cells": [
  {
   "cell_type": "code",
   "execution_count": null,
   "metadata": {},
   "outputs": [],
   "source": [
    "import pandas as pd\n",
    "import numpy as np\n",
    "import matplotlib.pyplot as plt\n",
    "import seaborn as sns\n",
    "from scipy import signal\n",
    "from tqdm import tqdm\n",
    "import random\n",
    "import warnings\n",
    "warnings.filterwarnings(action='ignore')\n",
    "from math import atan, sqrt\n",
    "from sklearn.preprocessing import StandardScaler,MinMaxScaler\n",
    "import joblib"
   ]
  },
  {
   "cell_type": "code",
   "execution_count": null,
   "metadata": {},
   "outputs": [],
   "source": [
    "train=pd.read_csv('/content/drive/MyDrive/data/2021_04_19_검증set/Train_중력수정.csv')\n",
    "train_labels=pd.read_csv('/content/drive/MyDrive/data/2021_04_19_검증set/Train_label(점수).csv')"
   ]
  },
  {
   "cell_type": "code",
   "execution_count": null,
   "metadata": {},
   "outputs": [],
   "source": [
    "train = train.iloc[:,1:]"
   ]
  },
  {
   "cell_type": "code",
   "execution_count": null,
   "metadata": {},
   "outputs": [],
   "source": [
    "#acc_x,y,z 칼럼만 가져오기\n",
    "train_acc = train.iloc[:, 2:5]"
   ]
  },
  {
   "cell_type": "code",
   "execution_count": null,
   "metadata": {},
   "outputs": [],
   "source": [
    "# column 추가 \n",
    "# SVM (Sum Vector Magnitude)\n",
    "# Roll (Acc Sensor X axis Angle value)\n",
    "# Pitch (Acc Sensor Y axis Angle value)\n",
    "\n",
    "train['SVM'] = (train['X']**2 + train['Y']**2 + train['Z']**2)**(1/2)\n",
    "train['roll'] = (train.iloc[:,3]/(train.iloc[:,2]**2 + train.iloc[:,4]**2).apply(lambda x : sqrt(x))).apply(lambda x : atan(x))*180/np.pi\n",
    "train['pitch'] = (train.iloc[:,2]/(train.iloc[:,3]**2 + train.iloc[:,4]**2).apply(lambda x : sqrt(x))).apply(lambda x : atan(x))*180/np.pi"
   ]
  },
  {
   "cell_type": "code",
   "execution_count": null,
   "metadata": {},
   "outputs": [],
   "source": [
    "# 1Hz 기준이므로 1초로 미분\n",
    "dt=1\n",
    "def jerk_signal(signal): \n",
    "        return np.array([(signal[i+1]-signal[i])/dt for i in range(len(signal)-1)])"
   ]
  },
  {
   "cell_type": "code",
   "execution_count": null,
   "metadata": {},
   "outputs": [],
   "source": [
    "train_dt=[]\n",
    "\n",
    "for i in train['id'].unique():\n",
    "    temp=train.loc[train['id']==i]\n",
    "    for v in train.columns[2:5]:\n",
    "        values=jerk_signal(temp[v].values)\n",
    "        values=np.insert(values,0,0)\n",
    "        # 0초의 변화량은 0임으로 0으로 설정 \n",
    "        temp.loc[:,v+'_diff']=values\n",
    "    train_dt.append(temp)\n",
    "    \n",
    "train_diff=pd.concat(train_dt)\n",
    "\n",
    "# 컬럼 재정렬\n",
    "train_diff = train_diff[['id','X','Y','Z','SVM','roll','pitch','X_diff','Y_diff','Z_diff']]"
   ]
  },
  {
   "cell_type": "code",
   "execution_count": null,
   "metadata": {},
   "outputs": [],
   "source": [
    "col=train_diff.columns\n",
    "train_s=train_diff.copy()\n",
    "col=train_s.columns"
   ]
  },
  {
   "cell_type": "code",
   "execution_count": null,
   "metadata": {},
   "outputs": [],
   "source": [
    "scaler = joblib.load('/content/drive/MyDrive/Model/scaler2.pkl')"
   ]
  },
  {
   "cell_type": "code",
   "execution_count": null,
   "metadata": {},
   "outputs": [],
   "source": [
    "train_s.iloc[:,1:]= scaler.transform(train_s.iloc[:,1:])\n",
    "train_sc = pd.DataFrame(data = train_s,columns =col)"
   ]
  }
 ]
}