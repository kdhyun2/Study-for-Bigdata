{
  "nbformat": 4,
  "nbformat_minor": 0,
  "metadata": {
    "kernelspec": {
      "display_name": "Python 3",
      "language": "python",
      "name": "python3"
    },
    "language_info": {
      "codemirror_mode": {
        "name": "ipython",
        "version": 3
      },
      "file_extension": ".py",
      "mimetype": "text/x-python",
      "name": "python",
      "nbconvert_exporter": "python",
      "pygments_lexer": "ipython3",
      "version": "3.6.5"
    },
    "colab": {
      "name": "04.cifar10_CNN.ipynb",
      "provenance": [],
      "collapsed_sections": []
    }
  },
  "cells": [
    {
      "cell_type": "markdown",
      "metadata": {
        "id": "XauH_YHFshm1"
      },
      "source": [
        "### 딥-러닝 과정 CNN "
      ]
    },
    {
      "cell_type": "markdown",
      "metadata": {
        "id": "Nhy_b4uNshnT"
      },
      "source": [
        "### 네번째 실습. Keras 모델 생성/학습 - cifar10 : CNN\n",
        "[Keras Dataset](https://keras.io/ko/datasets/#-cifar10)"
      ]
    },
    {
      "cell_type": "code",
      "metadata": {
        "id": "0Jngecj6shnV"
      },
      "source": [
        "# 1. 데이터 불러오기\n"
      ],
      "execution_count": null,
      "outputs": []
    },
    {
      "cell_type": "code",
      "metadata": {
        "id": "rGpS1_zJshnW"
      },
      "source": [
        "# 2. 이미지 데이터 확인하기 🖼\n"
      ],
      "execution_count": null,
      "outputs": []
    },
    {
      "cell_type": "code",
      "metadata": {
        "id": "ksL4a7VzshnX"
      },
      "source": [
        "# 3. 이미지 데이터 전처리 \n"
      ],
      "execution_count": null,
      "outputs": []
    },
    {
      "cell_type": "code",
      "metadata": {
        "id": "8mV2E9_OshnX"
      },
      "source": [
        "# 4. Label categorical (one-hot encoding) \n"
      ],
      "execution_count": null,
      "outputs": []
    },
    {
      "cell_type": "code",
      "metadata": {
        "id": "FW1-7b8cshnY"
      },
      "source": [
        "# 5. 모델 생성 : CNN\n"
      ],
      "execution_count": null,
      "outputs": []
    },
    {
      "cell_type": "code",
      "metadata": {
        "id": "ntaPbiqfshnZ"
      },
      "source": [
        "# 6. Compile - Optimizer, Loss function 설정\n"
      ],
      "execution_count": null,
      "outputs": []
    },
    {
      "cell_type": "code",
      "metadata": {
        "id": "JujRedmCshna"
      },
      "source": [
        "# 7. 모델 학습시키기\n"
      ],
      "execution_count": null,
      "outputs": []
    },
    {
      "cell_type": "code",
      "metadata": {
        "id": "xephgPLLshne"
      },
      "source": [
        "# 8. 모델 평가하기\n"
      ],
      "execution_count": null,
      "outputs": []
    },
    {
      "cell_type": "code",
      "metadata": {
        "id": "aFY_sGrxshnh"
      },
      "source": [
        "# 9. 학습 시각화하기\n"
      ],
      "execution_count": null,
      "outputs": []
    },
    {
      "cell_type": "code",
      "metadata": {
        "id": "VI_KMh25shnh"
      },
      "source": [
        "# 10. 이미지를 랜덤으로 선택해 훈련된 모델로 예측 🖼\n"
      ],
      "execution_count": null,
      "outputs": []
    },
    {
      "cell_type": "markdown",
      "metadata": {
        "id": "hS4wOK9tshni"
      },
      "source": [
        "수고하셨습니다 👍"
      ]
    }
  ]
}