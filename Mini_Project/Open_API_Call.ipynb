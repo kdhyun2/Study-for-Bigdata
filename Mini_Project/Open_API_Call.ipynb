{
 "metadata": {
  "language_info": {
   "codemirror_mode": {
    "name": "ipython",
    "version": 3
   },
   "file_extension": ".py",
   "mimetype": "text/x-python",
   "name": "python",
   "nbconvert_exporter": "python",
   "pygments_lexer": "ipython3",
   "version": "3.8.5-final"
  },
  "orig_nbformat": 2,
  "kernelspec": {
   "name": "python3",
   "display_name": "Python 3.8.5 64-bit (conda)",
   "metadata": {
    "interpreter": {
     "hash": "183bbf6827d058c2a2fb0f4acdc0420849dda2b4380af0e437e38c64d798d8b7"
    }
   }
  }
 },
 "nbformat": 4,
 "nbformat_minor": 2,
 "cells": [
  {
   "cell_type": "code",
   "execution_count": 7,
   "metadata": {},
   "outputs": [
    {
     "output_type": "stream",
     "name": "stdout",
     "text": [
      "Note: you may need to restart the kernel to use updated packages.\n",
      "ERROR: Could not find a version that satisfies the requirement urllib (from versions: none)\n",
      "ERROR: No matching distribution found for urllib\n"
     ]
    }
   ],
   "source": [
    "%pip install urllib"
   ]
  },
  {
   "source": [
    "from urllib.request import urlopen,Request\n",
    "from urllib.parse import urlencode,unquote,quote_plus\n",
    "from bs4 import BeautifulSoup\n",
    "import urllib\n",
    "import requests\n",
    "import pandas as pd\n"
   ],
   "cell_type": "code",
   "metadata": {},
   "execution_count": 19,
   "outputs": []
  },
  {
   "cell_type": "code",
   "execution_count": 20,
   "metadata": {},
   "outputs": [
    {
     "output_type": "stream",
     "name": "stdout",
     "text": [
      "<class 'requests.models.Response'>\n"
     ]
    }
   ],
   "source": [
    "url = 'http://ws.bus.go.kr/api/rest/arrive/getArrInfoByRouteAll'\n",
    "queryParams = '?' + urlencode({ quote_plus('ServiceKey') : 'umF39t2l8EJP4ENS7pCfrWqXu0AHhzylXzBNJmAO6DSyMX1p1Fw32ccHOy0bC2tuvvaIs5JnSx4obILsA7CDkQ%3D%3D', quote_plus('busRouteId') : '' }, safe='%')\n",
    "\n",
    "req = requests.get(url+queryParams)\n",
    "print(type(req))\n",
    "\n"
   ]
  },
  {
   "cell_type": "code",
   "execution_count": 21,
   "metadata": {},
   "outputs": [
    {
     "output_type": "stream",
     "name": "stdout",
     "text": [
      "<class 'str'>\n<?xml version=\"1.0\" encoding=\"UTF-8\" standalone=\"yes\"?><ServiceResult><comMsgHeader/><msgHeader><headerCd>7</headerCd><headerMsg>Key인증실패: SERVICE KEY \n"
     ]
    }
   ],
   "source": [
    "html = req.text \n",
    "\n",
    "print(type(html)) #이제 string객체로 바꼈다.\n",
    "print(html[:150]) #이렇게 내용물을 확인할 수 있다.\n"
   ]
  }
 ]
}