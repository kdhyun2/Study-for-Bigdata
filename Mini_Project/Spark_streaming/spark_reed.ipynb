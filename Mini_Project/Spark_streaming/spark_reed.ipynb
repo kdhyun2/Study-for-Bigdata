{
 "cells": [
  {
   "cell_type": "code",
   "execution_count": 1,
   "id": "heard-novelty",
   "metadata": {},
   "outputs": [],
   "source": [
    "import findspark\n",
    "findspark.init()"
   ]
  },
  {
   "cell_type": "code",
   "execution_count": 2,
   "id": "threaded-census",
   "metadata": {},
   "outputs": [
    {
     "name": "stderr",
     "output_type": "stream",
     "text": [
      "/usr/local/lib64/python3.6/site-packages/sklearn/base.py:315: UserWarning: Trying to unpickle estimator StandardScaler from version 0.23.2 when using version 0.24.1. This might lead to breaking code or invalid results. Use at your own risk.\n",
      "  UserWarning)\n",
      "/usr/local/lib64/python3.6/site-packages/sklearn/base.py:315: UserWarning: Trying to unpickle estimator Pipeline from version 0.23.2 when using version 0.24.1. This might lead to breaking code or invalid results. Use at your own risk.\n",
      "  UserWarning)\n",
      "/usr/local/lib64/python3.6/site-packages/sklearn/base.py:315: UserWarning: Trying to unpickle estimator OneHotEncoder from version 0.23.2 when using version 0.24.1. This might lead to breaking code or invalid results. Use at your own risk.\n",
      "  UserWarning)\n",
      "/usr/local/lib64/python3.6/site-packages/sklearn/base.py:315: UserWarning: Trying to unpickle estimator ColumnTransformer from version 0.23.2 when using version 0.24.1. This might lead to breaking code or invalid results. Use at your own risk.\n",
      "  UserWarning)\n",
      "/usr/local/lib64/python3.6/site-packages/sklearn/base.py:315: UserWarning: Trying to unpickle estimator DecisionTreeRegressor from version 0.23.2 when using version 0.24.1. This might lead to breaking code or invalid results. Use at your own risk.\n",
      "  UserWarning)\n",
      "/usr/local/lib64/python3.6/site-packages/sklearn/base.py:315: UserWarning: Trying to unpickle estimator RandomForestRegressor from version 0.23.2 when using version 0.24.1. This might lead to breaking code or invalid results. Use at your own risk.\n",
      "  UserWarning)\n"
     ]
    },
    {
     "data": {
      "text/html": [
       "\n",
       "        <div>\n",
       "            <p><b>SparkContext</b></p>\n",
       "\n",
       "            <p><a href=\"http://172.20.30.135:4040\">Spark UI</a></p>\n",
       "\n",
       "            <dl>\n",
       "              <dt>Version</dt>\n",
       "                <dd><code>v2.4.7</code></dd>\n",
       "              <dt>Master</dt>\n",
       "                <dd><code>local</code></dd>\n",
       "              <dt>AppName</dt>\n",
       "                <dd><code>Kafka_stm</code></dd>\n",
       "            </dl>\n",
       "        </div>\n",
       "        "
      ],
      "text/plain": [
       "<SparkContext master=local appName=Kafka_stm>"
      ]
     },
     "execution_count": 2,
     "metadata": {},
     "output_type": "execute_result"
    }
   ],
   "source": [
    "from pyspark.sql import *\n",
    "from pyspark.sql.functions import *\n",
    "from pyspark.sql.types import *\n",
    "import time\n",
    "import pandas\n",
    "import joblib\n",
    "import numpy as np\n",
    "\n",
    "loaded_model = joblib.load('./water_test5')\n",
    "\n",
    "spark = SparkSession\\\n",
    "  .builder\\\n",
    "  .master(\"local\") \\\n",
    "  .appName(\"Kafka_stm\")\\\n",
    "  .getOrCreate()\n",
    "\n",
    "spark.sparkContext"
   ]
  },
  {
   "cell_type": "code",
   "execution_count": null,
   "id": "recorded-pavilion",
   "metadata": {
    "scrolled": true
   },
   "outputs": [
    {
     "data": {
      "text/plain": [
       "DataFrame[Date: string, Hour: string, Predict_val: double]"
      ]
     },
     "metadata": {},
     "output_type": "display_data"
    },
    {
     "name": "stdout",
     "output_type": "stream",
     "text": [
      "+--------+----+-----------+\n",
      "|    Date|Hour|Predict_val|\n",
      "+--------+----+-----------+\n",
      "|20210304|  13|     7.1103|\n",
      "+--------+----+-----------+\n",
      "\n",
      "None\n",
      "+--------+----+-----------+--------------------+\n",
      "|    Date|Hour|Predict_val|               value|\n",
      "+--------+----+-----------+--------------------+\n",
      "|20210304|  13|     7.1103|[20210304, 13, 7....|\n",
      "+--------+----+-----------+--------------------+\n",
      "\n",
      "None\n",
      "origin Data\n",
      "                                                  df\n",
      "8  (0.0, 7.5469, 생활정수, 0.0, 고양정수장, None, 4128512319)\n",
      "Prediction: 7.1103 Ph\n",
      "Generate New Prediction...\n"
     ]
    },
    {
     "data": {
      "text/plain": [
       "DataFrame[Date: string, Hour: string, Predict_val: double]"
      ]
     },
     "metadata": {},
     "output_type": "display_data"
    },
    {
     "name": "stdout",
     "output_type": "stream",
     "text": [
      "+--------+----+-----------+\n",
      "|    Date|Hour|Predict_val|\n",
      "+--------+----+-----------+\n",
      "|20210304|  13|     7.1103|\n",
      "+--------+----+-----------+\n",
      "\n",
      "None\n",
      "+--------+----+-----------+--------------------+\n",
      "|    Date|Hour|Predict_val|               value|\n",
      "+--------+----+-----------+--------------------+\n",
      "|20210304|  13|     7.1103|[20210304, 13, 7....|\n",
      "+--------+----+-----------+--------------------+\n",
      "\n",
      "None\n",
      "origin Data\n",
      "                                                  df\n",
      "8  (0.0, 7.5469, 생활정수, 0.0, 고양정수장, None, 4128512319)\n",
      "Prediction: 7.1103 Ph\n",
      "Generate New Prediction...\n"
     ]
    },
    {
     "data": {
      "text/plain": [
       "DataFrame[Date: string, Hour: string, Predict_val: double]"
      ]
     },
     "metadata": {},
     "output_type": "display_data"
    },
    {
     "name": "stdout",
     "output_type": "stream",
     "text": [
      "+--------+----+-----------+\n",
      "|    Date|Hour|Predict_val|\n",
      "+--------+----+-----------+\n",
      "|20210304|  13|     7.1103|\n",
      "+--------+----+-----------+\n",
      "\n",
      "None\n",
      "+--------+----+-----------+--------------------+\n",
      "|    Date|Hour|Predict_val|               value|\n",
      "+--------+----+-----------+--------------------+\n",
      "|20210304|  13|     7.1103|[20210304, 13, 7....|\n",
      "+--------+----+-----------+--------------------+\n",
      "\n",
      "None\n",
      "origin Data\n",
      "                                                  df\n",
      "8  (0.0, 7.5469, 생활정수, 0.0, 고양정수장, None, 4128512319)\n",
      "Prediction: 7.1103 Ph\n",
      "Generate New Prediction...\n"
     ]
    },
    {
     "data": {
      "text/plain": [
       "DataFrame[Date: string, Hour: string, Predict_val: double]"
      ]
     },
     "metadata": {},
     "output_type": "display_data"
    },
    {
     "name": "stdout",
     "output_type": "stream",
     "text": [
      "+--------+----+-----------+\n",
      "|    Date|Hour|Predict_val|\n",
      "+--------+----+-----------+\n",
      "|20210304|  13|     7.1103|\n",
      "+--------+----+-----------+\n",
      "\n",
      "None\n",
      "+--------+----+-----------+--------------------+\n",
      "|    Date|Hour|Predict_val|               value|\n",
      "+--------+----+-----------+--------------------+\n",
      "|20210304|  13|     7.1103|[20210304, 13, 7....|\n",
      "+--------+----+-----------+--------------------+\n",
      "\n",
      "None\n",
      "origin Data\n",
      "                                                  df\n",
      "8  (0.0, 7.5469, 생활정수, 0.0, 고양정수장, None, 4128512319)\n",
      "Prediction: 7.1103 Ph\n",
      "Generate New Prediction...\n"
     ]
    },
    {
     "data": {
      "text/plain": [
       "DataFrame[Date: string, Hour: string, Predict_val: double]"
      ]
     },
     "metadata": {},
     "output_type": "display_data"
    },
    {
     "name": "stdout",
     "output_type": "stream",
     "text": [
      "+--------+----+-----------+\n",
      "|    Date|Hour|Predict_val|\n",
      "+--------+----+-----------+\n",
      "|20210304|  13|     7.1103|\n",
      "+--------+----+-----------+\n",
      "\n",
      "None\n",
      "+--------+----+-----------+--------------------+\n",
      "|    Date|Hour|Predict_val|               value|\n",
      "+--------+----+-----------+--------------------+\n",
      "|20210304|  13|     7.1103|[20210304, 13, 7....|\n",
      "+--------+----+-----------+--------------------+\n",
      "\n",
      "None\n",
      "origin Data\n",
      "                                                  df\n",
      "8  (0.0, 7.5469, 생활정수, 0.0, 고양정수장, None, 4128512319)\n",
      "Prediction: 7.1103 Ph\n",
      "Generate New Prediction...\n"
     ]
    },
    {
     "data": {
      "text/plain": [
       "DataFrame[Date: string, Hour: string, Predict_val: double]"
      ]
     },
     "metadata": {},
     "output_type": "display_data"
    },
    {
     "name": "stdout",
     "output_type": "stream",
     "text": [
      "+--------+----+-----------+\n",
      "|    Date|Hour|Predict_val|\n",
      "+--------+----+-----------+\n",
      "|20210304|  13|     7.1103|\n",
      "+--------+----+-----------+\n",
      "\n",
      "None\n",
      "+--------+----+-----------+--------------------+\n",
      "|    Date|Hour|Predict_val|               value|\n",
      "+--------+----+-----------+--------------------+\n",
      "|20210304|  13|     7.1103|[20210304, 13, 7....|\n",
      "+--------+----+-----------+--------------------+\n",
      "\n",
      "None\n",
      "origin Data\n",
      "                                                  df\n",
      "8  (0.0, 7.5469, 생활정수, 0.0, 고양정수장, None, 4128512319)\n",
      "Prediction: 7.1103 Ph\n",
      "Generate New Prediction...\n"
     ]
    },
    {
     "data": {
      "text/plain": [
       "DataFrame[Date: string, Hour: string, Predict_val: double]"
      ]
     },
     "metadata": {},
     "output_type": "display_data"
    },
    {
     "name": "stdout",
     "output_type": "stream",
     "text": [
      "+--------+----+-----------+\n",
      "|    Date|Hour|Predict_val|\n",
      "+--------+----+-----------+\n",
      "|20210304|  13|     7.1103|\n",
      "+--------+----+-----------+\n",
      "\n",
      "None\n",
      "+--------+----+-----------+--------------------+\n",
      "|    Date|Hour|Predict_val|               value|\n",
      "+--------+----+-----------+--------------------+\n",
      "|20210304|  13|     7.1103|[20210304, 13, 7....|\n",
      "+--------+----+-----------+--------------------+\n",
      "\n",
      "None\n",
      "origin Data\n",
      "                                                  df\n",
      "8  (0.0, 7.5469, 생활정수, 0.0, 고양정수장, None, 4128512319)\n",
      "Prediction: 7.1103 Ph\n",
      "Generate New Prediction...\n"
     ]
    },
    {
     "data": {
      "text/plain": [
       "DataFrame[Date: string, Hour: string, Predict_val: double]"
      ]
     },
     "metadata": {},
     "output_type": "display_data"
    },
    {
     "name": "stdout",
     "output_type": "stream",
     "text": [
      "+--------+----+-----------+\n",
      "|    Date|Hour|Predict_val|\n",
      "+--------+----+-----------+\n",
      "|20210304|  13|     7.1103|\n",
      "+--------+----+-----------+\n",
      "\n",
      "None\n",
      "+--------+----+-----------+--------------------+\n",
      "|    Date|Hour|Predict_val|               value|\n",
      "+--------+----+-----------+--------------------+\n",
      "|20210304|  13|     7.1103|[20210304, 13, 7....|\n",
      "+--------+----+-----------+--------------------+\n",
      "\n",
      "None\n",
      "origin Data\n",
      "                                                  df\n",
      "8  (0.0, 7.5469, 생활정수, 0.0, 고양정수장, None, 4128512319)\n",
      "Prediction: 7.1103 Ph\n",
      "Generate New Prediction...\n"
     ]
    },
    {
     "data": {
      "text/plain": [
       "DataFrame[Date: string, Hour: string, Predict_val: double]"
      ]
     },
     "metadata": {},
     "output_type": "display_data"
    },
    {
     "name": "stdout",
     "output_type": "stream",
     "text": [
      "+--------+----+-----------+\n",
      "|    Date|Hour|Predict_val|\n",
      "+--------+----+-----------+\n",
      "|20210304|  13|     7.1103|\n",
      "+--------+----+-----------+\n",
      "\n",
      "None\n",
      "+--------+----+-----------+--------------------+\n",
      "|    Date|Hour|Predict_val|               value|\n",
      "+--------+----+-----------+--------------------+\n",
      "|20210304|  13|     7.1103|[20210304, 13, 7....|\n",
      "+--------+----+-----------+--------------------+\n",
      "\n",
      "None\n",
      "origin Data\n",
      "                                                  df\n",
      "8  (0.0, 7.5469, 생활정수, 0.0, 고양정수장, None, 4128512319)\n",
      "Prediction: 7.1103 Ph\n",
      "Generate New Prediction...\n"
     ]
    },
    {
     "data": {
      "text/plain": [
       "DataFrame[Date: string, Hour: string, Predict_val: double]"
      ]
     },
     "metadata": {},
     "output_type": "display_data"
    },
    {
     "name": "stdout",
     "output_type": "stream",
     "text": [
      "+--------+----+-----------+\n",
      "|    Date|Hour|Predict_val|\n",
      "+--------+----+-----------+\n",
      "|20210304|  13|     7.1103|\n",
      "+--------+----+-----------+\n",
      "\n",
      "None\n",
      "+--------+----+-----------+--------------------+\n",
      "|    Date|Hour|Predict_val|               value|\n",
      "+--------+----+-----------+--------------------+\n",
      "|20210304|  13|     7.1103|[20210304, 13, 7....|\n",
      "+--------+----+-----------+--------------------+\n",
      "\n",
      "None\n",
      "origin Data\n",
      "                                                  df\n",
      "8  (0.0, 7.5469, 생활정수, 0.0, 고양정수장, None, 4128512319)\n",
      "Prediction: 7.1103 Ph\n",
      "Generate New Prediction...\n"
     ]
    },
    {
     "data": {
      "text/plain": [
       "DataFrame[Date: string, Hour: string, Predict_val: double]"
      ]
     },
     "metadata": {},
     "output_type": "display_data"
    },
    {
     "name": "stdout",
     "output_type": "stream",
     "text": [
      "+--------+----+-----------+\n",
      "|    Date|Hour|Predict_val|\n",
      "+--------+----+-----------+\n",
      "|20210304|  13|     7.1103|\n",
      "+--------+----+-----------+\n",
      "\n",
      "None\n",
      "+--------+----+-----------+--------------------+\n",
      "|    Date|Hour|Predict_val|               value|\n",
      "+--------+----+-----------+--------------------+\n",
      "|20210304|  13|     7.1103|[20210304, 13, 7....|\n",
      "+--------+----+-----------+--------------------+\n",
      "\n",
      "None\n",
      "origin Data\n",
      "                                                  df\n",
      "8  (0.0, 7.5469, 생활정수, 0.0, 고양정수장, None, 4128512319)\n",
      "Prediction: 7.1103 Ph\n",
      "Generate New Prediction...\n"
     ]
    },
    {
     "data": {
      "text/plain": [
       "DataFrame[Date: string, Hour: string, Predict_val: double]"
      ]
     },
     "metadata": {},
     "output_type": "display_data"
    },
    {
     "name": "stdout",
     "output_type": "stream",
     "text": [
      "+--------+----+-----------+\n",
      "|    Date|Hour|Predict_val|\n",
      "+--------+----+-----------+\n",
      "|20210304|  13|     7.1103|\n",
      "+--------+----+-----------+\n",
      "\n",
      "None\n",
      "+--------+----+-----------+--------------------+\n",
      "|    Date|Hour|Predict_val|               value|\n",
      "+--------+----+-----------+--------------------+\n",
      "|20210304|  13|     7.1103|[20210304, 13, 7....|\n",
      "+--------+----+-----------+--------------------+\n",
      "\n",
      "None\n",
      "origin Data\n",
      "                                                  df\n",
      "8  (0.0, 7.5469, 생활정수, 0.0, 고양정수장, None, 4128512319)\n",
      "Prediction: 7.1103 Ph\n",
      "Generate New Prediction...\n"
     ]
    },
    {
     "data": {
      "text/plain": [
       "DataFrame[Date: string, Hour: string, Predict_val: double]"
      ]
     },
     "metadata": {},
     "output_type": "display_data"
    },
    {
     "name": "stdout",
     "output_type": "stream",
     "text": [
      "+--------+----+-----------+\n",
      "|    Date|Hour|Predict_val|\n",
      "+--------+----+-----------+\n",
      "|20210304|  13|     7.1103|\n",
      "+--------+----+-----------+\n",
      "\n",
      "None\n",
      "+--------+----+-----------+--------------------+\n",
      "|    Date|Hour|Predict_val|               value|\n",
      "+--------+----+-----------+--------------------+\n",
      "|20210304|  13|     7.1103|[20210304, 13, 7....|\n",
      "+--------+----+-----------+--------------------+\n",
      "\n",
      "None\n",
      "origin Data\n",
      "                                                  df\n",
      "8  (0.0, 7.5469, 생활정수, 0.0, 고양정수장, None, 4128512319)\n",
      "Prediction: 7.1103 Ph\n",
      "Generate New Prediction...\n"
     ]
    },
    {
     "data": {
      "text/plain": [
       "DataFrame[Date: string, Hour: string, Predict_val: double]"
      ]
     },
     "metadata": {},
     "output_type": "display_data"
    },
    {
     "name": "stdout",
     "output_type": "stream",
     "text": [
      "+--------+----+-----------+\n",
      "|    Date|Hour|Predict_val|\n",
      "+--------+----+-----------+\n",
      "|20210304|  13|     7.1103|\n",
      "+--------+----+-----------+\n",
      "\n",
      "None\n",
      "+--------+----+-----------+--------------------+\n",
      "|    Date|Hour|Predict_val|               value|\n",
      "+--------+----+-----------+--------------------+\n",
      "|20210304|  13|     7.1103|[20210304, 13, 7....|\n",
      "+--------+----+-----------+--------------------+\n",
      "\n",
      "None\n",
      "origin Data\n",
      "                                                  df\n",
      "8  (0.0, 7.5469, 생활정수, 0.0, 고양정수장, None, 4128512319)\n",
      "Prediction: 7.1103 Ph\n",
      "Generate New Prediction...\n"
     ]
    },
    {
     "data": {
      "text/plain": [
       "DataFrame[Date: string, Hour: string, Predict_val: double]"
      ]
     },
     "metadata": {},
     "output_type": "display_data"
    },
    {
     "name": "stdout",
     "output_type": "stream",
     "text": [
      "+--------+----+-----------+\n",
      "|    Date|Hour|Predict_val|\n",
      "+--------+----+-----------+\n",
      "|20210304|  13|     7.1103|\n",
      "+--------+----+-----------+\n",
      "\n",
      "None\n",
      "+--------+----+-----------+--------------------+\n",
      "|    Date|Hour|Predict_val|               value|\n",
      "+--------+----+-----------+--------------------+\n",
      "|20210304|  13|     7.1103|[20210304, 13, 7....|\n",
      "+--------+----+-----------+--------------------+\n",
      "\n",
      "None\n",
      "origin Data\n",
      "                                                  df\n",
      "8  (0.0, 7.5469, 생활정수, 0.0, 고양정수장, None, 4128512319)\n",
      "Prediction: 7.1103 Ph\n",
      "Generate New Prediction...\n"
     ]
    },
    {
     "data": {
      "text/plain": [
       "DataFrame[Date: string, Hour: string, Predict_val: double]"
      ]
     },
     "metadata": {},
     "output_type": "display_data"
    },
    {
     "name": "stdout",
     "output_type": "stream",
     "text": [
      "+--------+----+-----------+\n",
      "|    Date|Hour|Predict_val|\n",
      "+--------+----+-----------+\n",
      "|20210304|  13|     7.1103|\n",
      "+--------+----+-----------+\n",
      "\n",
      "None\n",
      "+--------+----+-----------+--------------------+\n",
      "|    Date|Hour|Predict_val|               value|\n",
      "+--------+----+-----------+--------------------+\n",
      "|20210304|  13|     7.1103|[20210304, 13, 7....|\n",
      "+--------+----+-----------+--------------------+\n",
      "\n",
      "None\n",
      "origin Data\n",
      "                                                  df\n",
      "8  (0.0, 7.5469, 생활정수, 0.0, 고양정수장, None, 4128512319)\n",
      "Prediction: 7.1103 Ph\n",
      "Generate New Prediction...\n"
     ]
    },
    {
     "data": {
      "text/plain": [
       "DataFrame[Date: string, Hour: string, Predict_val: double]"
      ]
     },
     "metadata": {},
     "output_type": "display_data"
    },
    {
     "name": "stdout",
     "output_type": "stream",
     "text": [
      "+--------+----+-----------+\n",
      "|    Date|Hour|Predict_val|\n",
      "+--------+----+-----------+\n",
      "|20210304|  13|     7.1103|\n",
      "+--------+----+-----------+\n",
      "\n",
      "None\n",
      "+--------+----+-----------+--------------------+\n",
      "|    Date|Hour|Predict_val|               value|\n",
      "+--------+----+-----------+--------------------+\n",
      "|20210304|  13|     7.1103|[20210304, 13, 7....|\n",
      "+--------+----+-----------+--------------------+\n",
      "\n",
      "None\n",
      "origin Data\n",
      "                                                  df\n",
      "8  (0.0, 7.5469, 생활정수, 0.0, 고양정수장, None, 4128512319)\n",
      "Prediction: 7.1103 Ph\n",
      "Generate New Prediction...\n"
     ]
    },
    {
     "data": {
      "text/plain": [
       "DataFrame[Date: string, Hour: string, Predict_val: double]"
      ]
     },
     "metadata": {},
     "output_type": "display_data"
    },
    {
     "name": "stdout",
     "output_type": "stream",
     "text": [
      "+--------+----+-----------+\n",
      "|    Date|Hour|Predict_val|\n",
      "+--------+----+-----------+\n",
      "|20210304|  13|     7.1103|\n",
      "+--------+----+-----------+\n",
      "\n",
      "None\n",
      "+--------+----+-----------+--------------------+\n",
      "|    Date|Hour|Predict_val|               value|\n",
      "+--------+----+-----------+--------------------+\n",
      "|20210304|  13|     7.1103|[20210304, 13, 7....|\n",
      "+--------+----+-----------+--------------------+\n",
      "\n",
      "None\n",
      "origin Data\n",
      "                                                  df\n",
      "8  (0.0, 7.5469, 생활정수, 0.0, 고양정수장, None, 4128512319)\n",
      "Prediction: 7.1103 Ph\n",
      "Generate New Prediction...\n"
     ]
    },
    {
     "data": {
      "text/plain": [
       "DataFrame[Date: string, Hour: string, Predict_val: double]"
      ]
     },
     "metadata": {},
     "output_type": "display_data"
    },
    {
     "name": "stdout",
     "output_type": "stream",
     "text": [
      "+--------+----+-----------+\n",
      "|    Date|Hour|Predict_val|\n",
      "+--------+----+-----------+\n",
      "|20210304|  14|     7.1103|\n",
      "+--------+----+-----------+\n",
      "\n",
      "None\n",
      "+--------+----+-----------+--------------------+\n",
      "|    Date|Hour|Predict_val|               value|\n",
      "+--------+----+-----------+--------------------+\n",
      "|20210304|  14|     7.1103|[20210304, 14, 7....|\n",
      "+--------+----+-----------+--------------------+\n",
      "\n",
      "None\n",
      "origin Data\n",
      "                                                  df\n",
      "8  (0.0, 7.5469, 생활정수, 0.0, 고양정수장, None, 4128512319)\n",
      "Prediction: 7.1103 Ph\n",
      "Generate New Prediction...\n"
     ]
    },
    {
     "data": {
      "text/plain": [
       "DataFrame[Date: string, Hour: string, Predict_val: double]"
      ]
     },
     "metadata": {},
     "output_type": "display_data"
    },
    {
     "name": "stdout",
     "output_type": "stream",
     "text": [
      "+--------+----+-----------+\n",
      "|    Date|Hour|Predict_val|\n",
      "+--------+----+-----------+\n",
      "|20210304|  14|     7.1103|\n",
      "+--------+----+-----------+\n",
      "\n",
      "None\n",
      "+--------+----+-----------+--------------------+\n",
      "|    Date|Hour|Predict_val|               value|\n",
      "+--------+----+-----------+--------------------+\n",
      "|20210304|  14|     7.1103|[20210304, 14, 7....|\n",
      "+--------+----+-----------+--------------------+\n",
      "\n",
      "None\n",
      "origin Data\n",
      "                                                  df\n",
      "8  (0.0, 7.5469, 생활정수, 0.0, 고양정수장, None, 4128512319)\n",
      "Prediction: 7.1103 Ph\n",
      "Generate New Prediction...\n"
     ]
    },
    {
     "data": {
      "text/plain": [
       "DataFrame[Date: string, Hour: string, Predict_val: double]"
      ]
     },
     "metadata": {},
     "output_type": "display_data"
    },
    {
     "name": "stdout",
     "output_type": "stream",
     "text": [
      "+--------+----+-----------+\n",
      "|    Date|Hour|Predict_val|\n",
      "+--------+----+-----------+\n",
      "|20210304|  14|     7.1103|\n",
      "+--------+----+-----------+\n",
      "\n",
      "None\n",
      "+--------+----+-----------+--------------------+\n",
      "|    Date|Hour|Predict_val|               value|\n",
      "+--------+----+-----------+--------------------+\n",
      "|20210304|  14|     7.1103|[20210304, 14, 7....|\n",
      "+--------+----+-----------+--------------------+\n",
      "\n",
      "None\n",
      "origin Data\n",
      "                                                  df\n",
      "8  (0.0, 7.5469, 생활정수, 0.0, 고양정수장, None, 4128512319)\n",
      "Prediction: 7.1103 Ph\n",
      "Generate New Prediction...\n"
     ]
    },
    {
     "data": {
      "text/plain": [
       "DataFrame[Date: string, Hour: string, Predict_val: double]"
      ]
     },
     "metadata": {},
     "output_type": "display_data"
    },
    {
     "name": "stdout",
     "output_type": "stream",
     "text": [
      "+--------+----+-----------+\n",
      "|    Date|Hour|Predict_val|\n",
      "+--------+----+-----------+\n",
      "|20210304|  14|     7.1103|\n",
      "+--------+----+-----------+\n",
      "\n",
      "None\n",
      "+--------+----+-----------+--------------------+\n",
      "|    Date|Hour|Predict_val|               value|\n",
      "+--------+----+-----------+--------------------+\n",
      "|20210304|  14|     7.1103|[20210304, 14, 7....|\n",
      "+--------+----+-----------+--------------------+\n",
      "\n",
      "None\n",
      "origin Data\n",
      "                                                  df\n",
      "8  (0.0, 7.5469, 생활정수, 0.0, 고양정수장, None, 4128512319)\n",
      "Prediction: 7.1103 Ph\n",
      "Generate New Prediction...\n"
     ]
    },
    {
     "data": {
      "text/plain": [
       "DataFrame[Date: string, Hour: string, Predict_val: double]"
      ]
     },
     "metadata": {},
     "output_type": "display_data"
    },
    {
     "name": "stdout",
     "output_type": "stream",
     "text": [
      "+--------+----+-----------+\n",
      "|    Date|Hour|Predict_val|\n",
      "+--------+----+-----------+\n",
      "|20210304|  14|     7.1103|\n",
      "+--------+----+-----------+\n",
      "\n",
      "None\n",
      "+--------+----+-----------+--------------------+\n",
      "|    Date|Hour|Predict_val|               value|\n",
      "+--------+----+-----------+--------------------+\n",
      "|20210304|  14|     7.1103|[20210304, 14, 7....|\n",
      "+--------+----+-----------+--------------------+\n",
      "\n",
      "None\n",
      "origin Data\n",
      "                                                  df\n",
      "8  (0.0, 7.5469, 생활정수, 0.0, 고양정수장, None, 4128512319)\n",
      "Prediction: 7.1103 Ph\n",
      "Generate New Prediction...\n"
     ]
    },
    {
     "data": {
      "text/plain": [
       "DataFrame[Date: string, Hour: string, Predict_val: double]"
      ]
     },
     "metadata": {},
     "output_type": "display_data"
    },
    {
     "name": "stdout",
     "output_type": "stream",
     "text": [
      "+--------+----+-----------+\n",
      "|    Date|Hour|Predict_val|\n",
      "+--------+----+-----------+\n",
      "|20210304|  14|     7.1103|\n",
      "+--------+----+-----------+\n",
      "\n",
      "None\n",
      "+--------+----+-----------+--------------------+\n",
      "|    Date|Hour|Predict_val|               value|\n",
      "+--------+----+-----------+--------------------+\n",
      "|20210304|  14|     7.1103|[20210304, 14, 7....|\n",
      "+--------+----+-----------+--------------------+\n",
      "\n",
      "None\n",
      "origin Data\n",
      "                                                  df\n",
      "8  (0.0, 7.5469, 생활정수, 0.0, 고양정수장, None, 4128512319)\n",
      "Prediction: 7.1103 Ph\n",
      "Generate New Prediction...\n"
     ]
    },
    {
     "data": {
      "text/plain": [
       "DataFrame[Date: string, Hour: string, Predict_val: double]"
      ]
     },
     "metadata": {},
     "output_type": "display_data"
    },
    {
     "name": "stdout",
     "output_type": "stream",
     "text": [
      "+--------+----+-----------+\n",
      "|    Date|Hour|Predict_val|\n",
      "+--------+----+-----------+\n",
      "|20210304|  14|     7.1103|\n",
      "+--------+----+-----------+\n",
      "\n",
      "None\n",
      "+--------+----+-----------+--------------------+\n",
      "|    Date|Hour|Predict_val|               value|\n",
      "+--------+----+-----------+--------------------+\n",
      "|20210304|  14|     7.1103|[20210304, 14, 7....|\n",
      "+--------+----+-----------+--------------------+\n",
      "\n",
      "None\n",
      "origin Data\n",
      "                                                  df\n",
      "8  (0.0, 7.5469, 생활정수, 0.0, 고양정수장, None, 4128512319)\n",
      "Prediction: 7.1103 Ph\n",
      "Generate New Prediction...\n"
     ]
    },
    {
     "data": {
      "text/plain": [
       "DataFrame[Date: string, Hour: string, Predict_val: double]"
      ]
     },
     "metadata": {},
     "output_type": "display_data"
    },
    {
     "name": "stdout",
     "output_type": "stream",
     "text": [
      "+--------+----+-----------+\n",
      "|    Date|Hour|Predict_val|\n",
      "+--------+----+-----------+\n",
      "|20210304|  14|     7.1103|\n",
      "+--------+----+-----------+\n",
      "\n",
      "None\n",
      "+--------+----+-----------+--------------------+\n",
      "|    Date|Hour|Predict_val|               value|\n",
      "+--------+----+-----------+--------------------+\n",
      "|20210304|  14|     7.1103|[20210304, 14, 7....|\n",
      "+--------+----+-----------+--------------------+\n",
      "\n",
      "None\n",
      "origin Data\n",
      "                                                  df\n",
      "8  (0.0, 7.5469, 생활정수, 0.0, 고양정수장, None, 4128512319)\n",
      "Prediction: 7.1103 Ph\n",
      "Generate New Prediction...\n"
     ]
    },
    {
     "data": {
      "text/plain": [
       "DataFrame[Date: string, Hour: string, Predict_val: double]"
      ]
     },
     "metadata": {},
     "output_type": "display_data"
    },
    {
     "name": "stdout",
     "output_type": "stream",
     "text": [
      "+--------+----+-----------+\n",
      "|    Date|Hour|Predict_val|\n",
      "+--------+----+-----------+\n",
      "|20210304|  14|     7.1103|\n",
      "+--------+----+-----------+\n",
      "\n",
      "None\n",
      "+--------+----+-----------+--------------------+\n",
      "|    Date|Hour|Predict_val|               value|\n",
      "+--------+----+-----------+--------------------+\n",
      "|20210304|  14|     7.1103|[20210304, 14, 7....|\n",
      "+--------+----+-----------+--------------------+\n",
      "\n",
      "None\n",
      "origin Data\n",
      "                                                  df\n",
      "8  (0.0, 7.5469, 생활정수, 0.0, 고양정수장, None, 4128512319)\n",
      "Prediction: 7.1103 Ph\n",
      "Generate New Prediction...\n"
     ]
    },
    {
     "data": {
      "text/plain": [
       "DataFrame[Date: string, Hour: string, Predict_val: double]"
      ]
     },
     "metadata": {},
     "output_type": "display_data"
    },
    {
     "name": "stdout",
     "output_type": "stream",
     "text": [
      "+--------+----+-----------+\n",
      "|    Date|Hour|Predict_val|\n",
      "+--------+----+-----------+\n",
      "|20210304|  14|     7.1103|\n",
      "+--------+----+-----------+\n",
      "\n",
      "None\n",
      "+--------+----+-----------+--------------------+\n",
      "|    Date|Hour|Predict_val|               value|\n",
      "+--------+----+-----------+--------------------+\n",
      "|20210304|  14|     7.1103|[20210304, 14, 7....|\n",
      "+--------+----+-----------+--------------------+\n",
      "\n",
      "None\n",
      "origin Data\n",
      "                                                  df\n",
      "8  (0.0, 7.5469, 생활정수, 0.0, 고양정수장, None, 4128512319)\n",
      "Prediction: 7.1103 Ph\n",
      "Generate New Prediction...\n"
     ]
    },
    {
     "data": {
      "text/plain": [
       "DataFrame[Date: string, Hour: string, Predict_val: double]"
      ]
     },
     "metadata": {},
     "output_type": "display_data"
    },
    {
     "name": "stdout",
     "output_type": "stream",
     "text": [
      "+--------+----+-----------+\n",
      "|    Date|Hour|Predict_val|\n",
      "+--------+----+-----------+\n",
      "|20210304|  14|     7.1103|\n",
      "+--------+----+-----------+\n",
      "\n",
      "None\n",
      "+--------+----+-----------+--------------------+\n",
      "|    Date|Hour|Predict_val|               value|\n",
      "+--------+----+-----------+--------------------+\n",
      "|20210304|  14|     7.1103|[20210304, 14, 7....|\n",
      "+--------+----+-----------+--------------------+\n",
      "\n",
      "None\n",
      "origin Data\n",
      "                                                  df\n",
      "8  (0.0, 7.5469, 생활정수, 0.0, 고양정수장, None, 4128512319)\n",
      "Prediction: 7.1103 Ph\n",
      "Generate New Prediction...\n"
     ]
    },
    {
     "data": {
      "text/plain": [
       "DataFrame[Date: string, Hour: string, Predict_val: double]"
      ]
     },
     "metadata": {},
     "output_type": "display_data"
    },
    {
     "name": "stdout",
     "output_type": "stream",
     "text": [
      "+--------+----+-----------+\n",
      "|    Date|Hour|Predict_val|\n",
      "+--------+----+-----------+\n",
      "|20210304|  14|     7.1103|\n",
      "+--------+----+-----------+\n",
      "\n",
      "None\n",
      "+--------+----+-----------+--------------------+\n",
      "|    Date|Hour|Predict_val|               value|\n",
      "+--------+----+-----------+--------------------+\n",
      "|20210304|  14|     7.1103|[20210304, 14, 7....|\n",
      "+--------+----+-----------+--------------------+\n",
      "\n",
      "None\n",
      "origin Data\n",
      "                                                  df\n",
      "8  (0.0, 7.5469, 생활정수, 0.0, 고양정수장, None, 4128512319)\n",
      "Prediction: 7.1103 Ph\n",
      "Generate New Prediction...\n"
     ]
    },
    {
     "data": {
      "text/plain": [
       "DataFrame[Date: string, Hour: string, Predict_val: double]"
      ]
     },
     "metadata": {},
     "output_type": "display_data"
    },
    {
     "name": "stdout",
     "output_type": "stream",
     "text": [
      "+--------+----+-----------+\n",
      "|    Date|Hour|Predict_val|\n",
      "+--------+----+-----------+\n",
      "|20210304|  14|     7.1103|\n",
      "+--------+----+-----------+\n",
      "\n",
      "None\n",
      "+--------+----+-----------+--------------------+\n",
      "|    Date|Hour|Predict_val|               value|\n",
      "+--------+----+-----------+--------------------+\n",
      "|20210304|  14|     7.1103|[20210304, 14, 7....|\n",
      "+--------+----+-----------+--------------------+\n",
      "\n",
      "None\n",
      "origin Data\n",
      "                                                  df\n",
      "8  (0.0, 7.5469, 생활정수, 0.0, 고양정수장, None, 4128512319)\n",
      "Prediction: 7.1103 Ph\n",
      "Generate New Prediction...\n"
     ]
    },
    {
     "data": {
      "text/plain": [
       "DataFrame[Date: string, Hour: string, Predict_val: double]"
      ]
     },
     "metadata": {},
     "output_type": "display_data"
    },
    {
     "name": "stdout",
     "output_type": "stream",
     "text": [
      "+--------+----+-----------+\n",
      "|    Date|Hour|Predict_val|\n",
      "+--------+----+-----------+\n",
      "|20210304|  14|     7.1103|\n",
      "+--------+----+-----------+\n",
      "\n",
      "None\n",
      "+--------+----+-----------+--------------------+\n",
      "|    Date|Hour|Predict_val|               value|\n",
      "+--------+----+-----------+--------------------+\n",
      "|20210304|  14|     7.1103|[20210304, 14, 7....|\n",
      "+--------+----+-----------+--------------------+\n",
      "\n",
      "None\n",
      "origin Data\n",
      "                                                  df\n",
      "8  (0.0, 7.5469, 생활정수, 0.0, 고양정수장, None, 4128512319)\n",
      "Prediction: 7.1103 Ph\n",
      "Generate New Prediction...\n"
     ]
    },
    {
     "data": {
      "text/plain": [
       "DataFrame[Date: string, Hour: string, Predict_val: double]"
      ]
     },
     "metadata": {},
     "output_type": "display_data"
    },
    {
     "name": "stdout",
     "output_type": "stream",
     "text": [
      "+--------+----+-----------+\n",
      "|    Date|Hour|Predict_val|\n",
      "+--------+----+-----------+\n",
      "|20210304|  14|     7.1103|\n",
      "+--------+----+-----------+\n",
      "\n",
      "None\n",
      "+--------+----+-----------+--------------------+\n",
      "|    Date|Hour|Predict_val|               value|\n",
      "+--------+----+-----------+--------------------+\n",
      "|20210304|  14|     7.1103|[20210304, 14, 7....|\n",
      "+--------+----+-----------+--------------------+\n",
      "\n",
      "None\n",
      "origin Data\n",
      "                                                  df\n",
      "8  (0.0, 7.5469, 생활정수, 0.0, 고양정수장, None, 4128512319)\n",
      "Prediction: 7.1103 Ph\n",
      "Generate New Prediction...\n"
     ]
    },
    {
     "data": {
      "text/plain": [
       "DataFrame[Date: string, Hour: string, Predict_val: double]"
      ]
     },
     "metadata": {},
     "output_type": "display_data"
    },
    {
     "name": "stdout",
     "output_type": "stream",
     "text": [
      "+--------+----+-----------+\n",
      "|    Date|Hour|Predict_val|\n",
      "+--------+----+-----------+\n",
      "|20210304|  14|     7.1103|\n",
      "+--------+----+-----------+\n",
      "\n",
      "None\n",
      "+--------+----+-----------+--------------------+\n",
      "|    Date|Hour|Predict_val|               value|\n",
      "+--------+----+-----------+--------------------+\n",
      "|20210304|  14|     7.1103|[20210304, 14, 7....|\n",
      "+--------+----+-----------+--------------------+\n",
      "\n",
      "None\n",
      "origin Data\n",
      "                                                  df\n",
      "8  (0.0, 7.5469, 생활정수, 0.0, 고양정수장, None, 4128512319)\n",
      "Prediction: 7.1103 Ph\n",
      "Generate New Prediction...\n"
     ]
    },
    {
     "data": {
      "text/plain": [
       "DataFrame[Date: string, Hour: string, Predict_val: double]"
      ]
     },
     "metadata": {},
     "output_type": "display_data"
    },
    {
     "name": "stdout",
     "output_type": "stream",
     "text": [
      "+--------+----+-----------+\n",
      "|    Date|Hour|Predict_val|\n",
      "+--------+----+-----------+\n",
      "|20210304|  14|     7.1103|\n",
      "+--------+----+-----------+\n",
      "\n",
      "None\n",
      "+--------+----+-----------+--------------------+\n",
      "|    Date|Hour|Predict_val|               value|\n",
      "+--------+----+-----------+--------------------+\n",
      "|20210304|  14|     7.1103|[20210304, 14, 7....|\n",
      "+--------+----+-----------+--------------------+\n",
      "\n",
      "None\n",
      "origin Data\n",
      "                                                  df\n",
      "8  (0.0, 7.5469, 생활정수, 0.0, 고양정수장, None, 4128512319)\n",
      "Prediction: 7.1103 Ph\n",
      "Generate New Prediction...\n"
     ]
    },
    {
     "data": {
      "text/plain": [
       "DataFrame[Date: string, Hour: string, Predict_val: double]"
      ]
     },
     "metadata": {},
     "output_type": "display_data"
    },
    {
     "name": "stdout",
     "output_type": "stream",
     "text": [
      "+--------+----+-----------+\n",
      "|    Date|Hour|Predict_val|\n",
      "+--------+----+-----------+\n",
      "|20210304|  14|     7.1103|\n",
      "+--------+----+-----------+\n",
      "\n",
      "None\n",
      "+--------+----+-----------+--------------------+\n",
      "|    Date|Hour|Predict_val|               value|\n",
      "+--------+----+-----------+--------------------+\n",
      "|20210304|  14|     7.1103|[20210304, 14, 7....|\n",
      "+--------+----+-----------+--------------------+\n",
      "\n",
      "None\n",
      "origin Data\n",
      "                                                  df\n",
      "8  (0.0, 7.5469, 생활정수, 0.0, 고양정수장, None, 4128512319)\n",
      "Prediction: 7.1103 Ph\n",
      "Generate New Prediction...\n"
     ]
    },
    {
     "data": {
      "text/plain": [
       "DataFrame[Date: string, Hour: string, Predict_val: double]"
      ]
     },
     "metadata": {},
     "output_type": "display_data"
    },
    {
     "name": "stdout",
     "output_type": "stream",
     "text": [
      "+--------+----+-----------+\n",
      "|    Date|Hour|Predict_val|\n",
      "+--------+----+-----------+\n",
      "|20210304|  14|     7.1103|\n",
      "+--------+----+-----------+\n",
      "\n",
      "None\n",
      "+--------+----+-----------+--------------------+\n",
      "|    Date|Hour|Predict_val|               value|\n",
      "+--------+----+-----------+--------------------+\n",
      "|20210304|  14|     7.1103|[20210304, 14, 7....|\n",
      "+--------+----+-----------+--------------------+\n",
      "\n",
      "None\n",
      "origin Data\n",
      "                                                  df\n",
      "8  (0.0, 7.5469, 생활정수, 0.0, 고양정수장, None, 4128512319)\n",
      "Prediction: 7.1103 Ph\n",
      "Generate New Prediction...\n"
     ]
    },
    {
     "data": {
      "text/plain": [
       "DataFrame[Date: string, Hour: string, Predict_val: double]"
      ]
     },
     "metadata": {},
     "output_type": "display_data"
    },
    {
     "name": "stdout",
     "output_type": "stream",
     "text": [
      "+--------+----+-----------+\n",
      "|    Date|Hour|Predict_val|\n",
      "+--------+----+-----------+\n",
      "|20210304|  14|     7.1103|\n",
      "+--------+----+-----------+\n",
      "\n",
      "None\n",
      "+--------+----+-----------+--------------------+\n",
      "|    Date|Hour|Predict_val|               value|\n",
      "+--------+----+-----------+--------------------+\n",
      "|20210304|  14|     7.1103|[20210304, 14, 7....|\n",
      "+--------+----+-----------+--------------------+\n",
      "\n",
      "None\n",
      "origin Data\n",
      "                                                  df\n",
      "8  (0.0, 7.5469, 생활정수, 0.0, 고양정수장, None, 4128512319)\n",
      "Prediction: 7.1103 Ph\n",
      "Generate New Prediction...\n"
     ]
    },
    {
     "data": {
      "text/plain": [
       "DataFrame[Date: string, Hour: string, Predict_val: double]"
      ]
     },
     "metadata": {},
     "output_type": "display_data"
    },
    {
     "name": "stdout",
     "output_type": "stream",
     "text": [
      "+--------+----+-----------+\n",
      "|    Date|Hour|Predict_val|\n",
      "+--------+----+-----------+\n",
      "|20210304|  14|     7.1103|\n",
      "+--------+----+-----------+\n",
      "\n",
      "None\n",
      "+--------+----+-----------+--------------------+\n",
      "|    Date|Hour|Predict_val|               value|\n",
      "+--------+----+-----------+--------------------+\n",
      "|20210304|  14|     7.1103|[20210304, 14, 7....|\n",
      "+--------+----+-----------+--------------------+\n",
      "\n",
      "None\n",
      "origin Data\n",
      "                                                  df\n",
      "8  (0.0, 7.5469, 생활정수, 0.0, 고양정수장, None, 4128512319)\n",
      "Prediction: 7.1103 Ph\n",
      "Generate New Prediction...\n"
     ]
    },
    {
     "data": {
      "text/plain": [
       "DataFrame[Date: string, Hour: string, Predict_val: double]"
      ]
     },
     "metadata": {},
     "output_type": "display_data"
    },
    {
     "name": "stdout",
     "output_type": "stream",
     "text": [
      "+--------+----+-----------+\n",
      "|    Date|Hour|Predict_val|\n",
      "+--------+----+-----------+\n",
      "|20210304|  14|     7.1103|\n",
      "+--------+----+-----------+\n",
      "\n",
      "None\n",
      "+--------+----+-----------+--------------------+\n",
      "|    Date|Hour|Predict_val|               value|\n",
      "+--------+----+-----------+--------------------+\n",
      "|20210304|  14|     7.1103|[20210304, 14, 7....|\n",
      "+--------+----+-----------+--------------------+\n",
      "\n",
      "None\n",
      "origin Data\n",
      "                                                  df\n",
      "8  (0.0, 7.5469, 생활정수, 0.0, 고양정수장, None, 4128512319)\n",
      "Prediction: 7.1103 Ph\n",
      "Generate New Prediction...\n"
     ]
    },
    {
     "data": {
      "text/plain": [
       "DataFrame[Date: string, Hour: string, Predict_val: double]"
      ]
     },
     "metadata": {},
     "output_type": "display_data"
    },
    {
     "name": "stdout",
     "output_type": "stream",
     "text": [
      "+--------+----+-----------+\n",
      "|    Date|Hour|Predict_val|\n",
      "+--------+----+-----------+\n",
      "|20210304|  14|     7.1103|\n",
      "+--------+----+-----------+\n",
      "\n",
      "None\n",
      "+--------+----+-----------+--------------------+\n",
      "|    Date|Hour|Predict_val|               value|\n",
      "+--------+----+-----------+--------------------+\n",
      "|20210304|  14|     7.1103|[20210304, 14, 7....|\n",
      "+--------+----+-----------+--------------------+\n",
      "\n",
      "None\n",
      "origin Data\n",
      "                                                  df\n",
      "8  (0.0, 7.5469, 생활정수, 0.0, 고양정수장, None, 4128512319)\n",
      "Prediction: 7.1103 Ph\n",
      "Generate New Prediction...\n"
     ]
    },
    {
     "data": {
      "text/plain": [
       "DataFrame[Date: string, Hour: string, Predict_val: double]"
      ]
     },
     "metadata": {},
     "output_type": "display_data"
    },
    {
     "name": "stdout",
     "output_type": "stream",
     "text": [
      "+--------+----+-----------+\n",
      "|    Date|Hour|Predict_val|\n",
      "+--------+----+-----------+\n",
      "|20210304|  14|     7.1103|\n",
      "+--------+----+-----------+\n",
      "\n",
      "None\n",
      "+--------+----+-----------+--------------------+\n",
      "|    Date|Hour|Predict_val|               value|\n",
      "+--------+----+-----------+--------------------+\n",
      "|20210304|  14|     7.1103|[20210304, 14, 7....|\n",
      "+--------+----+-----------+--------------------+\n",
      "\n",
      "None\n",
      "origin Data\n",
      "                                                  df\n",
      "8  (0.0, 7.5469, 생활정수, 0.0, 고양정수장, None, 4128512319)\n",
      "Prediction: 7.1103 Ph\n",
      "Generate New Prediction...\n"
     ]
    },
    {
     "data": {
      "text/plain": [
       "DataFrame[Date: string, Hour: string, Predict_val: double]"
      ]
     },
     "metadata": {},
     "output_type": "display_data"
    },
    {
     "name": "stdout",
     "output_type": "stream",
     "text": [
      "+--------+----+-----------+\n",
      "|    Date|Hour|Predict_val|\n",
      "+--------+----+-----------+\n",
      "|20210304|  14|     7.1103|\n",
      "+--------+----+-----------+\n",
      "\n",
      "None\n",
      "+--------+----+-----------+--------------------+\n",
      "|    Date|Hour|Predict_val|               value|\n",
      "+--------+----+-----------+--------------------+\n",
      "|20210304|  14|     7.1103|[20210304, 14, 7....|\n",
      "+--------+----+-----------+--------------------+\n",
      "\n",
      "None\n",
      "origin Data\n",
      "                                                  df\n",
      "8  (0.0, 7.5469, 생활정수, 0.0, 고양정수장, None, 4128512319)\n",
      "Prediction: 7.1103 Ph\n",
      "Generate New Prediction...\n"
     ]
    },
    {
     "data": {
      "text/plain": [
       "DataFrame[Date: string, Hour: string, Predict_val: double]"
      ]
     },
     "metadata": {},
     "output_type": "display_data"
    },
    {
     "name": "stdout",
     "output_type": "stream",
     "text": [
      "+--------+----+-----------+\n",
      "|    Date|Hour|Predict_val|\n",
      "+--------+----+-----------+\n",
      "|20210304|  14|     7.1103|\n",
      "+--------+----+-----------+\n",
      "\n",
      "None\n",
      "+--------+----+-----------+--------------------+\n",
      "|    Date|Hour|Predict_val|               value|\n",
      "+--------+----+-----------+--------------------+\n",
      "|20210304|  14|     7.1103|[20210304, 14, 7....|\n",
      "+--------+----+-----------+--------------------+\n",
      "\n",
      "None\n",
      "origin Data\n",
      "                                                  df\n",
      "8  (0.0, 7.5469, 생활정수, 0.0, 고양정수장, None, 4128512319)\n",
      "Prediction: 7.1103 Ph\n",
      "Generate New Prediction...\n"
     ]
    },
    {
     "data": {
      "text/plain": [
       "DataFrame[Date: string, Hour: string, Predict_val: double]"
      ]
     },
     "metadata": {},
     "output_type": "display_data"
    },
    {
     "name": "stdout",
     "output_type": "stream",
     "text": [
      "+--------+----+-----------+\n",
      "|    Date|Hour|Predict_val|\n",
      "+--------+----+-----------+\n",
      "|20210304|  14|     7.1103|\n",
      "+--------+----+-----------+\n",
      "\n",
      "None\n",
      "+--------+----+-----------+--------------------+\n",
      "|    Date|Hour|Predict_val|               value|\n",
      "+--------+----+-----------+--------------------+\n",
      "|20210304|  14|     7.1103|[20210304, 14, 7....|\n",
      "+--------+----+-----------+--------------------+\n",
      "\n",
      "None\n",
      "origin Data\n",
      "                                                  df\n",
      "8  (0.0, 7.5469, 생활정수, 0.0, 고양정수장, None, 4128512319)\n",
      "Prediction: 7.1103 Ph\n",
      "Generate New Prediction...\n"
     ]
    },
    {
     "data": {
      "text/plain": [
       "DataFrame[Date: string, Hour: string, Predict_val: double]"
      ]
     },
     "metadata": {},
     "output_type": "display_data"
    },
    {
     "name": "stdout",
     "output_type": "stream",
     "text": [
      "+--------+----+-----------+\n",
      "|    Date|Hour|Predict_val|\n",
      "+--------+----+-----------+\n",
      "|20210304|  14|     7.1103|\n",
      "+--------+----+-----------+\n",
      "\n",
      "None\n",
      "+--------+----+-----------+--------------------+\n",
      "|    Date|Hour|Predict_val|               value|\n",
      "+--------+----+-----------+--------------------+\n",
      "|20210304|  14|     7.1103|[20210304, 14, 7....|\n",
      "+--------+----+-----------+--------------------+\n",
      "\n",
      "None\n",
      "origin Data\n",
      "                                                  df\n",
      "8  (0.0, 7.5469, 생활정수, 0.0, 고양정수장, None, 4128512319)\n",
      "Prediction: 7.1103 Ph\n",
      "Generate New Prediction...\n"
     ]
    },
    {
     "data": {
      "text/plain": [
       "DataFrame[Date: string, Hour: string, Predict_val: double]"
      ]
     },
     "metadata": {},
     "output_type": "display_data"
    },
    {
     "name": "stdout",
     "output_type": "stream",
     "text": [
      "+--------+----+-----------+\n",
      "|    Date|Hour|Predict_val|\n",
      "+--------+----+-----------+\n",
      "|20210304|  14|     7.1103|\n",
      "+--------+----+-----------+\n",
      "\n",
      "None\n",
      "+--------+----+-----------+--------------------+\n",
      "|    Date|Hour|Predict_val|               value|\n",
      "+--------+----+-----------+--------------------+\n",
      "|20210304|  14|     7.1103|[20210304, 14, 7....|\n",
      "+--------+----+-----------+--------------------+\n",
      "\n",
      "None\n",
      "origin Data\n",
      "                                                  df\n",
      "8  (0.0, 7.5469, 생활정수, 0.0, 고양정수장, None, 4128512319)\n",
      "Prediction: 7.1103 Ph\n",
      "Generate New Prediction...\n"
     ]
    },
    {
     "data": {
      "text/plain": [
       "DataFrame[Date: string, Hour: string, Predict_val: double]"
      ]
     },
     "metadata": {},
     "output_type": "display_data"
    },
    {
     "name": "stdout",
     "output_type": "stream",
     "text": [
      "+--------+----+-----------+\n",
      "|    Date|Hour|Predict_val|\n",
      "+--------+----+-----------+\n",
      "|20210304|  14|     7.1103|\n",
      "+--------+----+-----------+\n",
      "\n",
      "None\n",
      "+--------+----+-----------+--------------------+\n",
      "|    Date|Hour|Predict_val|               value|\n",
      "+--------+----+-----------+--------------------+\n",
      "|20210304|  14|     7.1103|[20210304, 14, 7....|\n",
      "+--------+----+-----------+--------------------+\n",
      "\n",
      "None\n",
      "origin Data\n",
      "                                                  df\n",
      "8  (0.0, 7.5469, 생활정수, 0.0, 고양정수장, None, 4128512319)\n",
      "Prediction: 7.1103 Ph\n",
      "Generate New Prediction...\n"
     ]
    },
    {
     "data": {
      "text/plain": [
       "DataFrame[Date: string, Hour: string, Predict_val: double]"
      ]
     },
     "metadata": {},
     "output_type": "display_data"
    },
    {
     "name": "stdout",
     "output_type": "stream",
     "text": [
      "+--------+----+-----------+\n",
      "|    Date|Hour|Predict_val|\n",
      "+--------+----+-----------+\n",
      "|20210304|  14|     7.1103|\n",
      "+--------+----+-----------+\n",
      "\n",
      "None\n",
      "+--------+----+-----------+--------------------+\n",
      "|    Date|Hour|Predict_val|               value|\n",
      "+--------+----+-----------+--------------------+\n",
      "|20210304|  14|     7.1103|[20210304, 14, 7....|\n",
      "+--------+----+-----------+--------------------+\n",
      "\n",
      "None\n",
      "origin Data\n",
      "                                                  df\n",
      "8  (0.0, 7.5469, 생활정수, 0.0, 고양정수장, None, 4128512319)\n",
      "Prediction: 7.1103 Ph\n",
      "Generate New Prediction...\n"
     ]
    },
    {
     "data": {
      "text/plain": [
       "DataFrame[Date: string, Hour: string, Predict_val: double]"
      ]
     },
     "metadata": {},
     "output_type": "display_data"
    },
    {
     "name": "stdout",
     "output_type": "stream",
     "text": [
      "+--------+----+-----------+\n",
      "|    Date|Hour|Predict_val|\n",
      "+--------+----+-----------+\n",
      "|20210304|  14|     7.1103|\n",
      "+--------+----+-----------+\n",
      "\n",
      "None\n",
      "+--------+----+-----------+--------------------+\n",
      "|    Date|Hour|Predict_val|               value|\n",
      "+--------+----+-----------+--------------------+\n",
      "|20210304|  14|     7.1103|[20210304, 14, 7....|\n",
      "+--------+----+-----------+--------------------+\n",
      "\n",
      "None\n",
      "origin Data\n",
      "                                                  df\n",
      "8  (0.0, 7.5469, 생활정수, 0.0, 고양정수장, None, 4128512319)\n",
      "Prediction: 7.1103 Ph\n",
      "Generate New Prediction...\n"
     ]
    },
    {
     "data": {
      "text/plain": [
       "DataFrame[Date: string, Hour: string, Predict_val: double]"
      ]
     },
     "metadata": {},
     "output_type": "display_data"
    },
    {
     "name": "stdout",
     "output_type": "stream",
     "text": [
      "+--------+----+-----------+\n",
      "|    Date|Hour|Predict_val|\n",
      "+--------+----+-----------+\n",
      "|20210304|  14|     7.1103|\n",
      "+--------+----+-----------+\n",
      "\n",
      "None\n",
      "+--------+----+-----------+--------------------+\n",
      "|    Date|Hour|Predict_val|               value|\n",
      "+--------+----+-----------+--------------------+\n",
      "|20210304|  14|     7.1103|[20210304, 14, 7....|\n",
      "+--------+----+-----------+--------------------+\n",
      "\n",
      "None\n",
      "origin Data\n",
      "                                                  df\n",
      "8  (0.0, 7.5469, 생활정수, 0.0, 고양정수장, None, 4128512319)\n",
      "Prediction: 7.1103 Ph\n",
      "Generate New Prediction...\n"
     ]
    },
    {
     "data": {
      "text/plain": [
       "DataFrame[Date: string, Hour: string, Predict_val: double]"
      ]
     },
     "metadata": {},
     "output_type": "display_data"
    },
    {
     "name": "stdout",
     "output_type": "stream",
     "text": [
      "+--------+----+-----------+\n",
      "|    Date|Hour|Predict_val|\n",
      "+--------+----+-----------+\n",
      "|20210304|  14|     7.1103|\n",
      "+--------+----+-----------+\n",
      "\n",
      "None\n",
      "+--------+----+-----------+--------------------+\n",
      "|    Date|Hour|Predict_val|               value|\n",
      "+--------+----+-----------+--------------------+\n",
      "|20210304|  14|     7.1103|[20210304, 14, 7....|\n",
      "+--------+----+-----------+--------------------+\n",
      "\n",
      "None\n",
      "origin Data\n",
      "                                                  df\n",
      "8  (0.0, 7.5469, 생활정수, 0.0, 고양정수장, None, 4128512319)\n",
      "Prediction: 7.1103 Ph\n",
      "Generate New Prediction...\n"
     ]
    },
    {
     "data": {
      "text/plain": [
       "DataFrame[Date: string, Hour: string, Predict_val: double]"
      ]
     },
     "metadata": {},
     "output_type": "display_data"
    },
    {
     "name": "stdout",
     "output_type": "stream",
     "text": [
      "+--------+----+-----------+\n",
      "|    Date|Hour|Predict_val|\n",
      "+--------+----+-----------+\n",
      "|20210304|  14|     7.1103|\n",
      "+--------+----+-----------+\n",
      "\n",
      "None\n",
      "+--------+----+-----------+--------------------+\n",
      "|    Date|Hour|Predict_val|               value|\n",
      "+--------+----+-----------+--------------------+\n",
      "|20210304|  14|     7.1103|[20210304, 14, 7....|\n",
      "+--------+----+-----------+--------------------+\n",
      "\n",
      "None\n",
      "origin Data\n",
      "                                                  df\n",
      "8  (0.0, 7.5469, 생활정수, 0.0, 고양정수장, None, 4128512319)\n",
      "Prediction: 7.1103 Ph\n",
      "Generate New Prediction...\n"
     ]
    },
    {
     "data": {
      "text/plain": [
       "DataFrame[Date: string, Hour: string, Predict_val: double]"
      ]
     },
     "metadata": {},
     "output_type": "display_data"
    },
    {
     "name": "stdout",
     "output_type": "stream",
     "text": [
      "+--------+----+-----------+\n",
      "|    Date|Hour|Predict_val|\n",
      "+--------+----+-----------+\n",
      "|20210304|  14|     7.1103|\n",
      "+--------+----+-----------+\n",
      "\n",
      "None\n",
      "+--------+----+-----------+--------------------+\n",
      "|    Date|Hour|Predict_val|               value|\n",
      "+--------+----+-----------+--------------------+\n",
      "|20210304|  14|     7.1103|[20210304, 14, 7....|\n",
      "+--------+----+-----------+--------------------+\n",
      "\n",
      "None\n",
      "origin Data\n",
      "                                                  df\n",
      "8  (0.0, 7.5469, 생활정수, 0.0, 고양정수장, None, 4128512319)\n",
      "Prediction: 7.1103 Ph\n",
      "Generate New Prediction...\n"
     ]
    },
    {
     "data": {
      "text/plain": [
       "DataFrame[Date: string, Hour: string, Predict_val: double]"
      ]
     },
     "metadata": {},
     "output_type": "display_data"
    },
    {
     "name": "stdout",
     "output_type": "stream",
     "text": [
      "+--------+----+-----------+\n",
      "|    Date|Hour|Predict_val|\n",
      "+--------+----+-----------+\n",
      "|20210304|  14|     7.1103|\n",
      "+--------+----+-----------+\n",
      "\n",
      "None\n",
      "+--------+----+-----------+--------------------+\n",
      "|    Date|Hour|Predict_val|               value|\n",
      "+--------+----+-----------+--------------------+\n",
      "|20210304|  14|     7.1103|[20210304, 14, 7....|\n",
      "+--------+----+-----------+--------------------+\n",
      "\n",
      "None\n",
      "origin Data\n",
      "                                                  df\n",
      "8  (0.0, 7.5469, 생활정수, 0.0, 고양정수장, None, 4128512319)\n",
      "Prediction: 7.1103 Ph\n",
      "Generate New Prediction...\n"
     ]
    },
    {
     "data": {
      "text/plain": [
       "DataFrame[Date: string, Hour: string, Predict_val: double]"
      ]
     },
     "metadata": {},
     "output_type": "display_data"
    },
    {
     "name": "stdout",
     "output_type": "stream",
     "text": [
      "+--------+----+-----------+\n",
      "|    Date|Hour|Predict_val|\n",
      "+--------+----+-----------+\n",
      "|20210304|  14|     7.1103|\n",
      "+--------+----+-----------+\n",
      "\n",
      "None\n",
      "+--------+----+-----------+--------------------+\n",
      "|    Date|Hour|Predict_val|               value|\n",
      "+--------+----+-----------+--------------------+\n",
      "|20210304|  14|     7.1103|[20210304, 14, 7....|\n",
      "+--------+----+-----------+--------------------+\n",
      "\n",
      "None\n",
      "origin Data\n",
      "                                                  df\n",
      "8  (0.0, 7.5469, 생활정수, 0.0, 고양정수장, None, 4128512319)\n",
      "Prediction: 7.1103 Ph\n",
      "Generate New Prediction...\n"
     ]
    },
    {
     "data": {
      "text/plain": [
       "DataFrame[Date: string, Hour: string, Predict_val: double]"
      ]
     },
     "metadata": {},
     "output_type": "display_data"
    },
    {
     "name": "stdout",
     "output_type": "stream",
     "text": [
      "+--------+----+-----------+\n",
      "|    Date|Hour|Predict_val|\n",
      "+--------+----+-----------+\n",
      "|20210304|  14|     7.1103|\n",
      "+--------+----+-----------+\n",
      "\n",
      "None\n",
      "+--------+----+-----------+--------------------+\n",
      "|    Date|Hour|Predict_val|               value|\n",
      "+--------+----+-----------+--------------------+\n",
      "|20210304|  14|     7.1103|[20210304, 14, 7....|\n",
      "+--------+----+-----------+--------------------+\n",
      "\n",
      "None\n",
      "origin Data\n",
      "                                                  df\n",
      "8  (0.0, 7.5469, 생활정수, 0.0, 고양정수장, None, 4128512319)\n",
      "Prediction: 7.1103 Ph\n",
      "Generate New Prediction...\n"
     ]
    },
    {
     "data": {
      "text/plain": [
       "DataFrame[Date: string, Hour: string, Predict_val: double]"
      ]
     },
     "metadata": {},
     "output_type": "display_data"
    },
    {
     "name": "stdout",
     "output_type": "stream",
     "text": [
      "+--------+----+-----------+\n",
      "|    Date|Hour|Predict_val|\n",
      "+--------+----+-----------+\n",
      "|20210304|  14|     7.1103|\n",
      "+--------+----+-----------+\n",
      "\n",
      "None\n",
      "+--------+----+-----------+--------------------+\n",
      "|    Date|Hour|Predict_val|               value|\n",
      "+--------+----+-----------+--------------------+\n",
      "|20210304|  14|     7.1103|[20210304, 14, 7....|\n",
      "+--------+----+-----------+--------------------+\n",
      "\n",
      "None\n",
      "origin Data\n",
      "                                                  df\n",
      "8  (0.0, 7.5469, 생활정수, 0.0, 고양정수장, None, 4128512319)\n",
      "Prediction: 7.1103 Ph\n",
      "Generate New Prediction...\n"
     ]
    },
    {
     "data": {
      "text/plain": [
       "DataFrame[Date: string, Hour: string, Predict_val: double]"
      ]
     },
     "metadata": {},
     "output_type": "display_data"
    },
    {
     "name": "stdout",
     "output_type": "stream",
     "text": [
      "+--------+----+-----------+\n",
      "|    Date|Hour|Predict_val|\n",
      "+--------+----+-----------+\n",
      "|20210304|  14|     7.1103|\n",
      "+--------+----+-----------+\n",
      "\n",
      "None\n",
      "+--------+----+-----------+--------------------+\n",
      "|    Date|Hour|Predict_val|               value|\n",
      "+--------+----+-----------+--------------------+\n",
      "|20210304|  14|     7.1103|[20210304, 14, 7....|\n",
      "+--------+----+-----------+--------------------+\n",
      "\n",
      "None\n",
      "origin Data\n",
      "                                                  df\n",
      "8  (0.0, 7.5469, 생활정수, 0.0, 고양정수장, None, 4128512319)\n",
      "Prediction: 7.1103 Ph\n",
      "Generate New Prediction...\n"
     ]
    },
    {
     "data": {
      "text/plain": [
       "DataFrame[Date: string, Hour: string, Predict_val: double]"
      ]
     },
     "metadata": {},
     "output_type": "display_data"
    },
    {
     "name": "stdout",
     "output_type": "stream",
     "text": [
      "+--------+----+-----------+\n",
      "|    Date|Hour|Predict_val|\n",
      "+--------+----+-----------+\n",
      "|20210304|  14|     7.1103|\n",
      "+--------+----+-----------+\n",
      "\n",
      "None\n",
      "+--------+----+-----------+--------------------+\n",
      "|    Date|Hour|Predict_val|               value|\n",
      "+--------+----+-----------+--------------------+\n",
      "|20210304|  14|     7.1103|[20210304, 14, 7....|\n",
      "+--------+----+-----------+--------------------+\n",
      "\n",
      "None\n",
      "origin Data\n",
      "                                                  df\n",
      "8  (0.0, 7.5469, 생활정수, 0.0, 고양정수장, None, 4128512319)\n",
      "Prediction: 7.1103 Ph\n",
      "Generate New Prediction...\n"
     ]
    },
    {
     "data": {
      "text/plain": [
       "DataFrame[Date: string, Hour: string, Predict_val: double]"
      ]
     },
     "metadata": {},
     "output_type": "display_data"
    },
    {
     "name": "stdout",
     "output_type": "stream",
     "text": [
      "+--------+----+-----------+\n",
      "|    Date|Hour|Predict_val|\n",
      "+--------+----+-----------+\n",
      "|20210304|  14|     7.1103|\n",
      "+--------+----+-----------+\n",
      "\n",
      "None\n",
      "+--------+----+-----------+--------------------+\n",
      "|    Date|Hour|Predict_val|               value|\n",
      "+--------+----+-----------+--------------------+\n",
      "|20210304|  14|     7.1103|[20210304, 14, 7....|\n",
      "+--------+----+-----------+--------------------+\n",
      "\n",
      "None\n",
      "origin Data\n",
      "                                                  df\n",
      "8  (0.0, 7.5469, 생활정수, 0.0, 고양정수장, None, 4128512319)\n",
      "Prediction: 7.1103 Ph\n",
      "Generate New Prediction...\n"
     ]
    },
    {
     "data": {
      "text/plain": [
       "DataFrame[Date: string, Hour: string, Predict_val: double]"
      ]
     },
     "metadata": {},
     "output_type": "display_data"
    },
    {
     "name": "stdout",
     "output_type": "stream",
     "text": [
      "+--------+----+-----------+\n",
      "|    Date|Hour|Predict_val|\n",
      "+--------+----+-----------+\n",
      "|20210304|  14|     7.1103|\n",
      "+--------+----+-----------+\n",
      "\n",
      "None\n",
      "+--------+----+-----------+--------------------+\n",
      "|    Date|Hour|Predict_val|               value|\n",
      "+--------+----+-----------+--------------------+\n",
      "|20210304|  14|     7.1103|[20210304, 14, 7....|\n",
      "+--------+----+-----------+--------------------+\n",
      "\n",
      "None\n",
      "origin Data\n",
      "                                                  df\n",
      "8  (0.0, 7.5469, 생활정수, 0.0, 고양정수장, None, 4128512319)\n",
      "Prediction: 7.1103 Ph\n",
      "Generate New Prediction...\n"
     ]
    },
    {
     "data": {
      "text/plain": [
       "DataFrame[Date: string, Hour: string, Predict_val: double]"
      ]
     },
     "metadata": {},
     "output_type": "display_data"
    },
    {
     "name": "stdout",
     "output_type": "stream",
     "text": [
      "+--------+----+-----------+\n",
      "|    Date|Hour|Predict_val|\n",
      "+--------+----+-----------+\n",
      "|20210304|  14|     7.1103|\n",
      "+--------+----+-----------+\n",
      "\n",
      "None\n",
      "+--------+----+-----------+--------------------+\n",
      "|    Date|Hour|Predict_val|               value|\n",
      "+--------+----+-----------+--------------------+\n",
      "|20210304|  14|     7.1103|[20210304, 14, 7....|\n",
      "+--------+----+-----------+--------------------+\n",
      "\n",
      "None\n",
      "origin Data\n",
      "                                                  df\n",
      "8  (0.0, 7.5469, 생활정수, 0.0, 고양정수장, None, 4128512319)\n",
      "Prediction: 7.1103 Ph\n",
      "Generate New Prediction...\n"
     ]
    },
    {
     "data": {
      "text/plain": [
       "DataFrame[Date: string, Hour: string, Predict_val: double]"
      ]
     },
     "metadata": {},
     "output_type": "display_data"
    },
    {
     "name": "stdout",
     "output_type": "stream",
     "text": [
      "+--------+----+-----------+\n",
      "|    Date|Hour|Predict_val|\n",
      "+--------+----+-----------+\n",
      "|20210304|  14|     7.1103|\n",
      "+--------+----+-----------+\n",
      "\n",
      "None\n",
      "+--------+----+-----------+--------------------+\n",
      "|    Date|Hour|Predict_val|               value|\n",
      "+--------+----+-----------+--------------------+\n",
      "|20210304|  14|     7.1103|[20210304, 14, 7....|\n",
      "+--------+----+-----------+--------------------+\n",
      "\n",
      "None\n",
      "origin Data\n",
      "                                                  df\n",
      "8  (0.0, 7.5469, 생활정수, 0.0, 고양정수장, None, 4128512319)\n",
      "Prediction: 7.1103 Ph\n",
      "Generate New Prediction...\n"
     ]
    },
    {
     "data": {
      "text/plain": [
       "DataFrame[Date: string, Hour: string, Predict_val: double]"
      ]
     },
     "metadata": {},
     "output_type": "display_data"
    },
    {
     "name": "stdout",
     "output_type": "stream",
     "text": [
      "+--------+----+-----------+\n",
      "|    Date|Hour|Predict_val|\n",
      "+--------+----+-----------+\n",
      "|20210304|  14|     7.1103|\n",
      "+--------+----+-----------+\n",
      "\n",
      "None\n",
      "+--------+----+-----------+--------------------+\n",
      "|    Date|Hour|Predict_val|               value|\n",
      "+--------+----+-----------+--------------------+\n",
      "|20210304|  14|     7.1103|[20210304, 14, 7....|\n",
      "+--------+----+-----------+--------------------+\n",
      "\n",
      "None\n",
      "origin Data\n",
      "                                                  df\n",
      "8  (0.0, 7.5469, 생활정수, 0.0, 고양정수장, None, 4128512319)\n",
      "Prediction: 7.1103 Ph\n",
      "Generate New Prediction...\n"
     ]
    },
    {
     "data": {
      "text/plain": [
       "DataFrame[Date: string, Hour: string, Predict_val: double]"
      ]
     },
     "metadata": {},
     "output_type": "display_data"
    },
    {
     "name": "stdout",
     "output_type": "stream",
     "text": [
      "+--------+----+-----------+\n",
      "|    Date|Hour|Predict_val|\n",
      "+--------+----+-----------+\n",
      "|20210304|  14|     7.1103|\n",
      "+--------+----+-----------+\n",
      "\n",
      "None\n",
      "+--------+----+-----------+--------------------+\n",
      "|    Date|Hour|Predict_val|               value|\n",
      "+--------+----+-----------+--------------------+\n",
      "|20210304|  14|     7.1103|[20210304, 14, 7....|\n",
      "+--------+----+-----------+--------------------+\n",
      "\n",
      "None\n",
      "origin Data\n",
      "                                                  df\n",
      "8  (0.0, 7.5469, 생활정수, 0.0, 고양정수장, None, 4128512319)\n",
      "Prediction: 7.1103 Ph\n",
      "Generate New Prediction...\n"
     ]
    },
    {
     "data": {
      "text/plain": [
       "DataFrame[Date: string, Hour: string, Predict_val: double]"
      ]
     },
     "metadata": {},
     "output_type": "display_data"
    },
    {
     "name": "stdout",
     "output_type": "stream",
     "text": [
      "+--------+----+-----------+\n",
      "|    Date|Hour|Predict_val|\n",
      "+--------+----+-----------+\n",
      "|20210304|  14|     7.1103|\n",
      "+--------+----+-----------+\n",
      "\n",
      "None\n",
      "+--------+----+-----------+--------------------+\n",
      "|    Date|Hour|Predict_val|               value|\n",
      "+--------+----+-----------+--------------------+\n",
      "|20210304|  14|     7.1103|[20210304, 14, 7....|\n",
      "+--------+----+-----------+--------------------+\n",
      "\n",
      "None\n",
      "origin Data\n",
      "                                                  df\n",
      "8  (0.0, 7.5469, 생활정수, 0.0, 고양정수장, None, 4128512319)\n",
      "Prediction: 7.1103 Ph\n",
      "Generate New Prediction...\n"
     ]
    },
    {
     "data": {
      "text/plain": [
       "DataFrame[Date: string, Hour: string, Predict_val: double]"
      ]
     },
     "metadata": {},
     "output_type": "display_data"
    },
    {
     "name": "stdout",
     "output_type": "stream",
     "text": [
      "+--------+----+-----------+\n",
      "|    Date|Hour|Predict_val|\n",
      "+--------+----+-----------+\n",
      "|20210304|  14|     7.1103|\n",
      "+--------+----+-----------+\n",
      "\n",
      "None\n",
      "+--------+----+-----------+--------------------+\n",
      "|    Date|Hour|Predict_val|               value|\n",
      "+--------+----+-----------+--------------------+\n",
      "|20210304|  14|     7.1103|[20210304, 14, 7....|\n",
      "+--------+----+-----------+--------------------+\n",
      "\n",
      "None\n",
      "origin Data\n",
      "                                                  df\n",
      "8  (0.0, 7.5469, 생활정수, 0.0, 고양정수장, None, 4128512319)\n",
      "Prediction: 7.1103 Ph\n",
      "Generate New Prediction...\n"
     ]
    },
    {
     "data": {
      "text/plain": [
       "DataFrame[Date: string, Hour: string, Predict_val: double]"
      ]
     },
     "metadata": {},
     "output_type": "display_data"
    },
    {
     "name": "stdout",
     "output_type": "stream",
     "text": [
      "+--------+----+-----------+\n",
      "|    Date|Hour|Predict_val|\n",
      "+--------+----+-----------+\n",
      "|20210304|  14|     7.1103|\n",
      "+--------+----+-----------+\n",
      "\n",
      "None\n",
      "+--------+----+-----------+--------------------+\n",
      "|    Date|Hour|Predict_val|               value|\n",
      "+--------+----+-----------+--------------------+\n",
      "|20210304|  14|     7.1103|[20210304, 14, 7....|\n",
      "+--------+----+-----------+--------------------+\n",
      "\n",
      "None\n",
      "origin Data\n",
      "                                                  df\n",
      "8  (0.0, 7.5469, 생활정수, 0.0, 고양정수장, None, 4128512319)\n",
      "Prediction: 7.1103 Ph\n",
      "Generate New Prediction...\n"
     ]
    },
    {
     "data": {
      "text/plain": [
       "DataFrame[Date: string, Hour: string, Predict_val: double]"
      ]
     },
     "metadata": {},
     "output_type": "display_data"
    },
    {
     "name": "stdout",
     "output_type": "stream",
     "text": [
      "+--------+----+-----------+\n",
      "|    Date|Hour|Predict_val|\n",
      "+--------+----+-----------+\n",
      "|20210304|  14|     7.1103|\n",
      "+--------+----+-----------+\n",
      "\n",
      "None\n",
      "+--------+----+-----------+--------------------+\n",
      "|    Date|Hour|Predict_val|               value|\n",
      "+--------+----+-----------+--------------------+\n",
      "|20210304|  14|     7.1103|[20210304, 14, 7....|\n",
      "+--------+----+-----------+--------------------+\n",
      "\n",
      "None\n",
      "origin Data\n",
      "                                                  df\n",
      "8  (0.0, 7.5469, 생활정수, 0.0, 고양정수장, None, 4128512319)\n",
      "Prediction: 7.1103 Ph\n",
      "Generate New Prediction...\n"
     ]
    },
    {
     "data": {
      "text/plain": [
       "DataFrame[Date: string, Hour: string, Predict_val: double]"
      ]
     },
     "metadata": {},
     "output_type": "display_data"
    },
    {
     "name": "stdout",
     "output_type": "stream",
     "text": [
      "+--------+----+-----------+\n",
      "|    Date|Hour|Predict_val|\n",
      "+--------+----+-----------+\n",
      "|20210304|  14|     7.1103|\n",
      "+--------+----+-----------+\n",
      "\n",
      "None\n",
      "+--------+----+-----------+--------------------+\n",
      "|    Date|Hour|Predict_val|               value|\n",
      "+--------+----+-----------+--------------------+\n",
      "|20210304|  14|     7.1103|[20210304, 14, 7....|\n",
      "+--------+----+-----------+--------------------+\n",
      "\n",
      "None\n",
      "origin Data\n",
      "                                                  df\n",
      "8  (0.0, 7.5469, 생활정수, 0.0, 고양정수장, None, 4128512319)\n",
      "Prediction: 7.1103 Ph\n",
      "Generate New Prediction...\n"
     ]
    },
    {
     "data": {
      "text/plain": [
       "DataFrame[Date: string, Hour: string, Predict_val: double]"
      ]
     },
     "metadata": {},
     "output_type": "display_data"
    },
    {
     "name": "stdout",
     "output_type": "stream",
     "text": [
      "+--------+----+-----------+\n",
      "|    Date|Hour|Predict_val|\n",
      "+--------+----+-----------+\n",
      "|20210304|  14|     7.1103|\n",
      "+--------+----+-----------+\n",
      "\n",
      "None\n",
      "+--------+----+-----------+--------------------+\n",
      "|    Date|Hour|Predict_val|               value|\n",
      "+--------+----+-----------+--------------------+\n",
      "|20210304|  14|     7.1103|[20210304, 14, 7....|\n",
      "+--------+----+-----------+--------------------+\n",
      "\n",
      "None\n",
      "origin Data\n",
      "                                                  df\n",
      "8  (0.0, 7.5469, 생활정수, 0.0, 고양정수장, None, 4128512319)\n",
      "Prediction: 7.1103 Ph\n",
      "Generate New Prediction...\n"
     ]
    },
    {
     "data": {
      "text/plain": [
       "DataFrame[Date: string, Hour: string, Predict_val: double]"
      ]
     },
     "metadata": {},
     "output_type": "display_data"
    },
    {
     "name": "stdout",
     "output_type": "stream",
     "text": [
      "+--------+----+-----------+\n",
      "|    Date|Hour|Predict_val|\n",
      "+--------+----+-----------+\n",
      "|20210304|  14|     7.1103|\n",
      "+--------+----+-----------+\n",
      "\n",
      "None\n",
      "+--------+----+-----------+--------------------+\n",
      "|    Date|Hour|Predict_val|               value|\n",
      "+--------+----+-----------+--------------------+\n",
      "|20210304|  14|     7.1103|[20210304, 14, 7....|\n",
      "+--------+----+-----------+--------------------+\n",
      "\n",
      "None\n",
      "origin Data\n",
      "                                                  df\n",
      "8  (0.0, 7.5469, 생활정수, 0.0, 고양정수장, None, 4128512319)\n",
      "Prediction: 7.1103 Ph\n",
      "Generate New Prediction...\n"
     ]
    },
    {
     "data": {
      "text/plain": [
       "DataFrame[Date: string, Hour: string, Predict_val: double]"
      ]
     },
     "metadata": {},
     "output_type": "display_data"
    },
    {
     "name": "stdout",
     "output_type": "stream",
     "text": [
      "+--------+----+-----------+\n",
      "|    Date|Hour|Predict_val|\n",
      "+--------+----+-----------+\n",
      "|20210304|  14|     7.1103|\n",
      "+--------+----+-----------+\n",
      "\n",
      "None\n",
      "+--------+----+-----------+--------------------+\n",
      "|    Date|Hour|Predict_val|               value|\n",
      "+--------+----+-----------+--------------------+\n",
      "|20210304|  14|     7.1103|[20210304, 14, 7....|\n",
      "+--------+----+-----------+--------------------+\n",
      "\n",
      "None\n",
      "origin Data\n",
      "                                                  df\n",
      "8  (0.0, 7.5469, 생활정수, 0.0, 고양정수장, None, 4128512319)\n",
      "Prediction: 7.1103 Ph\n",
      "Generate New Prediction...\n"
     ]
    },
    {
     "data": {
      "text/plain": [
       "DataFrame[Date: string, Hour: string, Predict_val: double]"
      ]
     },
     "metadata": {},
     "output_type": "display_data"
    },
    {
     "name": "stdout",
     "output_type": "stream",
     "text": [
      "+--------+----+-----------+\n",
      "|    Date|Hour|Predict_val|\n",
      "+--------+----+-----------+\n",
      "|20210304|  14|     7.1103|\n",
      "+--------+----+-----------+\n",
      "\n",
      "None\n",
      "+--------+----+-----------+--------------------+\n",
      "|    Date|Hour|Predict_val|               value|\n",
      "+--------+----+-----------+--------------------+\n",
      "|20210304|  14|     7.1103|[20210304, 14, 7....|\n",
      "+--------+----+-----------+--------------------+\n",
      "\n",
      "None\n",
      "origin Data\n",
      "                                                  df\n",
      "8  (0.0, 7.5469, 생활정수, 0.0, 고양정수장, None, 4128512319)\n",
      "Prediction: 7.1103 Ph\n",
      "Generate New Prediction...\n"
     ]
    },
    {
     "data": {
      "text/plain": [
       "DataFrame[Date: string, Hour: string, Predict_val: double]"
      ]
     },
     "metadata": {},
     "output_type": "display_data"
    },
    {
     "name": "stdout",
     "output_type": "stream",
     "text": [
      "+--------+----+-----------+\n",
      "|    Date|Hour|Predict_val|\n",
      "+--------+----+-----------+\n",
      "|20210304|  14|     7.1103|\n",
      "+--------+----+-----------+\n",
      "\n",
      "None\n",
      "+--------+----+-----------+--------------------+\n",
      "|    Date|Hour|Predict_val|               value|\n",
      "+--------+----+-----------+--------------------+\n",
      "|20210304|  14|     7.1103|[20210304, 14, 7....|\n",
      "+--------+----+-----------+--------------------+\n",
      "\n",
      "None\n",
      "origin Data\n",
      "                                                  df\n",
      "8  (0.0, 7.5469, 생활정수, 0.0, 고양정수장, None, 4128512319)\n",
      "Prediction: 7.1103 Ph\n",
      "Generate New Prediction...\n"
     ]
    },
    {
     "data": {
      "text/plain": [
       "DataFrame[Date: string, Hour: string, Predict_val: double]"
      ]
     },
     "metadata": {},
     "output_type": "display_data"
    },
    {
     "name": "stdout",
     "output_type": "stream",
     "text": [
      "+--------+----+-----------+\n",
      "|    Date|Hour|Predict_val|\n",
      "+--------+----+-----------+\n",
      "|20210304|  14|     7.1103|\n",
      "+--------+----+-----------+\n",
      "\n",
      "None\n",
      "+--------+----+-----------+--------------------+\n",
      "|    Date|Hour|Predict_val|               value|\n",
      "+--------+----+-----------+--------------------+\n",
      "|20210304|  14|     7.1103|[20210304, 14, 7....|\n",
      "+--------+----+-----------+--------------------+\n",
      "\n",
      "None\n",
      "origin Data\n",
      "                                                  df\n",
      "8  (0.0, 7.5469, 생활정수, 0.0, 고양정수장, None, 4128512319)\n",
      "Prediction: 7.1103 Ph\n",
      "Generate New Prediction...\n"
     ]
    },
    {
     "data": {
      "text/plain": [
       "DataFrame[Date: string, Hour: string, Predict_val: double]"
      ]
     },
     "metadata": {},
     "output_type": "display_data"
    },
    {
     "name": "stdout",
     "output_type": "stream",
     "text": [
      "+--------+----+-----------+\n",
      "|    Date|Hour|Predict_val|\n",
      "+--------+----+-----------+\n",
      "|20210304|  14|     7.1103|\n",
      "+--------+----+-----------+\n",
      "\n",
      "None\n",
      "+--------+----+-----------+--------------------+\n",
      "|    Date|Hour|Predict_val|               value|\n",
      "+--------+----+-----------+--------------------+\n",
      "|20210304|  14|     7.1103|[20210304, 14, 7....|\n",
      "+--------+----+-----------+--------------------+\n",
      "\n",
      "None\n",
      "origin Data\n",
      "                                                  df\n",
      "8  (0.0, 7.5469, 생활정수, 0.0, 고양정수장, None, 4128512319)\n",
      "Prediction: 7.1103 Ph\n",
      "Generate New Prediction...\n"
     ]
    },
    {
     "data": {
      "text/plain": [
       "DataFrame[Date: string, Hour: string, Predict_val: double]"
      ]
     },
     "metadata": {},
     "output_type": "display_data"
    },
    {
     "name": "stdout",
     "output_type": "stream",
     "text": [
      "+--------+----+-----------+\n",
      "|    Date|Hour|Predict_val|\n",
      "+--------+----+-----------+\n",
      "|20210304|  14|     7.1103|\n",
      "+--------+----+-----------+\n",
      "\n",
      "None\n",
      "+--------+----+-----------+--------------------+\n",
      "|    Date|Hour|Predict_val|               value|\n",
      "+--------+----+-----------+--------------------+\n",
      "|20210304|  14|     7.1103|[20210304, 14, 7....|\n",
      "+--------+----+-----------+--------------------+\n",
      "\n",
      "None\n",
      "origin Data\n",
      "                                                  df\n",
      "8  (0.0, 7.5469, 생활정수, 0.0, 고양정수장, None, 4128512319)\n",
      "Prediction: 7.1103 Ph\n",
      "Generate New Prediction...\n"
     ]
    },
    {
     "data": {
      "text/plain": [
       "DataFrame[Date: string, Hour: string, Predict_val: double]"
      ]
     },
     "metadata": {},
     "output_type": "display_data"
    },
    {
     "name": "stdout",
     "output_type": "stream",
     "text": [
      "+--------+----+-----------+\n",
      "|    Date|Hour|Predict_val|\n",
      "+--------+----+-----------+\n",
      "|20210304|  14|     7.1103|\n",
      "+--------+----+-----------+\n",
      "\n",
      "None\n",
      "+--------+----+-----------+--------------------+\n",
      "|    Date|Hour|Predict_val|               value|\n",
      "+--------+----+-----------+--------------------+\n",
      "|20210304|  14|     7.1103|[20210304, 14, 7....|\n",
      "+--------+----+-----------+--------------------+\n",
      "\n",
      "None\n",
      "origin Data\n",
      "                                                  df\n",
      "8  (0.0, 7.5469, 생활정수, 0.0, 고양정수장, None, 4128512319)\n",
      "Prediction: 7.1103 Ph\n",
      "Generate New Prediction...\n"
     ]
    },
    {
     "data": {
      "text/plain": [
       "DataFrame[Date: string, Hour: string, Predict_val: double]"
      ]
     },
     "metadata": {},
     "output_type": "display_data"
    },
    {
     "name": "stdout",
     "output_type": "stream",
     "text": [
      "+--------+----+-----------+\n",
      "|    Date|Hour|Predict_val|\n",
      "+--------+----+-----------+\n",
      "|20210304|  14|     7.1103|\n",
      "+--------+----+-----------+\n",
      "\n",
      "None\n",
      "+--------+----+-----------+--------------------+\n",
      "|    Date|Hour|Predict_val|               value|\n",
      "+--------+----+-----------+--------------------+\n",
      "|20210304|  14|     7.1103|[20210304, 14, 7....|\n",
      "+--------+----+-----------+--------------------+\n",
      "\n",
      "None\n",
      "origin Data\n",
      "                                                  df\n",
      "8  (0.0, 7.5469, 생활정수, 0.0, 고양정수장, None, 4128512319)\n",
      "Prediction: 7.1103 Ph\n",
      "Generate New Prediction...\n"
     ]
    },
    {
     "data": {
      "text/plain": [
       "DataFrame[Date: string, Hour: string, Predict_val: double]"
      ]
     },
     "metadata": {},
     "output_type": "display_data"
    },
    {
     "name": "stdout",
     "output_type": "stream",
     "text": [
      "+--------+----+-----------+\n",
      "|    Date|Hour|Predict_val|\n",
      "+--------+----+-----------+\n",
      "|20210304|  14|     7.1103|\n",
      "+--------+----+-----------+\n",
      "\n",
      "None\n",
      "+--------+----+-----------+--------------------+\n",
      "|    Date|Hour|Predict_val|               value|\n",
      "+--------+----+-----------+--------------------+\n",
      "|20210304|  14|     7.1103|[20210304, 14, 7....|\n",
      "+--------+----+-----------+--------------------+\n",
      "\n",
      "None\n",
      "origin Data\n",
      "                                                  df\n",
      "8  (0.0, 7.5469, 생활정수, 0.0, 고양정수장, None, 4128512319)\n",
      "Prediction: 7.1103 Ph\n",
      "Generate New Prediction...\n"
     ]
    },
    {
     "data": {
      "text/plain": [
       "DataFrame[Date: string, Hour: string, Predict_val: double]"
      ]
     },
     "metadata": {},
     "output_type": "display_data"
    },
    {
     "name": "stdout",
     "output_type": "stream",
     "text": [
      "+--------+----+-----------+\n",
      "|    Date|Hour|Predict_val|\n",
      "+--------+----+-----------+\n",
      "|20210304|  14|     7.1103|\n",
      "+--------+----+-----------+\n",
      "\n",
      "None\n",
      "+--------+----+-----------+--------------------+\n",
      "|    Date|Hour|Predict_val|               value|\n",
      "+--------+----+-----------+--------------------+\n",
      "|20210304|  14|     7.1103|[20210304, 14, 7....|\n",
      "+--------+----+-----------+--------------------+\n",
      "\n",
      "None\n",
      "origin Data\n",
      "                                                  df\n",
      "8  (0.0, 7.5469, 생활정수, 0.0, 고양정수장, None, 4128512319)\n",
      "Prediction: 7.1103 Ph\n",
      "Generate New Prediction...\n"
     ]
    },
    {
     "data": {
      "text/plain": [
       "DataFrame[Date: string, Hour: string, Predict_val: double]"
      ]
     },
     "metadata": {},
     "output_type": "display_data"
    },
    {
     "name": "stdout",
     "output_type": "stream",
     "text": [
      "+--------+----+-----------+\n",
      "|    Date|Hour|Predict_val|\n",
      "+--------+----+-----------+\n",
      "|20210304|  14|     7.1103|\n",
      "+--------+----+-----------+\n",
      "\n",
      "None\n",
      "+--------+----+-----------+--------------------+\n",
      "|    Date|Hour|Predict_val|               value|\n",
      "+--------+----+-----------+--------------------+\n",
      "|20210304|  14|     7.1103|[20210304, 14, 7....|\n",
      "+--------+----+-----------+--------------------+\n",
      "\n",
      "None\n",
      "origin Data\n",
      "                                                  df\n",
      "8  (0.0, 7.5469, 생활정수, 0.0, 고양정수장, None, 4128512319)\n",
      "Prediction: 7.1103 Ph\n",
      "Generate New Prediction...\n"
     ]
    },
    {
     "data": {
      "text/plain": [
       "DataFrame[Date: string, Hour: string, Predict_val: double]"
      ]
     },
     "metadata": {},
     "output_type": "display_data"
    },
    {
     "name": "stdout",
     "output_type": "stream",
     "text": [
      "+--------+----+-----------+\n",
      "|    Date|Hour|Predict_val|\n",
      "+--------+----+-----------+\n",
      "|20210304|  14|     7.1103|\n",
      "+--------+----+-----------+\n",
      "\n",
      "None\n",
      "+--------+----+-----------+--------------------+\n",
      "|    Date|Hour|Predict_val|               value|\n",
      "+--------+----+-----------+--------------------+\n",
      "|20210304|  14|     7.1103|[20210304, 14, 7....|\n",
      "+--------+----+-----------+--------------------+\n",
      "\n",
      "None\n",
      "origin Data\n",
      "                                                  df\n",
      "8  (0.0, 7.5469, 생활정수, 0.0, 고양정수장, None, 4128512319)\n",
      "Prediction: 7.1103 Ph\n",
      "Generate New Prediction...\n"
     ]
    },
    {
     "data": {
      "text/plain": [
       "DataFrame[Date: string, Hour: string, Predict_val: double]"
      ]
     },
     "metadata": {},
     "output_type": "display_data"
    },
    {
     "name": "stdout",
     "output_type": "stream",
     "text": [
      "+--------+----+-----------+\n",
      "|    Date|Hour|Predict_val|\n",
      "+--------+----+-----------+\n",
      "|20210304|  14|     7.1103|\n",
      "+--------+----+-----------+\n",
      "\n",
      "None\n",
      "+--------+----+-----------+--------------------+\n",
      "|    Date|Hour|Predict_val|               value|\n",
      "+--------+----+-----------+--------------------+\n",
      "|20210304|  14|     7.1103|[20210304, 14, 7....|\n",
      "+--------+----+-----------+--------------------+\n",
      "\n",
      "None\n",
      "origin Data\n",
      "                                                  df\n",
      "8  (0.0, 7.5469, 생활정수, 0.0, 고양정수장, None, 4128512319)\n",
      "Prediction: 7.1103 Ph\n",
      "Generate New Prediction...\n"
     ]
    },
    {
     "data": {
      "text/plain": [
       "DataFrame[Date: string, Hour: string, Predict_val: double]"
      ]
     },
     "metadata": {},
     "output_type": "display_data"
    },
    {
     "name": "stdout",
     "output_type": "stream",
     "text": [
      "+--------+----+-----------+\n",
      "|    Date|Hour|Predict_val|\n",
      "+--------+----+-----------+\n",
      "|20210304|  14|     7.1103|\n",
      "+--------+----+-----------+\n",
      "\n",
      "None\n",
      "+--------+----+-----------+--------------------+\n",
      "|    Date|Hour|Predict_val|               value|\n",
      "+--------+----+-----------+--------------------+\n",
      "|20210304|  14|     7.1103|[20210304, 14, 7....|\n",
      "+--------+----+-----------+--------------------+\n",
      "\n",
      "None\n",
      "origin Data\n",
      "                                                  df\n",
      "8  (0.0, 7.5469, 생활정수, 0.0, 고양정수장, None, 4128512319)\n",
      "Prediction: 7.1103 Ph\n",
      "Generate New Prediction...\n"
     ]
    },
    {
     "data": {
      "text/plain": [
       "DataFrame[Date: string, Hour: string, Predict_val: double]"
      ]
     },
     "metadata": {},
     "output_type": "display_data"
    },
    {
     "name": "stdout",
     "output_type": "stream",
     "text": [
      "+--------+----+-----------+\n",
      "|    Date|Hour|Predict_val|\n",
      "+--------+----+-----------+\n",
      "|20210304|  14|     7.1103|\n",
      "+--------+----+-----------+\n",
      "\n",
      "None\n",
      "+--------+----+-----------+--------------------+\n",
      "|    Date|Hour|Predict_val|               value|\n",
      "+--------+----+-----------+--------------------+\n",
      "|20210304|  14|     7.1103|[20210304, 14, 7....|\n",
      "+--------+----+-----------+--------------------+\n",
      "\n",
      "None\n",
      "origin Data\n",
      "                                                  df\n",
      "8  (0.0, 7.5469, 생활정수, 0.0, 고양정수장, None, 4128512319)\n",
      "Prediction: 7.1103 Ph\n",
      "Generate New Prediction...\n"
     ]
    },
    {
     "data": {
      "text/plain": [
       "DataFrame[Date: string, Hour: string, Predict_val: double]"
      ]
     },
     "metadata": {},
     "output_type": "display_data"
    },
    {
     "name": "stdout",
     "output_type": "stream",
     "text": [
      "+--------+----+-----------+\n",
      "|    Date|Hour|Predict_val|\n",
      "+--------+----+-----------+\n",
      "|20210304|  14|     7.1103|\n",
      "+--------+----+-----------+\n",
      "\n",
      "None\n",
      "+--------+----+-----------+--------------------+\n",
      "|    Date|Hour|Predict_val|               value|\n",
      "+--------+----+-----------+--------------------+\n",
      "|20210304|  14|     7.1103|[20210304, 14, 7....|\n",
      "+--------+----+-----------+--------------------+\n",
      "\n",
      "None\n",
      "origin Data\n",
      "                                                  df\n",
      "8  (0.0, 7.5469, 생활정수, 0.0, 고양정수장, None, 4128512319)\n",
      "Prediction: 7.1103 Ph\n",
      "Generate New Prediction...\n"
     ]
    },
    {
     "data": {
      "text/plain": [
       "DataFrame[Date: string, Hour: string, Predict_val: double]"
      ]
     },
     "metadata": {},
     "output_type": "display_data"
    },
    {
     "name": "stdout",
     "output_type": "stream",
     "text": [
      "+--------+----+-----------+\n",
      "|    Date|Hour|Predict_val|\n",
      "+--------+----+-----------+\n",
      "|20210304|  14|     7.1103|\n",
      "+--------+----+-----------+\n",
      "\n",
      "None\n",
      "+--------+----+-----------+--------------------+\n",
      "|    Date|Hour|Predict_val|               value|\n",
      "+--------+----+-----------+--------------------+\n",
      "|20210304|  14|     7.1103|[20210304, 14, 7....|\n",
      "+--------+----+-----------+--------------------+\n",
      "\n",
      "None\n",
      "origin Data\n",
      "                                                  df\n",
      "8  (0.0, 7.5469, 생활정수, 0.0, 고양정수장, None, 4128512319)\n",
      "Prediction: 7.1103 Ph\n",
      "Generate New Prediction...\n"
     ]
    },
    {
     "data": {
      "text/plain": [
       "DataFrame[Date: string, Hour: string, Predict_val: double]"
      ]
     },
     "metadata": {},
     "output_type": "display_data"
    },
    {
     "name": "stdout",
     "output_type": "stream",
     "text": [
      "+--------+----+-----------+\n",
      "|    Date|Hour|Predict_val|\n",
      "+--------+----+-----------+\n",
      "|20210304|  14|     7.1103|\n",
      "+--------+----+-----------+\n",
      "\n",
      "None\n",
      "+--------+----+-----------+--------------------+\n",
      "|    Date|Hour|Predict_val|               value|\n",
      "+--------+----+-----------+--------------------+\n",
      "|20210304|  14|     7.1103|[20210304, 14, 7....|\n",
      "+--------+----+-----------+--------------------+\n",
      "\n",
      "None\n",
      "origin Data\n",
      "                                                  df\n",
      "8  (0.0, 7.5469, 생활정수, 0.0, 고양정수장, None, 4128512319)\n",
      "Prediction: 7.1103 Ph\n",
      "Generate New Prediction...\n"
     ]
    },
    {
     "data": {
      "text/plain": [
       "DataFrame[Date: string, Hour: string, Predict_val: double]"
      ]
     },
     "metadata": {},
     "output_type": "display_data"
    },
    {
     "name": "stdout",
     "output_type": "stream",
     "text": [
      "+--------+----+-----------+\n",
      "|    Date|Hour|Predict_val|\n",
      "+--------+----+-----------+\n",
      "|20210304|  14|     7.1103|\n",
      "+--------+----+-----------+\n",
      "\n",
      "None\n",
      "+--------+----+-----------+--------------------+\n",
      "|    Date|Hour|Predict_val|               value|\n",
      "+--------+----+-----------+--------------------+\n",
      "|20210304|  14|     7.1103|[20210304, 14, 7....|\n",
      "+--------+----+-----------+--------------------+\n",
      "\n",
      "None\n",
      "origin Data\n",
      "                                                  df\n",
      "8  (0.0, 7.5469, 생활정수, 0.0, 고양정수장, None, 4128512319)\n",
      "Prediction: 7.1103 Ph\n",
      "Generate New Prediction...\n"
     ]
    },
    {
     "data": {
      "text/plain": [
       "DataFrame[Date: string, Hour: string, Predict_val: double]"
      ]
     },
     "metadata": {},
     "output_type": "display_data"
    },
    {
     "name": "stdout",
     "output_type": "stream",
     "text": [
      "+--------+----+-----------+\n",
      "|    Date|Hour|Predict_val|\n",
      "+--------+----+-----------+\n",
      "|20210304|  14|     7.1103|\n",
      "+--------+----+-----------+\n",
      "\n",
      "None\n",
      "+--------+----+-----------+--------------------+\n",
      "|    Date|Hour|Predict_val|               value|\n",
      "+--------+----+-----------+--------------------+\n",
      "|20210304|  14|     7.1103|[20210304, 14, 7....|\n",
      "+--------+----+-----------+--------------------+\n",
      "\n",
      "None\n",
      "origin Data\n",
      "                                                  df\n",
      "8  (0.0, 7.5469, 생활정수, 0.0, 고양정수장, None, 4128512319)\n",
      "Prediction: 7.1103 Ph\n",
      "Generate New Prediction...\n"
     ]
    },
    {
     "data": {
      "text/plain": [
       "DataFrame[Date: string, Hour: string, Predict_val: double]"
      ]
     },
     "metadata": {},
     "output_type": "display_data"
    },
    {
     "name": "stdout",
     "output_type": "stream",
     "text": [
      "+--------+----+-----------+\n",
      "|    Date|Hour|Predict_val|\n",
      "+--------+----+-----------+\n",
      "|20210304|  14|     7.1103|\n",
      "+--------+----+-----------+\n",
      "\n",
      "None\n",
      "+--------+----+-----------+--------------------+\n",
      "|    Date|Hour|Predict_val|               value|\n",
      "+--------+----+-----------+--------------------+\n",
      "|20210304|  14|     7.1103|[20210304, 14, 7....|\n",
      "+--------+----+-----------+--------------------+\n",
      "\n",
      "None\n",
      "origin Data\n",
      "                                                  df\n",
      "8  (0.0, 7.5469, 생활정수, 0.0, 고양정수장, None, 4128512319)\n",
      "Prediction: 7.1103 Ph\n",
      "Generate New Prediction...\n"
     ]
    },
    {
     "data": {
      "text/plain": [
       "DataFrame[Date: string, Hour: string, Predict_val: double]"
      ]
     },
     "metadata": {},
     "output_type": "display_data"
    },
    {
     "name": "stdout",
     "output_type": "stream",
     "text": [
      "+--------+----+-----------+\n",
      "|    Date|Hour|Predict_val|\n",
      "+--------+----+-----------+\n",
      "|20210304|  14|     7.1103|\n",
      "+--------+----+-----------+\n",
      "\n",
      "None\n",
      "+--------+----+-----------+--------------------+\n",
      "|    Date|Hour|Predict_val|               value|\n",
      "+--------+----+-----------+--------------------+\n",
      "|20210304|  14|     7.1103|[20210304, 14, 7....|\n",
      "+--------+----+-----------+--------------------+\n",
      "\n",
      "None\n",
      "origin Data\n",
      "                                                  df\n",
      "8  (0.0, 7.5469, 생활정수, 0.0, 고양정수장, None, 4128512319)\n",
      "Prediction: 7.1103 Ph\n",
      "Generate New Prediction...\n"
     ]
    },
    {
     "data": {
      "text/plain": [
       "DataFrame[Date: string, Hour: string, Predict_val: double]"
      ]
     },
     "metadata": {},
     "output_type": "display_data"
    },
    {
     "name": "stdout",
     "output_type": "stream",
     "text": [
      "+--------+----+-----------+\n",
      "|    Date|Hour|Predict_val|\n",
      "+--------+----+-----------+\n",
      "|20210304|  14|     7.1103|\n",
      "+--------+----+-----------+\n",
      "\n",
      "None\n",
      "+--------+----+-----------+--------------------+\n",
      "|    Date|Hour|Predict_val|               value|\n",
      "+--------+----+-----------+--------------------+\n",
      "|20210304|  14|     7.1103|[20210304, 14, 7....|\n",
      "+--------+----+-----------+--------------------+\n",
      "\n",
      "None\n",
      "origin Data\n",
      "                                                  df\n",
      "8  (0.0, 7.5469, 생활정수, 0.0, 고양정수장, None, 4128512319)\n",
      "Prediction: 7.1103 Ph\n",
      "Generate New Prediction...\n"
     ]
    },
    {
     "data": {
      "text/plain": [
       "DataFrame[Date: string, Hour: string, Predict_val: double]"
      ]
     },
     "metadata": {},
     "output_type": "display_data"
    },
    {
     "name": "stdout",
     "output_type": "stream",
     "text": [
      "+--------+----+-----------+\n",
      "|    Date|Hour|Predict_val|\n",
      "+--------+----+-----------+\n",
      "|20210304|  14|     7.1103|\n",
      "+--------+----+-----------+\n",
      "\n",
      "None\n",
      "+--------+----+-----------+--------------------+\n",
      "|    Date|Hour|Predict_val|               value|\n",
      "+--------+----+-----------+--------------------+\n",
      "|20210304|  14|     7.1103|[20210304, 14, 7....|\n",
      "+--------+----+-----------+--------------------+\n",
      "\n",
      "None\n",
      "origin Data\n",
      "                                                  df\n",
      "8  (0.0, 7.5469, 생활정수, 0.0, 고양정수장, None, 4128512319)\n",
      "Prediction: 7.1103 Ph\n",
      "Generate New Prediction...\n"
     ]
    },
    {
     "data": {
      "text/plain": [
       "DataFrame[Date: string, Hour: string, Predict_val: double]"
      ]
     },
     "metadata": {},
     "output_type": "display_data"
    },
    {
     "name": "stdout",
     "output_type": "stream",
     "text": [
      "+--------+----+-----------+\n",
      "|    Date|Hour|Predict_val|\n",
      "+--------+----+-----------+\n",
      "|20210304|  14|     7.1103|\n",
      "+--------+----+-----------+\n",
      "\n",
      "None\n",
      "+--------+----+-----------+--------------------+\n",
      "|    Date|Hour|Predict_val|               value|\n",
      "+--------+----+-----------+--------------------+\n",
      "|20210304|  14|     7.1103|[20210304, 14, 7....|\n",
      "+--------+----+-----------+--------------------+\n",
      "\n",
      "None\n",
      "origin Data\n",
      "                                                  df\n",
      "8  (0.0, 7.5469, 생활정수, 0.0, 고양정수장, None, 4128512319)\n",
      "Prediction: 7.1103 Ph\n",
      "Generate New Prediction...\n"
     ]
    },
    {
     "data": {
      "text/plain": [
       "DataFrame[Date: string, Hour: string, Predict_val: double]"
      ]
     },
     "metadata": {},
     "output_type": "display_data"
    },
    {
     "name": "stdout",
     "output_type": "stream",
     "text": [
      "+--------+----+-----------+\n",
      "|    Date|Hour|Predict_val|\n",
      "+--------+----+-----------+\n",
      "|20210304|  14|     7.1103|\n",
      "+--------+----+-----------+\n",
      "\n",
      "None\n",
      "+--------+----+-----------+--------------------+\n",
      "|    Date|Hour|Predict_val|               value|\n",
      "+--------+----+-----------+--------------------+\n",
      "|20210304|  14|     7.1103|[20210304, 14, 7....|\n",
      "+--------+----+-----------+--------------------+\n",
      "\n",
      "None\n",
      "origin Data\n",
      "                                                  df\n",
      "8  (0.0, 7.5469, 생활정수, 0.0, 고양정수장, None, 4128512319)\n",
      "Prediction: 7.1103 Ph\n",
      "Generate New Prediction...\n"
     ]
    },
    {
     "data": {
      "text/plain": [
       "DataFrame[Date: string, Hour: string, Predict_val: double]"
      ]
     },
     "metadata": {},
     "output_type": "display_data"
    },
    {
     "name": "stdout",
     "output_type": "stream",
     "text": [
      "+--------+----+-----------+\n",
      "|    Date|Hour|Predict_val|\n",
      "+--------+----+-----------+\n",
      "|20210304|  14|     7.1103|\n",
      "+--------+----+-----------+\n",
      "\n",
      "None\n",
      "+--------+----+-----------+--------------------+\n",
      "|    Date|Hour|Predict_val|               value|\n",
      "+--------+----+-----------+--------------------+\n",
      "|20210304|  14|     7.1103|[20210304, 14, 7....|\n",
      "+--------+----+-----------+--------------------+\n",
      "\n",
      "None\n",
      "origin Data\n",
      "                                                  df\n",
      "8  (0.0, 7.5469, 생활정수, 0.0, 고양정수장, None, 4128512319)\n",
      "Prediction: 7.1103 Ph\n",
      "Generate New Prediction...\n"
     ]
    },
    {
     "data": {
      "text/plain": [
       "DataFrame[Date: string, Hour: string, Predict_val: double]"
      ]
     },
     "metadata": {},
     "output_type": "display_data"
    },
    {
     "name": "stdout",
     "output_type": "stream",
     "text": [
      "+--------+----+-----------+\n",
      "|    Date|Hour|Predict_val|\n",
      "+--------+----+-----------+\n",
      "|20210304|  14|     7.1103|\n",
      "+--------+----+-----------+\n",
      "\n",
      "None\n",
      "+--------+----+-----------+--------------------+\n",
      "|    Date|Hour|Predict_val|               value|\n",
      "+--------+----+-----------+--------------------+\n",
      "|20210304|  14|     7.1103|[20210304, 14, 7....|\n",
      "+--------+----+-----------+--------------------+\n",
      "\n",
      "None\n",
      "origin Data\n",
      "                                                  df\n",
      "8  (0.0, 7.5469, 생활정수, 0.0, 고양정수장, None, 4128512319)\n",
      "Prediction: 7.1103 Ph\n",
      "Generate New Prediction...\n"
     ]
    },
    {
     "data": {
      "text/plain": [
       "DataFrame[Date: string, Hour: string, Predict_val: double]"
      ]
     },
     "metadata": {},
     "output_type": "display_data"
    },
    {
     "name": "stdout",
     "output_type": "stream",
     "text": [
      "+--------+----+-----------+\n",
      "|    Date|Hour|Predict_val|\n",
      "+--------+----+-----------+\n",
      "|20210304|  14|     7.1103|\n",
      "+--------+----+-----------+\n",
      "\n",
      "None\n",
      "+--------+----+-----------+--------------------+\n",
      "|    Date|Hour|Predict_val|               value|\n",
      "+--------+----+-----------+--------------------+\n",
      "|20210304|  14|     7.1103|[20210304, 14, 7....|\n",
      "+--------+----+-----------+--------------------+\n",
      "\n",
      "None\n",
      "origin Data\n",
      "                                                  df\n",
      "8  (0.0, 7.5469, 생활정수, 0.0, 고양정수장, None, 4128512319)\n",
      "Prediction: 7.1103 Ph\n",
      "Generate New Prediction...\n"
     ]
    },
    {
     "data": {
      "text/plain": [
       "DataFrame[Date: string, Hour: string, Predict_val: double]"
      ]
     },
     "metadata": {},
     "output_type": "display_data"
    },
    {
     "name": "stdout",
     "output_type": "stream",
     "text": [
      "+--------+----+-----------+\n",
      "|    Date|Hour|Predict_val|\n",
      "+--------+----+-----------+\n",
      "|20210304|  14|     7.1103|\n",
      "+--------+----+-----------+\n",
      "\n",
      "None\n",
      "+--------+----+-----------+--------------------+\n",
      "|    Date|Hour|Predict_val|               value|\n",
      "+--------+----+-----------+--------------------+\n",
      "|20210304|  14|     7.1103|[20210304, 14, 7....|\n",
      "+--------+----+-----------+--------------------+\n",
      "\n",
      "None\n",
      "origin Data\n",
      "                                                  df\n",
      "8  (0.0, 7.5469, 생활정수, 0.0, 고양정수장, None, 4128512319)\n",
      "Prediction: 7.1103 Ph\n",
      "Generate New Prediction...\n"
     ]
    },
    {
     "data": {
      "text/plain": [
       "DataFrame[Date: string, Hour: string, Predict_val: double]"
      ]
     },
     "metadata": {},
     "output_type": "display_data"
    },
    {
     "name": "stdout",
     "output_type": "stream",
     "text": [
      "+--------+----+-----------+\n",
      "|    Date|Hour|Predict_val|\n",
      "+--------+----+-----------+\n",
      "|20210304|  14|     7.1103|\n",
      "+--------+----+-----------+\n",
      "\n",
      "None\n",
      "+--------+----+-----------+--------------------+\n",
      "|    Date|Hour|Predict_val|               value|\n",
      "+--------+----+-----------+--------------------+\n",
      "|20210304|  14|     7.1103|[20210304, 14, 7....|\n",
      "+--------+----+-----------+--------------------+\n",
      "\n",
      "None\n",
      "origin Data\n",
      "                                                  df\n",
      "8  (0.0, 7.5469, 생활정수, 0.0, 고양정수장, None, 4128512319)\n",
      "Prediction: 7.1103 Ph\n",
      "Generate New Prediction...\n"
     ]
    },
    {
     "data": {
      "text/plain": [
       "DataFrame[Date: string, Hour: string, Predict_val: double]"
      ]
     },
     "metadata": {},
     "output_type": "display_data"
    },
    {
     "name": "stdout",
     "output_type": "stream",
     "text": [
      "+--------+----+-----------+\n",
      "|    Date|Hour|Predict_val|\n",
      "+--------+----+-----------+\n",
      "|20210304|  14|     7.1103|\n",
      "+--------+----+-----------+\n",
      "\n",
      "None\n",
      "+--------+----+-----------+--------------------+\n",
      "|    Date|Hour|Predict_val|               value|\n",
      "+--------+----+-----------+--------------------+\n",
      "|20210304|  14|     7.1103|[20210304, 14, 7....|\n",
      "+--------+----+-----------+--------------------+\n",
      "\n",
      "None\n",
      "origin Data\n",
      "                                                  df\n",
      "8  (0.0, 7.5469, 생활정수, 0.0, 고양정수장, None, 4128512319)\n",
      "Prediction: 7.1103 Ph\n",
      "Generate New Prediction...\n"
     ]
    },
    {
     "data": {
      "text/plain": [
       "DataFrame[Date: string, Hour: string, Predict_val: double]"
      ]
     },
     "metadata": {},
     "output_type": "display_data"
    },
    {
     "name": "stdout",
     "output_type": "stream",
     "text": [
      "+--------+----+-----------+\n",
      "|    Date|Hour|Predict_val|\n",
      "+--------+----+-----------+\n",
      "|20210304|  14|     7.1103|\n",
      "+--------+----+-----------+\n",
      "\n",
      "None\n",
      "+--------+----+-----------+--------------------+\n",
      "|    Date|Hour|Predict_val|               value|\n",
      "+--------+----+-----------+--------------------+\n",
      "|20210304|  14|     7.1103|[20210304, 14, 7....|\n",
      "+--------+----+-----------+--------------------+\n",
      "\n",
      "None\n",
      "origin Data\n",
      "                                                  df\n",
      "8  (0.0, 7.5469, 생활정수, 0.0, 고양정수장, None, 4128512319)\n",
      "Prediction: 7.1103 Ph\n",
      "Generate New Prediction...\n"
     ]
    },
    {
     "data": {
      "text/plain": [
       "DataFrame[Date: string, Hour: string, Predict_val: double]"
      ]
     },
     "metadata": {},
     "output_type": "display_data"
    },
    {
     "name": "stdout",
     "output_type": "stream",
     "text": [
      "+--------+----+-----------+\n",
      "|    Date|Hour|Predict_val|\n",
      "+--------+----+-----------+\n",
      "|20210304|  14|     7.1103|\n",
      "+--------+----+-----------+\n",
      "\n",
      "None\n",
      "+--------+----+-----------+--------------------+\n",
      "|    Date|Hour|Predict_val|               value|\n",
      "+--------+----+-----------+--------------------+\n",
      "|20210304|  14|     7.1103|[20210304, 14, 7....|\n",
      "+--------+----+-----------+--------------------+\n",
      "\n",
      "None\n",
      "origin Data\n",
      "                                                  df\n",
      "8  (0.0, 7.5469, 생활정수, 0.0, 고양정수장, None, 4128512319)\n",
      "Prediction: 7.1103 Ph\n",
      "Generate New Prediction...\n"
     ]
    },
    {
     "data": {
      "text/plain": [
       "DataFrame[Date: string, Hour: string, Predict_val: double]"
      ]
     },
     "metadata": {},
     "output_type": "display_data"
    },
    {
     "name": "stdout",
     "output_type": "stream",
     "text": [
      "+--------+----+-----------+\n",
      "|    Date|Hour|Predict_val|\n",
      "+--------+----+-----------+\n",
      "|20210304|  14|     7.1103|\n",
      "+--------+----+-----------+\n",
      "\n",
      "None\n",
      "+--------+----+-----------+--------------------+\n",
      "|    Date|Hour|Predict_val|               value|\n",
      "+--------+----+-----------+--------------------+\n",
      "|20210304|  14|     7.1103|[20210304, 14, 7....|\n",
      "+--------+----+-----------+--------------------+\n",
      "\n",
      "None\n",
      "origin Data\n",
      "                                                  df\n",
      "8  (0.0, 7.5469, 생활정수, 0.0, 고양정수장, None, 4128512319)\n",
      "Prediction: 7.1103 Ph\n",
      "Generate New Prediction...\n"
     ]
    },
    {
     "data": {
      "text/plain": [
       "DataFrame[Date: string, Hour: string, Predict_val: double]"
      ]
     },
     "metadata": {},
     "output_type": "display_data"
    },
    {
     "name": "stdout",
     "output_type": "stream",
     "text": [
      "+--------+----+-----------+\n",
      "|    Date|Hour|Predict_val|\n",
      "+--------+----+-----------+\n",
      "|20210304|  14|     7.1103|\n",
      "+--------+----+-----------+\n",
      "\n",
      "None\n",
      "+--------+----+-----------+--------------------+\n",
      "|    Date|Hour|Predict_val|               value|\n",
      "+--------+----+-----------+--------------------+\n",
      "|20210304|  14|     7.1103|[20210304, 14, 7....|\n",
      "+--------+----+-----------+--------------------+\n",
      "\n",
      "None\n",
      "origin Data\n",
      "                                                  df\n",
      "8  (0.0, 7.5469, 생활정수, 0.0, 고양정수장, None, 4128512319)\n",
      "Prediction: 7.1103 Ph\n",
      "Generate New Prediction...\n"
     ]
    },
    {
     "data": {
      "text/plain": [
       "DataFrame[Date: string, Hour: string, Predict_val: double]"
      ]
     },
     "metadata": {},
     "output_type": "display_data"
    },
    {
     "name": "stdout",
     "output_type": "stream",
     "text": [
      "+--------+----+-----------+\n",
      "|    Date|Hour|Predict_val|\n",
      "+--------+----+-----------+\n",
      "|20210304|  14|     7.1103|\n",
      "+--------+----+-----------+\n",
      "\n",
      "None\n",
      "+--------+----+-----------+--------------------+\n",
      "|    Date|Hour|Predict_val|               value|\n",
      "+--------+----+-----------+--------------------+\n",
      "|20210304|  14|     7.1103|[20210304, 14, 7....|\n",
      "+--------+----+-----------+--------------------+\n",
      "\n",
      "None\n",
      "origin Data\n",
      "                                                  df\n",
      "8  (0.0, 7.5469, 생활정수, 0.0, 고양정수장, None, 4128512319)\n",
      "Prediction: 7.1103 Ph\n",
      "Generate New Prediction...\n"
     ]
    },
    {
     "data": {
      "text/plain": [
       "DataFrame[Date: string, Hour: string, Predict_val: double]"
      ]
     },
     "metadata": {},
     "output_type": "display_data"
    },
    {
     "name": "stdout",
     "output_type": "stream",
     "text": [
      "+--------+----+-----------+\n",
      "|    Date|Hour|Predict_val|\n",
      "+--------+----+-----------+\n",
      "|20210304|  14|     7.1103|\n",
      "+--------+----+-----------+\n",
      "\n",
      "None\n",
      "+--------+----+-----------+--------------------+\n",
      "|    Date|Hour|Predict_val|               value|\n",
      "+--------+----+-----------+--------------------+\n",
      "|20210304|  14|     7.1103|[20210304, 14, 7....|\n",
      "+--------+----+-----------+--------------------+\n",
      "\n",
      "None\n",
      "origin Data\n",
      "                                                  df\n",
      "8  (0.0, 7.5469, 생활정수, 0.0, 고양정수장, None, 4128512319)\n",
      "Prediction: 7.1103 Ph\n",
      "Generate New Prediction...\n"
     ]
    },
    {
     "data": {
      "text/plain": [
       "DataFrame[Date: string, Hour: string, Predict_val: double]"
      ]
     },
     "metadata": {},
     "output_type": "display_data"
    },
    {
     "name": "stdout",
     "output_type": "stream",
     "text": [
      "+--------+----+-----------+\n",
      "|    Date|Hour|Predict_val|\n",
      "+--------+----+-----------+\n",
      "|20210304|  14|     7.1103|\n",
      "+--------+----+-----------+\n",
      "\n",
      "None\n",
      "+--------+----+-----------+--------------------+\n",
      "|    Date|Hour|Predict_val|               value|\n",
      "+--------+----+-----------+--------------------+\n",
      "|20210304|  14|     7.1103|[20210304, 14, 7....|\n",
      "+--------+----+-----------+--------------------+\n",
      "\n",
      "None\n",
      "origin Data\n",
      "                                                  df\n",
      "8  (0.0, 7.5469, 생활정수, 0.0, 고양정수장, None, 4128512319)\n",
      "Prediction: 7.1103 Ph\n",
      "Generate New Prediction...\n"
     ]
    },
    {
     "data": {
      "text/plain": [
       "DataFrame[Date: string, Hour: string, Predict_val: double]"
      ]
     },
     "metadata": {},
     "output_type": "display_data"
    },
    {
     "name": "stdout",
     "output_type": "stream",
     "text": [
      "+--------+----+-----------+\n",
      "|    Date|Hour|Predict_val|\n",
      "+--------+----+-----------+\n",
      "|20210304|  14|     7.1103|\n",
      "+--------+----+-----------+\n",
      "\n",
      "None\n",
      "+--------+----+-----------+--------------------+\n",
      "|    Date|Hour|Predict_val|               value|\n",
      "+--------+----+-----------+--------------------+\n",
      "|20210304|  14|     7.1103|[20210304, 14, 7....|\n",
      "+--------+----+-----------+--------------------+\n",
      "\n",
      "None\n",
      "origin Data\n",
      "                                                  df\n",
      "8  (0.0, 7.5469, 생활정수, 0.0, 고양정수장, None, 4128512319)\n",
      "Prediction: 7.1103 Ph\n",
      "Generate New Prediction...\n"
     ]
    },
    {
     "data": {
      "text/plain": [
       "DataFrame[Date: string, Hour: string, Predict_val: double]"
      ]
     },
     "metadata": {},
     "output_type": "display_data"
    },
    {
     "name": "stdout",
     "output_type": "stream",
     "text": [
      "+--------+----+-----------+\n",
      "|    Date|Hour|Predict_val|\n",
      "+--------+----+-----------+\n",
      "|20210304|  14|     7.1103|\n",
      "+--------+----+-----------+\n",
      "\n",
      "None\n",
      "+--------+----+-----------+--------------------+\n",
      "|    Date|Hour|Predict_val|               value|\n",
      "+--------+----+-----------+--------------------+\n",
      "|20210304|  14|     7.1103|[20210304, 14, 7....|\n",
      "+--------+----+-----------+--------------------+\n",
      "\n",
      "None\n",
      "origin Data\n",
      "                                                  df\n",
      "8  (0.0, 7.5469, 생활정수, 0.0, 고양정수장, None, 4128512319)\n",
      "Prediction: 7.1103 Ph\n",
      "Generate New Prediction...\n"
     ]
    },
    {
     "data": {
      "text/plain": [
       "DataFrame[Date: string, Hour: string, Predict_val: double]"
      ]
     },
     "metadata": {},
     "output_type": "display_data"
    },
    {
     "name": "stdout",
     "output_type": "stream",
     "text": [
      "+--------+----+-----------+\n",
      "|    Date|Hour|Predict_val|\n",
      "+--------+----+-----------+\n",
      "|20210304|  14|     7.1103|\n",
      "+--------+----+-----------+\n",
      "\n",
      "None\n",
      "+--------+----+-----------+--------------------+\n",
      "|    Date|Hour|Predict_val|               value|\n",
      "+--------+----+-----------+--------------------+\n",
      "|20210304|  14|     7.1103|[20210304, 14, 7....|\n",
      "+--------+----+-----------+--------------------+\n",
      "\n",
      "None\n",
      "origin Data\n",
      "                                                  df\n",
      "8  (0.0, 7.5469, 생활정수, 0.0, 고양정수장, None, 4128512319)\n",
      "Prediction: 7.1103 Ph\n",
      "Generate New Prediction...\n"
     ]
    },
    {
     "data": {
      "text/plain": [
       "DataFrame[Date: string, Hour: string, Predict_val: double]"
      ]
     },
     "metadata": {},
     "output_type": "display_data"
    },
    {
     "name": "stdout",
     "output_type": "stream",
     "text": [
      "+--------+----+-----------+\n",
      "|    Date|Hour|Predict_val|\n",
      "+--------+----+-----------+\n",
      "|20210304|  14|     7.1103|\n",
      "+--------+----+-----------+\n",
      "\n",
      "None\n",
      "+--------+----+-----------+--------------------+\n",
      "|    Date|Hour|Predict_val|               value|\n",
      "+--------+----+-----------+--------------------+\n",
      "|20210304|  14|     7.1103|[20210304, 14, 7....|\n",
      "+--------+----+-----------+--------------------+\n",
      "\n",
      "None\n",
      "origin Data\n",
      "                                                  df\n",
      "8  (0.0, 7.5469, 생활정수, 0.0, 고양정수장, None, 4128512319)\n",
      "Prediction: 7.1103 Ph\n",
      "Generate New Prediction...\n"
     ]
    },
    {
     "data": {
      "text/plain": [
       "DataFrame[Date: string, Hour: string, Predict_val: double]"
      ]
     },
     "metadata": {},
     "output_type": "display_data"
    },
    {
     "name": "stdout",
     "output_type": "stream",
     "text": [
      "+--------+----+-----------+\n",
      "|    Date|Hour|Predict_val|\n",
      "+--------+----+-----------+\n",
      "|20210304|  14|     7.1103|\n",
      "+--------+----+-----------+\n",
      "\n",
      "None\n",
      "+--------+----+-----------+--------------------+\n",
      "|    Date|Hour|Predict_val|               value|\n",
      "+--------+----+-----------+--------------------+\n",
      "|20210304|  14|     7.1103|[20210304, 14, 7....|\n",
      "+--------+----+-----------+--------------------+\n",
      "\n",
      "None\n",
      "origin Data\n",
      "                                                  df\n",
      "8  (0.0, 7.5469, 생활정수, 0.0, 고양정수장, None, 4128512319)\n",
      "Prediction: 7.1103 Ph\n",
      "Generate New Prediction...\n"
     ]
    },
    {
     "data": {
      "text/plain": [
       "DataFrame[Date: string, Hour: string, Predict_val: double]"
      ]
     },
     "metadata": {},
     "output_type": "display_data"
    },
    {
     "name": "stdout",
     "output_type": "stream",
     "text": [
      "+--------+----+-----------+\n",
      "|    Date|Hour|Predict_val|\n",
      "+--------+----+-----------+\n",
      "|20210304|  14|     7.1103|\n",
      "+--------+----+-----------+\n",
      "\n",
      "None\n",
      "+--------+----+-----------+--------------------+\n",
      "|    Date|Hour|Predict_val|               value|\n",
      "+--------+----+-----------+--------------------+\n",
      "|20210304|  14|     7.1103|[20210304, 14, 7....|\n",
      "+--------+----+-----------+--------------------+\n",
      "\n",
      "None\n",
      "origin Data\n",
      "                                                  df\n",
      "8  (0.0, 7.5469, 생활정수, 0.0, 고양정수장, None, 4128512319)\n",
      "Prediction: 7.1103 Ph\n",
      "Generate New Prediction...\n"
     ]
    },
    {
     "data": {
      "text/plain": [
       "DataFrame[Date: string, Hour: string, Predict_val: double]"
      ]
     },
     "metadata": {},
     "output_type": "display_data"
    },
    {
     "name": "stdout",
     "output_type": "stream",
     "text": [
      "+--------+----+-----------+\n",
      "|    Date|Hour|Predict_val|\n",
      "+--------+----+-----------+\n",
      "|20210304|  14|     7.1103|\n",
      "+--------+----+-----------+\n",
      "\n",
      "None\n",
      "+--------+----+-----------+--------------------+\n",
      "|    Date|Hour|Predict_val|               value|\n",
      "+--------+----+-----------+--------------------+\n",
      "|20210304|  14|     7.1103|[20210304, 14, 7....|\n",
      "+--------+----+-----------+--------------------+\n",
      "\n",
      "None\n",
      "origin Data\n",
      "                                                  df\n",
      "8  (0.0, 7.5469, 생활정수, 0.0, 고양정수장, None, 4128512319)\n",
      "Prediction: 7.1103 Ph\n",
      "Generate New Prediction...\n"
     ]
    },
    {
     "data": {
      "text/plain": [
       "DataFrame[Date: string, Hour: string, Predict_val: double]"
      ]
     },
     "metadata": {},
     "output_type": "display_data"
    },
    {
     "name": "stdout",
     "output_type": "stream",
     "text": [
      "+--------+----+-----------+\n",
      "|    Date|Hour|Predict_val|\n",
      "+--------+----+-----------+\n",
      "|20210304|  14|     7.1103|\n",
      "+--------+----+-----------+\n",
      "\n",
      "None\n",
      "+--------+----+-----------+--------------------+\n",
      "|    Date|Hour|Predict_val|               value|\n",
      "+--------+----+-----------+--------------------+\n",
      "|20210304|  14|     7.1103|[20210304, 14, 7....|\n",
      "+--------+----+-----------+--------------------+\n",
      "\n",
      "None\n",
      "origin Data\n",
      "                                                  df\n",
      "8  (0.0, 7.5469, 생활정수, 0.0, 고양정수장, None, 4128512319)\n",
      "Prediction: 7.1103 Ph\n",
      "Generate New Prediction...\n"
     ]
    },
    {
     "data": {
      "text/plain": [
       "DataFrame[Date: string, Hour: string, Predict_val: double]"
      ]
     },
     "metadata": {},
     "output_type": "display_data"
    },
    {
     "name": "stdout",
     "output_type": "stream",
     "text": [
      "+--------+----+-----------+\n",
      "|    Date|Hour|Predict_val|\n",
      "+--------+----+-----------+\n",
      "|20210304|  14|     7.1103|\n",
      "+--------+----+-----------+\n",
      "\n",
      "None\n",
      "+--------+----+-----------+--------------------+\n",
      "|    Date|Hour|Predict_val|               value|\n",
      "+--------+----+-----------+--------------------+\n",
      "|20210304|  14|     7.1103|[20210304, 14, 7....|\n",
      "+--------+----+-----------+--------------------+\n",
      "\n",
      "None\n",
      "origin Data\n",
      "                                                  df\n",
      "8  (0.0, 7.5469, 생활정수, 0.0, 고양정수장, None, 4128512319)\n",
      "Prediction: 7.1103 Ph\n",
      "Generate New Prediction...\n"
     ]
    },
    {
     "data": {
      "text/plain": [
       "DataFrame[Date: string, Hour: string, Predict_val: double]"
      ]
     },
     "metadata": {},
     "output_type": "display_data"
    },
    {
     "name": "stdout",
     "output_type": "stream",
     "text": [
      "+--------+----+-----------+\n",
      "|    Date|Hour|Predict_val|\n",
      "+--------+----+-----------+\n",
      "|20210304|  14|     7.1103|\n",
      "+--------+----+-----------+\n",
      "\n",
      "None\n",
      "+--------+----+-----------+--------------------+\n",
      "|    Date|Hour|Predict_val|               value|\n",
      "+--------+----+-----------+--------------------+\n",
      "|20210304|  14|     7.1103|[20210304, 14, 7....|\n",
      "+--------+----+-----------+--------------------+\n",
      "\n",
      "None\n",
      "origin Data\n",
      "                                                  df\n",
      "8  (0.0, 7.5469, 생활정수, 0.0, 고양정수장, None, 4128512319)\n",
      "Prediction: 7.1103 Ph\n",
      "Generate New Prediction...\n"
     ]
    },
    {
     "data": {
      "text/plain": [
       "DataFrame[Date: string, Hour: string, Predict_val: double]"
      ]
     },
     "metadata": {},
     "output_type": "display_data"
    },
    {
     "name": "stdout",
     "output_type": "stream",
     "text": [
      "+--------+----+-----------+\n",
      "|    Date|Hour|Predict_val|\n",
      "+--------+----+-----------+\n",
      "|20210304|  14|     7.1103|\n",
      "+--------+----+-----------+\n",
      "\n",
      "None\n",
      "+--------+----+-----------+--------------------+\n",
      "|    Date|Hour|Predict_val|               value|\n",
      "+--------+----+-----------+--------------------+\n",
      "|20210304|  14|     7.1103|[20210304, 14, 7....|\n",
      "+--------+----+-----------+--------------------+\n",
      "\n",
      "None\n",
      "origin Data\n",
      "                                                  df\n",
      "8  (0.0, 7.5469, 생활정수, 0.0, 고양정수장, None, 4128512319)\n",
      "Prediction: 7.1103 Ph\n",
      "Generate New Prediction...\n"
     ]
    },
    {
     "data": {
      "text/plain": [
       "DataFrame[Date: string, Hour: string, Predict_val: double]"
      ]
     },
     "metadata": {},
     "output_type": "display_data"
    },
    {
     "name": "stdout",
     "output_type": "stream",
     "text": [
      "+--------+----+-----------+\n",
      "|    Date|Hour|Predict_val|\n",
      "+--------+----+-----------+\n",
      "|20210304|  14|     7.1103|\n",
      "+--------+----+-----------+\n",
      "\n",
      "None\n",
      "+--------+----+-----------+--------------------+\n",
      "|    Date|Hour|Predict_val|               value|\n",
      "+--------+----+-----------+--------------------+\n",
      "|20210304|  14|     7.1103|[20210304, 14, 7....|\n",
      "+--------+----+-----------+--------------------+\n",
      "\n",
      "None\n",
      "origin Data\n",
      "                                                  df\n",
      "8  (0.0, 7.5469, 생활정수, 0.0, 고양정수장, None, 4128512319)\n",
      "Prediction: 7.1103 Ph\n",
      "Generate New Prediction...\n"
     ]
    },
    {
     "data": {
      "text/plain": [
       "DataFrame[Date: string, Hour: string, Predict_val: double]"
      ]
     },
     "metadata": {},
     "output_type": "display_data"
    },
    {
     "name": "stdout",
     "output_type": "stream",
     "text": [
      "+--------+----+-----------+\n",
      "|    Date|Hour|Predict_val|\n",
      "+--------+----+-----------+\n",
      "|20210304|  14|     7.1103|\n",
      "+--------+----+-----------+\n",
      "\n",
      "None\n",
      "+--------+----+-----------+--------------------+\n",
      "|    Date|Hour|Predict_val|               value|\n",
      "+--------+----+-----------+--------------------+\n",
      "|20210304|  14|     7.1103|[20210304, 14, 7....|\n",
      "+--------+----+-----------+--------------------+\n",
      "\n",
      "None\n",
      "origin Data\n",
      "                                                  df\n",
      "8  (0.0, 7.5469, 생활정수, 0.0, 고양정수장, None, 4128512319)\n",
      "Prediction: 7.1103 Ph\n",
      "Generate New Prediction...\n"
     ]
    },
    {
     "data": {
      "text/plain": [
       "DataFrame[Date: string, Hour: string, Predict_val: double]"
      ]
     },
     "metadata": {},
     "output_type": "display_data"
    },
    {
     "name": "stdout",
     "output_type": "stream",
     "text": [
      "+--------+----+-----------+\n",
      "|    Date|Hour|Predict_val|\n",
      "+--------+----+-----------+\n",
      "|20210304|  14|     7.1103|\n",
      "+--------+----+-----------+\n",
      "\n",
      "None\n",
      "+--------+----+-----------+--------------------+\n",
      "|    Date|Hour|Predict_val|               value|\n",
      "+--------+----+-----------+--------------------+\n",
      "|20210304|  14|     7.1103|[20210304, 14, 7....|\n",
      "+--------+----+-----------+--------------------+\n",
      "\n",
      "None\n",
      "origin Data\n",
      "                                                  df\n",
      "8  (0.0, 7.5469, 생활정수, 0.0, 고양정수장, None, 4128512319)\n",
      "Prediction: 7.1103 Ph\n",
      "Generate New Prediction...\n"
     ]
    },
    {
     "data": {
      "text/plain": [
       "DataFrame[Date: string, Hour: string, Predict_val: double]"
      ]
     },
     "metadata": {},
     "output_type": "display_data"
    },
    {
     "name": "stdout",
     "output_type": "stream",
     "text": [
      "+--------+----+-----------+\n",
      "|    Date|Hour|Predict_val|\n",
      "+--------+----+-----------+\n",
      "|20210304|  14|     7.1103|\n",
      "+--------+----+-----------+\n",
      "\n",
      "None\n",
      "+--------+----+-----------+--------------------+\n",
      "|    Date|Hour|Predict_val|               value|\n",
      "+--------+----+-----------+--------------------+\n",
      "|20210304|  14|     7.1103|[20210304, 14, 7....|\n",
      "+--------+----+-----------+--------------------+\n",
      "\n",
      "None\n",
      "origin Data\n",
      "                                                  df\n",
      "8  (0.0, 7.5469, 생활정수, 0.0, 고양정수장, None, 4128512319)\n",
      "Prediction: 7.1103 Ph\n",
      "Generate New Prediction...\n"
     ]
    },
    {
     "data": {
      "text/plain": [
       "DataFrame[Date: string, Hour: string, Predict_val: double]"
      ]
     },
     "metadata": {},
     "output_type": "display_data"
    },
    {
     "name": "stdout",
     "output_type": "stream",
     "text": [
      "+--------+----+-----------+\n",
      "|    Date|Hour|Predict_val|\n",
      "+--------+----+-----------+\n",
      "|20210304|  14|     7.1103|\n",
      "+--------+----+-----------+\n",
      "\n",
      "None\n",
      "+--------+----+-----------+--------------------+\n",
      "|    Date|Hour|Predict_val|               value|\n",
      "+--------+----+-----------+--------------------+\n",
      "|20210304|  14|     7.1103|[20210304, 14, 7....|\n",
      "+--------+----+-----------+--------------------+\n",
      "\n",
      "None\n",
      "origin Data\n",
      "                                                  df\n",
      "8  (0.0, 7.5469, 생활정수, 0.0, 고양정수장, None, 4128512319)\n",
      "Prediction: 7.1103 Ph\n",
      "Generate New Prediction...\n"
     ]
    },
    {
     "data": {
      "text/plain": [
       "DataFrame[Date: string, Hour: string, Predict_val: double]"
      ]
     },
     "metadata": {},
     "output_type": "display_data"
    },
    {
     "name": "stdout",
     "output_type": "stream",
     "text": [
      "+--------+----+-----------+\n",
      "|    Date|Hour|Predict_val|\n",
      "+--------+----+-----------+\n",
      "|20210304|  14|     7.1103|\n",
      "+--------+----+-----------+\n",
      "\n",
      "None\n",
      "+--------+----+-----------+--------------------+\n",
      "|    Date|Hour|Predict_val|               value|\n",
      "+--------+----+-----------+--------------------+\n",
      "|20210304|  14|     7.1103|[20210304, 14, 7....|\n",
      "+--------+----+-----------+--------------------+\n",
      "\n",
      "None\n",
      "origin Data\n",
      "                                                  df\n",
      "8  (0.0, 7.5469, 생활정수, 0.0, 고양정수장, None, 4128512319)\n",
      "Prediction: 7.1103 Ph\n",
      "Generate New Prediction...\n"
     ]
    },
    {
     "data": {
      "text/plain": [
       "DataFrame[Date: string, Hour: string, Predict_val: double]"
      ]
     },
     "metadata": {},
     "output_type": "display_data"
    },
    {
     "name": "stdout",
     "output_type": "stream",
     "text": [
      "+--------+----+-----------+\n",
      "|    Date|Hour|Predict_val|\n",
      "+--------+----+-----------+\n",
      "|20210304|  14|     7.1103|\n",
      "+--------+----+-----------+\n",
      "\n",
      "None\n",
      "+--------+----+-----------+--------------------+\n",
      "|    Date|Hour|Predict_val|               value|\n",
      "+--------+----+-----------+--------------------+\n",
      "|20210304|  14|     7.1103|[20210304, 14, 7....|\n",
      "+--------+----+-----------+--------------------+\n",
      "\n",
      "None\n",
      "origin Data\n",
      "                                                  df\n",
      "8  (0.0, 7.5469, 생활정수, 0.0, 고양정수장, None, 4128512319)\n",
      "Prediction: 7.1103 Ph\n",
      "Generate New Prediction...\n"
     ]
    },
    {
     "data": {
      "text/plain": [
       "DataFrame[Date: string, Hour: string, Predict_val: double]"
      ]
     },
     "metadata": {},
     "output_type": "display_data"
    },
    {
     "name": "stdout",
     "output_type": "stream",
     "text": [
      "+--------+----+-----------+\n",
      "|    Date|Hour|Predict_val|\n",
      "+--------+----+-----------+\n",
      "|20210304|  14|     7.1103|\n",
      "+--------+----+-----------+\n",
      "\n",
      "None\n",
      "+--------+----+-----------+--------------------+\n",
      "|    Date|Hour|Predict_val|               value|\n",
      "+--------+----+-----------+--------------------+\n",
      "|20210304|  14|     7.1103|[20210304, 14, 7....|\n",
      "+--------+----+-----------+--------------------+\n",
      "\n",
      "None\n",
      "origin Data\n",
      "                                                  df\n",
      "8  (0.0, 7.5469, 생활정수, 0.0, 고양정수장, None, 4128512319)\n",
      "Prediction: 7.1103 Ph\n",
      "Generate New Prediction...\n"
     ]
    },
    {
     "data": {
      "text/plain": [
       "DataFrame[Date: string, Hour: string, Predict_val: double]"
      ]
     },
     "metadata": {},
     "output_type": "display_data"
    },
    {
     "name": "stdout",
     "output_type": "stream",
     "text": [
      "+--------+----+-----------+\n",
      "|    Date|Hour|Predict_val|\n",
      "+--------+----+-----------+\n",
      "|20210304|  14|     7.1103|\n",
      "+--------+----+-----------+\n",
      "\n",
      "None\n",
      "+--------+----+-----------+--------------------+\n",
      "|    Date|Hour|Predict_val|               value|\n",
      "+--------+----+-----------+--------------------+\n",
      "|20210304|  14|     7.1103|[20210304, 14, 7....|\n",
      "+--------+----+-----------+--------------------+\n",
      "\n",
      "None\n",
      "origin Data\n",
      "                                                  df\n",
      "8  (0.0, 7.5469, 생활정수, 0.0, 고양정수장, None, 4128512319)\n",
      "Prediction: 7.1103 Ph\n",
      "Generate New Prediction...\n"
     ]
    },
    {
     "data": {
      "text/plain": [
       "DataFrame[Date: string, Hour: string, Predict_val: double]"
      ]
     },
     "metadata": {},
     "output_type": "display_data"
    },
    {
     "name": "stdout",
     "output_type": "stream",
     "text": [
      "+--------+----+-----------+\n",
      "|    Date|Hour|Predict_val|\n",
      "+--------+----+-----------+\n",
      "|20210304|  14|     7.1103|\n",
      "+--------+----+-----------+\n",
      "\n",
      "None\n",
      "+--------+----+-----------+--------------------+\n",
      "|    Date|Hour|Predict_val|               value|\n",
      "+--------+----+-----------+--------------------+\n",
      "|20210304|  14|     7.1103|[20210304, 14, 7....|\n",
      "+--------+----+-----------+--------------------+\n",
      "\n",
      "None\n",
      "origin Data\n",
      "                                                  df\n",
      "8  (0.0, 7.5469, 생활정수, 0.0, 고양정수장, None, 4128512319)\n",
      "Prediction: 7.1103 Ph\n",
      "Generate New Prediction...\n"
     ]
    },
    {
     "data": {
      "text/plain": [
       "DataFrame[Date: string, Hour: string, Predict_val: double]"
      ]
     },
     "metadata": {},
     "output_type": "display_data"
    },
    {
     "name": "stdout",
     "output_type": "stream",
     "text": [
      "+--------+----+-----------+\n",
      "|    Date|Hour|Predict_val|\n",
      "+--------+----+-----------+\n",
      "|20210304|  14|     7.1103|\n",
      "+--------+----+-----------+\n",
      "\n",
      "None\n",
      "+--------+----+-----------+--------------------+\n",
      "|    Date|Hour|Predict_val|               value|\n",
      "+--------+----+-----------+--------------------+\n",
      "|20210304|  14|     7.1103|[20210304, 14, 7....|\n",
      "+--------+----+-----------+--------------------+\n",
      "\n",
      "None\n",
      "origin Data\n",
      "                                                  df\n",
      "8  (0.0, 7.5469, 생활정수, 0.0, 고양정수장, None, 4128512319)\n",
      "Prediction: 7.1103 Ph\n",
      "Generate New Prediction...\n"
     ]
    },
    {
     "data": {
      "text/plain": [
       "DataFrame[Date: string, Hour: string, Predict_val: double]"
      ]
     },
     "metadata": {},
     "output_type": "display_data"
    },
    {
     "name": "stdout",
     "output_type": "stream",
     "text": [
      "+--------+----+-----------+\n",
      "|    Date|Hour|Predict_val|\n",
      "+--------+----+-----------+\n",
      "|20210304|  14|     7.1103|\n",
      "+--------+----+-----------+\n",
      "\n",
      "None\n",
      "+--------+----+-----------+--------------------+\n",
      "|    Date|Hour|Predict_val|               value|\n",
      "+--------+----+-----------+--------------------+\n",
      "|20210304|  14|     7.1103|[20210304, 14, 7....|\n",
      "+--------+----+-----------+--------------------+\n",
      "\n",
      "None\n",
      "origin Data\n",
      "                                                  df\n",
      "8  (0.0, 7.5469, 생활정수, 0.0, 고양정수장, None, 4128512319)\n",
      "Prediction: 7.1103 Ph\n",
      "Generate New Prediction...\n"
     ]
    },
    {
     "data": {
      "text/plain": [
       "DataFrame[Date: string, Hour: string, Predict_val: double]"
      ]
     },
     "metadata": {},
     "output_type": "display_data"
    },
    {
     "name": "stdout",
     "output_type": "stream",
     "text": [
      "+--------+----+-----------+\n",
      "|    Date|Hour|Predict_val|\n",
      "+--------+----+-----------+\n",
      "|20210304|  14|     7.1103|\n",
      "+--------+----+-----------+\n",
      "\n",
      "None\n",
      "+--------+----+-----------+--------------------+\n",
      "|    Date|Hour|Predict_val|               value|\n",
      "+--------+----+-----------+--------------------+\n",
      "|20210304|  14|     7.1103|[20210304, 14, 7....|\n",
      "+--------+----+-----------+--------------------+\n",
      "\n",
      "None\n",
      "origin Data\n",
      "                                                  df\n",
      "8  (0.0, 7.5469, 생활정수, 0.0, 고양정수장, None, 4128512319)\n",
      "Prediction: 7.1103 Ph\n",
      "Generate New Prediction...\n"
     ]
    },
    {
     "data": {
      "text/plain": [
       "DataFrame[Date: string, Hour: string, Predict_val: double]"
      ]
     },
     "metadata": {},
     "output_type": "display_data"
    },
    {
     "name": "stdout",
     "output_type": "stream",
     "text": [
      "+--------+----+-----------+\n",
      "|    Date|Hour|Predict_val|\n",
      "+--------+----+-----------+\n",
      "|20210304|  14|     7.1103|\n",
      "+--------+----+-----------+\n",
      "\n",
      "None\n",
      "+--------+----+-----------+--------------------+\n",
      "|    Date|Hour|Predict_val|               value|\n",
      "+--------+----+-----------+--------------------+\n",
      "|20210304|  14|     7.1103|[20210304, 14, 7....|\n",
      "+--------+----+-----------+--------------------+\n",
      "\n",
      "None\n",
      "origin Data\n",
      "                                                  df\n",
      "8  (0.0, 7.5469, 생활정수, 0.0, 고양정수장, None, 4128512319)\n",
      "Prediction: 7.1103 Ph\n",
      "Generate New Prediction...\n"
     ]
    },
    {
     "data": {
      "text/plain": [
       "DataFrame[Date: string, Hour: string, Predict_val: double]"
      ]
     },
     "metadata": {},
     "output_type": "display_data"
    },
    {
     "name": "stdout",
     "output_type": "stream",
     "text": [
      "+--------+----+-----------+\n",
      "|    Date|Hour|Predict_val|\n",
      "+--------+----+-----------+\n",
      "|20210304|  14|     7.1103|\n",
      "+--------+----+-----------+\n",
      "\n",
      "None\n",
      "+--------+----+-----------+--------------------+\n",
      "|    Date|Hour|Predict_val|               value|\n",
      "+--------+----+-----------+--------------------+\n",
      "|20210304|  14|     7.1103|[20210304, 14, 7....|\n",
      "+--------+----+-----------+--------------------+\n",
      "\n",
      "None\n",
      "origin Data\n",
      "                                                  df\n",
      "8  (0.0, 7.5469, 생활정수, 0.0, 고양정수장, None, 4128512319)\n",
      "Prediction: 7.1103 Ph\n",
      "Generate New Prediction...\n"
     ]
    },
    {
     "data": {
      "text/plain": [
       "DataFrame[Date: string, Hour: string, Predict_val: double]"
      ]
     },
     "metadata": {},
     "output_type": "display_data"
    },
    {
     "name": "stdout",
     "output_type": "stream",
     "text": [
      "+--------+----+-----------+\n",
      "|    Date|Hour|Predict_val|\n",
      "+--------+----+-----------+\n",
      "|20210304|  14|     7.1103|\n",
      "+--------+----+-----------+\n",
      "\n",
      "None\n",
      "+--------+----+-----------+--------------------+\n",
      "|    Date|Hour|Predict_val|               value|\n",
      "+--------+----+-----------+--------------------+\n",
      "|20210304|  14|     7.1103|[20210304, 14, 7....|\n",
      "+--------+----+-----------+--------------------+\n",
      "\n",
      "None\n",
      "origin Data\n",
      "                                                  df\n",
      "8  (0.0, 7.5469, 생활정수, 0.0, 고양정수장, None, 4128512319)\n",
      "Prediction: 7.1103 Ph\n",
      "Generate New Prediction...\n"
     ]
    },
    {
     "data": {
      "text/plain": [
       "DataFrame[Date: string, Hour: string, Predict_val: double]"
      ]
     },
     "metadata": {},
     "output_type": "display_data"
    },
    {
     "name": "stdout",
     "output_type": "stream",
     "text": [
      "+--------+----+-----------+\n",
      "|    Date|Hour|Predict_val|\n",
      "+--------+----+-----------+\n",
      "|20210304|  14|     7.1103|\n",
      "+--------+----+-----------+\n",
      "\n",
      "None\n",
      "+--------+----+-----------+--------------------+\n",
      "|    Date|Hour|Predict_val|               value|\n",
      "+--------+----+-----------+--------------------+\n",
      "|20210304|  14|     7.1103|[20210304, 14, 7....|\n",
      "+--------+----+-----------+--------------------+\n",
      "\n",
      "None\n",
      "origin Data\n",
      "                                                  df\n",
      "8  (0.0, 7.5469, 생활정수, 0.0, 고양정수장, None, 4128512319)\n",
      "Prediction: 7.1103 Ph\n",
      "Generate New Prediction...\n"
     ]
    },
    {
     "data": {
      "text/plain": [
       "DataFrame[Date: string, Hour: string, Predict_val: double]"
      ]
     },
     "metadata": {},
     "output_type": "display_data"
    },
    {
     "name": "stdout",
     "output_type": "stream",
     "text": [
      "+--------+----+-----------+\n",
      "|    Date|Hour|Predict_val|\n",
      "+--------+----+-----------+\n",
      "|20210304|  14|     7.1103|\n",
      "+--------+----+-----------+\n",
      "\n",
      "None\n",
      "+--------+----+-----------+--------------------+\n",
      "|    Date|Hour|Predict_val|               value|\n",
      "+--------+----+-----------+--------------------+\n",
      "|20210304|  14|     7.1103|[20210304, 14, 7....|\n",
      "+--------+----+-----------+--------------------+\n",
      "\n",
      "None\n",
      "origin Data\n",
      "                                                  df\n",
      "8  (0.0, 7.5469, 생활정수, 0.0, 고양정수장, None, 4128512319)\n",
      "Prediction: 7.1103 Ph\n",
      "Generate New Prediction...\n"
     ]
    },
    {
     "data": {
      "text/plain": [
       "DataFrame[Date: string, Hour: string, Predict_val: double]"
      ]
     },
     "metadata": {},
     "output_type": "display_data"
    },
    {
     "name": "stdout",
     "output_type": "stream",
     "text": [
      "+--------+----+-----------+\n",
      "|    Date|Hour|Predict_val|\n",
      "+--------+----+-----------+\n",
      "|20210304|  14|     7.1103|\n",
      "+--------+----+-----------+\n",
      "\n",
      "None\n",
      "+--------+----+-----------+--------------------+\n",
      "|    Date|Hour|Predict_val|               value|\n",
      "+--------+----+-----------+--------------------+\n",
      "|20210304|  14|     7.1103|[20210304, 14, 7....|\n",
      "+--------+----+-----------+--------------------+\n",
      "\n",
      "None\n",
      "origin Data\n",
      "                                                  df\n",
      "8  (0.0, 7.5469, 생활정수, 0.0, 고양정수장, None, 4128512319)\n",
      "Prediction: 7.1103 Ph\n",
      "Generate New Prediction...\n"
     ]
    },
    {
     "data": {
      "text/plain": [
       "DataFrame[Date: string, Hour: string, Predict_val: double]"
      ]
     },
     "metadata": {},
     "output_type": "display_data"
    },
    {
     "name": "stdout",
     "output_type": "stream",
     "text": [
      "+--------+----+-----------+\n",
      "|    Date|Hour|Predict_val|\n",
      "+--------+----+-----------+\n",
      "|20210304|  14|     7.1103|\n",
      "+--------+----+-----------+\n",
      "\n",
      "None\n",
      "+--------+----+-----------+--------------------+\n",
      "|    Date|Hour|Predict_val|               value|\n",
      "+--------+----+-----------+--------------------+\n",
      "|20210304|  14|     7.1103|[20210304, 14, 7....|\n",
      "+--------+----+-----------+--------------------+\n",
      "\n",
      "None\n",
      "origin Data\n",
      "                                                  df\n",
      "8  (0.0, 7.5469, 생활정수, 0.0, 고양정수장, None, 4128512319)\n",
      "Prediction: 7.1103 Ph\n",
      "Generate New Prediction...\n"
     ]
    },
    {
     "data": {
      "text/plain": [
       "DataFrame[Date: string, Hour: string, Predict_val: double]"
      ]
     },
     "metadata": {},
     "output_type": "display_data"
    },
    {
     "name": "stdout",
     "output_type": "stream",
     "text": [
      "+--------+----+-----------+\n",
      "|    Date|Hour|Predict_val|\n",
      "+--------+----+-----------+\n",
      "|20210304|  14|     7.1103|\n",
      "+--------+----+-----------+\n",
      "\n",
      "None\n",
      "+--------+----+-----------+--------------------+\n",
      "|    Date|Hour|Predict_val|               value|\n",
      "+--------+----+-----------+--------------------+\n",
      "|20210304|  14|     7.1103|[20210304, 14, 7....|\n",
      "+--------+----+-----------+--------------------+\n",
      "\n",
      "None\n",
      "origin Data\n",
      "                                                  df\n",
      "8  (0.0, 7.5469, 생활정수, 0.0, 고양정수장, None, 4128512319)\n",
      "Prediction: 7.1103 Ph\n",
      "Generate New Prediction...\n"
     ]
    },
    {
     "data": {
      "text/plain": [
       "DataFrame[Date: string, Hour: string, Predict_val: double]"
      ]
     },
     "metadata": {},
     "output_type": "display_data"
    },
    {
     "name": "stdout",
     "output_type": "stream",
     "text": [
      "+--------+----+-----------+\n",
      "|    Date|Hour|Predict_val|\n",
      "+--------+----+-----------+\n",
      "|20210304|  14|     7.1103|\n",
      "+--------+----+-----------+\n",
      "\n",
      "None\n",
      "+--------+----+-----------+--------------------+\n",
      "|    Date|Hour|Predict_val|               value|\n",
      "+--------+----+-----------+--------------------+\n",
      "|20210304|  14|     7.1103|[20210304, 14, 7....|\n",
      "+--------+----+-----------+--------------------+\n",
      "\n",
      "None\n",
      "origin Data\n",
      "                                                  df\n",
      "8  (0.0, 7.5469, 생활정수, 0.0, 고양정수장, None, 4128512319)\n",
      "Prediction: 7.1103 Ph\n",
      "Generate New Prediction...\n"
     ]
    },
    {
     "data": {
      "text/plain": [
       "DataFrame[Date: string, Hour: string, Predict_val: double]"
      ]
     },
     "metadata": {},
     "output_type": "display_data"
    },
    {
     "name": "stdout",
     "output_type": "stream",
     "text": [
      "+--------+----+-----------+\n",
      "|    Date|Hour|Predict_val|\n",
      "+--------+----+-----------+\n",
      "|20210304|  14|     7.1103|\n",
      "+--------+----+-----------+\n",
      "\n",
      "None\n",
      "+--------+----+-----------+--------------------+\n",
      "|    Date|Hour|Predict_val|               value|\n",
      "+--------+----+-----------+--------------------+\n",
      "|20210304|  14|     7.1103|[20210304, 14, 7....|\n",
      "+--------+----+-----------+--------------------+\n",
      "\n",
      "None\n",
      "origin Data\n",
      "                                                  df\n",
      "8  (0.0, 7.5469, 생활정수, 0.0, 고양정수장, None, 4128512319)\n",
      "Prediction: 7.1103 Ph\n",
      "Generate New Prediction...\n"
     ]
    },
    {
     "data": {
      "text/plain": [
       "DataFrame[Date: string, Hour: string, Predict_val: double]"
      ]
     },
     "metadata": {},
     "output_type": "display_data"
    },
    {
     "name": "stdout",
     "output_type": "stream",
     "text": [
      "+--------+----+-----------+\n",
      "|    Date|Hour|Predict_val|\n",
      "+--------+----+-----------+\n",
      "|20210304|  14|     7.1103|\n",
      "+--------+----+-----------+\n",
      "\n",
      "None\n",
      "+--------+----+-----------+--------------------+\n",
      "|    Date|Hour|Predict_val|               value|\n",
      "+--------+----+-----------+--------------------+\n",
      "|20210304|  14|     7.1103|[20210304, 14, 7....|\n",
      "+--------+----+-----------+--------------------+\n",
      "\n",
      "None\n",
      "origin Data\n",
      "                                                  df\n",
      "8  (0.0, 7.5469, 생활정수, 0.0, 고양정수장, None, 4128512319)\n",
      "Prediction: 7.1103 Ph\n",
      "Generate New Prediction...\n"
     ]
    },
    {
     "data": {
      "text/plain": [
       "DataFrame[Date: string, Hour: string, Predict_val: double]"
      ]
     },
     "metadata": {},
     "output_type": "display_data"
    },
    {
     "name": "stdout",
     "output_type": "stream",
     "text": [
      "+--------+----+-----------+\n",
      "|    Date|Hour|Predict_val|\n",
      "+--------+----+-----------+\n",
      "|20210304|  14|     7.1103|\n",
      "+--------+----+-----------+\n",
      "\n",
      "None\n",
      "+--------+----+-----------+--------------------+\n",
      "|    Date|Hour|Predict_val|               value|\n",
      "+--------+----+-----------+--------------------+\n",
      "|20210304|  14|     7.1103|[20210304, 14, 7....|\n",
      "+--------+----+-----------+--------------------+\n",
      "\n",
      "None\n",
      "origin Data\n",
      "                                                  df\n",
      "8  (0.0, 7.5469, 생활정수, 0.0, 고양정수장, None, 4128512319)\n",
      "Prediction: 7.1103 Ph\n",
      "Generate New Prediction...\n"
     ]
    },
    {
     "data": {
      "text/plain": [
       "DataFrame[Date: string, Hour: string, Predict_val: double]"
      ]
     },
     "metadata": {},
     "output_type": "display_data"
    },
    {
     "name": "stdout",
     "output_type": "stream",
     "text": [
      "+--------+----+-----------+\n",
      "|    Date|Hour|Predict_val|\n",
      "+--------+----+-----------+\n",
      "|20210304|  14|     7.1103|\n",
      "+--------+----+-----------+\n",
      "\n",
      "None\n",
      "+--------+----+-----------+--------------------+\n",
      "|    Date|Hour|Predict_val|               value|\n",
      "+--------+----+-----------+--------------------+\n",
      "|20210304|  14|     7.1103|[20210304, 14, 7....|\n",
      "+--------+----+-----------+--------------------+\n",
      "\n",
      "None\n",
      "origin Data\n",
      "                                                  df\n",
      "8  (0.0, 7.5469, 생활정수, 0.0, 고양정수장, None, 4128512319)\n",
      "Prediction: 7.1103 Ph\n",
      "Generate New Prediction...\n"
     ]
    },
    {
     "data": {
      "text/plain": [
       "DataFrame[Date: string, Hour: string, Predict_val: double]"
      ]
     },
     "metadata": {},
     "output_type": "display_data"
    },
    {
     "name": "stdout",
     "output_type": "stream",
     "text": [
      "+--------+----+-----------+\n",
      "|    Date|Hour|Predict_val|\n",
      "+--------+----+-----------+\n",
      "|20210304|  14|     7.1103|\n",
      "+--------+----+-----------+\n",
      "\n",
      "None\n",
      "+--------+----+-----------+--------------------+\n",
      "|    Date|Hour|Predict_val|               value|\n",
      "+--------+----+-----------+--------------------+\n",
      "|20210304|  14|     7.1103|[20210304, 14, 7....|\n",
      "+--------+----+-----------+--------------------+\n",
      "\n",
      "None\n",
      "origin Data\n",
      "                                                  df\n",
      "8  (0.0, 7.5469, 생활정수, 0.0, 고양정수장, None, 4128512319)\n",
      "Prediction: 7.1103 Ph\n",
      "Generate New Prediction...\n"
     ]
    },
    {
     "data": {
      "text/plain": [
       "DataFrame[Date: string, Hour: string, Predict_val: double]"
      ]
     },
     "metadata": {},
     "output_type": "display_data"
    },
    {
     "name": "stdout",
     "output_type": "stream",
     "text": [
      "+--------+----+-----------+\n",
      "|    Date|Hour|Predict_val|\n",
      "+--------+----+-----------+\n",
      "|20210304|  14|     7.1103|\n",
      "+--------+----+-----------+\n",
      "\n",
      "None\n",
      "+--------+----+-----------+--------------------+\n",
      "|    Date|Hour|Predict_val|               value|\n",
      "+--------+----+-----------+--------------------+\n",
      "|20210304|  14|     7.1103|[20210304, 14, 7....|\n",
      "+--------+----+-----------+--------------------+\n",
      "\n",
      "None\n",
      "origin Data\n",
      "                                                  df\n",
      "8  (0.0, 7.5469, 생활정수, 0.0, 고양정수장, None, 4128512319)\n",
      "Prediction: 7.1103 Ph\n",
      "Generate New Prediction...\n"
     ]
    },
    {
     "data": {
      "text/plain": [
       "DataFrame[Date: string, Hour: string, Predict_val: double]"
      ]
     },
     "metadata": {},
     "output_type": "display_data"
    },
    {
     "name": "stdout",
     "output_type": "stream",
     "text": [
      "+--------+----+-----------+\n",
      "|    Date|Hour|Predict_val|\n",
      "+--------+----+-----------+\n",
      "|20210304|  14|     7.1103|\n",
      "+--------+----+-----------+\n",
      "\n",
      "None\n",
      "+--------+----+-----------+--------------------+\n",
      "|    Date|Hour|Predict_val|               value|\n",
      "+--------+----+-----------+--------------------+\n",
      "|20210304|  14|     7.1103|[20210304, 14, 7....|\n",
      "+--------+----+-----------+--------------------+\n",
      "\n",
      "None\n",
      "origin Data\n",
      "                                                  df\n",
      "8  (0.0, 7.5469, 생활정수, 0.0, 고양정수장, None, 4128512319)\n",
      "Prediction: 7.1103 Ph\n",
      "Generate New Prediction...\n"
     ]
    },
    {
     "data": {
      "text/plain": [
       "DataFrame[Date: string, Hour: string, Predict_val: double]"
      ]
     },
     "metadata": {},
     "output_type": "display_data"
    },
    {
     "name": "stdout",
     "output_type": "stream",
     "text": [
      "+--------+----+-----------+\n",
      "|    Date|Hour|Predict_val|\n",
      "+--------+----+-----------+\n",
      "|20210304|  14|     7.1103|\n",
      "+--------+----+-----------+\n",
      "\n",
      "None\n",
      "+--------+----+-----------+--------------------+\n",
      "|    Date|Hour|Predict_val|               value|\n",
      "+--------+----+-----------+--------------------+\n",
      "|20210304|  14|     7.1103|[20210304, 14, 7....|\n",
      "+--------+----+-----------+--------------------+\n",
      "\n",
      "None\n",
      "origin Data\n",
      "                                                  df\n",
      "8  (0.0, 7.5469, 생활정수, 0.0, 고양정수장, None, 4128512319)\n",
      "Prediction: 7.1103 Ph\n",
      "Generate New Prediction...\n"
     ]
    },
    {
     "data": {
      "text/plain": [
       "DataFrame[Date: string, Hour: string, Predict_val: double]"
      ]
     },
     "metadata": {},
     "output_type": "display_data"
    },
    {
     "name": "stdout",
     "output_type": "stream",
     "text": [
      "+--------+----+-----------+\n",
      "|    Date|Hour|Predict_val|\n",
      "+--------+----+-----------+\n",
      "|20210304|  14|     7.1103|\n",
      "+--------+----+-----------+\n",
      "\n",
      "None\n",
      "+--------+----+-----------+--------------------+\n",
      "|    Date|Hour|Predict_val|               value|\n",
      "+--------+----+-----------+--------------------+\n",
      "|20210304|  14|     7.1103|[20210304, 14, 7....|\n",
      "+--------+----+-----------+--------------------+\n",
      "\n",
      "None\n",
      "origin Data\n",
      "                                                  df\n",
      "8  (0.0, 7.5469, 생활정수, 0.0, 고양정수장, None, 4128512319)\n",
      "Prediction: 7.1103 Ph\n",
      "Generate New Prediction...\n"
     ]
    },
    {
     "data": {
      "text/plain": [
       "DataFrame[Date: string, Hour: string, Predict_val: double]"
      ]
     },
     "metadata": {},
     "output_type": "display_data"
    },
    {
     "name": "stdout",
     "output_type": "stream",
     "text": [
      "+--------+----+-----------+\n",
      "|    Date|Hour|Predict_val|\n",
      "+--------+----+-----------+\n",
      "|20210304|  14|     7.1103|\n",
      "+--------+----+-----------+\n",
      "\n",
      "None\n",
      "+--------+----+-----------+--------------------+\n",
      "|    Date|Hour|Predict_val|               value|\n",
      "+--------+----+-----------+--------------------+\n",
      "|20210304|  14|     7.1103|[20210304, 14, 7....|\n",
      "+--------+----+-----------+--------------------+\n",
      "\n",
      "None\n",
      "origin Data\n",
      "                                                  df\n",
      "8  (0.0, 7.5469, 생활정수, 0.0, 고양정수장, None, 4128512319)\n",
      "Prediction: 7.1103 Ph\n",
      "Generate New Prediction...\n"
     ]
    },
    {
     "data": {
      "text/plain": [
       "DataFrame[Date: string, Hour: string, Predict_val: double]"
      ]
     },
     "metadata": {},
     "output_type": "display_data"
    },
    {
     "name": "stdout",
     "output_type": "stream",
     "text": [
      "+--------+----+-----------+\n",
      "|    Date|Hour|Predict_val|\n",
      "+--------+----+-----------+\n",
      "|20210304|  14|     7.1103|\n",
      "+--------+----+-----------+\n",
      "\n",
      "None\n",
      "+--------+----+-----------+--------------------+\n",
      "|    Date|Hour|Predict_val|               value|\n",
      "+--------+----+-----------+--------------------+\n",
      "|20210304|  14|     7.1103|[20210304, 14, 7....|\n",
      "+--------+----+-----------+--------------------+\n",
      "\n",
      "None\n",
      "origin Data\n",
      "                                                  df\n",
      "8  (0.0, 7.5469, 생활정수, 0.0, 고양정수장, None, 4128512319)\n",
      "Prediction: 7.1103 Ph\n",
      "Generate New Prediction...\n"
     ]
    },
    {
     "data": {
      "text/plain": [
       "DataFrame[Date: string, Hour: string, Predict_val: double]"
      ]
     },
     "metadata": {},
     "output_type": "display_data"
    },
    {
     "name": "stdout",
     "output_type": "stream",
     "text": [
      "+--------+----+-----------+\n",
      "|    Date|Hour|Predict_val|\n",
      "+--------+----+-----------+\n",
      "|20210304|  14|     7.1103|\n",
      "+--------+----+-----------+\n",
      "\n",
      "None\n",
      "+--------+----+-----------+--------------------+\n",
      "|    Date|Hour|Predict_val|               value|\n",
      "+--------+----+-----------+--------------------+\n",
      "|20210304|  14|     7.1103|[20210304, 14, 7....|\n",
      "+--------+----+-----------+--------------------+\n",
      "\n",
      "None\n",
      "origin Data\n",
      "                                                  df\n",
      "8  (0.0, 7.5469, 생활정수, 0.0, 고양정수장, None, 4128512319)\n",
      "Prediction: 7.1103 Ph\n",
      "Generate New Prediction...\n"
     ]
    },
    {
     "data": {
      "text/plain": [
       "DataFrame[Date: string, Hour: string, Predict_val: double]"
      ]
     },
     "metadata": {},
     "output_type": "display_data"
    },
    {
     "name": "stdout",
     "output_type": "stream",
     "text": [
      "+--------+----+-----------+\n",
      "|    Date|Hour|Predict_val|\n",
      "+--------+----+-----------+\n",
      "|20210304|  14|     7.1103|\n",
      "+--------+----+-----------+\n",
      "\n",
      "None\n",
      "+--------+----+-----------+--------------------+\n",
      "|    Date|Hour|Predict_val|               value|\n",
      "+--------+----+-----------+--------------------+\n",
      "|20210304|  14|     7.1103|[20210304, 14, 7....|\n",
      "+--------+----+-----------+--------------------+\n",
      "\n",
      "None\n",
      "origin Data\n",
      "                                                  df\n",
      "8  (0.0, 7.5469, 생활정수, 0.0, 고양정수장, None, 4128512319)\n",
      "Prediction: 7.1103 Ph\n",
      "Generate New Prediction...\n"
     ]
    },
    {
     "data": {
      "text/plain": [
       "DataFrame[Date: string, Hour: string, Predict_val: double]"
      ]
     },
     "metadata": {},
     "output_type": "display_data"
    },
    {
     "name": "stdout",
     "output_type": "stream",
     "text": [
      "+--------+----+-----------+\n",
      "|    Date|Hour|Predict_val|\n",
      "+--------+----+-----------+\n",
      "|20210304|  14|     7.1103|\n",
      "+--------+----+-----------+\n",
      "\n",
      "None\n",
      "+--------+----+-----------+--------------------+\n",
      "|    Date|Hour|Predict_val|               value|\n",
      "+--------+----+-----------+--------------------+\n",
      "|20210304|  14|     7.1103|[20210304, 14, 7....|\n",
      "+--------+----+-----------+--------------------+\n",
      "\n",
      "None\n",
      "origin Data\n",
      "                                                  df\n",
      "8  (0.0, 7.5469, 생활정수, 0.0, 고양정수장, None, 4128512319)\n",
      "Prediction: 7.1103 Ph\n",
      "Generate New Prediction...\n"
     ]
    },
    {
     "data": {
      "text/plain": [
       "DataFrame[Date: string, Hour: string, Predict_val: double]"
      ]
     },
     "metadata": {},
     "output_type": "display_data"
    },
    {
     "name": "stdout",
     "output_type": "stream",
     "text": [
      "+--------+----+-----------+\n",
      "|    Date|Hour|Predict_val|\n",
      "+--------+----+-----------+\n",
      "|20210304|  14|     7.1103|\n",
      "+--------+----+-----------+\n",
      "\n",
      "None\n",
      "+--------+----+-----------+--------------------+\n",
      "|    Date|Hour|Predict_val|               value|\n",
      "+--------+----+-----------+--------------------+\n",
      "|20210304|  14|     7.1103|[20210304, 14, 7....|\n",
      "+--------+----+-----------+--------------------+\n",
      "\n",
      "None\n",
      "origin Data\n",
      "                                                  df\n",
      "8  (0.0, 7.5469, 생활정수, 0.0, 고양정수장, None, 4128512319)\n",
      "Prediction: 7.1103 Ph\n",
      "Generate New Prediction...\n"
     ]
    },
    {
     "data": {
      "text/plain": [
       "DataFrame[Date: string, Hour: string, Predict_val: double]"
      ]
     },
     "metadata": {},
     "output_type": "display_data"
    },
    {
     "name": "stdout",
     "output_type": "stream",
     "text": [
      "+--------+----+-----------+\n",
      "|    Date|Hour|Predict_val|\n",
      "+--------+----+-----------+\n",
      "|20210304|  14|     7.1103|\n",
      "+--------+----+-----------+\n",
      "\n",
      "None\n",
      "+--------+----+-----------+--------------------+\n",
      "|    Date|Hour|Predict_val|               value|\n",
      "+--------+----+-----------+--------------------+\n",
      "|20210304|  14|     7.1103|[20210304, 14, 7....|\n",
      "+--------+----+-----------+--------------------+\n",
      "\n",
      "None\n",
      "origin Data\n",
      "                                                  df\n",
      "8  (0.0, 7.5469, 생활정수, 0.0, 고양정수장, None, 4128512319)\n",
      "Prediction: 7.1103 Ph\n",
      "Generate New Prediction...\n"
     ]
    },
    {
     "data": {
      "text/plain": [
       "DataFrame[Date: string, Hour: string, Predict_val: double]"
      ]
     },
     "metadata": {},
     "output_type": "display_data"
    },
    {
     "name": "stdout",
     "output_type": "stream",
     "text": [
      "+--------+----+-----------+\n",
      "|    Date|Hour|Predict_val|\n",
      "+--------+----+-----------+\n",
      "|20210304|  14|     7.1103|\n",
      "+--------+----+-----------+\n",
      "\n",
      "None\n",
      "+--------+----+-----------+--------------------+\n",
      "|    Date|Hour|Predict_val|               value|\n",
      "+--------+----+-----------+--------------------+\n",
      "|20210304|  14|     7.1103|[20210304, 14, 7....|\n",
      "+--------+----+-----------+--------------------+\n",
      "\n",
      "None\n",
      "origin Data\n",
      "                                                  df\n",
      "8  (0.0, 7.5469, 생활정수, 0.0, 고양정수장, None, 4128512319)\n",
      "Prediction: 7.1103 Ph\n",
      "Generate New Prediction...\n"
     ]
    },
    {
     "data": {
      "text/plain": [
       "DataFrame[Date: string, Hour: string, Predict_val: double]"
      ]
     },
     "metadata": {},
     "output_type": "display_data"
    },
    {
     "name": "stdout",
     "output_type": "stream",
     "text": [
      "+--------+----+-----------+\n",
      "|    Date|Hour|Predict_val|\n",
      "+--------+----+-----------+\n",
      "|20210304|  14|     7.1103|\n",
      "+--------+----+-----------+\n",
      "\n",
      "None\n",
      "+--------+----+-----------+--------------------+\n",
      "|    Date|Hour|Predict_val|               value|\n",
      "+--------+----+-----------+--------------------+\n",
      "|20210304|  14|     7.1103|[20210304, 14, 7....|\n",
      "+--------+----+-----------+--------------------+\n",
      "\n",
      "None\n",
      "origin Data\n",
      "                                                  df\n",
      "8  (0.0, 7.5469, 생활정수, 0.0, 고양정수장, None, 4128512319)\n",
      "Prediction: 7.1103 Ph\n",
      "Generate New Prediction...\n"
     ]
    },
    {
     "data": {
      "text/plain": [
       "DataFrame[Date: string, Hour: string, Predict_val: double]"
      ]
     },
     "metadata": {},
     "output_type": "display_data"
    },
    {
     "name": "stdout",
     "output_type": "stream",
     "text": [
      "+--------+----+-----------+\n",
      "|    Date|Hour|Predict_val|\n",
      "+--------+----+-----------+\n",
      "|20210304|  14|     7.1103|\n",
      "+--------+----+-----------+\n",
      "\n",
      "None\n",
      "+--------+----+-----------+--------------------+\n",
      "|    Date|Hour|Predict_val|               value|\n",
      "+--------+----+-----------+--------------------+\n",
      "|20210304|  14|     7.1103|[20210304, 14, 7....|\n",
      "+--------+----+-----------+--------------------+\n",
      "\n",
      "None\n",
      "origin Data\n",
      "                                                  df\n",
      "8  (0.0, 7.5469, 생활정수, 0.0, 고양정수장, None, 4128512319)\n",
      "Prediction: 7.1103 Ph\n",
      "Generate New Prediction...\n"
     ]
    },
    {
     "data": {
      "text/plain": [
       "DataFrame[Date: string, Hour: string, Predict_val: double]"
      ]
     },
     "metadata": {},
     "output_type": "display_data"
    },
    {
     "name": "stdout",
     "output_type": "stream",
     "text": [
      "+--------+----+-----------+\n",
      "|    Date|Hour|Predict_val|\n",
      "+--------+----+-----------+\n",
      "|20210304|  14|     7.1103|\n",
      "+--------+----+-----------+\n",
      "\n",
      "None\n",
      "+--------+----+-----------+--------------------+\n",
      "|    Date|Hour|Predict_val|               value|\n",
      "+--------+----+-----------+--------------------+\n",
      "|20210304|  14|     7.1103|[20210304, 14, 7....|\n",
      "+--------+----+-----------+--------------------+\n",
      "\n",
      "None\n",
      "origin Data\n",
      "                                                  df\n",
      "8  (0.0, 7.5469, 생활정수, 0.0, 고양정수장, None, 4128512319)\n",
      "Prediction: 7.1103 Ph\n",
      "Generate New Prediction...\n"
     ]
    },
    {
     "data": {
      "text/plain": [
       "DataFrame[Date: string, Hour: string, Predict_val: double]"
      ]
     },
     "metadata": {},
     "output_type": "display_data"
    },
    {
     "name": "stdout",
     "output_type": "stream",
     "text": [
      "+--------+----+-----------+\n",
      "|    Date|Hour|Predict_val|\n",
      "+--------+----+-----------+\n",
      "|20210304|  14|     7.1103|\n",
      "+--------+----+-----------+\n",
      "\n",
      "None\n",
      "+--------+----+-----------+--------------------+\n",
      "|    Date|Hour|Predict_val|               value|\n",
      "+--------+----+-----------+--------------------+\n",
      "|20210304|  14|     7.1103|[20210304, 14, 7....|\n",
      "+--------+----+-----------+--------------------+\n",
      "\n",
      "None\n",
      "origin Data\n",
      "                                                  df\n",
      "8  (0.0, 7.5469, 생활정수, 0.0, 고양정수장, None, 4128512319)\n",
      "Prediction: 7.1103 Ph\n",
      "Generate New Prediction...\n"
     ]
    },
    {
     "data": {
      "text/plain": [
       "DataFrame[Date: string, Hour: string, Predict_val: double]"
      ]
     },
     "metadata": {},
     "output_type": "display_data"
    },
    {
     "name": "stdout",
     "output_type": "stream",
     "text": [
      "+--------+----+-----------+\n",
      "|    Date|Hour|Predict_val|\n",
      "+--------+----+-----------+\n",
      "|20210304|  14|     7.1103|\n",
      "+--------+----+-----------+\n",
      "\n",
      "None\n",
      "+--------+----+-----------+--------------------+\n",
      "|    Date|Hour|Predict_val|               value|\n",
      "+--------+----+-----------+--------------------+\n",
      "|20210304|  14|     7.1103|[20210304, 14, 7....|\n",
      "+--------+----+-----------+--------------------+\n",
      "\n",
      "None\n",
      "origin Data\n",
      "                                                  df\n",
      "8  (0.0, 7.5469, 생활정수, 0.0, 고양정수장, None, 4128512319)\n",
      "Prediction: 7.1103 Ph\n",
      "Generate New Prediction...\n"
     ]
    },
    {
     "data": {
      "text/plain": [
       "DataFrame[Date: string, Hour: string, Predict_val: double]"
      ]
     },
     "metadata": {},
     "output_type": "display_data"
    },
    {
     "name": "stdout",
     "output_type": "stream",
     "text": [
      "+--------+----+-----------+\n",
      "|    Date|Hour|Predict_val|\n",
      "+--------+----+-----------+\n",
      "|20210304|  14|     7.1103|\n",
      "+--------+----+-----------+\n",
      "\n",
      "None\n",
      "+--------+----+-----------+--------------------+\n",
      "|    Date|Hour|Predict_val|               value|\n",
      "+--------+----+-----------+--------------------+\n",
      "|20210304|  14|     7.1103|[20210304, 14, 7....|\n",
      "+--------+----+-----------+--------------------+\n",
      "\n",
      "None\n",
      "origin Data\n",
      "                                                  df\n",
      "8  (0.0, 7.5469, 생활정수, 0.0, 고양정수장, None, 4128512319)\n",
      "Prediction: 7.1103 Ph\n",
      "Generate New Prediction...\n"
     ]
    },
    {
     "data": {
      "text/plain": [
       "DataFrame[Date: string, Hour: string, Predict_val: double]"
      ]
     },
     "metadata": {},
     "output_type": "display_data"
    },
    {
     "name": "stdout",
     "output_type": "stream",
     "text": [
      "+--------+----+-----------+\n",
      "|    Date|Hour|Predict_val|\n",
      "+--------+----+-----------+\n",
      "|20210304|  14|     7.1103|\n",
      "+--------+----+-----------+\n",
      "\n",
      "None\n",
      "+--------+----+-----------+--------------------+\n",
      "|    Date|Hour|Predict_val|               value|\n",
      "+--------+----+-----------+--------------------+\n",
      "|20210304|  14|     7.1103|[20210304, 14, 7....|\n",
      "+--------+----+-----------+--------------------+\n",
      "\n",
      "None\n",
      "origin Data\n",
      "                                                  df\n",
      "8  (0.0, 7.5469, 생활정수, 0.0, 고양정수장, None, 4128512319)\n",
      "Prediction: 7.1103 Ph\n",
      "Generate New Prediction...\n"
     ]
    },
    {
     "data": {
      "text/plain": [
       "DataFrame[Date: string, Hour: string, Predict_val: double]"
      ]
     },
     "metadata": {},
     "output_type": "display_data"
    },
    {
     "name": "stdout",
     "output_type": "stream",
     "text": [
      "+--------+----+-----------+\n",
      "|    Date|Hour|Predict_val|\n",
      "+--------+----+-----------+\n",
      "|20210304|  14|     7.1103|\n",
      "+--------+----+-----------+\n",
      "\n",
      "None\n",
      "+--------+----+-----------+--------------------+\n",
      "|    Date|Hour|Predict_val|               value|\n",
      "+--------+----+-----------+--------------------+\n",
      "|20210304|  14|     7.1103|[20210304, 14, 7....|\n",
      "+--------+----+-----------+--------------------+\n",
      "\n",
      "None\n",
      "origin Data\n",
      "                                                  df\n",
      "8  (0.0, 7.5469, 생활정수, 0.0, 고양정수장, None, 4128512319)\n",
      "Prediction: 7.1103 Ph\n",
      "Generate New Prediction...\n"
     ]
    },
    {
     "data": {
      "text/plain": [
       "DataFrame[Date: string, Hour: string, Predict_val: double]"
      ]
     },
     "metadata": {},
     "output_type": "display_data"
    },
    {
     "name": "stdout",
     "output_type": "stream",
     "text": [
      "+--------+----+-----------+\n",
      "|    Date|Hour|Predict_val|\n",
      "+--------+----+-----------+\n",
      "|20210304|  14|     7.1103|\n",
      "+--------+----+-----------+\n",
      "\n",
      "None\n",
      "+--------+----+-----------+--------------------+\n",
      "|    Date|Hour|Predict_val|               value|\n",
      "+--------+----+-----------+--------------------+\n",
      "|20210304|  14|     7.1103|[20210304, 14, 7....|\n",
      "+--------+----+-----------+--------------------+\n",
      "\n",
      "None\n",
      "origin Data\n",
      "                                                  df\n",
      "8  (0.0, 7.5469, 생활정수, 0.0, 고양정수장, None, 4128512319)\n",
      "Prediction: 7.1103 Ph\n",
      "Generate New Prediction...\n"
     ]
    },
    {
     "data": {
      "text/plain": [
       "DataFrame[Date: string, Hour: string, Predict_val: double]"
      ]
     },
     "metadata": {},
     "output_type": "display_data"
    },
    {
     "name": "stdout",
     "output_type": "stream",
     "text": [
      "+--------+----+-----------+\n",
      "|    Date|Hour|Predict_val|\n",
      "+--------+----+-----------+\n",
      "|20210304|  14|     7.1103|\n",
      "+--------+----+-----------+\n",
      "\n",
      "None\n",
      "+--------+----+-----------+--------------------+\n",
      "|    Date|Hour|Predict_val|               value|\n",
      "+--------+----+-----------+--------------------+\n",
      "|20210304|  14|     7.1103|[20210304, 14, 7....|\n",
      "+--------+----+-----------+--------------------+\n",
      "\n",
      "None\n",
      "origin Data\n",
      "                                                  df\n",
      "8  (0.0, 7.5469, 생활정수, 0.0, 고양정수장, None, 4128512319)\n",
      "Prediction: 7.1103 Ph\n",
      "Generate New Prediction...\n"
     ]
    },
    {
     "data": {
      "text/plain": [
       "DataFrame[Date: string, Hour: string, Predict_val: double]"
      ]
     },
     "metadata": {},
     "output_type": "display_data"
    },
    {
     "name": "stdout",
     "output_type": "stream",
     "text": [
      "+--------+----+-----------+\n",
      "|    Date|Hour|Predict_val|\n",
      "+--------+----+-----------+\n",
      "|20210304|  14|     7.1103|\n",
      "+--------+----+-----------+\n",
      "\n",
      "None\n",
      "+--------+----+-----------+--------------------+\n",
      "|    Date|Hour|Predict_val|               value|\n",
      "+--------+----+-----------+--------------------+\n",
      "|20210304|  14|     7.1103|[20210304, 14, 7....|\n",
      "+--------+----+-----------+--------------------+\n",
      "\n",
      "None\n",
      "origin Data\n",
      "                                                  df\n",
      "8  (0.0, 7.5469, 생활정수, 0.0, 고양정수장, None, 4128512319)\n",
      "Prediction: 7.1103 Ph\n",
      "Generate New Prediction...\n"
     ]
    },
    {
     "data": {
      "text/plain": [
       "DataFrame[Date: string, Hour: string, Predict_val: double]"
      ]
     },
     "metadata": {},
     "output_type": "display_data"
    },
    {
     "name": "stdout",
     "output_type": "stream",
     "text": [
      "+--------+----+-----------+\n",
      "|    Date|Hour|Predict_val|\n",
      "+--------+----+-----------+\n",
      "|20210304|  14|     7.1103|\n",
      "+--------+----+-----------+\n",
      "\n",
      "None\n",
      "+--------+----+-----------+--------------------+\n",
      "|    Date|Hour|Predict_val|               value|\n",
      "+--------+----+-----------+--------------------+\n",
      "|20210304|  14|     7.1103|[20210304, 14, 7....|\n",
      "+--------+----+-----------+--------------------+\n",
      "\n",
      "None\n",
      "origin Data\n",
      "                                                  df\n",
      "8  (0.0, 7.5469, 생활정수, 0.0, 고양정수장, None, 4128512319)\n",
      "Prediction: 7.1103 Ph\n",
      "Generate New Prediction...\n"
     ]
    },
    {
     "data": {
      "text/plain": [
       "DataFrame[Date: string, Hour: string, Predict_val: double]"
      ]
     },
     "metadata": {},
     "output_type": "display_data"
    },
    {
     "name": "stdout",
     "output_type": "stream",
     "text": [
      "+--------+----+-----------+\n",
      "|    Date|Hour|Predict_val|\n",
      "+--------+----+-----------+\n",
      "|20210304|  14|     7.1103|\n",
      "+--------+----+-----------+\n",
      "\n",
      "None\n",
      "+--------+----+-----------+--------------------+\n",
      "|    Date|Hour|Predict_val|               value|\n",
      "+--------+----+-----------+--------------------+\n",
      "|20210304|  14|     7.1103|[20210304, 14, 7....|\n",
      "+--------+----+-----------+--------------------+\n",
      "\n",
      "None\n",
      "origin Data\n",
      "                                                  df\n",
      "8  (0.0, 7.5469, 생활정수, 0.0, 고양정수장, None, 4128512319)\n",
      "Prediction: 7.1103 Ph\n",
      "Generate New Prediction...\n"
     ]
    },
    {
     "data": {
      "text/plain": [
       "DataFrame[Date: string, Hour: string, Predict_val: double]"
      ]
     },
     "metadata": {},
     "output_type": "display_data"
    },
    {
     "name": "stdout",
     "output_type": "stream",
     "text": [
      "+--------+----+-----------+\n",
      "|    Date|Hour|Predict_val|\n",
      "+--------+----+-----------+\n",
      "|20210304|  14|     7.1103|\n",
      "+--------+----+-----------+\n",
      "\n",
      "None\n",
      "+--------+----+-----------+--------------------+\n",
      "|    Date|Hour|Predict_val|               value|\n",
      "+--------+----+-----------+--------------------+\n",
      "|20210304|  14|     7.1103|[20210304, 14, 7....|\n",
      "+--------+----+-----------+--------------------+\n",
      "\n",
      "None\n",
      "origin Data\n",
      "                                                  df\n",
      "8  (0.0, 7.5469, 생활정수, 0.0, 고양정수장, None, 4128512319)\n",
      "Prediction: 7.1103 Ph\n",
      "Generate New Prediction...\n"
     ]
    },
    {
     "data": {
      "text/plain": [
       "DataFrame[Date: string, Hour: string, Predict_val: double]"
      ]
     },
     "metadata": {},
     "output_type": "display_data"
    },
    {
     "name": "stdout",
     "output_type": "stream",
     "text": [
      "+--------+----+-----------+\n",
      "|    Date|Hour|Predict_val|\n",
      "+--------+----+-----------+\n",
      "|20210304|  14|     7.1103|\n",
      "+--------+----+-----------+\n",
      "\n",
      "None\n",
      "+--------+----+-----------+--------------------+\n",
      "|    Date|Hour|Predict_val|               value|\n",
      "+--------+----+-----------+--------------------+\n",
      "|20210304|  14|     7.1103|[20210304, 14, 7....|\n",
      "+--------+----+-----------+--------------------+\n",
      "\n",
      "None\n",
      "origin Data\n",
      "                                                  df\n",
      "8  (0.0, 7.5469, 생활정수, 0.0, 고양정수장, None, 4128512319)\n",
      "Prediction: 7.1103 Ph\n",
      "Generate New Prediction...\n"
     ]
    },
    {
     "data": {
      "text/plain": [
       "DataFrame[Date: string, Hour: string, Predict_val: double]"
      ]
     },
     "metadata": {},
     "output_type": "display_data"
    },
    {
     "name": "stdout",
     "output_type": "stream",
     "text": [
      "+--------+----+-----------+\n",
      "|    Date|Hour|Predict_val|\n",
      "+--------+----+-----------+\n",
      "|20210304|  14|     7.1103|\n",
      "+--------+----+-----------+\n",
      "\n",
      "None\n",
      "+--------+----+-----------+--------------------+\n",
      "|    Date|Hour|Predict_val|               value|\n",
      "+--------+----+-----------+--------------------+\n",
      "|20210304|  14|     7.1103|[20210304, 14, 7....|\n",
      "+--------+----+-----------+--------------------+\n",
      "\n",
      "None\n",
      "origin Data\n",
      "                                                  df\n",
      "8  (0.0, 7.5469, 생활정수, 0.0, 고양정수장, None, 4128512319)\n",
      "Prediction: 7.1103 Ph\n",
      "Generate New Prediction...\n"
     ]
    },
    {
     "data": {
      "text/plain": [
       "DataFrame[Date: string, Hour: string, Predict_val: double]"
      ]
     },
     "metadata": {},
     "output_type": "display_data"
    },
    {
     "name": "stdout",
     "output_type": "stream",
     "text": [
      "+--------+----+-----------+\n",
      "|    Date|Hour|Predict_val|\n",
      "+--------+----+-----------+\n",
      "|20210304|  14|     7.1103|\n",
      "+--------+----+-----------+\n",
      "\n",
      "None\n",
      "+--------+----+-----------+--------------------+\n",
      "|    Date|Hour|Predict_val|               value|\n",
      "+--------+----+-----------+--------------------+\n",
      "|20210304|  14|     7.1103|[20210304, 14, 7....|\n",
      "+--------+----+-----------+--------------------+\n",
      "\n",
      "None\n",
      "origin Data\n",
      "                                                  df\n",
      "8  (0.0, 7.5469, 생활정수, 0.0, 고양정수장, None, 4128512319)\n",
      "Prediction: 7.1103 Ph\n",
      "Generate New Prediction...\n"
     ]
    },
    {
     "data": {
      "text/plain": [
       "DataFrame[Date: string, Hour: string, Predict_val: double]"
      ]
     },
     "metadata": {},
     "output_type": "display_data"
    },
    {
     "name": "stdout",
     "output_type": "stream",
     "text": [
      "+--------+----+-----------+\n",
      "|    Date|Hour|Predict_val|\n",
      "+--------+----+-----------+\n",
      "|20210304|  14|     7.1103|\n",
      "+--------+----+-----------+\n",
      "\n",
      "None\n",
      "+--------+----+-----------+--------------------+\n",
      "|    Date|Hour|Predict_val|               value|\n",
      "+--------+----+-----------+--------------------+\n",
      "|20210304|  14|     7.1103|[20210304, 14, 7....|\n",
      "+--------+----+-----------+--------------------+\n",
      "\n",
      "None\n",
      "origin Data\n",
      "                                                  df\n",
      "8  (0.0, 7.5469, 생활정수, 0.0, 고양정수장, None, 4128512319)\n",
      "Prediction: 7.1103 Ph\n",
      "Generate New Prediction...\n"
     ]
    },
    {
     "data": {
      "text/plain": [
       "DataFrame[Date: string, Hour: string, Predict_val: double]"
      ]
     },
     "metadata": {},
     "output_type": "display_data"
    },
    {
     "name": "stdout",
     "output_type": "stream",
     "text": [
      "+--------+----+-----------+\n",
      "|    Date|Hour|Predict_val|\n",
      "+--------+----+-----------+\n",
      "|20210304|  14|     7.1103|\n",
      "+--------+----+-----------+\n",
      "\n",
      "None\n",
      "+--------+----+-----------+--------------------+\n",
      "|    Date|Hour|Predict_val|               value|\n",
      "+--------+----+-----------+--------------------+\n",
      "|20210304|  14|     7.1103|[20210304, 14, 7....|\n",
      "+--------+----+-----------+--------------------+\n",
      "\n",
      "None\n",
      "origin Data\n",
      "                                                  df\n",
      "8  (0.0, 7.5469, 생활정수, 0.0, 고양정수장, None, 4128512319)\n",
      "Prediction: 7.1103 Ph\n",
      "Generate New Prediction...\n"
     ]
    },
    {
     "data": {
      "text/plain": [
       "DataFrame[Date: string, Hour: string, Predict_val: double]"
      ]
     },
     "metadata": {},
     "output_type": "display_data"
    },
    {
     "name": "stdout",
     "output_type": "stream",
     "text": [
      "+--------+----+-----------+\n",
      "|    Date|Hour|Predict_val|\n",
      "+--------+----+-----------+\n",
      "|20210304|  14|     7.1103|\n",
      "+--------+----+-----------+\n",
      "\n",
      "None\n",
      "+--------+----+-----------+--------------------+\n",
      "|    Date|Hour|Predict_val|               value|\n",
      "+--------+----+-----------+--------------------+\n",
      "|20210304|  14|     7.1103|[20210304, 14, 7....|\n",
      "+--------+----+-----------+--------------------+\n",
      "\n",
      "None\n",
      "origin Data\n",
      "                                                  df\n",
      "8  (0.0, 7.5469, 생활정수, 0.0, 고양정수장, None, 4128512319)\n",
      "Prediction: 7.1103 Ph\n",
      "Generate New Prediction...\n"
     ]
    },
    {
     "data": {
      "text/plain": [
       "DataFrame[Date: string, Hour: string, Predict_val: double]"
      ]
     },
     "metadata": {},
     "output_type": "display_data"
    },
    {
     "name": "stdout",
     "output_type": "stream",
     "text": [
      "+--------+----+-----------+\n",
      "|    Date|Hour|Predict_val|\n",
      "+--------+----+-----------+\n",
      "|20210304|  14|     7.1103|\n",
      "+--------+----+-----------+\n",
      "\n",
      "None\n",
      "+--------+----+-----------+--------------------+\n",
      "|    Date|Hour|Predict_val|               value|\n",
      "+--------+----+-----------+--------------------+\n",
      "|20210304|  14|     7.1103|[20210304, 14, 7....|\n",
      "+--------+----+-----------+--------------------+\n",
      "\n",
      "None\n",
      "origin Data\n",
      "                                                  df\n",
      "8  (0.0, 7.5469, 생활정수, 0.0, 고양정수장, None, 4128512319)\n",
      "Prediction: 7.1103 Ph\n",
      "Generate New Prediction...\n"
     ]
    },
    {
     "data": {
      "text/plain": [
       "DataFrame[Date: string, Hour: string, Predict_val: double]"
      ]
     },
     "metadata": {},
     "output_type": "display_data"
    },
    {
     "name": "stdout",
     "output_type": "stream",
     "text": [
      "+--------+----+-----------+\n",
      "|    Date|Hour|Predict_val|\n",
      "+--------+----+-----------+\n",
      "|20210304|  14|     7.1103|\n",
      "+--------+----+-----------+\n",
      "\n",
      "None\n",
      "+--------+----+-----------+--------------------+\n",
      "|    Date|Hour|Predict_val|               value|\n",
      "+--------+----+-----------+--------------------+\n",
      "|20210304|  14|     7.1103|[20210304, 14, 7....|\n",
      "+--------+----+-----------+--------------------+\n",
      "\n",
      "None\n",
      "origin Data\n",
      "                                                  df\n",
      "8  (0.0, 7.5469, 생활정수, 0.0, 고양정수장, None, 4128512319)\n",
      "Prediction: 7.1103 Ph\n",
      "Generate New Prediction...\n"
     ]
    },
    {
     "data": {
      "text/plain": [
       "DataFrame[Date: string, Hour: string, Predict_val: double]"
      ]
     },
     "metadata": {},
     "output_type": "display_data"
    },
    {
     "name": "stdout",
     "output_type": "stream",
     "text": [
      "+--------+----+-----------+\n",
      "|    Date|Hour|Predict_val|\n",
      "+--------+----+-----------+\n",
      "|20210304|  14|     7.1103|\n",
      "+--------+----+-----------+\n",
      "\n",
      "None\n",
      "+--------+----+-----------+--------------------+\n",
      "|    Date|Hour|Predict_val|               value|\n",
      "+--------+----+-----------+--------------------+\n",
      "|20210304|  14|     7.1103|[20210304, 14, 7....|\n",
      "+--------+----+-----------+--------------------+\n",
      "\n",
      "None\n",
      "origin Data\n",
      "                                                  df\n",
      "8  (0.0, 7.5469, 생활정수, 0.0, 고양정수장, None, 4128512319)\n",
      "Prediction: 7.1103 Ph\n",
      "Generate New Prediction...\n"
     ]
    },
    {
     "data": {
      "text/plain": [
       "DataFrame[Date: string, Hour: string, Predict_val: double]"
      ]
     },
     "metadata": {},
     "output_type": "display_data"
    },
    {
     "name": "stdout",
     "output_type": "stream",
     "text": [
      "+--------+----+-----------+\n",
      "|    Date|Hour|Predict_val|\n",
      "+--------+----+-----------+\n",
      "|20210304|  14|     7.1103|\n",
      "+--------+----+-----------+\n",
      "\n",
      "None\n",
      "+--------+----+-----------+--------------------+\n",
      "|    Date|Hour|Predict_val|               value|\n",
      "+--------+----+-----------+--------------------+\n",
      "|20210304|  14|     7.1103|[20210304, 14, 7....|\n",
      "+--------+----+-----------+--------------------+\n",
      "\n",
      "None\n",
      "origin Data\n",
      "                                                  df\n",
      "8  (0.0, 7.5469, 생활정수, 0.0, 고양정수장, None, 4128512319)\n",
      "Prediction: 7.1103 Ph\n",
      "Generate New Prediction...\n"
     ]
    },
    {
     "data": {
      "text/plain": [
       "DataFrame[Date: string, Hour: string, Predict_val: double]"
      ]
     },
     "metadata": {},
     "output_type": "display_data"
    },
    {
     "name": "stdout",
     "output_type": "stream",
     "text": [
      "+--------+----+-----------+\n",
      "|    Date|Hour|Predict_val|\n",
      "+--------+----+-----------+\n",
      "|20210304|  14|     7.1103|\n",
      "+--------+----+-----------+\n",
      "\n",
      "None\n",
      "+--------+----+-----------+--------------------+\n",
      "|    Date|Hour|Predict_val|               value|\n",
      "+--------+----+-----------+--------------------+\n",
      "|20210304|  14|     7.1103|[20210304, 14, 7....|\n",
      "+--------+----+-----------+--------------------+\n",
      "\n",
      "None\n",
      "origin Data\n",
      "                                                  df\n",
      "8  (0.0, 7.5469, 생활정수, 0.0, 고양정수장, None, 4128512319)\n",
      "Prediction: 7.1103 Ph\n",
      "Generate New Prediction...\n"
     ]
    },
    {
     "data": {
      "text/plain": [
       "DataFrame[Date: string, Hour: string, Predict_val: double]"
      ]
     },
     "metadata": {},
     "output_type": "display_data"
    },
    {
     "name": "stdout",
     "output_type": "stream",
     "text": [
      "+--------+----+-----------+\n",
      "|    Date|Hour|Predict_val|\n",
      "+--------+----+-----------+\n",
      "|20210304|  14|     7.1103|\n",
      "+--------+----+-----------+\n",
      "\n",
      "None\n",
      "+--------+----+-----------+--------------------+\n",
      "|    Date|Hour|Predict_val|               value|\n",
      "+--------+----+-----------+--------------------+\n",
      "|20210304|  14|     7.1103|[20210304, 14, 7....|\n",
      "+--------+----+-----------+--------------------+\n",
      "\n",
      "None\n",
      "origin Data\n",
      "                                                  df\n",
      "8  (0.0, 7.5469, 생활정수, 0.0, 고양정수장, None, 4128512319)\n",
      "Prediction: 7.1103 Ph\n",
      "Generate New Prediction...\n"
     ]
    },
    {
     "data": {
      "text/plain": [
       "DataFrame[Date: string, Hour: string, Predict_val: double]"
      ]
     },
     "metadata": {},
     "output_type": "display_data"
    },
    {
     "name": "stdout",
     "output_type": "stream",
     "text": [
      "+--------+----+-----------+\n",
      "|    Date|Hour|Predict_val|\n",
      "+--------+----+-----------+\n",
      "|20210304|  14|     7.1103|\n",
      "+--------+----+-----------+\n",
      "\n",
      "None\n",
      "+--------+----+-----------+--------------------+\n",
      "|    Date|Hour|Predict_val|               value|\n",
      "+--------+----+-----------+--------------------+\n",
      "|20210304|  14|     7.1103|[20210304, 14, 7....|\n",
      "+--------+----+-----------+--------------------+\n",
      "\n",
      "None\n",
      "origin Data\n",
      "                                                  df\n",
      "8  (0.0, 7.5469, 생활정수, 0.0, 고양정수장, None, 4128512319)\n",
      "Prediction: 7.1103 Ph\n",
      "Generate New Prediction...\n"
     ]
    },
    {
     "data": {
      "text/plain": [
       "DataFrame[Date: string, Hour: string, Predict_val: double]"
      ]
     },
     "metadata": {},
     "output_type": "display_data"
    },
    {
     "name": "stdout",
     "output_type": "stream",
     "text": [
      "+--------+----+-----------+\n",
      "|    Date|Hour|Predict_val|\n",
      "+--------+----+-----------+\n",
      "|20210304|  14|     7.1103|\n",
      "+--------+----+-----------+\n",
      "\n",
      "None\n",
      "+--------+----+-----------+--------------------+\n",
      "|    Date|Hour|Predict_val|               value|\n",
      "+--------+----+-----------+--------------------+\n",
      "|20210304|  14|     7.1103|[20210304, 14, 7....|\n",
      "+--------+----+-----------+--------------------+\n",
      "\n",
      "None\n",
      "origin Data\n",
      "                                                  df\n",
      "8  (0.0, 7.5469, 생활정수, 0.0, 고양정수장, None, 4128512319)\n",
      "Prediction: 7.1103 Ph\n",
      "Generate New Prediction...\n"
     ]
    },
    {
     "data": {
      "text/plain": [
       "DataFrame[Date: string, Hour: string, Predict_val: double]"
      ]
     },
     "metadata": {},
     "output_type": "display_data"
    },
    {
     "name": "stdout",
     "output_type": "stream",
     "text": [
      "+--------+----+-----------+\n",
      "|    Date|Hour|Predict_val|\n",
      "+--------+----+-----------+\n",
      "|20210304|  14|     7.1103|\n",
      "+--------+----+-----------+\n",
      "\n",
      "None\n",
      "+--------+----+-----------+--------------------+\n",
      "|    Date|Hour|Predict_val|               value|\n",
      "+--------+----+-----------+--------------------+\n",
      "|20210304|  14|     7.1103|[20210304, 14, 7....|\n",
      "+--------+----+-----------+--------------------+\n",
      "\n",
      "None\n",
      "origin Data\n",
      "                                                  df\n",
      "8  (0.0, 7.5469, 생활정수, 0.0, 고양정수장, None, 4128512319)\n",
      "Prediction: 7.1103 Ph\n",
      "Generate New Prediction...\n"
     ]
    },
    {
     "data": {
      "text/plain": [
       "DataFrame[Date: string, Hour: string, Predict_val: double]"
      ]
     },
     "metadata": {},
     "output_type": "display_data"
    },
    {
     "name": "stdout",
     "output_type": "stream",
     "text": [
      "+--------+----+-----------+\n",
      "|    Date|Hour|Predict_val|\n",
      "+--------+----+-----------+\n",
      "|20210304|  14|     7.1103|\n",
      "+--------+----+-----------+\n",
      "\n",
      "None\n",
      "+--------+----+-----------+--------------------+\n",
      "|    Date|Hour|Predict_val|               value|\n",
      "+--------+----+-----------+--------------------+\n",
      "|20210304|  14|     7.1103|[20210304, 14, 7....|\n",
      "+--------+----+-----------+--------------------+\n",
      "\n",
      "None\n",
      "origin Data\n",
      "                                                  df\n",
      "8  (0.0, 7.5469, 생활정수, 0.0, 고양정수장, None, 4128512319)\n",
      "Prediction: 7.1103 Ph\n",
      "Generate New Prediction...\n"
     ]
    },
    {
     "data": {
      "text/plain": [
       "DataFrame[Date: string, Hour: string, Predict_val: double]"
      ]
     },
     "metadata": {},
     "output_type": "display_data"
    },
    {
     "name": "stdout",
     "output_type": "stream",
     "text": [
      "+--------+----+-----------+\n",
      "|    Date|Hour|Predict_val|\n",
      "+--------+----+-----------+\n",
      "|20210304|  14|     7.1103|\n",
      "+--------+----+-----------+\n",
      "\n",
      "None\n",
      "+--------+----+-----------+--------------------+\n",
      "|    Date|Hour|Predict_val|               value|\n",
      "+--------+----+-----------+--------------------+\n",
      "|20210304|  14|     7.1103|[20210304, 14, 7....|\n",
      "+--------+----+-----------+--------------------+\n",
      "\n",
      "None\n",
      "origin Data\n",
      "                                                  df\n",
      "8  (0.0, 7.5469, 생활정수, 0.0, 고양정수장, None, 4128512319)\n",
      "Prediction: 7.1103 Ph\n",
      "Generate New Prediction...\n"
     ]
    },
    {
     "data": {
      "text/plain": [
       "DataFrame[Date: string, Hour: string, Predict_val: double]"
      ]
     },
     "metadata": {},
     "output_type": "display_data"
    },
    {
     "name": "stdout",
     "output_type": "stream",
     "text": [
      "+--------+----+-----------+\n",
      "|    Date|Hour|Predict_val|\n",
      "+--------+----+-----------+\n",
      "|20210304|  14|     7.1103|\n",
      "+--------+----+-----------+\n",
      "\n",
      "None\n",
      "+--------+----+-----------+--------------------+\n",
      "|    Date|Hour|Predict_val|               value|\n",
      "+--------+----+-----------+--------------------+\n",
      "|20210304|  14|     7.1103|[20210304, 14, 7....|\n",
      "+--------+----+-----------+--------------------+\n",
      "\n",
      "None\n",
      "origin Data\n",
      "                                                  df\n",
      "8  (0.0, 7.5469, 생활정수, 0.0, 고양정수장, None, 4128512319)\n",
      "Prediction: 7.1103 Ph\n",
      "Generate New Prediction...\n"
     ]
    },
    {
     "data": {
      "text/plain": [
       "DataFrame[Date: string, Hour: string, Predict_val: double]"
      ]
     },
     "metadata": {},
     "output_type": "display_data"
    },
    {
     "name": "stdout",
     "output_type": "stream",
     "text": [
      "+--------+----+-----------+\n",
      "|    Date|Hour|Predict_val|\n",
      "+--------+----+-----------+\n",
      "|20210304|  14|     7.1103|\n",
      "+--------+----+-----------+\n",
      "\n",
      "None\n",
      "+--------+----+-----------+--------------------+\n",
      "|    Date|Hour|Predict_val|               value|\n",
      "+--------+----+-----------+--------------------+\n",
      "|20210304|  14|     7.1103|[20210304, 14, 7....|\n",
      "+--------+----+-----------+--------------------+\n",
      "\n",
      "None\n",
      "origin Data\n",
      "                                                  df\n",
      "8  (0.0, 7.5469, 생활정수, 0.0, 고양정수장, None, 4128512319)\n",
      "Prediction: 7.1103 Ph\n",
      "Generate New Prediction...\n"
     ]
    },
    {
     "data": {
      "text/plain": [
       "DataFrame[Date: string, Hour: string, Predict_val: double]"
      ]
     },
     "metadata": {},
     "output_type": "display_data"
    },
    {
     "name": "stdout",
     "output_type": "stream",
     "text": [
      "+--------+----+-----------+\n",
      "|    Date|Hour|Predict_val|\n",
      "+--------+----+-----------+\n",
      "|20210304|  14|     7.1103|\n",
      "+--------+----+-----------+\n",
      "\n",
      "None\n",
      "+--------+----+-----------+--------------------+\n",
      "|    Date|Hour|Predict_val|               value|\n",
      "+--------+----+-----------+--------------------+\n",
      "|20210304|  14|     7.1103|[20210304, 14, 7....|\n",
      "+--------+----+-----------+--------------------+\n",
      "\n",
      "None\n",
      "origin Data\n",
      "                                                  df\n",
      "8  (0.0, 7.5469, 생활정수, 0.0, 고양정수장, None, 4128512319)\n",
      "Prediction: 7.1103 Ph\n",
      "Generate New Prediction...\n"
     ]
    },
    {
     "data": {
      "text/plain": [
       "DataFrame[Date: string, Hour: string, Predict_val: double]"
      ]
     },
     "metadata": {},
     "output_type": "display_data"
    },
    {
     "name": "stdout",
     "output_type": "stream",
     "text": [
      "+--------+----+-----------+\n",
      "|    Date|Hour|Predict_val|\n",
      "+--------+----+-----------+\n",
      "|20210304|  14|     7.1103|\n",
      "+--------+----+-----------+\n",
      "\n",
      "None\n",
      "+--------+----+-----------+--------------------+\n",
      "|    Date|Hour|Predict_val|               value|\n",
      "+--------+----+-----------+--------------------+\n",
      "|20210304|  14|     7.1103|[20210304, 14, 7....|\n",
      "+--------+----+-----------+--------------------+\n",
      "\n",
      "None\n",
      "origin Data\n",
      "                                                  df\n",
      "8  (0.0, 7.5469, 생활정수, 0.0, 고양정수장, None, 4128512319)\n",
      "Prediction: 7.1103 Ph\n",
      "Generate New Prediction...\n"
     ]
    },
    {
     "data": {
      "text/plain": [
       "DataFrame[Date: string, Hour: string, Predict_val: double]"
      ]
     },
     "metadata": {},
     "output_type": "display_data"
    },
    {
     "name": "stdout",
     "output_type": "stream",
     "text": [
      "+--------+----+-----------+\n",
      "|    Date|Hour|Predict_val|\n",
      "+--------+----+-----------+\n",
      "|20210304|  14|     7.1103|\n",
      "+--------+----+-----------+\n",
      "\n",
      "None\n",
      "+--------+----+-----------+--------------------+\n",
      "|    Date|Hour|Predict_val|               value|\n",
      "+--------+----+-----------+--------------------+\n",
      "|20210304|  14|     7.1103|[20210304, 14, 7....|\n",
      "+--------+----+-----------+--------------------+\n",
      "\n",
      "None\n",
      "origin Data\n",
      "                                                  df\n",
      "8  (0.0, 7.5469, 생활정수, 0.0, 고양정수장, None, 4128512319)\n",
      "Prediction: 7.1103 Ph\n",
      "Generate New Prediction...\n"
     ]
    },
    {
     "data": {
      "text/plain": [
       "DataFrame[Date: string, Hour: string, Predict_val: double]"
      ]
     },
     "metadata": {},
     "output_type": "display_data"
    },
    {
     "name": "stdout",
     "output_type": "stream",
     "text": [
      "+--------+----+-----------+\n",
      "|    Date|Hour|Predict_val|\n",
      "+--------+----+-----------+\n",
      "|20210304|  14|     7.1103|\n",
      "+--------+----+-----------+\n",
      "\n",
      "None\n",
      "+--------+----+-----------+--------------------+\n",
      "|    Date|Hour|Predict_val|               value|\n",
      "+--------+----+-----------+--------------------+\n",
      "|20210304|  14|     7.1103|[20210304, 14, 7....|\n",
      "+--------+----+-----------+--------------------+\n",
      "\n",
      "None\n",
      "origin Data\n",
      "                                                  df\n",
      "8  (0.0, 7.5469, 생활정수, 0.0, 고양정수장, None, 4128512319)\n",
      "Prediction: 7.1103 Ph\n",
      "Generate New Prediction...\n"
     ]
    },
    {
     "data": {
      "text/plain": [
       "DataFrame[Date: string, Hour: string, Predict_val: double]"
      ]
     },
     "metadata": {},
     "output_type": "display_data"
    },
    {
     "name": "stdout",
     "output_type": "stream",
     "text": [
      "+--------+----+-----------+\n",
      "|    Date|Hour|Predict_val|\n",
      "+--------+----+-----------+\n",
      "|20210304|  14|     7.1103|\n",
      "+--------+----+-----------+\n",
      "\n",
      "None\n",
      "+--------+----+-----------+--------------------+\n",
      "|    Date|Hour|Predict_val|               value|\n",
      "+--------+----+-----------+--------------------+\n",
      "|20210304|  14|     7.1103|[20210304, 14, 7....|\n",
      "+--------+----+-----------+--------------------+\n",
      "\n",
      "None\n",
      "origin Data\n",
      "                                                  df\n",
      "8  (0.0, 7.5469, 생활정수, 0.0, 고양정수장, None, 4128512319)\n",
      "Prediction: 7.1103 Ph\n",
      "Generate New Prediction...\n"
     ]
    },
    {
     "data": {
      "text/plain": [
       "DataFrame[Date: string, Hour: string, Predict_val: double]"
      ]
     },
     "metadata": {},
     "output_type": "display_data"
    },
    {
     "name": "stdout",
     "output_type": "stream",
     "text": [
      "+--------+----+-----------+\n",
      "|    Date|Hour|Predict_val|\n",
      "+--------+----+-----------+\n",
      "|20210304|  14|     7.1103|\n",
      "+--------+----+-----------+\n",
      "\n",
      "None\n",
      "+--------+----+-----------+--------------------+\n",
      "|    Date|Hour|Predict_val|               value|\n",
      "+--------+----+-----------+--------------------+\n",
      "|20210304|  14|     7.1103|[20210304, 14, 7....|\n",
      "+--------+----+-----------+--------------------+\n",
      "\n",
      "None\n",
      "origin Data\n",
      "                                                  df\n",
      "8  (0.0, 7.5469, 생활정수, 0.0, 고양정수장, None, 4128512319)\n",
      "Prediction: 7.1103 Ph\n",
      "Generate New Prediction...\n"
     ]
    },
    {
     "data": {
      "text/plain": [
       "DataFrame[Date: string, Hour: string, Predict_val: double]"
      ]
     },
     "metadata": {},
     "output_type": "display_data"
    },
    {
     "name": "stdout",
     "output_type": "stream",
     "text": [
      "+--------+----+-----------+\n",
      "|    Date|Hour|Predict_val|\n",
      "+--------+----+-----------+\n",
      "|20210304|  14|     7.1103|\n",
      "+--------+----+-----------+\n",
      "\n",
      "None\n",
      "+--------+----+-----------+--------------------+\n",
      "|    Date|Hour|Predict_val|               value|\n",
      "+--------+----+-----------+--------------------+\n",
      "|20210304|  14|     7.1103|[20210304, 14, 7....|\n",
      "+--------+----+-----------+--------------------+\n",
      "\n",
      "None\n",
      "origin Data\n",
      "                                                  df\n",
      "8  (0.0, 7.5469, 생활정수, 0.0, 고양정수장, None, 4128512319)\n",
      "Prediction: 7.1103 Ph\n",
      "Generate New Prediction...\n"
     ]
    },
    {
     "data": {
      "text/plain": [
       "DataFrame[Date: string, Hour: string, Predict_val: double]"
      ]
     },
     "metadata": {},
     "output_type": "display_data"
    },
    {
     "name": "stdout",
     "output_type": "stream",
     "text": [
      "+--------+----+-----------+\n",
      "|    Date|Hour|Predict_val|\n",
      "+--------+----+-----------+\n",
      "|20210304|  14|     7.1103|\n",
      "+--------+----+-----------+\n",
      "\n",
      "None\n",
      "+--------+----+-----------+--------------------+\n",
      "|    Date|Hour|Predict_val|               value|\n",
      "+--------+----+-----------+--------------------+\n",
      "|20210304|  14|     7.1103|[20210304, 14, 7....|\n",
      "+--------+----+-----------+--------------------+\n",
      "\n",
      "None\n",
      "origin Data\n",
      "                                                  df\n",
      "8  (0.0, 7.5469, 생활정수, 0.0, 고양정수장, None, 4128512319)\n",
      "Prediction: 7.1103 Ph\n",
      "Generate New Prediction...\n"
     ]
    },
    {
     "data": {
      "text/plain": [
       "DataFrame[Date: string, Hour: string, Predict_val: double]"
      ]
     },
     "metadata": {},
     "output_type": "display_data"
    },
    {
     "name": "stdout",
     "output_type": "stream",
     "text": [
      "+--------+----+-----------+\n",
      "|    Date|Hour|Predict_val|\n",
      "+--------+----+-----------+\n",
      "|20210304|  14|     7.1103|\n",
      "+--------+----+-----------+\n",
      "\n",
      "None\n",
      "+--------+----+-----------+--------------------+\n",
      "|    Date|Hour|Predict_val|               value|\n",
      "+--------+----+-----------+--------------------+\n",
      "|20210304|  14|     7.1103|[20210304, 14, 7....|\n",
      "+--------+----+-----------+--------------------+\n",
      "\n",
      "None\n",
      "origin Data\n",
      "                                                  df\n",
      "8  (0.0, 7.5469, 생활정수, 0.0, 고양정수장, None, 4128512319)\n",
      "Prediction: 7.1103 Ph\n",
      "Generate New Prediction...\n"
     ]
    },
    {
     "data": {
      "text/plain": [
       "DataFrame[Date: string, Hour: string, Predict_val: double]"
      ]
     },
     "metadata": {},
     "output_type": "display_data"
    },
    {
     "name": "stdout",
     "output_type": "stream",
     "text": [
      "+--------+----+-----------+\n",
      "|    Date|Hour|Predict_val|\n",
      "+--------+----+-----------+\n",
      "|20210304|  14|     7.1103|\n",
      "+--------+----+-----------+\n",
      "\n",
      "None\n",
      "+--------+----+-----------+--------------------+\n",
      "|    Date|Hour|Predict_val|               value|\n",
      "+--------+----+-----------+--------------------+\n",
      "|20210304|  14|     7.1103|[20210304, 14, 7....|\n",
      "+--------+----+-----------+--------------------+\n",
      "\n",
      "None\n",
      "origin Data\n",
      "                                                  df\n",
      "8  (0.0, 7.5469, 생활정수, 0.0, 고양정수장, None, 4128512319)\n",
      "Prediction: 7.1103 Ph\n",
      "Generate New Prediction...\n"
     ]
    },
    {
     "data": {
      "text/plain": [
       "DataFrame[Date: string, Hour: string, Predict_val: double]"
      ]
     },
     "metadata": {},
     "output_type": "display_data"
    },
    {
     "name": "stdout",
     "output_type": "stream",
     "text": [
      "+--------+----+-----------+\n",
      "|    Date|Hour|Predict_val|\n",
      "+--------+----+-----------+\n",
      "|20210304|  14|     7.1103|\n",
      "+--------+----+-----------+\n",
      "\n",
      "None\n",
      "+--------+----+-----------+--------------------+\n",
      "|    Date|Hour|Predict_val|               value|\n",
      "+--------+----+-----------+--------------------+\n",
      "|20210304|  14|     7.1103|[20210304, 14, 7....|\n",
      "+--------+----+-----------+--------------------+\n",
      "\n",
      "None\n",
      "origin Data\n",
      "                                                  df\n",
      "8  (0.0, 7.5469, 생활정수, 0.0, 고양정수장, None, 4128512319)\n",
      "Prediction: 7.1103 Ph\n",
      "Generate New Prediction...\n"
     ]
    },
    {
     "data": {
      "text/plain": [
       "DataFrame[Date: string, Hour: string, Predict_val: double]"
      ]
     },
     "metadata": {},
     "output_type": "display_data"
    },
    {
     "name": "stdout",
     "output_type": "stream",
     "text": [
      "+--------+----+-----------+\n",
      "|    Date|Hour|Predict_val|\n",
      "+--------+----+-----------+\n",
      "|20210304|  14|     7.1103|\n",
      "+--------+----+-----------+\n",
      "\n",
      "None\n",
      "+--------+----+-----------+--------------------+\n",
      "|    Date|Hour|Predict_val|               value|\n",
      "+--------+----+-----------+--------------------+\n",
      "|20210304|  14|     7.1103|[20210304, 14, 7....|\n",
      "+--------+----+-----------+--------------------+\n",
      "\n",
      "None\n",
      "origin Data\n",
      "                                                  df\n",
      "8  (0.0, 7.5469, 생활정수, 0.0, 고양정수장, None, 4128512319)\n",
      "Prediction: 7.1103 Ph\n",
      "Generate New Prediction...\n"
     ]
    },
    {
     "data": {
      "text/plain": [
       "DataFrame[Date: string, Hour: string, Predict_val: double]"
      ]
     },
     "metadata": {},
     "output_type": "display_data"
    },
    {
     "name": "stdout",
     "output_type": "stream",
     "text": [
      "+--------+----+-----------+\n",
      "|    Date|Hour|Predict_val|\n",
      "+--------+----+-----------+\n",
      "|20210304|  14|     7.1103|\n",
      "+--------+----+-----------+\n",
      "\n",
      "None\n",
      "+--------+----+-----------+--------------------+\n",
      "|    Date|Hour|Predict_val|               value|\n",
      "+--------+----+-----------+--------------------+\n",
      "|20210304|  14|     7.1103|[20210304, 14, 7....|\n",
      "+--------+----+-----------+--------------------+\n",
      "\n",
      "None\n",
      "origin Data\n",
      "                                                  df\n",
      "8  (0.0, 7.5469, 생활정수, 0.0, 고양정수장, None, 4128512319)\n",
      "Prediction: 7.1103 Ph\n",
      "Generate New Prediction...\n"
     ]
    },
    {
     "data": {
      "text/plain": [
       "DataFrame[Date: string, Hour: string, Predict_val: double]"
      ]
     },
     "metadata": {},
     "output_type": "display_data"
    },
    {
     "name": "stdout",
     "output_type": "stream",
     "text": [
      "+--------+----+-----------+\n",
      "|    Date|Hour|Predict_val|\n",
      "+--------+----+-----------+\n",
      "|20210304|  14|     7.1103|\n",
      "+--------+----+-----------+\n",
      "\n",
      "None\n",
      "+--------+----+-----------+--------------------+\n",
      "|    Date|Hour|Predict_val|               value|\n",
      "+--------+----+-----------+--------------------+\n",
      "|20210304|  14|     7.1103|[20210304, 14, 7....|\n",
      "+--------+----+-----------+--------------------+\n",
      "\n",
      "None\n",
      "origin Data\n",
      "                                                  df\n",
      "8  (0.0, 7.5469, 생활정수, 0.0, 고양정수장, None, 4128512319)\n",
      "Prediction: 7.1103 Ph\n",
      "Generate New Prediction...\n"
     ]
    },
    {
     "data": {
      "text/plain": [
       "DataFrame[Date: string, Hour: string, Predict_val: double]"
      ]
     },
     "metadata": {},
     "output_type": "display_data"
    },
    {
     "name": "stdout",
     "output_type": "stream",
     "text": [
      "+--------+----+-----------+\n",
      "|    Date|Hour|Predict_val|\n",
      "+--------+----+-----------+\n",
      "|20210304|  14|     7.1103|\n",
      "+--------+----+-----------+\n",
      "\n",
      "None\n",
      "+--------+----+-----------+--------------------+\n",
      "|    Date|Hour|Predict_val|               value|\n",
      "+--------+----+-----------+--------------------+\n",
      "|20210304|  14|     7.1103|[20210304, 14, 7....|\n",
      "+--------+----+-----------+--------------------+\n",
      "\n",
      "None\n",
      "origin Data\n",
      "                                                  df\n",
      "8  (0.0, 7.5469, 생활정수, 0.0, 고양정수장, None, 4128512319)\n",
      "Prediction: 7.1103 Ph\n",
      "Generate New Prediction...\n"
     ]
    },
    {
     "data": {
      "text/plain": [
       "DataFrame[Date: string, Hour: string, Predict_val: double]"
      ]
     },
     "metadata": {},
     "output_type": "display_data"
    },
    {
     "name": "stdout",
     "output_type": "stream",
     "text": [
      "+--------+----+-----------+\n",
      "|    Date|Hour|Predict_val|\n",
      "+--------+----+-----------+\n",
      "|20210304|  14|     7.1103|\n",
      "+--------+----+-----------+\n",
      "\n",
      "None\n",
      "+--------+----+-----------+--------------------+\n",
      "|    Date|Hour|Predict_val|               value|\n",
      "+--------+----+-----------+--------------------+\n",
      "|20210304|  14|     7.1103|[20210304, 14, 7....|\n",
      "+--------+----+-----------+--------------------+\n",
      "\n",
      "None\n",
      "origin Data\n",
      "                                                  df\n",
      "8  (0.0, 7.5469, 생활정수, 0.0, 고양정수장, None, 4128512319)\n",
      "Prediction: 7.1103 Ph\n",
      "Generate New Prediction...\n"
     ]
    },
    {
     "data": {
      "text/plain": [
       "DataFrame[Date: string, Hour: string, Predict_val: double]"
      ]
     },
     "metadata": {},
     "output_type": "display_data"
    },
    {
     "name": "stdout",
     "output_type": "stream",
     "text": [
      "+--------+----+-----------+\n",
      "|    Date|Hour|Predict_val|\n",
      "+--------+----+-----------+\n",
      "|20210304|  14|     7.1103|\n",
      "+--------+----+-----------+\n",
      "\n",
      "None\n",
      "+--------+----+-----------+--------------------+\n",
      "|    Date|Hour|Predict_val|               value|\n",
      "+--------+----+-----------+--------------------+\n",
      "|20210304|  14|     7.1103|[20210304, 14, 7....|\n",
      "+--------+----+-----------+--------------------+\n",
      "\n",
      "None\n",
      "origin Data\n",
      "                                                  df\n",
      "8  (0.0, 7.5469, 생활정수, 0.0, 고양정수장, None, 4128512319)\n",
      "Prediction: 7.1103 Ph\n",
      "Generate New Prediction...\n"
     ]
    },
    {
     "data": {
      "text/plain": [
       "DataFrame[Date: string, Hour: string, Predict_val: double]"
      ]
     },
     "metadata": {},
     "output_type": "display_data"
    },
    {
     "name": "stdout",
     "output_type": "stream",
     "text": [
      "+--------+----+-----------+\n",
      "|    Date|Hour|Predict_val|\n",
      "+--------+----+-----------+\n",
      "|20210304|  14|     7.1103|\n",
      "+--------+----+-----------+\n",
      "\n",
      "None\n",
      "+--------+----+-----------+--------------------+\n",
      "|    Date|Hour|Predict_val|               value|\n",
      "+--------+----+-----------+--------------------+\n",
      "|20210304|  14|     7.1103|[20210304, 14, 7....|\n",
      "+--------+----+-----------+--------------------+\n",
      "\n",
      "None\n",
      "origin Data\n",
      "                                                  df\n",
      "8  (0.0, 7.5469, 생활정수, 0.0, 고양정수장, None, 4128512319)\n",
      "Prediction: 7.1103 Ph\n",
      "Generate New Prediction...\n"
     ]
    },
    {
     "data": {
      "text/plain": [
       "DataFrame[Date: string, Hour: string, Predict_val: double]"
      ]
     },
     "metadata": {},
     "output_type": "display_data"
    },
    {
     "name": "stdout",
     "output_type": "stream",
     "text": [
      "+--------+----+-----------+\n",
      "|    Date|Hour|Predict_val|\n",
      "+--------+----+-----------+\n",
      "|20210304|  14|     7.1103|\n",
      "+--------+----+-----------+\n",
      "\n",
      "None\n",
      "+--------+----+-----------+--------------------+\n",
      "|    Date|Hour|Predict_val|               value|\n",
      "+--------+----+-----------+--------------------+\n",
      "|20210304|  14|     7.1103|[20210304, 14, 7....|\n",
      "+--------+----+-----------+--------------------+\n",
      "\n",
      "None\n",
      "origin Data\n",
      "                                                  df\n",
      "8  (0.0, 7.5469, 생활정수, 0.0, 고양정수장, None, 4128512319)\n",
      "Prediction: 7.1103 Ph\n",
      "Generate New Prediction...\n"
     ]
    },
    {
     "data": {
      "text/plain": [
       "DataFrame[Date: string, Hour: string, Predict_val: double]"
      ]
     },
     "metadata": {},
     "output_type": "display_data"
    },
    {
     "name": "stdout",
     "output_type": "stream",
     "text": [
      "+--------+----+-----------+\n",
      "|    Date|Hour|Predict_val|\n",
      "+--------+----+-----------+\n",
      "|20210304|  14|     7.1103|\n",
      "+--------+----+-----------+\n",
      "\n",
      "None\n",
      "+--------+----+-----------+--------------------+\n",
      "|    Date|Hour|Predict_val|               value|\n",
      "+--------+----+-----------+--------------------+\n",
      "|20210304|  14|     7.1103|[20210304, 14, 7....|\n",
      "+--------+----+-----------+--------------------+\n",
      "\n",
      "None\n",
      "origin Data\n",
      "                                                  df\n",
      "8  (0.0, 7.5469, 생활정수, 0.0, 고양정수장, None, 4128512319)\n",
      "Prediction: 7.1103 Ph\n",
      "Generate New Prediction...\n"
     ]
    },
    {
     "data": {
      "text/plain": [
       "DataFrame[Date: string, Hour: string, Predict_val: double]"
      ]
     },
     "metadata": {},
     "output_type": "display_data"
    },
    {
     "name": "stdout",
     "output_type": "stream",
     "text": [
      "+--------+----+-----------+\n",
      "|    Date|Hour|Predict_val|\n",
      "+--------+----+-----------+\n",
      "|20210304|  14|     7.1103|\n",
      "+--------+----+-----------+\n",
      "\n",
      "None\n",
      "+--------+----+-----------+--------------------+\n",
      "|    Date|Hour|Predict_val|               value|\n",
      "+--------+----+-----------+--------------------+\n",
      "|20210304|  14|     7.1103|[20210304, 14, 7....|\n",
      "+--------+----+-----------+--------------------+\n",
      "\n",
      "None\n",
      "origin Data\n",
      "                                                  df\n",
      "8  (0.0, 7.5469, 생활정수, 0.0, 고양정수장, None, 4128512319)\n",
      "Prediction: 7.1103 Ph\n",
      "Generate New Prediction...\n"
     ]
    },
    {
     "data": {
      "text/plain": [
       "DataFrame[Date: string, Hour: string, Predict_val: double]"
      ]
     },
     "metadata": {},
     "output_type": "display_data"
    },
    {
     "name": "stdout",
     "output_type": "stream",
     "text": [
      "+--------+----+-----------+\n",
      "|    Date|Hour|Predict_val|\n",
      "+--------+----+-----------+\n",
      "|20210304|  14|     7.1103|\n",
      "+--------+----+-----------+\n",
      "\n",
      "None\n",
      "+--------+----+-----------+--------------------+\n",
      "|    Date|Hour|Predict_val|               value|\n",
      "+--------+----+-----------+--------------------+\n",
      "|20210304|  14|     7.1103|[20210304, 14, 7....|\n",
      "+--------+----+-----------+--------------------+\n",
      "\n",
      "None\n",
      "origin Data\n",
      "                                                  df\n",
      "8  (0.0, 7.5469, 생활정수, 0.0, 고양정수장, None, 4128512319)\n",
      "Prediction: 7.1103 Ph\n",
      "Generate New Prediction...\n"
     ]
    },
    {
     "data": {
      "text/plain": [
       "DataFrame[Date: string, Hour: string, Predict_val: double]"
      ]
     },
     "metadata": {},
     "output_type": "display_data"
    },
    {
     "name": "stdout",
     "output_type": "stream",
     "text": [
      "+--------+----+-----------+\n",
      "|    Date|Hour|Predict_val|\n",
      "+--------+----+-----------+\n",
      "|20210304|  14|     7.1103|\n",
      "+--------+----+-----------+\n",
      "\n",
      "None\n",
      "+--------+----+-----------+--------------------+\n",
      "|    Date|Hour|Predict_val|               value|\n",
      "+--------+----+-----------+--------------------+\n",
      "|20210304|  14|     7.1103|[20210304, 14, 7....|\n",
      "+--------+----+-----------+--------------------+\n",
      "\n",
      "None\n",
      "origin Data\n",
      "                                                  df\n",
      "8  (0.0, 7.5469, 생활정수, 0.0, 고양정수장, None, 4128512319)\n",
      "Prediction: 7.1103 Ph\n",
      "Generate New Prediction...\n"
     ]
    },
    {
     "data": {
      "text/plain": [
       "DataFrame[Date: string, Hour: string, Predict_val: double]"
      ]
     },
     "metadata": {},
     "output_type": "display_data"
    },
    {
     "name": "stdout",
     "output_type": "stream",
     "text": [
      "+--------+----+-----------+\n",
      "|    Date|Hour|Predict_val|\n",
      "+--------+----+-----------+\n",
      "|20210304|  14|     7.1103|\n",
      "+--------+----+-----------+\n",
      "\n",
      "None\n",
      "+--------+----+-----------+--------------------+\n",
      "|    Date|Hour|Predict_val|               value|\n",
      "+--------+----+-----------+--------------------+\n",
      "|20210304|  14|     7.1103|[20210304, 14, 7....|\n",
      "+--------+----+-----------+--------------------+\n",
      "\n",
      "None\n",
      "origin Data\n",
      "                                                  df\n",
      "8  (0.0, 7.5469, 생활정수, 0.0, 고양정수장, None, 4128512319)\n",
      "Prediction: 7.1103 Ph\n",
      "Generate New Prediction...\n"
     ]
    },
    {
     "data": {
      "text/plain": [
       "DataFrame[Date: string, Hour: string, Predict_val: double]"
      ]
     },
     "metadata": {},
     "output_type": "display_data"
    },
    {
     "name": "stdout",
     "output_type": "stream",
     "text": [
      "+--------+----+-----------+\n",
      "|    Date|Hour|Predict_val|\n",
      "+--------+----+-----------+\n",
      "|20210304|  14|     7.1103|\n",
      "+--------+----+-----------+\n",
      "\n",
      "None\n",
      "+--------+----+-----------+--------------------+\n",
      "|    Date|Hour|Predict_val|               value|\n",
      "+--------+----+-----------+--------------------+\n",
      "|20210304|  14|     7.1103|[20210304, 14, 7....|\n",
      "+--------+----+-----------+--------------------+\n",
      "\n",
      "None\n",
      "origin Data\n",
      "                                                  df\n",
      "8  (0.0, 7.5469, 생활정수, 0.0, 고양정수장, None, 4128512319)\n",
      "Prediction: 7.1103 Ph\n",
      "Generate New Prediction...\n"
     ]
    },
    {
     "data": {
      "text/plain": [
       "DataFrame[Date: string, Hour: string, Predict_val: double]"
      ]
     },
     "metadata": {},
     "output_type": "display_data"
    },
    {
     "name": "stdout",
     "output_type": "stream",
     "text": [
      "+--------+----+-----------+\n",
      "|    Date|Hour|Predict_val|\n",
      "+--------+----+-----------+\n",
      "|20210304|  14|     7.1103|\n",
      "+--------+----+-----------+\n",
      "\n",
      "None\n",
      "+--------+----+-----------+--------------------+\n",
      "|    Date|Hour|Predict_val|               value|\n",
      "+--------+----+-----------+--------------------+\n",
      "|20210304|  14|     7.1103|[20210304, 14, 7....|\n",
      "+--------+----+-----------+--------------------+\n",
      "\n",
      "None\n",
      "origin Data\n",
      "                                                  df\n",
      "8  (0.0, 7.5469, 생활정수, 0.0, 고양정수장, None, 4128512319)\n",
      "Prediction: 7.1103 Ph\n",
      "Generate New Prediction...\n"
     ]
    },
    {
     "data": {
      "text/plain": [
       "DataFrame[Date: string, Hour: string, Predict_val: double]"
      ]
     },
     "metadata": {},
     "output_type": "display_data"
    },
    {
     "name": "stdout",
     "output_type": "stream",
     "text": [
      "+--------+----+-----------+\n",
      "|    Date|Hour|Predict_val|\n",
      "+--------+----+-----------+\n",
      "|20210304|  14|     7.1103|\n",
      "+--------+----+-----------+\n",
      "\n",
      "None\n",
      "+--------+----+-----------+--------------------+\n",
      "|    Date|Hour|Predict_val|               value|\n",
      "+--------+----+-----------+--------------------+\n",
      "|20210304|  14|     7.1103|[20210304, 14, 7....|\n",
      "+--------+----+-----------+--------------------+\n",
      "\n",
      "None\n",
      "origin Data\n",
      "                                                  df\n",
      "8  (0.0, 7.5469, 생활정수, 0.0, 고양정수장, None, 4128512319)\n",
      "Prediction: 7.1103 Ph\n",
      "Generate New Prediction...\n"
     ]
    },
    {
     "data": {
      "text/plain": [
       "DataFrame[Date: string, Hour: string, Predict_val: double]"
      ]
     },
     "metadata": {},
     "output_type": "display_data"
    },
    {
     "name": "stdout",
     "output_type": "stream",
     "text": [
      "+--------+----+-----------+\n",
      "|    Date|Hour|Predict_val|\n",
      "+--------+----+-----------+\n",
      "|20210304|  14|     7.1103|\n",
      "+--------+----+-----------+\n",
      "\n",
      "None\n",
      "+--------+----+-----------+--------------------+\n",
      "|    Date|Hour|Predict_val|               value|\n",
      "+--------+----+-----------+--------------------+\n",
      "|20210304|  14|     7.1103|[20210304, 14, 7....|\n",
      "+--------+----+-----------+--------------------+\n",
      "\n",
      "None\n",
      "origin Data\n",
      "                                                  df\n",
      "8  (0.0, 7.5469, 생활정수, 0.0, 고양정수장, None, 4128512319)\n",
      "Prediction: 7.1103 Ph\n",
      "Generate New Prediction...\n"
     ]
    },
    {
     "data": {
      "text/plain": [
       "DataFrame[Date: string, Hour: string, Predict_val: double]"
      ]
     },
     "metadata": {},
     "output_type": "display_data"
    },
    {
     "name": "stdout",
     "output_type": "stream",
     "text": [
      "+--------+----+-----------+\n",
      "|    Date|Hour|Predict_val|\n",
      "+--------+----+-----------+\n",
      "|20210304|  14|     7.1103|\n",
      "+--------+----+-----------+\n",
      "\n",
      "None\n",
      "+--------+----+-----------+--------------------+\n",
      "|    Date|Hour|Predict_val|               value|\n",
      "+--------+----+-----------+--------------------+\n",
      "|20210304|  14|     7.1103|[20210304, 14, 7....|\n",
      "+--------+----+-----------+--------------------+\n",
      "\n",
      "None\n",
      "origin Data\n",
      "                                                  df\n",
      "8  (0.0, 7.5469, 생활정수, 0.0, 고양정수장, None, 4128512319)\n",
      "Prediction: 7.1103 Ph\n",
      "Generate New Prediction...\n"
     ]
    },
    {
     "data": {
      "text/plain": [
       "DataFrame[Date: string, Hour: string, Predict_val: double]"
      ]
     },
     "metadata": {},
     "output_type": "display_data"
    },
    {
     "name": "stdout",
     "output_type": "stream",
     "text": [
      "+--------+----+-----------+\n",
      "|    Date|Hour|Predict_val|\n",
      "+--------+----+-----------+\n",
      "|20210304|  14|     7.1103|\n",
      "+--------+----+-----------+\n",
      "\n",
      "None\n",
      "+--------+----+-----------+--------------------+\n",
      "|    Date|Hour|Predict_val|               value|\n",
      "+--------+----+-----------+--------------------+\n",
      "|20210304|  14|     7.1103|[20210304, 14, 7....|\n",
      "+--------+----+-----------+--------------------+\n",
      "\n",
      "None\n",
      "origin Data\n",
      "                                                  df\n",
      "8  (0.0, 7.5469, 생활정수, 0.0, 고양정수장, None, 4128512319)\n",
      "Prediction: 7.1103 Ph\n",
      "Generate New Prediction...\n"
     ]
    },
    {
     "data": {
      "text/plain": [
       "DataFrame[Date: string, Hour: string, Predict_val: double]"
      ]
     },
     "metadata": {},
     "output_type": "display_data"
    },
    {
     "name": "stdout",
     "output_type": "stream",
     "text": [
      "+--------+----+-----------+\n",
      "|    Date|Hour|Predict_val|\n",
      "+--------+----+-----------+\n",
      "|20210304|  14|     7.1103|\n",
      "+--------+----+-----------+\n",
      "\n",
      "None\n",
      "+--------+----+-----------+--------------------+\n",
      "|    Date|Hour|Predict_val|               value|\n",
      "+--------+----+-----------+--------------------+\n",
      "|20210304|  14|     7.1103|[20210304, 14, 7....|\n",
      "+--------+----+-----------+--------------------+\n",
      "\n",
      "None\n",
      "origin Data\n",
      "                                                  df\n",
      "8  (0.0, 7.5469, 생활정수, 0.0, 고양정수장, None, 4128512319)\n",
      "Prediction: 7.1103 Ph\n",
      "Generate New Prediction...\n"
     ]
    },
    {
     "data": {
      "text/plain": [
       "DataFrame[Date: string, Hour: string, Predict_val: double]"
      ]
     },
     "metadata": {},
     "output_type": "display_data"
    },
    {
     "name": "stdout",
     "output_type": "stream",
     "text": [
      "+--------+----+-----------+\n",
      "|    Date|Hour|Predict_val|\n",
      "+--------+----+-----------+\n",
      "|20210304|  14|     7.1103|\n",
      "+--------+----+-----------+\n",
      "\n",
      "None\n",
      "+--------+----+-----------+--------------------+\n",
      "|    Date|Hour|Predict_val|               value|\n",
      "+--------+----+-----------+--------------------+\n",
      "|20210304|  14|     7.1103|[20210304, 14, 7....|\n",
      "+--------+----+-----------+--------------------+\n",
      "\n",
      "None\n",
      "origin Data\n",
      "                                                  df\n",
      "8  (0.0, 7.5469, 생활정수, 0.0, 고양정수장, None, 4128512319)\n",
      "Prediction: 7.1103 Ph\n",
      "Generate New Prediction...\n"
     ]
    },
    {
     "data": {
      "text/plain": [
       "DataFrame[Date: string, Hour: string, Predict_val: double]"
      ]
     },
     "metadata": {},
     "output_type": "display_data"
    },
    {
     "name": "stdout",
     "output_type": "stream",
     "text": [
      "+--------+----+-----------+\n",
      "|    Date|Hour|Predict_val|\n",
      "+--------+----+-----------+\n",
      "|20210304|  14|     7.1103|\n",
      "+--------+----+-----------+\n",
      "\n",
      "None\n",
      "+--------+----+-----------+--------------------+\n",
      "|    Date|Hour|Predict_val|               value|\n",
      "+--------+----+-----------+--------------------+\n",
      "|20210304|  14|     7.1103|[20210304, 14, 7....|\n",
      "+--------+----+-----------+--------------------+\n",
      "\n",
      "None\n",
      "origin Data\n",
      "                                                  df\n",
      "8  (0.0, 7.5469, 생활정수, 0.0, 고양정수장, None, 4128512319)\n",
      "Prediction: 7.1103 Ph\n",
      "Generate New Prediction...\n"
     ]
    },
    {
     "data": {
      "text/plain": [
       "DataFrame[Date: string, Hour: string, Predict_val: double]"
      ]
     },
     "metadata": {},
     "output_type": "display_data"
    },
    {
     "name": "stdout",
     "output_type": "stream",
     "text": [
      "+--------+----+-----------+\n",
      "|    Date|Hour|Predict_val|\n",
      "+--------+----+-----------+\n",
      "|20210304|  14|     7.1103|\n",
      "+--------+----+-----------+\n",
      "\n",
      "None\n",
      "+--------+----+-----------+--------------------+\n",
      "|    Date|Hour|Predict_val|               value|\n",
      "+--------+----+-----------+--------------------+\n",
      "|20210304|  14|     7.1103|[20210304, 14, 7....|\n",
      "+--------+----+-----------+--------------------+\n",
      "\n",
      "None\n",
      "origin Data\n",
      "                                                  df\n",
      "8  (0.0, 7.5469, 생활정수, 0.0, 고양정수장, None, 4128512319)\n",
      "Prediction: 7.1103 Ph\n",
      "Generate New Prediction...\n"
     ]
    },
    {
     "data": {
      "text/plain": [
       "DataFrame[Date: string, Hour: string, Predict_val: double]"
      ]
     },
     "metadata": {},
     "output_type": "display_data"
    },
    {
     "name": "stdout",
     "output_type": "stream",
     "text": [
      "+--------+----+-----------+\n",
      "|    Date|Hour|Predict_val|\n",
      "+--------+----+-----------+\n",
      "|20210304|  14|     7.1103|\n",
      "+--------+----+-----------+\n",
      "\n",
      "None\n",
      "+--------+----+-----------+--------------------+\n",
      "|    Date|Hour|Predict_val|               value|\n",
      "+--------+----+-----------+--------------------+\n",
      "|20210304|  14|     7.1103|[20210304, 14, 7....|\n",
      "+--------+----+-----------+--------------------+\n",
      "\n",
      "None\n",
      "origin Data\n",
      "                                                  df\n",
      "8  (0.0, 7.5469, 생활정수, 0.0, 고양정수장, None, 4128512319)\n",
      "Prediction: 7.1103 Ph\n",
      "Generate New Prediction...\n"
     ]
    },
    {
     "data": {
      "text/plain": [
       "DataFrame[Date: string, Hour: string, Predict_val: double]"
      ]
     },
     "metadata": {},
     "output_type": "display_data"
    },
    {
     "name": "stdout",
     "output_type": "stream",
     "text": [
      "+--------+----+-----------+\n",
      "|    Date|Hour|Predict_val|\n",
      "+--------+----+-----------+\n",
      "|20210304|  14|     7.1103|\n",
      "+--------+----+-----------+\n",
      "\n",
      "None\n",
      "+--------+----+-----------+--------------------+\n",
      "|    Date|Hour|Predict_val|               value|\n",
      "+--------+----+-----------+--------------------+\n",
      "|20210304|  14|     7.1103|[20210304, 14, 7....|\n",
      "+--------+----+-----------+--------------------+\n",
      "\n",
      "None\n",
      "origin Data\n",
      "                                                  df\n",
      "8  (0.0, 7.5469, 생활정수, 0.0, 고양정수장, None, 4128512319)\n",
      "Prediction: 7.1103 Ph\n",
      "Generate New Prediction...\n"
     ]
    },
    {
     "data": {
      "text/plain": [
       "DataFrame[Date: string, Hour: string, Predict_val: double]"
      ]
     },
     "metadata": {},
     "output_type": "display_data"
    },
    {
     "name": "stdout",
     "output_type": "stream",
     "text": [
      "+--------+----+-----------+\n",
      "|    Date|Hour|Predict_val|\n",
      "+--------+----+-----------+\n",
      "|20210304|  14|     7.1103|\n",
      "+--------+----+-----------+\n",
      "\n",
      "None\n",
      "+--------+----+-----------+--------------------+\n",
      "|    Date|Hour|Predict_val|               value|\n",
      "+--------+----+-----------+--------------------+\n",
      "|20210304|  14|     7.1103|[20210304, 14, 7....|\n",
      "+--------+----+-----------+--------------------+\n",
      "\n",
      "None\n",
      "origin Data\n",
      "                                                  df\n",
      "8  (0.0, 7.5469, 생활정수, 0.0, 고양정수장, None, 4128512319)\n",
      "Prediction: 7.1103 Ph\n",
      "Generate New Prediction...\n"
     ]
    },
    {
     "data": {
      "text/plain": [
       "DataFrame[Date: string, Hour: string, Predict_val: double]"
      ]
     },
     "metadata": {},
     "output_type": "display_data"
    },
    {
     "name": "stdout",
     "output_type": "stream",
     "text": [
      "+--------+----+-----------+\n",
      "|    Date|Hour|Predict_val|\n",
      "+--------+----+-----------+\n",
      "|20210304|  14|     7.1103|\n",
      "+--------+----+-----------+\n",
      "\n",
      "None\n",
      "+--------+----+-----------+--------------------+\n",
      "|    Date|Hour|Predict_val|               value|\n",
      "+--------+----+-----------+--------------------+\n",
      "|20210304|  14|     7.1103|[20210304, 14, 7....|\n",
      "+--------+----+-----------+--------------------+\n",
      "\n",
      "None\n",
      "origin Data\n",
      "                                                  df\n",
      "8  (0.0, 7.5469, 생활정수, 0.0, 고양정수장, None, 4128512319)\n",
      "Prediction: 7.1103 Ph\n",
      "Generate New Prediction...\n"
     ]
    },
    {
     "data": {
      "text/plain": [
       "DataFrame[Date: string, Hour: string, Predict_val: double]"
      ]
     },
     "metadata": {},
     "output_type": "display_data"
    },
    {
     "name": "stdout",
     "output_type": "stream",
     "text": [
      "+--------+----+-----------+\n",
      "|    Date|Hour|Predict_val|\n",
      "+--------+----+-----------+\n",
      "|20210304|  14|     7.1103|\n",
      "+--------+----+-----------+\n",
      "\n",
      "None\n",
      "+--------+----+-----------+--------------------+\n",
      "|    Date|Hour|Predict_val|               value|\n",
      "+--------+----+-----------+--------------------+\n",
      "|20210304|  14|     7.1103|[20210304, 14, 7....|\n",
      "+--------+----+-----------+--------------------+\n",
      "\n",
      "None\n",
      "origin Data\n",
      "                                                  df\n",
      "8  (0.0, 7.5469, 생활정수, 0.0, 고양정수장, None, 4128512319)\n",
      "Prediction: 7.1103 Ph\n",
      "Generate New Prediction...\n"
     ]
    },
    {
     "data": {
      "text/plain": [
       "DataFrame[Date: string, Hour: string, Predict_val: double]"
      ]
     },
     "metadata": {},
     "output_type": "display_data"
    },
    {
     "name": "stdout",
     "output_type": "stream",
     "text": [
      "+--------+----+-----------+\n",
      "|    Date|Hour|Predict_val|\n",
      "+--------+----+-----------+\n",
      "|20210304|  14|     7.1103|\n",
      "+--------+----+-----------+\n",
      "\n",
      "None\n",
      "+--------+----+-----------+--------------------+\n",
      "|    Date|Hour|Predict_val|               value|\n",
      "+--------+----+-----------+--------------------+\n",
      "|20210304|  14|     7.1103|[20210304, 14, 7....|\n",
      "+--------+----+-----------+--------------------+\n",
      "\n",
      "None\n",
      "origin Data\n",
      "                                                  df\n",
      "8  (0.0, 7.5469, 생활정수, 0.0, 고양정수장, None, 4128512319)\n",
      "Prediction: 7.1103 Ph\n",
      "Generate New Prediction...\n"
     ]
    },
    {
     "data": {
      "text/plain": [
       "DataFrame[Date: string, Hour: string, Predict_val: double]"
      ]
     },
     "metadata": {},
     "output_type": "display_data"
    },
    {
     "name": "stdout",
     "output_type": "stream",
     "text": [
      "+--------+----+-----------+\n",
      "|    Date|Hour|Predict_val|\n",
      "+--------+----+-----------+\n",
      "|20210304|  14|     7.1103|\n",
      "+--------+----+-----------+\n",
      "\n",
      "None\n",
      "+--------+----+-----------+--------------------+\n",
      "|    Date|Hour|Predict_val|               value|\n",
      "+--------+----+-----------+--------------------+\n",
      "|20210304|  14|     7.1103|[20210304, 14, 7....|\n",
      "+--------+----+-----------+--------------------+\n",
      "\n",
      "None\n",
      "origin Data\n",
      "                                                  df\n",
      "8  (0.0, 7.5469, 생활정수, 0.0, 고양정수장, None, 4128512319)\n",
      "Prediction: 7.1103 Ph\n",
      "Generate New Prediction...\n"
     ]
    },
    {
     "data": {
      "text/plain": [
       "DataFrame[Date: string, Hour: string, Predict_val: double]"
      ]
     },
     "metadata": {},
     "output_type": "display_data"
    },
    {
     "name": "stdout",
     "output_type": "stream",
     "text": [
      "+--------+----+-----------+\n",
      "|    Date|Hour|Predict_val|\n",
      "+--------+----+-----------+\n",
      "|20210304|  14|     7.1103|\n",
      "+--------+----+-----------+\n",
      "\n",
      "None\n",
      "+--------+----+-----------+--------------------+\n",
      "|    Date|Hour|Predict_val|               value|\n",
      "+--------+----+-----------+--------------------+\n",
      "|20210304|  14|     7.1103|[20210304, 14, 7....|\n",
      "+--------+----+-----------+--------------------+\n",
      "\n",
      "None\n",
      "origin Data\n",
      "                                                  df\n",
      "8  (0.0, 7.5469, 생활정수, 0.0, 고양정수장, None, 4128512319)\n",
      "Prediction: 7.1103 Ph\n",
      "Generate New Prediction...\n"
     ]
    },
    {
     "data": {
      "text/plain": [
       "DataFrame[Date: string, Hour: string, Predict_val: double]"
      ]
     },
     "metadata": {},
     "output_type": "display_data"
    },
    {
     "name": "stdout",
     "output_type": "stream",
     "text": [
      "+--------+----+-----------+\n",
      "|    Date|Hour|Predict_val|\n",
      "+--------+----+-----------+\n",
      "|20210304|  14|     7.1103|\n",
      "+--------+----+-----------+\n",
      "\n",
      "None\n",
      "+--------+----+-----------+--------------------+\n",
      "|    Date|Hour|Predict_val|               value|\n",
      "+--------+----+-----------+--------------------+\n",
      "|20210304|  14|     7.1103|[20210304, 14, 7....|\n",
      "+--------+----+-----------+--------------------+\n",
      "\n",
      "None\n",
      "origin Data\n",
      "                                                  df\n",
      "8  (0.0, 7.5469, 생활정수, 0.0, 고양정수장, None, 4128512319)\n",
      "Prediction: 7.1103 Ph\n",
      "Generate New Prediction...\n"
     ]
    },
    {
     "data": {
      "text/plain": [
       "DataFrame[Date: string, Hour: string, Predict_val: double]"
      ]
     },
     "metadata": {},
     "output_type": "display_data"
    },
    {
     "name": "stdout",
     "output_type": "stream",
     "text": [
      "+--------+----+-----------+\n",
      "|    Date|Hour|Predict_val|\n",
      "+--------+----+-----------+\n",
      "|20210304|  14|     7.1103|\n",
      "+--------+----+-----------+\n",
      "\n",
      "None\n",
      "+--------+----+-----------+--------------------+\n",
      "|    Date|Hour|Predict_val|               value|\n",
      "+--------+----+-----------+--------------------+\n",
      "|20210304|  14|     7.1103|[20210304, 14, 7....|\n",
      "+--------+----+-----------+--------------------+\n",
      "\n",
      "None\n",
      "origin Data\n",
      "                                                  df\n",
      "8  (0.0, 7.5469, 생활정수, 0.0, 고양정수장, None, 4128512319)\n",
      "Prediction: 7.1103 Ph\n",
      "Generate New Prediction...\n"
     ]
    },
    {
     "data": {
      "text/plain": [
       "DataFrame[Date: string, Hour: string, Predict_val: double]"
      ]
     },
     "metadata": {},
     "output_type": "display_data"
    },
    {
     "name": "stdout",
     "output_type": "stream",
     "text": [
      "+--------+----+-----------+\n",
      "|    Date|Hour|Predict_val|\n",
      "+--------+----+-----------+\n",
      "|20210304|  14|     7.1103|\n",
      "+--------+----+-----------+\n",
      "\n",
      "None\n",
      "+--------+----+-----------+--------------------+\n",
      "|    Date|Hour|Predict_val|               value|\n",
      "+--------+----+-----------+--------------------+\n",
      "|20210304|  14|     7.1103|[20210304, 14, 7....|\n",
      "+--------+----+-----------+--------------------+\n",
      "\n",
      "None\n",
      "origin Data\n",
      "                                                  df\n",
      "8  (0.0, 7.5469, 생활정수, 0.0, 고양정수장, None, 4128512319)\n",
      "Prediction: 7.1103 Ph\n",
      "Generate New Prediction...\n"
     ]
    },
    {
     "data": {
      "text/plain": [
       "DataFrame[Date: string, Hour: string, Predict_val: double]"
      ]
     },
     "metadata": {},
     "output_type": "display_data"
    },
    {
     "name": "stdout",
     "output_type": "stream",
     "text": [
      "+--------+----+-----------+\n",
      "|    Date|Hour|Predict_val|\n",
      "+--------+----+-----------+\n",
      "|20210304|  14|     7.1103|\n",
      "+--------+----+-----------+\n",
      "\n",
      "None\n",
      "+--------+----+-----------+--------------------+\n",
      "|    Date|Hour|Predict_val|               value|\n",
      "+--------+----+-----------+--------------------+\n",
      "|20210304|  14|     7.1103|[20210304, 14, 7....|\n",
      "+--------+----+-----------+--------------------+\n",
      "\n",
      "None\n",
      "origin Data\n",
      "                                                  df\n",
      "8  (0.0, 7.5469, 생활정수, 0.0, 고양정수장, None, 4128512319)\n",
      "Prediction: 7.1103 Ph\n",
      "Generate New Prediction...\n"
     ]
    },
    {
     "data": {
      "text/plain": [
       "DataFrame[Date: string, Hour: string, Predict_val: double]"
      ]
     },
     "metadata": {},
     "output_type": "display_data"
    },
    {
     "name": "stdout",
     "output_type": "stream",
     "text": [
      "+--------+----+-----------+\n",
      "|    Date|Hour|Predict_val|\n",
      "+--------+----+-----------+\n",
      "|20210304|  14|     7.1103|\n",
      "+--------+----+-----------+\n",
      "\n",
      "None\n",
      "+--------+----+-----------+--------------------+\n",
      "|    Date|Hour|Predict_val|               value|\n",
      "+--------+----+-----------+--------------------+\n",
      "|20210304|  14|     7.1103|[20210304, 14, 7....|\n",
      "+--------+----+-----------+--------------------+\n",
      "\n",
      "None\n",
      "origin Data\n",
      "                                                  df\n",
      "8  (0.0, 7.5469, 생활정수, 0.0, 고양정수장, None, 4128512319)\n",
      "Prediction: 7.1103 Ph\n",
      "Generate New Prediction...\n"
     ]
    },
    {
     "data": {
      "text/plain": [
       "DataFrame[Date: string, Hour: string, Predict_val: double]"
      ]
     },
     "metadata": {},
     "output_type": "display_data"
    },
    {
     "name": "stdout",
     "output_type": "stream",
     "text": [
      "+--------+----+-----------+\n",
      "|    Date|Hour|Predict_val|\n",
      "+--------+----+-----------+\n",
      "|20210304|  14|     7.1103|\n",
      "+--------+----+-----------+\n",
      "\n",
      "None\n",
      "+--------+----+-----------+--------------------+\n",
      "|    Date|Hour|Predict_val|               value|\n",
      "+--------+----+-----------+--------------------+\n",
      "|20210304|  14|     7.1103|[20210304, 14, 7....|\n",
      "+--------+----+-----------+--------------------+\n",
      "\n",
      "None\n",
      "origin Data\n",
      "                                                  df\n",
      "8  (0.0, 7.5469, 생활정수, 0.0, 고양정수장, None, 4128512319)\n",
      "Prediction: 7.1103 Ph\n",
      "Generate New Prediction...\n"
     ]
    },
    {
     "data": {
      "text/plain": [
       "DataFrame[Date: string, Hour: string, Predict_val: double]"
      ]
     },
     "metadata": {},
     "output_type": "display_data"
    },
    {
     "name": "stdout",
     "output_type": "stream",
     "text": [
      "+--------+----+-----------+\n",
      "|    Date|Hour|Predict_val|\n",
      "+--------+----+-----------+\n",
      "|20210304|  14|     7.1103|\n",
      "+--------+----+-----------+\n",
      "\n",
      "None\n",
      "+--------+----+-----------+--------------------+\n",
      "|    Date|Hour|Predict_val|               value|\n",
      "+--------+----+-----------+--------------------+\n",
      "|20210304|  14|     7.1103|[20210304, 14, 7....|\n",
      "+--------+----+-----------+--------------------+\n",
      "\n",
      "None\n",
      "origin Data\n",
      "                                                  df\n",
      "8  (0.0, 7.5469, 생활정수, 0.0, 고양정수장, None, 4128512319)\n",
      "Prediction: 7.1103 Ph\n",
      "Generate New Prediction...\n"
     ]
    },
    {
     "data": {
      "text/plain": [
       "DataFrame[Date: string, Hour: string, Predict_val: double]"
      ]
     },
     "metadata": {},
     "output_type": "display_data"
    },
    {
     "name": "stdout",
     "output_type": "stream",
     "text": [
      "+--------+----+-----------+\n",
      "|    Date|Hour|Predict_val|\n",
      "+--------+----+-----------+\n",
      "|20210304|  14|     7.1103|\n",
      "+--------+----+-----------+\n",
      "\n",
      "None\n",
      "+--------+----+-----------+--------------------+\n",
      "|    Date|Hour|Predict_val|               value|\n",
      "+--------+----+-----------+--------------------+\n",
      "|20210304|  14|     7.1103|[20210304, 14, 7....|\n",
      "+--------+----+-----------+--------------------+\n",
      "\n",
      "None\n",
      "origin Data\n",
      "                                                  df\n",
      "8  (0.0, 7.5469, 생활정수, 0.0, 고양정수장, None, 4128512319)\n",
      "Prediction: 7.1103 Ph\n",
      "Generate New Prediction...\n"
     ]
    },
    {
     "data": {
      "text/plain": [
       "DataFrame[Date: string, Hour: string, Predict_val: double]"
      ]
     },
     "metadata": {},
     "output_type": "display_data"
    },
    {
     "name": "stdout",
     "output_type": "stream",
     "text": [
      "+--------+----+-----------+\n",
      "|    Date|Hour|Predict_val|\n",
      "+--------+----+-----------+\n",
      "|20210304|  14|     7.1103|\n",
      "+--------+----+-----------+\n",
      "\n",
      "None\n",
      "+--------+----+-----------+--------------------+\n",
      "|    Date|Hour|Predict_val|               value|\n",
      "+--------+----+-----------+--------------------+\n",
      "|20210304|  14|     7.1103|[20210304, 14, 7....|\n",
      "+--------+----+-----------+--------------------+\n",
      "\n",
      "None\n",
      "origin Data\n",
      "                                                  df\n",
      "8  (0.0, 7.5469, 생활정수, 0.0, 고양정수장, None, 4128512319)\n",
      "Prediction: 7.1103 Ph\n",
      "Generate New Prediction...\n"
     ]
    },
    {
     "data": {
      "text/plain": [
       "DataFrame[Date: string, Hour: string, Predict_val: double]"
      ]
     },
     "metadata": {},
     "output_type": "display_data"
    },
    {
     "name": "stdout",
     "output_type": "stream",
     "text": [
      "+--------+----+-----------+\n",
      "|    Date|Hour|Predict_val|\n",
      "+--------+----+-----------+\n",
      "|20210304|  14|     7.1103|\n",
      "+--------+----+-----------+\n",
      "\n",
      "None\n",
      "+--------+----+-----------+--------------------+\n",
      "|    Date|Hour|Predict_val|               value|\n",
      "+--------+----+-----------+--------------------+\n",
      "|20210304|  14|     7.1103|[20210304, 14, 7....|\n",
      "+--------+----+-----------+--------------------+\n",
      "\n",
      "None\n",
      "origin Data\n",
      "                                                  df\n",
      "8  (0.0, 7.5469, 생활정수, 0.0, 고양정수장, None, 4128512319)\n",
      "Prediction: 7.1103 Ph\n",
      "Generate New Prediction...\n"
     ]
    },
    {
     "data": {
      "text/plain": [
       "DataFrame[Date: string, Hour: string, Predict_val: double]"
      ]
     },
     "metadata": {},
     "output_type": "display_data"
    },
    {
     "name": "stdout",
     "output_type": "stream",
     "text": [
      "+--------+----+-----------+\n",
      "|    Date|Hour|Predict_val|\n",
      "+--------+----+-----------+\n",
      "|20210304|  14|     7.1103|\n",
      "+--------+----+-----------+\n",
      "\n",
      "None\n",
      "+--------+----+-----------+--------------------+\n",
      "|    Date|Hour|Predict_val|               value|\n",
      "+--------+----+-----------+--------------------+\n",
      "|20210304|  14|     7.1103|[20210304, 14, 7....|\n",
      "+--------+----+-----------+--------------------+\n",
      "\n",
      "None\n",
      "origin Data\n",
      "                                                  df\n",
      "8  (0.0, 7.5469, 생활정수, 0.0, 고양정수장, None, 4128512319)\n",
      "Prediction: 7.1103 Ph\n",
      "Generate New Prediction...\n"
     ]
    },
    {
     "data": {
      "text/plain": [
       "DataFrame[Date: string, Hour: string, Predict_val: double]"
      ]
     },
     "metadata": {},
     "output_type": "display_data"
    },
    {
     "name": "stdout",
     "output_type": "stream",
     "text": [
      "+--------+----+-----------+\n",
      "|    Date|Hour|Predict_val|\n",
      "+--------+----+-----------+\n",
      "|20210304|  14|     7.1103|\n",
      "+--------+----+-----------+\n",
      "\n",
      "None\n",
      "+--------+----+-----------+--------------------+\n",
      "|    Date|Hour|Predict_val|               value|\n",
      "+--------+----+-----------+--------------------+\n",
      "|20210304|  14|     7.1103|[20210304, 14, 7....|\n",
      "+--------+----+-----------+--------------------+\n",
      "\n",
      "None\n",
      "origin Data\n",
      "                                                  df\n",
      "8  (0.0, 7.5469, 생활정수, 0.0, 고양정수장, None, 4128512319)\n",
      "Prediction: 7.1103 Ph\n",
      "Generate New Prediction...\n"
     ]
    },
    {
     "data": {
      "text/plain": [
       "DataFrame[Date: string, Hour: string, Predict_val: double]"
      ]
     },
     "metadata": {},
     "output_type": "display_data"
    },
    {
     "name": "stdout",
     "output_type": "stream",
     "text": [
      "+--------+----+-----------+\n",
      "|    Date|Hour|Predict_val|\n",
      "+--------+----+-----------+\n",
      "|20210304|  14|     7.1103|\n",
      "+--------+----+-----------+\n",
      "\n",
      "None\n",
      "+--------+----+-----------+--------------------+\n",
      "|    Date|Hour|Predict_val|               value|\n",
      "+--------+----+-----------+--------------------+\n",
      "|20210304|  14|     7.1103|[20210304, 14, 7....|\n",
      "+--------+----+-----------+--------------------+\n",
      "\n",
      "None\n",
      "origin Data\n",
      "                                                  df\n",
      "8  (0.0, 7.5469, 생활정수, 0.0, 고양정수장, None, 4128512319)\n",
      "Prediction: 7.1103 Ph\n",
      "Generate New Prediction...\n"
     ]
    },
    {
     "data": {
      "text/plain": [
       "DataFrame[Date: string, Hour: string, Predict_val: double]"
      ]
     },
     "metadata": {},
     "output_type": "display_data"
    },
    {
     "name": "stdout",
     "output_type": "stream",
     "text": [
      "+--------+----+-----------+\n",
      "|    Date|Hour|Predict_val|\n",
      "+--------+----+-----------+\n",
      "|20210304|  14|     7.1103|\n",
      "+--------+----+-----------+\n",
      "\n",
      "None\n",
      "+--------+----+-----------+--------------------+\n",
      "|    Date|Hour|Predict_val|               value|\n",
      "+--------+----+-----------+--------------------+\n",
      "|20210304|  14|     7.1103|[20210304, 14, 7....|\n",
      "+--------+----+-----------+--------------------+\n",
      "\n",
      "None\n",
      "origin Data\n",
      "                                                  df\n",
      "8  (0.0, 7.5469, 생활정수, 0.0, 고양정수장, None, 4128512319)\n",
      "Prediction: 7.1103 Ph\n",
      "Generate New Prediction...\n"
     ]
    },
    {
     "data": {
      "text/plain": [
       "DataFrame[Date: string, Hour: string, Predict_val: double]"
      ]
     },
     "metadata": {},
     "output_type": "display_data"
    },
    {
     "name": "stdout",
     "output_type": "stream",
     "text": [
      "+--------+----+-----------+\n",
      "|    Date|Hour|Predict_val|\n",
      "+--------+----+-----------+\n",
      "|20210304|  14|     7.1103|\n",
      "+--------+----+-----------+\n",
      "\n",
      "None\n",
      "+--------+----+-----------+--------------------+\n",
      "|    Date|Hour|Predict_val|               value|\n",
      "+--------+----+-----------+--------------------+\n",
      "|20210304|  14|     7.1103|[20210304, 14, 7....|\n",
      "+--------+----+-----------+--------------------+\n",
      "\n",
      "None\n",
      "origin Data\n",
      "                                                  df\n",
      "8  (0.0, 7.5469, 생활정수, 0.0, 고양정수장, None, 4128512319)\n",
      "Prediction: 7.1103 Ph\n",
      "Generate New Prediction...\n"
     ]
    },
    {
     "data": {
      "text/plain": [
       "DataFrame[Date: string, Hour: string, Predict_val: double]"
      ]
     },
     "metadata": {},
     "output_type": "display_data"
    },
    {
     "name": "stdout",
     "output_type": "stream",
     "text": [
      "+--------+----+-----------+\n",
      "|    Date|Hour|Predict_val|\n",
      "+--------+----+-----------+\n",
      "|20210304|  14|     7.1103|\n",
      "+--------+----+-----------+\n",
      "\n",
      "None\n",
      "+--------+----+-----------+--------------------+\n",
      "|    Date|Hour|Predict_val|               value|\n",
      "+--------+----+-----------+--------------------+\n",
      "|20210304|  14|     7.1103|[20210304, 14, 7....|\n",
      "+--------+----+-----------+--------------------+\n",
      "\n",
      "None\n",
      "origin Data\n",
      "                                                  df\n",
      "8  (0.0, 7.5469, 생활정수, 0.0, 고양정수장, None, 4128512319)\n",
      "Prediction: 7.1103 Ph\n",
      "Generate New Prediction...\n"
     ]
    },
    {
     "data": {
      "text/plain": [
       "DataFrame[Date: string, Hour: string, Predict_val: double]"
      ]
     },
     "metadata": {},
     "output_type": "display_data"
    },
    {
     "name": "stdout",
     "output_type": "stream",
     "text": [
      "+--------+----+-----------+\n",
      "|    Date|Hour|Predict_val|\n",
      "+--------+----+-----------+\n",
      "|20210304|  14|     7.1103|\n",
      "+--------+----+-----------+\n",
      "\n",
      "None\n",
      "+--------+----+-----------+--------------------+\n",
      "|    Date|Hour|Predict_val|               value|\n",
      "+--------+----+-----------+--------------------+\n",
      "|20210304|  14|     7.1103|[20210304, 14, 7....|\n",
      "+--------+----+-----------+--------------------+\n",
      "\n",
      "None\n",
      "origin Data\n",
      "                                                  df\n",
      "8  (0.0, 7.5469, 생활정수, 0.0, 고양정수장, None, 4128512319)\n",
      "Prediction: 7.1103 Ph\n",
      "Generate New Prediction...\n"
     ]
    },
    {
     "data": {
      "text/plain": [
       "DataFrame[Date: string, Hour: string, Predict_val: double]"
      ]
     },
     "metadata": {},
     "output_type": "display_data"
    },
    {
     "name": "stdout",
     "output_type": "stream",
     "text": [
      "+--------+----+-----------+\n",
      "|    Date|Hour|Predict_val|\n",
      "+--------+----+-----------+\n",
      "|20210304|  14|     7.1103|\n",
      "+--------+----+-----------+\n",
      "\n",
      "None\n",
      "+--------+----+-----------+--------------------+\n",
      "|    Date|Hour|Predict_val|               value|\n",
      "+--------+----+-----------+--------------------+\n",
      "|20210304|  14|     7.1103|[20210304, 14, 7....|\n",
      "+--------+----+-----------+--------------------+\n",
      "\n",
      "None\n",
      "origin Data\n",
      "                                                  df\n",
      "8  (0.0, 7.5469, 생활정수, 0.0, 고양정수장, None, 4128512319)\n",
      "Prediction: 7.1103 Ph\n",
      "Generate New Prediction...\n"
     ]
    },
    {
     "data": {
      "text/plain": [
       "DataFrame[Date: string, Hour: string, Predict_val: double]"
      ]
     },
     "metadata": {},
     "output_type": "display_data"
    },
    {
     "name": "stdout",
     "output_type": "stream",
     "text": [
      "+--------+----+-----------+\n",
      "|    Date|Hour|Predict_val|\n",
      "+--------+----+-----------+\n",
      "|20210304|  14|     7.1103|\n",
      "+--------+----+-----------+\n",
      "\n",
      "None\n",
      "+--------+----+-----------+--------------------+\n",
      "|    Date|Hour|Predict_val|               value|\n",
      "+--------+----+-----------+--------------------+\n",
      "|20210304|  14|     7.1103|[20210304, 14, 7....|\n",
      "+--------+----+-----------+--------------------+\n",
      "\n",
      "None\n",
      "origin Data\n",
      "                                                  df\n",
      "8  (0.0, 7.5469, 생활정수, 0.0, 고양정수장, None, 4128512319)\n",
      "Prediction: 7.1103 Ph\n",
      "Generate New Prediction...\n"
     ]
    },
    {
     "data": {
      "text/plain": [
       "DataFrame[Date: string, Hour: string, Predict_val: double]"
      ]
     },
     "metadata": {},
     "output_type": "display_data"
    },
    {
     "name": "stdout",
     "output_type": "stream",
     "text": [
      "+--------+----+-----------+\n",
      "|    Date|Hour|Predict_val|\n",
      "+--------+----+-----------+\n",
      "|20210304|  14|     7.1103|\n",
      "+--------+----+-----------+\n",
      "\n",
      "None\n",
      "+--------+----+-----------+--------------------+\n",
      "|    Date|Hour|Predict_val|               value|\n",
      "+--------+----+-----------+--------------------+\n",
      "|20210304|  14|     7.1103|[20210304, 14, 7....|\n",
      "+--------+----+-----------+--------------------+\n",
      "\n",
      "None\n",
      "origin Data\n",
      "                                                  df\n",
      "8  (0.0, 7.5469, 생활정수, 0.0, 고양정수장, None, 4128512319)\n",
      "Prediction: 7.1103 Ph\n",
      "Generate New Prediction...\n"
     ]
    },
    {
     "data": {
      "text/plain": [
       "DataFrame[Date: string, Hour: string, Predict_val: double]"
      ]
     },
     "metadata": {},
     "output_type": "display_data"
    },
    {
     "name": "stdout",
     "output_type": "stream",
     "text": [
      "+--------+----+-----------+\n",
      "|    Date|Hour|Predict_val|\n",
      "+--------+----+-----------+\n",
      "|20210304|  14|     7.1103|\n",
      "+--------+----+-----------+\n",
      "\n",
      "None\n",
      "+--------+----+-----------+--------------------+\n",
      "|    Date|Hour|Predict_val|               value|\n",
      "+--------+----+-----------+--------------------+\n",
      "|20210304|  14|     7.1103|[20210304, 14, 7....|\n",
      "+--------+----+-----------+--------------------+\n",
      "\n",
      "None\n",
      "origin Data\n",
      "                                                  df\n",
      "8  (0.0, 7.5469, 생활정수, 0.0, 고양정수장, None, 4128512319)\n",
      "Prediction: 7.1103 Ph\n",
      "Generate New Prediction...\n"
     ]
    },
    {
     "data": {
      "text/plain": [
       "DataFrame[Date: string, Hour: string, Predict_val: double]"
      ]
     },
     "metadata": {},
     "output_type": "display_data"
    },
    {
     "name": "stdout",
     "output_type": "stream",
     "text": [
      "+--------+----+-----------+\n",
      "|    Date|Hour|Predict_val|\n",
      "+--------+----+-----------+\n",
      "|20210304|  14|     7.1103|\n",
      "+--------+----+-----------+\n",
      "\n",
      "None\n",
      "+--------+----+-----------+--------------------+\n",
      "|    Date|Hour|Predict_val|               value|\n",
      "+--------+----+-----------+--------------------+\n",
      "|20210304|  14|     7.1103|[20210304, 14, 7....|\n",
      "+--------+----+-----------+--------------------+\n",
      "\n",
      "None\n",
      "origin Data\n",
      "                                                  df\n",
      "8  (0.0, 7.5469, 생활정수, 0.0, 고양정수장, None, 4128512319)\n",
      "Prediction: 7.1103 Ph\n",
      "Generate New Prediction...\n"
     ]
    },
    {
     "data": {
      "text/plain": [
       "DataFrame[Date: string, Hour: string, Predict_val: double]"
      ]
     },
     "metadata": {},
     "output_type": "display_data"
    },
    {
     "name": "stdout",
     "output_type": "stream",
     "text": [
      "+--------+----+-----------+\n",
      "|    Date|Hour|Predict_val|\n",
      "+--------+----+-----------+\n",
      "|20210304|  14|     7.1103|\n",
      "+--------+----+-----------+\n",
      "\n",
      "None\n",
      "+--------+----+-----------+--------------------+\n",
      "|    Date|Hour|Predict_val|               value|\n",
      "+--------+----+-----------+--------------------+\n",
      "|20210304|  14|     7.1103|[20210304, 14, 7....|\n",
      "+--------+----+-----------+--------------------+\n",
      "\n",
      "None\n",
      "origin Data\n",
      "                                                  df\n",
      "8  (0.0, 7.5469, 생활정수, 0.0, 고양정수장, None, 4128512319)\n",
      "Prediction: 7.1103 Ph\n",
      "Generate New Prediction...\n"
     ]
    },
    {
     "data": {
      "text/plain": [
       "DataFrame[Date: string, Hour: string, Predict_val: double]"
      ]
     },
     "metadata": {},
     "output_type": "display_data"
    },
    {
     "name": "stdout",
     "output_type": "stream",
     "text": [
      "+--------+----+-----------+\n",
      "|    Date|Hour|Predict_val|\n",
      "+--------+----+-----------+\n",
      "|20210304|  14|     7.1103|\n",
      "+--------+----+-----------+\n",
      "\n",
      "None\n",
      "+--------+----+-----------+--------------------+\n",
      "|    Date|Hour|Predict_val|               value|\n",
      "+--------+----+-----------+--------------------+\n",
      "|20210304|  14|     7.1103|[20210304, 14, 7....|\n",
      "+--------+----+-----------+--------------------+\n",
      "\n",
      "None\n",
      "origin Data\n",
      "                                                  df\n",
      "8  (0.0, 7.5469, 생활정수, 0.0, 고양정수장, None, 4128512319)\n",
      "Prediction: 7.1103 Ph\n",
      "Generate New Prediction...\n"
     ]
    },
    {
     "data": {
      "text/plain": [
       "DataFrame[Date: string, Hour: string, Predict_val: double]"
      ]
     },
     "metadata": {},
     "output_type": "display_data"
    },
    {
     "name": "stdout",
     "output_type": "stream",
     "text": [
      "+--------+----+-----------+\n",
      "|    Date|Hour|Predict_val|\n",
      "+--------+----+-----------+\n",
      "|20210304|  14|     7.1103|\n",
      "+--------+----+-----------+\n",
      "\n",
      "None\n",
      "+--------+----+-----------+--------------------+\n",
      "|    Date|Hour|Predict_val|               value|\n",
      "+--------+----+-----------+--------------------+\n",
      "|20210304|  14|     7.1103|[20210304, 14, 7....|\n",
      "+--------+----+-----------+--------------------+\n",
      "\n",
      "None\n",
      "origin Data\n",
      "                                                  df\n",
      "8  (0.0, 7.5469, 생활정수, 0.0, 고양정수장, None, 4128512319)\n",
      "Prediction: 7.1103 Ph\n",
      "Generate New Prediction...\n"
     ]
    },
    {
     "data": {
      "text/plain": [
       "DataFrame[Date: string, Hour: string, Predict_val: double]"
      ]
     },
     "metadata": {},
     "output_type": "display_data"
    },
    {
     "name": "stdout",
     "output_type": "stream",
     "text": [
      "+--------+----+-----------+\n",
      "|    Date|Hour|Predict_val|\n",
      "+--------+----+-----------+\n",
      "|20210304|  14|     7.1103|\n",
      "+--------+----+-----------+\n",
      "\n",
      "None\n",
      "+--------+----+-----------+--------------------+\n",
      "|    Date|Hour|Predict_val|               value|\n",
      "+--------+----+-----------+--------------------+\n",
      "|20210304|  14|     7.1103|[20210304, 14, 7....|\n",
      "+--------+----+-----------+--------------------+\n",
      "\n",
      "None\n",
      "origin Data\n",
      "                                                  df\n",
      "8  (0.0, 7.5469, 생활정수, 0.0, 고양정수장, None, 4128512319)\n",
      "Prediction: 7.1103 Ph\n",
      "Generate New Prediction...\n"
     ]
    },
    {
     "data": {
      "text/plain": [
       "DataFrame[Date: string, Hour: string, Predict_val: double]"
      ]
     },
     "metadata": {},
     "output_type": "display_data"
    },
    {
     "name": "stdout",
     "output_type": "stream",
     "text": [
      "+--------+----+-----------+\n",
      "|    Date|Hour|Predict_val|\n",
      "+--------+----+-----------+\n",
      "|20210304|  14|     7.1103|\n",
      "+--------+----+-----------+\n",
      "\n",
      "None\n",
      "+--------+----+-----------+--------------------+\n",
      "|    Date|Hour|Predict_val|               value|\n",
      "+--------+----+-----------+--------------------+\n",
      "|20210304|  14|     7.1103|[20210304, 14, 7....|\n",
      "+--------+----+-----------+--------------------+\n",
      "\n",
      "None\n",
      "origin Data\n",
      "                                                  df\n",
      "8  (0.0, 7.5469, 생활정수, 0.0, 고양정수장, None, 4128512319)\n",
      "Prediction: 7.1103 Ph\n",
      "Generate New Prediction...\n"
     ]
    },
    {
     "data": {
      "text/plain": [
       "DataFrame[Date: string, Hour: string, Predict_val: double]"
      ]
     },
     "metadata": {},
     "output_type": "display_data"
    },
    {
     "name": "stdout",
     "output_type": "stream",
     "text": [
      "+--------+----+-----------+\n",
      "|    Date|Hour|Predict_val|\n",
      "+--------+----+-----------+\n",
      "|20210304|  14|     7.1103|\n",
      "+--------+----+-----------+\n",
      "\n",
      "None\n",
      "+--------+----+-----------+--------------------+\n",
      "|    Date|Hour|Predict_val|               value|\n",
      "+--------+----+-----------+--------------------+\n",
      "|20210304|  14|     7.1103|[20210304, 14, 7....|\n",
      "+--------+----+-----------+--------------------+\n",
      "\n",
      "None\n",
      "origin Data\n",
      "                                                  df\n",
      "8  (0.0, 7.5469, 생활정수, 0.0, 고양정수장, None, 4128512319)\n",
      "Prediction: 7.1103 Ph\n",
      "Generate New Prediction...\n"
     ]
    },
    {
     "data": {
      "text/plain": [
       "DataFrame[Date: string, Hour: string, Predict_val: double]"
      ]
     },
     "metadata": {},
     "output_type": "display_data"
    },
    {
     "name": "stdout",
     "output_type": "stream",
     "text": [
      "+--------+----+-----------+\n",
      "|    Date|Hour|Predict_val|\n",
      "+--------+----+-----------+\n",
      "|20210304|  14|     7.1103|\n",
      "+--------+----+-----------+\n",
      "\n",
      "None\n",
      "+--------+----+-----------+--------------------+\n",
      "|    Date|Hour|Predict_val|               value|\n",
      "+--------+----+-----------+--------------------+\n",
      "|20210304|  14|     7.1103|[20210304, 14, 7....|\n",
      "+--------+----+-----------+--------------------+\n",
      "\n",
      "None\n",
      "origin Data\n",
      "                                                  df\n",
      "8  (0.0, 7.5469, 생활정수, 0.0, 고양정수장, None, 4128512319)\n",
      "Prediction: 7.1103 Ph\n",
      "Generate New Prediction...\n"
     ]
    },
    {
     "data": {
      "text/plain": [
       "DataFrame[Date: string, Hour: string, Predict_val: double]"
      ]
     },
     "metadata": {},
     "output_type": "display_data"
    },
    {
     "name": "stdout",
     "output_type": "stream",
     "text": [
      "+--------+----+-----------+\n",
      "|    Date|Hour|Predict_val|\n",
      "+--------+----+-----------+\n",
      "|20210304|  14|     7.1103|\n",
      "+--------+----+-----------+\n",
      "\n",
      "None\n",
      "+--------+----+-----------+--------------------+\n",
      "|    Date|Hour|Predict_val|               value|\n",
      "+--------+----+-----------+--------------------+\n",
      "|20210304|  14|     7.1103|[20210304, 14, 7....|\n",
      "+--------+----+-----------+--------------------+\n",
      "\n",
      "None\n",
      "origin Data\n",
      "                                                  df\n",
      "8  (0.0, 7.5469, 생활정수, 0.0, 고양정수장, None, 4128512319)\n",
      "Prediction: 7.1103 Ph\n",
      "Generate New Prediction...\n"
     ]
    },
    {
     "data": {
      "text/plain": [
       "DataFrame[Date: string, Hour: string, Predict_val: double]"
      ]
     },
     "metadata": {},
     "output_type": "display_data"
    },
    {
     "name": "stdout",
     "output_type": "stream",
     "text": [
      "+--------+----+-----------+\n",
      "|    Date|Hour|Predict_val|\n",
      "+--------+----+-----------+\n",
      "|20210304|  14|     7.1103|\n",
      "+--------+----+-----------+\n",
      "\n",
      "None\n",
      "+--------+----+-----------+--------------------+\n",
      "|    Date|Hour|Predict_val|               value|\n",
      "+--------+----+-----------+--------------------+\n",
      "|20210304|  14|     7.1103|[20210304, 14, 7....|\n",
      "+--------+----+-----------+--------------------+\n",
      "\n",
      "None\n",
      "origin Data\n",
      "                                                  df\n",
      "8  (0.0, 7.5469, 생활정수, 0.0, 고양정수장, None, 4128512319)\n",
      "Prediction: 7.1103 Ph\n",
      "Generate New Prediction...\n"
     ]
    },
    {
     "data": {
      "text/plain": [
       "DataFrame[Date: string, Hour: string, Predict_val: double]"
      ]
     },
     "metadata": {},
     "output_type": "display_data"
    },
    {
     "name": "stdout",
     "output_type": "stream",
     "text": [
      "+--------+----+-----------+\n",
      "|    Date|Hour|Predict_val|\n",
      "+--------+----+-----------+\n",
      "|20210304|  14|     7.1103|\n",
      "+--------+----+-----------+\n",
      "\n",
      "None\n",
      "+--------+----+-----------+--------------------+\n",
      "|    Date|Hour|Predict_val|               value|\n",
      "+--------+----+-----------+--------------------+\n",
      "|20210304|  14|     7.1103|[20210304, 14, 7....|\n",
      "+--------+----+-----------+--------------------+\n",
      "\n",
      "None\n",
      "origin Data\n",
      "                                                  df\n",
      "8  (0.0, 7.5469, 생활정수, 0.0, 고양정수장, None, 4128512319)\n",
      "Prediction: 7.1103 Ph\n",
      "Generate New Prediction...\n"
     ]
    },
    {
     "data": {
      "text/plain": [
       "DataFrame[Date: string, Hour: string, Predict_val: double]"
      ]
     },
     "metadata": {},
     "output_type": "display_data"
    },
    {
     "name": "stdout",
     "output_type": "stream",
     "text": [
      "+--------+----+-----------+\n",
      "|    Date|Hour|Predict_val|\n",
      "+--------+----+-----------+\n",
      "|20210304|  14|     7.1103|\n",
      "+--------+----+-----------+\n",
      "\n",
      "None\n",
      "+--------+----+-----------+--------------------+\n",
      "|    Date|Hour|Predict_val|               value|\n",
      "+--------+----+-----------+--------------------+\n",
      "|20210304|  14|     7.1103|[20210304, 14, 7....|\n",
      "+--------+----+-----------+--------------------+\n",
      "\n",
      "None\n",
      "origin Data\n",
      "                                                  df\n",
      "8  (0.0, 7.5469, 생활정수, 0.0, 고양정수장, None, 4128512319)\n",
      "Prediction: 7.1103 Ph\n",
      "Generate New Prediction...\n"
     ]
    },
    {
     "data": {
      "text/plain": [
       "DataFrame[Date: string, Hour: string, Predict_val: double]"
      ]
     },
     "metadata": {},
     "output_type": "display_data"
    },
    {
     "name": "stdout",
     "output_type": "stream",
     "text": [
      "+--------+----+-----------+\n",
      "|    Date|Hour|Predict_val|\n",
      "+--------+----+-----------+\n",
      "|20210304|  14|     7.1103|\n",
      "+--------+----+-----------+\n",
      "\n",
      "None\n",
      "+--------+----+-----------+--------------------+\n",
      "|    Date|Hour|Predict_val|               value|\n",
      "+--------+----+-----------+--------------------+\n",
      "|20210304|  14|     7.1103|[20210304, 14, 7....|\n",
      "+--------+----+-----------+--------------------+\n",
      "\n",
      "None\n",
      "origin Data\n",
      "                                                  df\n",
      "8  (0.0, 7.5469, 생활정수, 0.0, 고양정수장, None, 4128512319)\n",
      "Prediction: 7.1103 Ph\n",
      "Generate New Prediction...\n"
     ]
    },
    {
     "data": {
      "text/plain": [
       "DataFrame[Date: string, Hour: string, Predict_val: double]"
      ]
     },
     "metadata": {},
     "output_type": "display_data"
    },
    {
     "name": "stdout",
     "output_type": "stream",
     "text": [
      "+--------+----+-----------+\n",
      "|    Date|Hour|Predict_val|\n",
      "+--------+----+-----------+\n",
      "|20210304|  14|     7.1103|\n",
      "+--------+----+-----------+\n",
      "\n",
      "None\n",
      "+--------+----+-----------+--------------------+\n",
      "|    Date|Hour|Predict_val|               value|\n",
      "+--------+----+-----------+--------------------+\n",
      "|20210304|  14|     7.1103|[20210304, 14, 7....|\n",
      "+--------+----+-----------+--------------------+\n",
      "\n",
      "None\n",
      "origin Data\n",
      "                                                  df\n",
      "8  (0.0, 7.5469, 생활정수, 0.0, 고양정수장, None, 4128512319)\n",
      "Prediction: 7.1103 Ph\n",
      "Generate New Prediction...\n"
     ]
    },
    {
     "data": {
      "text/plain": [
       "DataFrame[Date: string, Hour: string, Predict_val: double]"
      ]
     },
     "metadata": {},
     "output_type": "display_data"
    },
    {
     "name": "stdout",
     "output_type": "stream",
     "text": [
      "+--------+----+-----------+\n",
      "|    Date|Hour|Predict_val|\n",
      "+--------+----+-----------+\n",
      "|20210304|  14|     7.1103|\n",
      "+--------+----+-----------+\n",
      "\n",
      "None\n",
      "+--------+----+-----------+--------------------+\n",
      "|    Date|Hour|Predict_val|               value|\n",
      "+--------+----+-----------+--------------------+\n",
      "|20210304|  14|     7.1103|[20210304, 14, 7....|\n",
      "+--------+----+-----------+--------------------+\n",
      "\n",
      "None\n",
      "origin Data\n",
      "                                                  df\n",
      "8  (0.0, 7.5469, 생활정수, 0.0, 고양정수장, None, 4128512319)\n",
      "Prediction: 7.1103 Ph\n",
      "Generate New Prediction...\n"
     ]
    },
    {
     "data": {
      "text/plain": [
       "DataFrame[Date: string, Hour: string, Predict_val: double]"
      ]
     },
     "metadata": {},
     "output_type": "display_data"
    },
    {
     "name": "stdout",
     "output_type": "stream",
     "text": [
      "+--------+----+-----------+\n",
      "|    Date|Hour|Predict_val|\n",
      "+--------+----+-----------+\n",
      "|20210304|  14|     7.1103|\n",
      "+--------+----+-----------+\n",
      "\n",
      "None\n",
      "+--------+----+-----------+--------------------+\n",
      "|    Date|Hour|Predict_val|               value|\n",
      "+--------+----+-----------+--------------------+\n",
      "|20210304|  14|     7.1103|[20210304, 14, 7....|\n",
      "+--------+----+-----------+--------------------+\n",
      "\n",
      "None\n",
      "origin Data\n",
      "                                                  df\n",
      "8  (0.0, 7.5469, 생활정수, 0.0, 고양정수장, None, 4128512319)\n",
      "Prediction: 7.1103 Ph\n",
      "Generate New Prediction...\n"
     ]
    },
    {
     "data": {
      "text/plain": [
       "DataFrame[Date: string, Hour: string, Predict_val: double]"
      ]
     },
     "metadata": {},
     "output_type": "display_data"
    },
    {
     "name": "stdout",
     "output_type": "stream",
     "text": [
      "+--------+----+-----------+\n",
      "|    Date|Hour|Predict_val|\n",
      "+--------+----+-----------+\n",
      "|20210304|  14|     7.1103|\n",
      "+--------+----+-----------+\n",
      "\n",
      "None\n",
      "+--------+----+-----------+--------------------+\n",
      "|    Date|Hour|Predict_val|               value|\n",
      "+--------+----+-----------+--------------------+\n",
      "|20210304|  14|     7.1103|[20210304, 14, 7....|\n",
      "+--------+----+-----------+--------------------+\n",
      "\n",
      "None\n",
      "origin Data\n",
      "                                                  df\n",
      "8  (0.0, 7.5469, 생활정수, 0.0, 고양정수장, None, 4128512319)\n",
      "Prediction: 7.1103 Ph\n",
      "Generate New Prediction...\n"
     ]
    },
    {
     "data": {
      "text/plain": [
       "DataFrame[Date: string, Hour: string, Predict_val: double]"
      ]
     },
     "metadata": {},
     "output_type": "display_data"
    },
    {
     "name": "stdout",
     "output_type": "stream",
     "text": [
      "+--------+----+-----------+\n",
      "|    Date|Hour|Predict_val|\n",
      "+--------+----+-----------+\n",
      "|20210304|  14|     7.1103|\n",
      "+--------+----+-----------+\n",
      "\n",
      "None\n",
      "+--------+----+-----------+--------------------+\n",
      "|    Date|Hour|Predict_val|               value|\n",
      "+--------+----+-----------+--------------------+\n",
      "|20210304|  14|     7.1103|[20210304, 14, 7....|\n",
      "+--------+----+-----------+--------------------+\n",
      "\n",
      "None\n",
      "origin Data\n",
      "                                                  df\n",
      "8  (0.0, 7.5469, 생활정수, 0.0, 고양정수장, None, 4128512319)\n",
      "Prediction: 7.1103 Ph\n",
      "Generate New Prediction...\n"
     ]
    },
    {
     "data": {
      "text/plain": [
       "DataFrame[Date: string, Hour: string, Predict_val: double]"
      ]
     },
     "metadata": {},
     "output_type": "display_data"
    },
    {
     "name": "stdout",
     "output_type": "stream",
     "text": [
      "+--------+----+-----------+\n",
      "|    Date|Hour|Predict_val|\n",
      "+--------+----+-----------+\n",
      "|20210304|  14|     7.1103|\n",
      "+--------+----+-----------+\n",
      "\n",
      "None\n",
      "+--------+----+-----------+--------------------+\n",
      "|    Date|Hour|Predict_val|               value|\n",
      "+--------+----+-----------+--------------------+\n",
      "|20210304|  14|     7.1103|[20210304, 14, 7....|\n",
      "+--------+----+-----------+--------------------+\n",
      "\n",
      "None\n",
      "origin Data\n",
      "                                                  df\n",
      "8  (0.0, 7.5469, 생활정수, 0.0, 고양정수장, None, 4128512319)\n",
      "Prediction: 7.1103 Ph\n",
      "Generate New Prediction...\n"
     ]
    },
    {
     "data": {
      "text/plain": [
       "DataFrame[Date: string, Hour: string, Predict_val: double]"
      ]
     },
     "metadata": {},
     "output_type": "display_data"
    },
    {
     "name": "stdout",
     "output_type": "stream",
     "text": [
      "+--------+----+-----------+\n",
      "|    Date|Hour|Predict_val|\n",
      "+--------+----+-----------+\n",
      "|20210304|  14|     7.1103|\n",
      "+--------+----+-----------+\n",
      "\n",
      "None\n",
      "+--------+----+-----------+--------------------+\n",
      "|    Date|Hour|Predict_val|               value|\n",
      "+--------+----+-----------+--------------------+\n",
      "|20210304|  14|     7.1103|[20210304, 14, 7....|\n",
      "+--------+----+-----------+--------------------+\n",
      "\n",
      "None\n",
      "origin Data\n",
      "                                                  df\n",
      "8  (0.0, 7.5469, 생활정수, 0.0, 고양정수장, None, 4128512319)\n",
      "Prediction: 7.1103 Ph\n",
      "Generate New Prediction...\n"
     ]
    },
    {
     "data": {
      "text/plain": [
       "DataFrame[Date: string, Hour: string, Predict_val: double]"
      ]
     },
     "metadata": {},
     "output_type": "display_data"
    },
    {
     "name": "stdout",
     "output_type": "stream",
     "text": [
      "+--------+----+-----------+\n",
      "|    Date|Hour|Predict_val|\n",
      "+--------+----+-----------+\n",
      "|20210304|  14|     7.1103|\n",
      "+--------+----+-----------+\n",
      "\n",
      "None\n",
      "+--------+----+-----------+--------------------+\n",
      "|    Date|Hour|Predict_val|               value|\n",
      "+--------+----+-----------+--------------------+\n",
      "|20210304|  14|     7.1103|[20210304, 14, 7....|\n",
      "+--------+----+-----------+--------------------+\n",
      "\n",
      "None\n",
      "origin Data\n",
      "                                                  df\n",
      "8  (0.0, 7.5469, 생활정수, 0.0, 고양정수장, None, 4128512319)\n",
      "Prediction: 7.1103 Ph\n",
      "Generate New Prediction...\n"
     ]
    },
    {
     "data": {
      "text/plain": [
       "DataFrame[Date: string, Hour: string, Predict_val: double]"
      ]
     },
     "metadata": {},
     "output_type": "display_data"
    },
    {
     "name": "stdout",
     "output_type": "stream",
     "text": [
      "+--------+----+-----------+\n",
      "|    Date|Hour|Predict_val|\n",
      "+--------+----+-----------+\n",
      "|20210304|  14|     7.1103|\n",
      "+--------+----+-----------+\n",
      "\n",
      "None\n",
      "+--------+----+-----------+--------------------+\n",
      "|    Date|Hour|Predict_val|               value|\n",
      "+--------+----+-----------+--------------------+\n",
      "|20210304|  14|     7.1103|[20210304, 14, 7....|\n",
      "+--------+----+-----------+--------------------+\n",
      "\n",
      "None\n",
      "origin Data\n",
      "                                                  df\n",
      "8  (0.0, 7.5469, 생활정수, 0.0, 고양정수장, None, 4128512319)\n",
      "Prediction: 7.1103 Ph\n",
      "Generate New Prediction...\n"
     ]
    },
    {
     "data": {
      "text/plain": [
       "DataFrame[Date: string, Hour: string, Predict_val: double]"
      ]
     },
     "metadata": {},
     "output_type": "display_data"
    },
    {
     "name": "stdout",
     "output_type": "stream",
     "text": [
      "+--------+----+-----------+\n",
      "|    Date|Hour|Predict_val|\n",
      "+--------+----+-----------+\n",
      "|20210304|  14|     7.1103|\n",
      "+--------+----+-----------+\n",
      "\n",
      "None\n",
      "+--------+----+-----------+--------------------+\n",
      "|    Date|Hour|Predict_val|               value|\n",
      "+--------+----+-----------+--------------------+\n",
      "|20210304|  14|     7.1103|[20210304, 14, 7....|\n",
      "+--------+----+-----------+--------------------+\n",
      "\n",
      "None\n",
      "origin Data\n",
      "                                                  df\n",
      "8  (0.0, 7.5469, 생활정수, 0.0, 고양정수장, None, 4128512319)\n",
      "Prediction: 7.1103 Ph\n",
      "Generate New Prediction...\n"
     ]
    },
    {
     "data": {
      "text/plain": [
       "DataFrame[Date: string, Hour: string, Predict_val: double]"
      ]
     },
     "metadata": {},
     "output_type": "display_data"
    },
    {
     "name": "stdout",
     "output_type": "stream",
     "text": [
      "+--------+----+-----------+\n",
      "|    Date|Hour|Predict_val|\n",
      "+--------+----+-----------+\n",
      "|20210304|  14|     7.1103|\n",
      "+--------+----+-----------+\n",
      "\n",
      "None\n",
      "+--------+----+-----------+--------------------+\n",
      "|    Date|Hour|Predict_val|               value|\n",
      "+--------+----+-----------+--------------------+\n",
      "|20210304|  14|     7.1103|[20210304, 14, 7....|\n",
      "+--------+----+-----------+--------------------+\n",
      "\n",
      "None\n",
      "origin Data\n",
      "                                                  df\n",
      "8  (0.0, 7.5469, 생활정수, 0.0, 고양정수장, None, 4128512319)\n",
      "Prediction: 7.1103 Ph\n",
      "Generate New Prediction...\n"
     ]
    },
    {
     "data": {
      "text/plain": [
       "DataFrame[Date: string, Hour: string, Predict_val: double]"
      ]
     },
     "metadata": {},
     "output_type": "display_data"
    },
    {
     "name": "stdout",
     "output_type": "stream",
     "text": [
      "+--------+----+-----------+\n",
      "|    Date|Hour|Predict_val|\n",
      "+--------+----+-----------+\n",
      "|20210304|  14|     7.1103|\n",
      "+--------+----+-----------+\n",
      "\n",
      "None\n",
      "+--------+----+-----------+--------------------+\n",
      "|    Date|Hour|Predict_val|               value|\n",
      "+--------+----+-----------+--------------------+\n",
      "|20210304|  14|     7.1103|[20210304, 14, 7....|\n",
      "+--------+----+-----------+--------------------+\n",
      "\n",
      "None\n",
      "origin Data\n",
      "                                                  df\n",
      "8  (0.0, 7.5469, 생활정수, 0.0, 고양정수장, None, 4128512319)\n",
      "Prediction: 7.1103 Ph\n",
      "Generate New Prediction...\n"
     ]
    },
    {
     "data": {
      "text/plain": [
       "DataFrame[Date: string, Hour: string, Predict_val: double]"
      ]
     },
     "metadata": {},
     "output_type": "display_data"
    },
    {
     "name": "stdout",
     "output_type": "stream",
     "text": [
      "+--------+----+-----------+\n",
      "|    Date|Hour|Predict_val|\n",
      "+--------+----+-----------+\n",
      "|20210304|  14|     7.1103|\n",
      "+--------+----+-----------+\n",
      "\n",
      "None\n",
      "+--------+----+-----------+--------------------+\n",
      "|    Date|Hour|Predict_val|               value|\n",
      "+--------+----+-----------+--------------------+\n",
      "|20210304|  14|     7.1103|[20210304, 14, 7....|\n",
      "+--------+----+-----------+--------------------+\n",
      "\n",
      "None\n",
      "origin Data\n",
      "                                                  df\n",
      "8  (0.0, 7.5469, 생활정수, 0.0, 고양정수장, None, 4128512319)\n",
      "Prediction: 7.1103 Ph\n",
      "Generate New Prediction...\n"
     ]
    },
    {
     "data": {
      "text/plain": [
       "DataFrame[Date: string, Hour: string, Predict_val: double]"
      ]
     },
     "metadata": {},
     "output_type": "display_data"
    },
    {
     "name": "stdout",
     "output_type": "stream",
     "text": [
      "+--------+----+-----------+\n",
      "|    Date|Hour|Predict_val|\n",
      "+--------+----+-----------+\n",
      "|20210304|  14|     7.1103|\n",
      "+--------+----+-----------+\n",
      "\n",
      "None\n",
      "+--------+----+-----------+--------------------+\n",
      "|    Date|Hour|Predict_val|               value|\n",
      "+--------+----+-----------+--------------------+\n",
      "|20210304|  14|     7.1103|[20210304, 14, 7....|\n",
      "+--------+----+-----------+--------------------+\n",
      "\n",
      "None\n",
      "origin Data\n",
      "                                                  df\n",
      "8  (0.0, 7.5469, 생활정수, 0.0, 고양정수장, None, 4128512319)\n",
      "Prediction: 7.1103 Ph\n",
      "Generate New Prediction...\n"
     ]
    },
    {
     "data": {
      "text/plain": [
       "DataFrame[Date: string, Hour: string, Predict_val: double]"
      ]
     },
     "metadata": {},
     "output_type": "display_data"
    },
    {
     "name": "stdout",
     "output_type": "stream",
     "text": [
      "+--------+----+-----------+\n",
      "|    Date|Hour|Predict_val|\n",
      "+--------+----+-----------+\n",
      "|20210304|  14|     7.1103|\n",
      "+--------+----+-----------+\n",
      "\n",
      "None\n",
      "+--------+----+-----------+--------------------+\n",
      "|    Date|Hour|Predict_val|               value|\n",
      "+--------+----+-----------+--------------------+\n",
      "|20210304|  14|     7.1103|[20210304, 14, 7....|\n",
      "+--------+----+-----------+--------------------+\n",
      "\n",
      "None\n",
      "origin Data\n",
      "                                                  df\n",
      "8  (0.0, 7.5469, 생활정수, 0.0, 고양정수장, None, 4128512319)\n",
      "Prediction: 7.1103 Ph\n",
      "Generate New Prediction...\n"
     ]
    },
    {
     "data": {
      "text/plain": [
       "DataFrame[Date: string, Hour: string, Predict_val: double]"
      ]
     },
     "metadata": {},
     "output_type": "display_data"
    },
    {
     "name": "stdout",
     "output_type": "stream",
     "text": [
      "+--------+----+-----------+\n",
      "|    Date|Hour|Predict_val|\n",
      "+--------+----+-----------+\n",
      "|20210304|  14|     7.1103|\n",
      "+--------+----+-----------+\n",
      "\n",
      "None\n",
      "+--------+----+-----------+--------------------+\n",
      "|    Date|Hour|Predict_val|               value|\n",
      "+--------+----+-----------+--------------------+\n",
      "|20210304|  14|     7.1103|[20210304, 14, 7....|\n",
      "+--------+----+-----------+--------------------+\n",
      "\n",
      "None\n",
      "origin Data\n",
      "                                                  df\n",
      "8  (0.0, 7.5469, 생활정수, 0.0, 고양정수장, None, 4128512319)\n",
      "Prediction: 7.1103 Ph\n",
      "Generate New Prediction...\n"
     ]
    },
    {
     "data": {
      "text/plain": [
       "DataFrame[Date: string, Hour: string, Predict_val: double]"
      ]
     },
     "metadata": {},
     "output_type": "display_data"
    },
    {
     "name": "stdout",
     "output_type": "stream",
     "text": [
      "+--------+----+-----------+\n",
      "|    Date|Hour|Predict_val|\n",
      "+--------+----+-----------+\n",
      "|20210304|  14|     7.1103|\n",
      "+--------+----+-----------+\n",
      "\n",
      "None\n",
      "+--------+----+-----------+--------------------+\n",
      "|    Date|Hour|Predict_val|               value|\n",
      "+--------+----+-----------+--------------------+\n",
      "|20210304|  14|     7.1103|[20210304, 14, 7....|\n",
      "+--------+----+-----------+--------------------+\n",
      "\n",
      "None\n",
      "origin Data\n",
      "                                                  df\n",
      "8  (0.0, 7.5469, 생활정수, 0.0, 고양정수장, None, 4128512319)\n",
      "Prediction: 7.1103 Ph\n",
      "Generate New Prediction...\n"
     ]
    },
    {
     "data": {
      "text/plain": [
       "DataFrame[Date: string, Hour: string, Predict_val: double]"
      ]
     },
     "metadata": {},
     "output_type": "display_data"
    },
    {
     "name": "stdout",
     "output_type": "stream",
     "text": [
      "+--------+----+-----------+\n",
      "|    Date|Hour|Predict_val|\n",
      "+--------+----+-----------+\n",
      "|20210304|  14|     7.1103|\n",
      "+--------+----+-----------+\n",
      "\n",
      "None\n",
      "+--------+----+-----------+--------------------+\n",
      "|    Date|Hour|Predict_val|               value|\n",
      "+--------+----+-----------+--------------------+\n",
      "|20210304|  14|     7.1103|[20210304, 14, 7....|\n",
      "+--------+----+-----------+--------------------+\n",
      "\n",
      "None\n",
      "origin Data\n",
      "                                                  df\n",
      "8  (0.0, 7.5469, 생활정수, 0.0, 고양정수장, None, 4128512319)\n",
      "Prediction: 7.1103 Ph\n",
      "Generate New Prediction...\n"
     ]
    },
    {
     "data": {
      "text/plain": [
       "DataFrame[Date: string, Hour: string, Predict_val: double]"
      ]
     },
     "metadata": {},
     "output_type": "display_data"
    },
    {
     "name": "stdout",
     "output_type": "stream",
     "text": [
      "+--------+----+-----------+\n",
      "|    Date|Hour|Predict_val|\n",
      "+--------+----+-----------+\n",
      "|20210304|  14|     7.1103|\n",
      "+--------+----+-----------+\n",
      "\n",
      "None\n",
      "+--------+----+-----------+--------------------+\n",
      "|    Date|Hour|Predict_val|               value|\n",
      "+--------+----+-----------+--------------------+\n",
      "|20210304|  14|     7.1103|[20210304, 14, 7....|\n",
      "+--------+----+-----------+--------------------+\n",
      "\n",
      "None\n",
      "origin Data\n",
      "                                                  df\n",
      "8  (0.0, 7.5469, 생활정수, 0.0, 고양정수장, None, 4128512319)\n",
      "Prediction: 7.1103 Ph\n",
      "Generate New Prediction...\n"
     ]
    },
    {
     "data": {
      "text/plain": [
       "DataFrame[Date: string, Hour: string, Predict_val: double]"
      ]
     },
     "metadata": {},
     "output_type": "display_data"
    },
    {
     "name": "stdout",
     "output_type": "stream",
     "text": [
      "+--------+----+-----------+\n",
      "|    Date|Hour|Predict_val|\n",
      "+--------+----+-----------+\n",
      "|20210304|  14|     7.1103|\n",
      "+--------+----+-----------+\n",
      "\n",
      "None\n",
      "+--------+----+-----------+--------------------+\n",
      "|    Date|Hour|Predict_val|               value|\n",
      "+--------+----+-----------+--------------------+\n",
      "|20210304|  14|     7.1103|[20210304, 14, 7....|\n",
      "+--------+----+-----------+--------------------+\n",
      "\n",
      "None\n",
      "origin Data\n",
      "                                                  df\n",
      "8  (0.0, 7.5469, 생활정수, 0.0, 고양정수장, None, 4128512319)\n",
      "Prediction: 7.1103 Ph\n",
      "Generate New Prediction...\n"
     ]
    },
    {
     "data": {
      "text/plain": [
       "DataFrame[Date: string, Hour: string, Predict_val: double]"
      ]
     },
     "metadata": {},
     "output_type": "display_data"
    },
    {
     "name": "stdout",
     "output_type": "stream",
     "text": [
      "+--------+----+-----------+\n",
      "|    Date|Hour|Predict_val|\n",
      "+--------+----+-----------+\n",
      "|20210304|  14|     7.1103|\n",
      "+--------+----+-----------+\n",
      "\n",
      "None\n",
      "+--------+----+-----------+--------------------+\n",
      "|    Date|Hour|Predict_val|               value|\n",
      "+--------+----+-----------+--------------------+\n",
      "|20210304|  14|     7.1103|[20210304, 14, 7....|\n",
      "+--------+----+-----------+--------------------+\n",
      "\n",
      "None\n",
      "origin Data\n",
      "                                                  df\n",
      "8  (0.0, 7.5469, 생활정수, 0.0, 고양정수장, None, 4128512319)\n",
      "Prediction: 7.1103 Ph\n",
      "Generate New Prediction...\n"
     ]
    },
    {
     "data": {
      "text/plain": [
       "DataFrame[Date: string, Hour: string, Predict_val: double]"
      ]
     },
     "metadata": {},
     "output_type": "display_data"
    },
    {
     "name": "stdout",
     "output_type": "stream",
     "text": [
      "+--------+----+-----------+\n",
      "|    Date|Hour|Predict_val|\n",
      "+--------+----+-----------+\n",
      "|20210304|  14|     7.1103|\n",
      "+--------+----+-----------+\n",
      "\n",
      "None\n",
      "+--------+----+-----------+--------------------+\n",
      "|    Date|Hour|Predict_val|               value|\n",
      "+--------+----+-----------+--------------------+\n",
      "|20210304|  14|     7.1103|[20210304, 14, 7....|\n",
      "+--------+----+-----------+--------------------+\n",
      "\n",
      "None\n",
      "origin Data\n",
      "                                                  df\n",
      "8  (0.0, 7.5469, 생활정수, 0.0, 고양정수장, None, 4128512319)\n",
      "Prediction: 7.1103 Ph\n",
      "Generate New Prediction...\n"
     ]
    },
    {
     "data": {
      "text/plain": [
       "DataFrame[Date: string, Hour: string, Predict_val: double]"
      ]
     },
     "metadata": {},
     "output_type": "display_data"
    },
    {
     "name": "stdout",
     "output_type": "stream",
     "text": [
      "+--------+----+-----------+\n",
      "|    Date|Hour|Predict_val|\n",
      "+--------+----+-----------+\n",
      "|20210304|  14|     7.1103|\n",
      "+--------+----+-----------+\n",
      "\n",
      "None\n",
      "+--------+----+-----------+--------------------+\n",
      "|    Date|Hour|Predict_val|               value|\n",
      "+--------+----+-----------+--------------------+\n",
      "|20210304|  14|     7.1103|[20210304, 14, 7....|\n",
      "+--------+----+-----------+--------------------+\n",
      "\n",
      "None\n",
      "origin Data\n",
      "                                                  df\n",
      "8  (0.0, 7.5469, 생활정수, 0.0, 고양정수장, None, 4128512319)\n",
      "Prediction: 7.1103 Ph\n",
      "Generate New Prediction...\n"
     ]
    },
    {
     "data": {
      "text/plain": [
       "DataFrame[Date: string, Hour: string, Predict_val: double]"
      ]
     },
     "metadata": {},
     "output_type": "display_data"
    },
    {
     "name": "stdout",
     "output_type": "stream",
     "text": [
      "+--------+----+-----------+\n",
      "|    Date|Hour|Predict_val|\n",
      "+--------+----+-----------+\n",
      "|20210304|  14|     7.1103|\n",
      "+--------+----+-----------+\n",
      "\n",
      "None\n",
      "+--------+----+-----------+--------------------+\n",
      "|    Date|Hour|Predict_val|               value|\n",
      "+--------+----+-----------+--------------------+\n",
      "|20210304|  14|     7.1103|[20210304, 14, 7....|\n",
      "+--------+----+-----------+--------------------+\n",
      "\n",
      "None\n",
      "origin Data\n",
      "                                                  df\n",
      "8  (0.0, 7.5469, 생활정수, 0.0, 고양정수장, None, 4128512319)\n",
      "Prediction: 7.1103 Ph\n",
      "Generate New Prediction...\n"
     ]
    },
    {
     "data": {
      "text/plain": [
       "DataFrame[Date: string, Hour: string, Predict_val: double]"
      ]
     },
     "metadata": {},
     "output_type": "display_data"
    },
    {
     "name": "stdout",
     "output_type": "stream",
     "text": [
      "+--------+----+-----------+\n",
      "|    Date|Hour|Predict_val|\n",
      "+--------+----+-----------+\n",
      "|20210304|  14|     7.1103|\n",
      "+--------+----+-----------+\n",
      "\n",
      "None\n",
      "+--------+----+-----------+--------------------+\n",
      "|    Date|Hour|Predict_val|               value|\n",
      "+--------+----+-----------+--------------------+\n",
      "|20210304|  14|     7.1103|[20210304, 14, 7....|\n",
      "+--------+----+-----------+--------------------+\n",
      "\n",
      "None\n",
      "origin Data\n",
      "                                                  df\n",
      "8  (0.0, 7.5469, 생활정수, 0.0, 고양정수장, None, 4128512319)\n",
      "Prediction: 7.1103 Ph\n",
      "Generate New Prediction...\n"
     ]
    },
    {
     "data": {
      "text/plain": [
       "DataFrame[Date: string, Hour: string, Predict_val: double]"
      ]
     },
     "metadata": {},
     "output_type": "display_data"
    },
    {
     "name": "stdout",
     "output_type": "stream",
     "text": [
      "+--------+----+-----------+\n",
      "|    Date|Hour|Predict_val|\n",
      "+--------+----+-----------+\n",
      "|20210304|  14|     7.1103|\n",
      "+--------+----+-----------+\n",
      "\n",
      "None\n",
      "+--------+----+-----------+--------------------+\n",
      "|    Date|Hour|Predict_val|               value|\n",
      "+--------+----+-----------+--------------------+\n",
      "|20210304|  14|     7.1103|[20210304, 14, 7....|\n",
      "+--------+----+-----------+--------------------+\n",
      "\n",
      "None\n",
      "origin Data\n",
      "                                                  df\n",
      "8  (0.0, 7.5469, 생활정수, 0.0, 고양정수장, None, 4128512319)\n",
      "Prediction: 7.1103 Ph\n",
      "Generate New Prediction...\n"
     ]
    },
    {
     "data": {
      "text/plain": [
       "DataFrame[Date: string, Hour: string, Predict_val: double]"
      ]
     },
     "metadata": {},
     "output_type": "display_data"
    },
    {
     "name": "stdout",
     "output_type": "stream",
     "text": [
      "+--------+----+-----------+\n",
      "|    Date|Hour|Predict_val|\n",
      "+--------+----+-----------+\n",
      "|20210304|  14|     7.1103|\n",
      "+--------+----+-----------+\n",
      "\n",
      "None\n",
      "+--------+----+-----------+--------------------+\n",
      "|    Date|Hour|Predict_val|               value|\n",
      "+--------+----+-----------+--------------------+\n",
      "|20210304|  14|     7.1103|[20210304, 14, 7....|\n",
      "+--------+----+-----------+--------------------+\n",
      "\n",
      "None\n",
      "origin Data\n",
      "                                                  df\n",
      "8  (0.0, 7.5469, 생활정수, 0.0, 고양정수장, None, 4128512319)\n",
      "Prediction: 7.1103 Ph\n",
      "Generate New Prediction...\n"
     ]
    },
    {
     "data": {
      "text/plain": [
       "DataFrame[Date: string, Hour: string, Predict_val: double]"
      ]
     },
     "metadata": {},
     "output_type": "display_data"
    },
    {
     "name": "stdout",
     "output_type": "stream",
     "text": [
      "+--------+----+-----------+\n",
      "|    Date|Hour|Predict_val|\n",
      "+--------+----+-----------+\n",
      "|20210304|  14|     7.1103|\n",
      "+--------+----+-----------+\n",
      "\n",
      "None\n",
      "+--------+----+-----------+--------------------+\n",
      "|    Date|Hour|Predict_val|               value|\n",
      "+--------+----+-----------+--------------------+\n",
      "|20210304|  14|     7.1103|[20210304, 14, 7....|\n",
      "+--------+----+-----------+--------------------+\n",
      "\n",
      "None\n",
      "origin Data\n",
      "                                                  df\n",
      "8  (0.0, 7.5469, 생활정수, 0.0, 고양정수장, None, 4128512319)\n",
      "Prediction: 7.1103 Ph\n",
      "Generate New Prediction...\n"
     ]
    },
    {
     "data": {
      "text/plain": [
       "DataFrame[Date: string, Hour: string, Predict_val: double]"
      ]
     },
     "metadata": {},
     "output_type": "display_data"
    },
    {
     "name": "stdout",
     "output_type": "stream",
     "text": [
      "+--------+----+-----------+\n",
      "|    Date|Hour|Predict_val|\n",
      "+--------+----+-----------+\n",
      "|20210304|  14|     7.1103|\n",
      "+--------+----+-----------+\n",
      "\n",
      "None\n",
      "+--------+----+-----------+--------------------+\n",
      "|    Date|Hour|Predict_val|               value|\n",
      "+--------+----+-----------+--------------------+\n",
      "|20210304|  14|     7.1103|[20210304, 14, 7....|\n",
      "+--------+----+-----------+--------------------+\n",
      "\n",
      "None\n",
      "origin Data\n",
      "                                                  df\n",
      "8  (0.0, 7.5469, 생활정수, 0.0, 고양정수장, None, 4128512319)\n",
      "Prediction: 7.1103 Ph\n",
      "Generate New Prediction...\n"
     ]
    },
    {
     "data": {
      "text/plain": [
       "DataFrame[Date: string, Hour: string, Predict_val: double]"
      ]
     },
     "metadata": {},
     "output_type": "display_data"
    },
    {
     "name": "stdout",
     "output_type": "stream",
     "text": [
      "+--------+----+-----------+\n",
      "|    Date|Hour|Predict_val|\n",
      "+--------+----+-----------+\n",
      "|20210304|  14|     7.1103|\n",
      "+--------+----+-----------+\n",
      "\n",
      "None\n",
      "+--------+----+-----------+--------------------+\n",
      "|    Date|Hour|Predict_val|               value|\n",
      "+--------+----+-----------+--------------------+\n",
      "|20210304|  14|     7.1103|[20210304, 14, 7....|\n",
      "+--------+----+-----------+--------------------+\n",
      "\n",
      "None\n",
      "origin Data\n",
      "                                                  df\n",
      "8  (0.0, 7.5469, 생활정수, 0.0, 고양정수장, None, 4128512319)\n",
      "Prediction: 7.1103 Ph\n",
      "Generate New Prediction...\n"
     ]
    },
    {
     "data": {
      "text/plain": [
       "DataFrame[Date: string, Hour: string, Predict_val: double]"
      ]
     },
     "metadata": {},
     "output_type": "display_data"
    },
    {
     "name": "stdout",
     "output_type": "stream",
     "text": [
      "+--------+----+-----------+\n",
      "|    Date|Hour|Predict_val|\n",
      "+--------+----+-----------+\n",
      "|20210304|  14|     7.1103|\n",
      "+--------+----+-----------+\n",
      "\n",
      "None\n",
      "+--------+----+-----------+--------------------+\n",
      "|    Date|Hour|Predict_val|               value|\n",
      "+--------+----+-----------+--------------------+\n",
      "|20210304|  14|     7.1103|[20210304, 14, 7....|\n",
      "+--------+----+-----------+--------------------+\n",
      "\n",
      "None\n",
      "origin Data\n",
      "                                                  df\n",
      "8  (0.0, 7.5469, 생활정수, 0.0, 고양정수장, None, 4128512319)\n",
      "Prediction: 7.1103 Ph\n",
      "Generate New Prediction...\n"
     ]
    },
    {
     "data": {
      "text/plain": [
       "DataFrame[Date: string, Hour: string, Predict_val: double]"
      ]
     },
     "metadata": {},
     "output_type": "display_data"
    },
    {
     "name": "stdout",
     "output_type": "stream",
     "text": [
      "+--------+----+-----------+\n",
      "|    Date|Hour|Predict_val|\n",
      "+--------+----+-----------+\n",
      "|20210304|  14|     7.1103|\n",
      "+--------+----+-----------+\n",
      "\n",
      "None\n",
      "+--------+----+-----------+--------------------+\n",
      "|    Date|Hour|Predict_val|               value|\n",
      "+--------+----+-----------+--------------------+\n",
      "|20210304|  14|     7.1103|[20210304, 14, 7....|\n",
      "+--------+----+-----------+--------------------+\n",
      "\n",
      "None\n",
      "origin Data\n",
      "                                                  df\n",
      "8  (0.0, 7.5469, 생활정수, 0.0, 고양정수장, None, 4128512319)\n",
      "Prediction: 7.1103 Ph\n",
      "Generate New Prediction...\n"
     ]
    },
    {
     "data": {
      "text/plain": [
       "DataFrame[Date: string, Hour: string, Predict_val: double]"
      ]
     },
     "metadata": {},
     "output_type": "display_data"
    },
    {
     "name": "stdout",
     "output_type": "stream",
     "text": [
      "+--------+----+-----------+\n",
      "|    Date|Hour|Predict_val|\n",
      "+--------+----+-----------+\n",
      "|20210304|  14|     7.1103|\n",
      "+--------+----+-----------+\n",
      "\n",
      "None\n",
      "+--------+----+-----------+--------------------+\n",
      "|    Date|Hour|Predict_val|               value|\n",
      "+--------+----+-----------+--------------------+\n",
      "|20210304|  14|     7.1103|[20210304, 14, 7....|\n",
      "+--------+----+-----------+--------------------+\n",
      "\n",
      "None\n",
      "origin Data\n",
      "                                                  df\n",
      "8  (0.0, 7.5469, 생활정수, 0.0, 고양정수장, None, 4128512319)\n",
      "Prediction: 7.1103 Ph\n",
      "Generate New Prediction...\n"
     ]
    },
    {
     "data": {
      "text/plain": [
       "DataFrame[Date: string, Hour: string, Predict_val: double]"
      ]
     },
     "metadata": {},
     "output_type": "display_data"
    },
    {
     "name": "stdout",
     "output_type": "stream",
     "text": [
      "+--------+----+-----------+\n",
      "|    Date|Hour|Predict_val|\n",
      "+--------+----+-----------+\n",
      "|20210304|  14|     7.1103|\n",
      "+--------+----+-----------+\n",
      "\n",
      "None\n",
      "+--------+----+-----------+--------------------+\n",
      "|    Date|Hour|Predict_val|               value|\n",
      "+--------+----+-----------+--------------------+\n",
      "|20210304|  14|     7.1103|[20210304, 14, 7....|\n",
      "+--------+----+-----------+--------------------+\n",
      "\n",
      "None\n",
      "origin Data\n",
      "                                                  df\n",
      "8  (0.0, 7.5469, 생활정수, 0.0, 고양정수장, None, 4128512319)\n",
      "Prediction: 7.1103 Ph\n",
      "Generate New Prediction...\n"
     ]
    },
    {
     "data": {
      "text/plain": [
       "DataFrame[Date: string, Hour: string, Predict_val: double]"
      ]
     },
     "metadata": {},
     "output_type": "display_data"
    },
    {
     "name": "stdout",
     "output_type": "stream",
     "text": [
      "+--------+----+-----------+\n",
      "|    Date|Hour|Predict_val|\n",
      "+--------+----+-----------+\n",
      "|20210304|  14|     7.1103|\n",
      "+--------+----+-----------+\n",
      "\n",
      "None\n",
      "+--------+----+-----------+--------------------+\n",
      "|    Date|Hour|Predict_val|               value|\n",
      "+--------+----+-----------+--------------------+\n",
      "|20210304|  14|     7.1103|[20210304, 14, 7....|\n",
      "+--------+----+-----------+--------------------+\n",
      "\n",
      "None\n",
      "origin Data\n",
      "                                                  df\n",
      "8  (0.0, 7.5469, 생활정수, 0.0, 고양정수장, None, 4128512319)\n",
      "Prediction: 7.1103 Ph\n",
      "Generate New Prediction...\n"
     ]
    },
    {
     "data": {
      "text/plain": [
       "DataFrame[Date: string, Hour: string, Predict_val: double]"
      ]
     },
     "metadata": {},
     "output_type": "display_data"
    },
    {
     "name": "stdout",
     "output_type": "stream",
     "text": [
      "+--------+----+-----------+\n",
      "|    Date|Hour|Predict_val|\n",
      "+--------+----+-----------+\n",
      "|20210304|  14|     7.1103|\n",
      "+--------+----+-----------+\n",
      "\n",
      "None\n",
      "+--------+----+-----------+--------------------+\n",
      "|    Date|Hour|Predict_val|               value|\n",
      "+--------+----+-----------+--------------------+\n",
      "|20210304|  14|     7.1103|[20210304, 14, 7....|\n",
      "+--------+----+-----------+--------------------+\n",
      "\n",
      "None\n",
      "origin Data\n",
      "                                                  df\n",
      "8  (0.0, 7.5469, 생활정수, 0.0, 고양정수장, None, 4128512319)\n",
      "Prediction: 7.1103 Ph\n",
      "Generate New Prediction...\n"
     ]
    },
    {
     "data": {
      "text/plain": [
       "DataFrame[Date: string, Hour: string, Predict_val: double]"
      ]
     },
     "metadata": {},
     "output_type": "display_data"
    },
    {
     "name": "stdout",
     "output_type": "stream",
     "text": [
      "+--------+----+-----------+\n",
      "|    Date|Hour|Predict_val|\n",
      "+--------+----+-----------+\n",
      "|20210304|  14|     7.1103|\n",
      "+--------+----+-----------+\n",
      "\n",
      "None\n",
      "+--------+----+-----------+--------------------+\n",
      "|    Date|Hour|Predict_val|               value|\n",
      "+--------+----+-----------+--------------------+\n",
      "|20210304|  14|     7.1103|[20210304, 14, 7....|\n",
      "+--------+----+-----------+--------------------+\n",
      "\n",
      "None\n",
      "origin Data\n",
      "                                                  df\n",
      "8  (0.0, 7.5469, 생활정수, 0.0, 고양정수장, None, 4128512319)\n",
      "Prediction: 7.1103 Ph\n",
      "Generate New Prediction...\n"
     ]
    },
    {
     "data": {
      "text/plain": [
       "DataFrame[Date: string, Hour: string, Predict_val: double]"
      ]
     },
     "metadata": {},
     "output_type": "display_data"
    },
    {
     "name": "stdout",
     "output_type": "stream",
     "text": [
      "+--------+----+-----------+\n",
      "|    Date|Hour|Predict_val|\n",
      "+--------+----+-----------+\n",
      "|20210304|  14|     7.1103|\n",
      "+--------+----+-----------+\n",
      "\n",
      "None\n",
      "+--------+----+-----------+--------------------+\n",
      "|    Date|Hour|Predict_val|               value|\n",
      "+--------+----+-----------+--------------------+\n",
      "|20210304|  14|     7.1103|[20210304, 14, 7....|\n",
      "+--------+----+-----------+--------------------+\n",
      "\n",
      "None\n",
      "origin Data\n",
      "                                                  df\n",
      "8  (0.0, 7.5469, 생활정수, 0.0, 고양정수장, None, 4128512319)\n",
      "Prediction: 7.1103 Ph\n",
      "Generate New Prediction...\n"
     ]
    },
    {
     "data": {
      "text/plain": [
       "DataFrame[Date: string, Hour: string, Predict_val: double]"
      ]
     },
     "metadata": {},
     "output_type": "display_data"
    },
    {
     "name": "stdout",
     "output_type": "stream",
     "text": [
      "+--------+----+-----------+\n",
      "|    Date|Hour|Predict_val|\n",
      "+--------+----+-----------+\n",
      "|20210304|  14|     7.1103|\n",
      "+--------+----+-----------+\n",
      "\n",
      "None\n",
      "+--------+----+-----------+--------------------+\n",
      "|    Date|Hour|Predict_val|               value|\n",
      "+--------+----+-----------+--------------------+\n",
      "|20210304|  14|     7.1103|[20210304, 14, 7....|\n",
      "+--------+----+-----------+--------------------+\n",
      "\n",
      "None\n",
      "origin Data\n",
      "                                                  df\n",
      "8  (0.0, 7.5469, 생활정수, 0.0, 고양정수장, None, 4128512319)\n",
      "Prediction: 7.1103 Ph\n",
      "Generate New Prediction...\n"
     ]
    },
    {
     "data": {
      "text/plain": [
       "DataFrame[Date: string, Hour: string, Predict_val: double]"
      ]
     },
     "metadata": {},
     "output_type": "display_data"
    },
    {
     "name": "stdout",
     "output_type": "stream",
     "text": [
      "+--------+----+-----------+\n",
      "|    Date|Hour|Predict_val|\n",
      "+--------+----+-----------+\n",
      "|20210304|  14|     7.1103|\n",
      "+--------+----+-----------+\n",
      "\n",
      "None\n",
      "+--------+----+-----------+--------------------+\n",
      "|    Date|Hour|Predict_val|               value|\n",
      "+--------+----+-----------+--------------------+\n",
      "|20210304|  14|     7.1103|[20210304, 14, 7....|\n",
      "+--------+----+-----------+--------------------+\n",
      "\n",
      "None\n",
      "origin Data\n",
      "                                                  df\n",
      "8  (0.0, 7.5469, 생활정수, 0.0, 고양정수장, None, 4128512319)\n",
      "Prediction: 7.1103 Ph\n",
      "Generate New Prediction...\n"
     ]
    },
    {
     "data": {
      "text/plain": [
       "DataFrame[Date: string, Hour: string, Predict_val: double]"
      ]
     },
     "metadata": {},
     "output_type": "display_data"
    },
    {
     "name": "stdout",
     "output_type": "stream",
     "text": [
      "+--------+----+-----------+\n",
      "|    Date|Hour|Predict_val|\n",
      "+--------+----+-----------+\n",
      "|20210304|  14|     7.1103|\n",
      "+--------+----+-----------+\n",
      "\n",
      "None\n",
      "+--------+----+-----------+--------------------+\n",
      "|    Date|Hour|Predict_val|               value|\n",
      "+--------+----+-----------+--------------------+\n",
      "|20210304|  14|     7.1103|[20210304, 14, 7....|\n",
      "+--------+----+-----------+--------------------+\n",
      "\n",
      "None\n",
      "origin Data\n",
      "                                                  df\n",
      "8  (0.0, 7.5469, 생활정수, 0.0, 고양정수장, None, 4128512319)\n",
      "Prediction: 7.1103 Ph\n",
      "Generate New Prediction...\n"
     ]
    },
    {
     "data": {
      "text/plain": [
       "DataFrame[Date: string, Hour: string, Predict_val: double]"
      ]
     },
     "metadata": {},
     "output_type": "display_data"
    },
    {
     "name": "stdout",
     "output_type": "stream",
     "text": [
      "+--------+----+-----------+\n",
      "|    Date|Hour|Predict_val|\n",
      "+--------+----+-----------+\n",
      "|20210304|  14|     7.1103|\n",
      "+--------+----+-----------+\n",
      "\n",
      "None\n",
      "+--------+----+-----------+--------------------+\n",
      "|    Date|Hour|Predict_val|               value|\n",
      "+--------+----+-----------+--------------------+\n",
      "|20210304|  14|     7.1103|[20210304, 14, 7....|\n",
      "+--------+----+-----------+--------------------+\n",
      "\n",
      "None\n",
      "origin Data\n",
      "                                                  df\n",
      "8  (0.0, 7.5469, 생활정수, 0.0, 고양정수장, None, 4128512319)\n",
      "Prediction: 7.1103 Ph\n",
      "Generate New Prediction...\n"
     ]
    },
    {
     "data": {
      "text/plain": [
       "DataFrame[Date: string, Hour: string, Predict_val: double]"
      ]
     },
     "metadata": {},
     "output_type": "display_data"
    },
    {
     "name": "stdout",
     "output_type": "stream",
     "text": [
      "+--------+----+-----------+\n",
      "|    Date|Hour|Predict_val|\n",
      "+--------+----+-----------+\n",
      "|20210304|  14|     7.1103|\n",
      "+--------+----+-----------+\n",
      "\n",
      "None\n",
      "+--------+----+-----------+--------------------+\n",
      "|    Date|Hour|Predict_val|               value|\n",
      "+--------+----+-----------+--------------------+\n",
      "|20210304|  14|     7.1103|[20210304, 14, 7....|\n",
      "+--------+----+-----------+--------------------+\n",
      "\n",
      "None\n",
      "origin Data\n",
      "                                                  df\n",
      "8  (0.0, 7.5469, 생활정수, 0.0, 고양정수장, None, 4128512319)\n",
      "Prediction: 7.1103 Ph\n",
      "Generate New Prediction...\n"
     ]
    },
    {
     "data": {
      "text/plain": [
       "DataFrame[Date: string, Hour: string, Predict_val: double]"
      ]
     },
     "metadata": {},
     "output_type": "display_data"
    },
    {
     "name": "stdout",
     "output_type": "stream",
     "text": [
      "+--------+----+-----------+\n",
      "|    Date|Hour|Predict_val|\n",
      "+--------+----+-----------+\n",
      "|20210304|  14|     7.1103|\n",
      "+--------+----+-----------+\n",
      "\n",
      "None\n",
      "+--------+----+-----------+--------------------+\n",
      "|    Date|Hour|Predict_val|               value|\n",
      "+--------+----+-----------+--------------------+\n",
      "|20210304|  14|     7.1103|[20210304, 14, 7....|\n",
      "+--------+----+-----------+--------------------+\n",
      "\n",
      "None\n",
      "origin Data\n",
      "                                                  df\n",
      "8  (0.0, 7.5469, 생활정수, 0.0, 고양정수장, None, 4128512319)\n",
      "Prediction: 7.1103 Ph\n",
      "Generate New Prediction...\n"
     ]
    },
    {
     "data": {
      "text/plain": [
       "DataFrame[Date: string, Hour: string, Predict_val: double]"
      ]
     },
     "metadata": {},
     "output_type": "display_data"
    },
    {
     "name": "stdout",
     "output_type": "stream",
     "text": [
      "+--------+----+-----------+\n",
      "|    Date|Hour|Predict_val|\n",
      "+--------+----+-----------+\n",
      "|20210304|  14|     7.1103|\n",
      "+--------+----+-----------+\n",
      "\n",
      "None\n",
      "+--------+----+-----------+--------------------+\n",
      "|    Date|Hour|Predict_val|               value|\n",
      "+--------+----+-----------+--------------------+\n",
      "|20210304|  14|     7.1103|[20210304, 14, 7....|\n",
      "+--------+----+-----------+--------------------+\n",
      "\n",
      "None\n",
      "origin Data\n",
      "                                                  df\n",
      "8  (0.0, 7.5469, 생활정수, 0.0, 고양정수장, None, 4128512319)\n",
      "Prediction: 7.1103 Ph\n",
      "Generate New Prediction...\n"
     ]
    },
    {
     "data": {
      "text/plain": [
       "DataFrame[Date: string, Hour: string, Predict_val: double]"
      ]
     },
     "metadata": {},
     "output_type": "display_data"
    },
    {
     "name": "stdout",
     "output_type": "stream",
     "text": [
      "+--------+----+-----------+\n",
      "|    Date|Hour|Predict_val|\n",
      "+--------+----+-----------+\n",
      "|20210304|  14|     7.1103|\n",
      "+--------+----+-----------+\n",
      "\n",
      "None\n",
      "+--------+----+-----------+--------------------+\n",
      "|    Date|Hour|Predict_val|               value|\n",
      "+--------+----+-----------+--------------------+\n",
      "|20210304|  14|     7.1103|[20210304, 14, 7....|\n",
      "+--------+----+-----------+--------------------+\n",
      "\n",
      "None\n",
      "origin Data\n",
      "                                                  df\n",
      "8  (0.0, 7.5469, 생활정수, 0.0, 고양정수장, None, 4128512319)\n",
      "Prediction: 7.1103 Ph\n",
      "Generate New Prediction...\n"
     ]
    },
    {
     "data": {
      "text/plain": [
       "DataFrame[Date: string, Hour: string, Predict_val: double]"
      ]
     },
     "metadata": {},
     "output_type": "display_data"
    },
    {
     "name": "stdout",
     "output_type": "stream",
     "text": [
      "+--------+----+-----------+\n",
      "|    Date|Hour|Predict_val|\n",
      "+--------+----+-----------+\n",
      "|20210304|  14|     7.1103|\n",
      "+--------+----+-----------+\n",
      "\n",
      "None\n",
      "+--------+----+-----------+--------------------+\n",
      "|    Date|Hour|Predict_val|               value|\n",
      "+--------+----+-----------+--------------------+\n",
      "|20210304|  14|     7.1103|[20210304, 14, 7....|\n",
      "+--------+----+-----------+--------------------+\n",
      "\n",
      "None\n",
      "origin Data\n",
      "                                                  df\n",
      "8  (0.0, 7.5469, 생활정수, 0.0, 고양정수장, None, 4128512319)\n",
      "Prediction: 7.1103 Ph\n",
      "Generate New Prediction...\n"
     ]
    },
    {
     "data": {
      "text/plain": [
       "DataFrame[Date: string, Hour: string, Predict_val: double]"
      ]
     },
     "metadata": {},
     "output_type": "display_data"
    },
    {
     "name": "stdout",
     "output_type": "stream",
     "text": [
      "+--------+----+-----------+\n",
      "|    Date|Hour|Predict_val|\n",
      "+--------+----+-----------+\n",
      "|20210304|  14|     7.1103|\n",
      "+--------+----+-----------+\n",
      "\n",
      "None\n",
      "+--------+----+-----------+--------------------+\n",
      "|    Date|Hour|Predict_val|               value|\n",
      "+--------+----+-----------+--------------------+\n",
      "|20210304|  14|     7.1103|[20210304, 14, 7....|\n",
      "+--------+----+-----------+--------------------+\n",
      "\n",
      "None\n",
      "origin Data\n",
      "                                                  df\n",
      "8  (0.0, 7.5469, 생활정수, 0.0, 고양정수장, None, 4128512319)\n",
      "Prediction: 7.1103 Ph\n",
      "Generate New Prediction...\n"
     ]
    },
    {
     "data": {
      "text/plain": [
       "DataFrame[Date: string, Hour: string, Predict_val: double]"
      ]
     },
     "metadata": {},
     "output_type": "display_data"
    },
    {
     "name": "stdout",
     "output_type": "stream",
     "text": [
      "+--------+----+-----------+\n",
      "|    Date|Hour|Predict_val|\n",
      "+--------+----+-----------+\n",
      "|20210304|  14|     7.1103|\n",
      "+--------+----+-----------+\n",
      "\n",
      "None\n",
      "+--------+----+-----------+--------------------+\n",
      "|    Date|Hour|Predict_val|               value|\n",
      "+--------+----+-----------+--------------------+\n",
      "|20210304|  14|     7.1103|[20210304, 14, 7....|\n",
      "+--------+----+-----------+--------------------+\n",
      "\n",
      "None\n",
      "origin Data\n",
      "                                                  df\n",
      "8  (0.0, 7.5469, 생활정수, 0.0, 고양정수장, None, 4128512319)\n",
      "Prediction: 7.1103 Ph\n",
      "Generate New Prediction...\n"
     ]
    },
    {
     "data": {
      "text/plain": [
       "DataFrame[Date: string, Hour: string, Predict_val: double]"
      ]
     },
     "metadata": {},
     "output_type": "display_data"
    },
    {
     "name": "stdout",
     "output_type": "stream",
     "text": [
      "+--------+----+-----------+\n",
      "|    Date|Hour|Predict_val|\n",
      "+--------+----+-----------+\n",
      "|20210304|  14|     7.1103|\n",
      "+--------+----+-----------+\n",
      "\n",
      "None\n",
      "+--------+----+-----------+--------------------+\n",
      "|    Date|Hour|Predict_val|               value|\n",
      "+--------+----+-----------+--------------------+\n",
      "|20210304|  14|     7.1103|[20210304, 14, 7....|\n",
      "+--------+----+-----------+--------------------+\n",
      "\n",
      "None\n",
      "origin Data\n",
      "                                                  df\n",
      "8  (0.0, 7.5469, 생활정수, 0.0, 고양정수장, None, 4128512319)\n",
      "Prediction: 7.1103 Ph\n",
      "Generate New Prediction...\n"
     ]
    },
    {
     "data": {
      "text/plain": [
       "DataFrame[Date: string, Hour: string, Predict_val: double]"
      ]
     },
     "metadata": {},
     "output_type": "display_data"
    },
    {
     "name": "stdout",
     "output_type": "stream",
     "text": [
      "+--------+----+-----------+\n",
      "|    Date|Hour|Predict_val|\n",
      "+--------+----+-----------+\n",
      "|20210304|  14|     7.1103|\n",
      "+--------+----+-----------+\n",
      "\n",
      "None\n",
      "+--------+----+-----------+--------------------+\n",
      "|    Date|Hour|Predict_val|               value|\n",
      "+--------+----+-----------+--------------------+\n",
      "|20210304|  14|     7.1103|[20210304, 14, 7....|\n",
      "+--------+----+-----------+--------------------+\n",
      "\n",
      "None\n",
      "origin Data\n",
      "                                                  df\n",
      "8  (0.0, 7.5469, 생활정수, 0.0, 고양정수장, None, 4128512319)\n",
      "Prediction: 7.1103 Ph\n",
      "Generate New Prediction...\n"
     ]
    },
    {
     "data": {
      "text/plain": [
       "DataFrame[Date: string, Hour: string, Predict_val: double]"
      ]
     },
     "metadata": {},
     "output_type": "display_data"
    },
    {
     "name": "stdout",
     "output_type": "stream",
     "text": [
      "+--------+----+-----------+\n",
      "|    Date|Hour|Predict_val|\n",
      "+--------+----+-----------+\n",
      "|20210304|  14|     7.1103|\n",
      "+--------+----+-----------+\n",
      "\n",
      "None\n",
      "+--------+----+-----------+--------------------+\n",
      "|    Date|Hour|Predict_val|               value|\n",
      "+--------+----+-----------+--------------------+\n",
      "|20210304|  14|     7.1103|[20210304, 14, 7....|\n",
      "+--------+----+-----------+--------------------+\n",
      "\n",
      "None\n",
      "origin Data\n",
      "                                                  df\n",
      "8  (0.0, 7.5469, 생활정수, 0.0, 고양정수장, None, 4128512319)\n",
      "Prediction: 7.1103 Ph\n",
      "Generate New Prediction...\n"
     ]
    },
    {
     "data": {
      "text/plain": [
       "DataFrame[Date: string, Hour: string, Predict_val: double]"
      ]
     },
     "metadata": {},
     "output_type": "display_data"
    },
    {
     "name": "stdout",
     "output_type": "stream",
     "text": [
      "+--------+----+-----------+\n",
      "|    Date|Hour|Predict_val|\n",
      "+--------+----+-----------+\n",
      "|20210304|  14|     7.1103|\n",
      "+--------+----+-----------+\n",
      "\n",
      "None\n",
      "+--------+----+-----------+--------------------+\n",
      "|    Date|Hour|Predict_val|               value|\n",
      "+--------+----+-----------+--------------------+\n",
      "|20210304|  14|     7.1103|[20210304, 14, 7....|\n",
      "+--------+----+-----------+--------------------+\n",
      "\n",
      "None\n",
      "origin Data\n",
      "                                                  df\n",
      "8  (0.0, 7.5469, 생활정수, 0.0, 고양정수장, None, 4128512319)\n",
      "Prediction: 7.1103 Ph\n",
      "Generate New Prediction...\n"
     ]
    },
    {
     "data": {
      "text/plain": [
       "DataFrame[Date: string, Hour: string, Predict_val: double]"
      ]
     },
     "metadata": {},
     "output_type": "display_data"
    },
    {
     "name": "stdout",
     "output_type": "stream",
     "text": [
      "+--------+----+-----------+\n",
      "|    Date|Hour|Predict_val|\n",
      "+--------+----+-----------+\n",
      "|20210304|  14|     7.1103|\n",
      "+--------+----+-----------+\n",
      "\n",
      "None\n",
      "+--------+----+-----------+--------------------+\n",
      "|    Date|Hour|Predict_val|               value|\n",
      "+--------+----+-----------+--------------------+\n",
      "|20210304|  14|     7.1103|[20210304, 14, 7....|\n",
      "+--------+----+-----------+--------------------+\n",
      "\n",
      "None\n",
      "origin Data\n",
      "                                                  df\n",
      "8  (0.0, 7.5469, 생활정수, 0.0, 고양정수장, None, 4128512319)\n",
      "Prediction: 7.1103 Ph\n",
      "Generate New Prediction...\n"
     ]
    },
    {
     "data": {
      "text/plain": [
       "DataFrame[Date: string, Hour: string, Predict_val: double]"
      ]
     },
     "metadata": {},
     "output_type": "display_data"
    },
    {
     "name": "stdout",
     "output_type": "stream",
     "text": [
      "+--------+----+-----------+\n",
      "|    Date|Hour|Predict_val|\n",
      "+--------+----+-----------+\n",
      "|20210304|  14|     7.1103|\n",
      "+--------+----+-----------+\n",
      "\n",
      "None\n",
      "+--------+----+-----------+--------------------+\n",
      "|    Date|Hour|Predict_val|               value|\n",
      "+--------+----+-----------+--------------------+\n",
      "|20210304|  14|     7.1103|[20210304, 14, 7....|\n",
      "+--------+----+-----------+--------------------+\n",
      "\n",
      "None\n",
      "origin Data\n",
      "                                                  df\n",
      "8  (0.0, 7.5469, 생활정수, 0.0, 고양정수장, None, 4128512319)\n",
      "Prediction: 7.1103 Ph\n",
      "Generate New Prediction...\n"
     ]
    },
    {
     "data": {
      "text/plain": [
       "DataFrame[Date: string, Hour: string, Predict_val: double]"
      ]
     },
     "metadata": {},
     "output_type": "display_data"
    },
    {
     "name": "stdout",
     "output_type": "stream",
     "text": [
      "+--------+----+-----------+\n",
      "|    Date|Hour|Predict_val|\n",
      "+--------+----+-----------+\n",
      "|20210304|  14|     7.1103|\n",
      "+--------+----+-----------+\n",
      "\n",
      "None\n",
      "+--------+----+-----------+--------------------+\n",
      "|    Date|Hour|Predict_val|               value|\n",
      "+--------+----+-----------+--------------------+\n",
      "|20210304|  14|     7.1103|[20210304, 14, 7....|\n",
      "+--------+----+-----------+--------------------+\n",
      "\n",
      "None\n",
      "origin Data\n",
      "                                                  df\n",
      "8  (0.0, 7.5469, 생활정수, 0.0, 고양정수장, None, 4128512319)\n",
      "Prediction: 7.1103 Ph\n",
      "Generate New Prediction...\n"
     ]
    },
    {
     "data": {
      "text/plain": [
       "DataFrame[Date: string, Hour: string, Predict_val: double]"
      ]
     },
     "metadata": {},
     "output_type": "display_data"
    },
    {
     "name": "stdout",
     "output_type": "stream",
     "text": [
      "+--------+----+-----------+\n",
      "|    Date|Hour|Predict_val|\n",
      "+--------+----+-----------+\n",
      "|20210304|  14|     7.1103|\n",
      "+--------+----+-----------+\n",
      "\n",
      "None\n",
      "+--------+----+-----------+--------------------+\n",
      "|    Date|Hour|Predict_val|               value|\n",
      "+--------+----+-----------+--------------------+\n",
      "|20210304|  14|     7.1103|[20210304, 14, 7....|\n",
      "+--------+----+-----------+--------------------+\n",
      "\n",
      "None\n",
      "origin Data\n",
      "                                                  df\n",
      "8  (0.0, 7.5469, 생활정수, 0.0, 고양정수장, None, 4128512319)\n",
      "Prediction: 7.1103 Ph\n",
      "Generate New Prediction...\n"
     ]
    },
    {
     "data": {
      "text/plain": [
       "DataFrame[Date: string, Hour: string, Predict_val: double]"
      ]
     },
     "metadata": {},
     "output_type": "display_data"
    },
    {
     "name": "stdout",
     "output_type": "stream",
     "text": [
      "+--------+----+-----------+\n",
      "|    Date|Hour|Predict_val|\n",
      "+--------+----+-----------+\n",
      "|20210304|  14|     7.1103|\n",
      "+--------+----+-----------+\n",
      "\n",
      "None\n",
      "+--------+----+-----------+--------------------+\n",
      "|    Date|Hour|Predict_val|               value|\n",
      "+--------+----+-----------+--------------------+\n",
      "|20210304|  14|     7.1103|[20210304, 14, 7....|\n",
      "+--------+----+-----------+--------------------+\n",
      "\n",
      "None\n",
      "origin Data\n",
      "                                                  df\n",
      "8  (0.0, 7.5469, 생활정수, 0.0, 고양정수장, None, 4128512319)\n",
      "Prediction: 7.1103 Ph\n",
      "Generate New Prediction...\n"
     ]
    },
    {
     "data": {
      "text/plain": [
       "DataFrame[Date: string, Hour: string, Predict_val: double]"
      ]
     },
     "metadata": {},
     "output_type": "display_data"
    },
    {
     "name": "stdout",
     "output_type": "stream",
     "text": [
      "+--------+----+-----------+\n",
      "|    Date|Hour|Predict_val|\n",
      "+--------+----+-----------+\n",
      "|20210304|  14|     7.1103|\n",
      "+--------+----+-----------+\n",
      "\n",
      "None\n",
      "+--------+----+-----------+--------------------+\n",
      "|    Date|Hour|Predict_val|               value|\n",
      "+--------+----+-----------+--------------------+\n",
      "|20210304|  14|     7.1103|[20210304, 14, 7....|\n",
      "+--------+----+-----------+--------------------+\n",
      "\n",
      "None\n",
      "origin Data\n",
      "                                                  df\n",
      "8  (0.0, 7.5469, 생활정수, 0.0, 고양정수장, None, 4128512319)\n",
      "Prediction: 7.1103 Ph\n",
      "Generate New Prediction...\n"
     ]
    },
    {
     "data": {
      "text/plain": [
       "DataFrame[Date: string, Hour: string, Predict_val: double]"
      ]
     },
     "metadata": {},
     "output_type": "display_data"
    },
    {
     "name": "stdout",
     "output_type": "stream",
     "text": [
      "+--------+----+-----------+\n",
      "|    Date|Hour|Predict_val|\n",
      "+--------+----+-----------+\n",
      "|20210304|  14|     7.1103|\n",
      "+--------+----+-----------+\n",
      "\n",
      "None\n",
      "+--------+----+-----------+--------------------+\n",
      "|    Date|Hour|Predict_val|               value|\n",
      "+--------+----+-----------+--------------------+\n",
      "|20210304|  14|     7.1103|[20210304, 14, 7....|\n",
      "+--------+----+-----------+--------------------+\n",
      "\n",
      "None\n",
      "origin Data\n",
      "                                                  df\n",
      "8  (0.0, 7.5469, 생활정수, 0.0, 고양정수장, None, 4128512319)\n",
      "Prediction: 7.1103 Ph\n",
      "Generate New Prediction...\n"
     ]
    },
    {
     "data": {
      "text/plain": [
       "DataFrame[Date: string, Hour: string, Predict_val: double]"
      ]
     },
     "metadata": {},
     "output_type": "display_data"
    },
    {
     "name": "stdout",
     "output_type": "stream",
     "text": [
      "+--------+----+-----------+\n",
      "|    Date|Hour|Predict_val|\n",
      "+--------+----+-----------+\n",
      "|20210304|  14|     7.1103|\n",
      "+--------+----+-----------+\n",
      "\n",
      "None\n",
      "+--------+----+-----------+--------------------+\n",
      "|    Date|Hour|Predict_val|               value|\n",
      "+--------+----+-----------+--------------------+\n",
      "|20210304|  14|     7.1103|[20210304, 14, 7....|\n",
      "+--------+----+-----------+--------------------+\n",
      "\n",
      "None\n",
      "origin Data\n",
      "                                                  df\n",
      "8  (0.0, 7.5469, 생활정수, 0.0, 고양정수장, None, 4128512319)\n",
      "Prediction: 7.1103 Ph\n",
      "Generate New Prediction...\n"
     ]
    },
    {
     "data": {
      "text/plain": [
       "DataFrame[Date: string, Hour: string, Predict_val: double]"
      ]
     },
     "metadata": {},
     "output_type": "display_data"
    },
    {
     "name": "stdout",
     "output_type": "stream",
     "text": [
      "+--------+----+-----------+\n",
      "|    Date|Hour|Predict_val|\n",
      "+--------+----+-----------+\n",
      "|20210304|  14|     7.1103|\n",
      "+--------+----+-----------+\n",
      "\n",
      "None\n",
      "+--------+----+-----------+--------------------+\n",
      "|    Date|Hour|Predict_val|               value|\n",
      "+--------+----+-----------+--------------------+\n",
      "|20210304|  14|     7.1103|[20210304, 14, 7....|\n",
      "+--------+----+-----------+--------------------+\n",
      "\n",
      "None\n",
      "origin Data\n",
      "                                                  df\n",
      "8  (0.0, 7.5469, 생활정수, 0.0, 고양정수장, None, 4128512319)\n",
      "Prediction: 7.1103 Ph\n",
      "Generate New Prediction...\n"
     ]
    },
    {
     "data": {
      "text/plain": [
       "DataFrame[Date: string, Hour: string, Predict_val: double]"
      ]
     },
     "metadata": {},
     "output_type": "display_data"
    },
    {
     "name": "stdout",
     "output_type": "stream",
     "text": [
      "+--------+----+-----------+\n",
      "|    Date|Hour|Predict_val|\n",
      "+--------+----+-----------+\n",
      "|20210304|  14|     7.1103|\n",
      "+--------+----+-----------+\n",
      "\n",
      "None\n",
      "+--------+----+-----------+--------------------+\n",
      "|    Date|Hour|Predict_val|               value|\n",
      "+--------+----+-----------+--------------------+\n",
      "|20210304|  14|     7.1103|[20210304, 14, 7....|\n",
      "+--------+----+-----------+--------------------+\n",
      "\n",
      "None\n",
      "origin Data\n",
      "                                                  df\n",
      "8  (0.0, 7.5469, 생활정수, 0.0, 고양정수장, None, 4128512319)\n",
      "Prediction: 7.1103 Ph\n",
      "Generate New Prediction...\n"
     ]
    },
    {
     "data": {
      "text/plain": [
       "DataFrame[Date: string, Hour: string, Predict_val: double]"
      ]
     },
     "metadata": {},
     "output_type": "display_data"
    },
    {
     "name": "stdout",
     "output_type": "stream",
     "text": [
      "+--------+----+-----------+\n",
      "|    Date|Hour|Predict_val|\n",
      "+--------+----+-----------+\n",
      "|20210304|  14|     7.1103|\n",
      "+--------+----+-----------+\n",
      "\n",
      "None\n",
      "+--------+----+-----------+--------------------+\n",
      "|    Date|Hour|Predict_val|               value|\n",
      "+--------+----+-----------+--------------------+\n",
      "|20210304|  14|     7.1103|[20210304, 14, 7....|\n",
      "+--------+----+-----------+--------------------+\n",
      "\n",
      "None\n",
      "origin Data\n",
      "                                                  df\n",
      "8  (0.0, 7.5469, 생활정수, 0.0, 고양정수장, None, 4128512319)\n",
      "Prediction: 7.1103 Ph\n",
      "Generate New Prediction...\n"
     ]
    },
    {
     "data": {
      "text/plain": [
       "DataFrame[Date: string, Hour: string, Predict_val: double]"
      ]
     },
     "metadata": {},
     "output_type": "display_data"
    },
    {
     "name": "stdout",
     "output_type": "stream",
     "text": [
      "+--------+----+-----------+\n",
      "|    Date|Hour|Predict_val|\n",
      "+--------+----+-----------+\n",
      "|20210304|  14|     7.1103|\n",
      "+--------+----+-----------+\n",
      "\n",
      "None\n",
      "+--------+----+-----------+--------------------+\n",
      "|    Date|Hour|Predict_val|               value|\n",
      "+--------+----+-----------+--------------------+\n",
      "|20210304|  14|     7.1103|[20210304, 14, 7....|\n",
      "+--------+----+-----------+--------------------+\n",
      "\n",
      "None\n",
      "origin Data\n",
      "                                                  df\n",
      "8  (0.0, 7.5469, 생활정수, 0.0, 고양정수장, None, 4128512319)\n",
      "Prediction: 7.1103 Ph\n",
      "Generate New Prediction...\n"
     ]
    },
    {
     "data": {
      "text/plain": [
       "DataFrame[Date: string, Hour: string, Predict_val: double]"
      ]
     },
     "metadata": {},
     "output_type": "display_data"
    },
    {
     "name": "stdout",
     "output_type": "stream",
     "text": [
      "+--------+----+-----------+\n",
      "|    Date|Hour|Predict_val|\n",
      "+--------+----+-----------+\n",
      "|20210304|  14|     7.1103|\n",
      "+--------+----+-----------+\n",
      "\n",
      "None\n",
      "+--------+----+-----------+--------------------+\n",
      "|    Date|Hour|Predict_val|               value|\n",
      "+--------+----+-----------+--------------------+\n",
      "|20210304|  14|     7.1103|[20210304, 14, 7....|\n",
      "+--------+----+-----------+--------------------+\n",
      "\n",
      "None\n",
      "origin Data\n",
      "                                                  df\n",
      "8  (0.0, 7.5469, 생활정수, 0.0, 고양정수장, None, 4128512319)\n",
      "Prediction: 7.1103 Ph\n",
      "Generate New Prediction...\n"
     ]
    },
    {
     "data": {
      "text/plain": [
       "DataFrame[Date: string, Hour: string, Predict_val: double]"
      ]
     },
     "metadata": {},
     "output_type": "display_data"
    },
    {
     "name": "stdout",
     "output_type": "stream",
     "text": [
      "+--------+----+-----------+\n",
      "|    Date|Hour|Predict_val|\n",
      "+--------+----+-----------+\n",
      "|20210304|  14|     7.1103|\n",
      "+--------+----+-----------+\n",
      "\n",
      "None\n",
      "+--------+----+-----------+--------------------+\n",
      "|    Date|Hour|Predict_val|               value|\n",
      "+--------+----+-----------+--------------------+\n",
      "|20210304|  14|     7.1103|[20210304, 14, 7....|\n",
      "+--------+----+-----------+--------------------+\n",
      "\n",
      "None\n",
      "origin Data\n",
      "                                                  df\n",
      "8  (0.0, 7.5469, 생활정수, 0.0, 고양정수장, None, 4128512319)\n",
      "Prediction: 7.1103 Ph\n",
      "Generate New Prediction...\n"
     ]
    },
    {
     "data": {
      "text/plain": [
       "DataFrame[Date: string, Hour: string, Predict_val: double]"
      ]
     },
     "metadata": {},
     "output_type": "display_data"
    },
    {
     "name": "stdout",
     "output_type": "stream",
     "text": [
      "+--------+----+-----------+\n",
      "|    Date|Hour|Predict_val|\n",
      "+--------+----+-----------+\n",
      "|20210304|  14|     7.1103|\n",
      "+--------+----+-----------+\n",
      "\n",
      "None\n",
      "+--------+----+-----------+--------------------+\n",
      "|    Date|Hour|Predict_val|               value|\n",
      "+--------+----+-----------+--------------------+\n",
      "|20210304|  14|     7.1103|[20210304, 14, 7....|\n",
      "+--------+----+-----------+--------------------+\n",
      "\n",
      "None\n",
      "origin Data\n",
      "                                                  df\n",
      "8  (0.0, 7.5469, 생활정수, 0.0, 고양정수장, None, 4128512319)\n",
      "Prediction: 7.1103 Ph\n",
      "Generate New Prediction...\n"
     ]
    },
    {
     "data": {
      "text/plain": [
       "DataFrame[Date: string, Hour: string, Predict_val: double]"
      ]
     },
     "metadata": {},
     "output_type": "display_data"
    },
    {
     "name": "stdout",
     "output_type": "stream",
     "text": [
      "+--------+----+-----------+\n",
      "|    Date|Hour|Predict_val|\n",
      "+--------+----+-----------+\n",
      "|20210304|  14|     7.1103|\n",
      "+--------+----+-----------+\n",
      "\n",
      "None\n",
      "+--------+----+-----------+--------------------+\n",
      "|    Date|Hour|Predict_val|               value|\n",
      "+--------+----+-----------+--------------------+\n",
      "|20210304|  14|     7.1103|[20210304, 14, 7....|\n",
      "+--------+----+-----------+--------------------+\n",
      "\n",
      "None\n",
      "origin Data\n",
      "                                                  df\n",
      "8  (0.0, 7.5469, 생활정수, 0.0, 고양정수장, None, 4128512319)\n",
      "Prediction: 7.1103 Ph\n",
      "Generate New Prediction...\n"
     ]
    },
    {
     "data": {
      "text/plain": [
       "DataFrame[Date: string, Hour: string, Predict_val: double]"
      ]
     },
     "metadata": {},
     "output_type": "display_data"
    },
    {
     "name": "stdout",
     "output_type": "stream",
     "text": [
      "+--------+----+-----------+\n",
      "|    Date|Hour|Predict_val|\n",
      "+--------+----+-----------+\n",
      "|20210304|  14|     7.1103|\n",
      "+--------+----+-----------+\n",
      "\n",
      "None\n",
      "+--------+----+-----------+--------------------+\n",
      "|    Date|Hour|Predict_val|               value|\n",
      "+--------+----+-----------+--------------------+\n",
      "|20210304|  14|     7.1103|[20210304, 14, 7....|\n",
      "+--------+----+-----------+--------------------+\n",
      "\n",
      "None\n",
      "origin Data\n",
      "                                                  df\n",
      "8  (0.0, 7.5469, 생활정수, 0.0, 고양정수장, None, 4128512319)\n",
      "Prediction: 7.1103 Ph\n",
      "Generate New Prediction...\n"
     ]
    },
    {
     "data": {
      "text/plain": [
       "DataFrame[Date: string, Hour: string, Predict_val: double]"
      ]
     },
     "metadata": {},
     "output_type": "display_data"
    },
    {
     "name": "stdout",
     "output_type": "stream",
     "text": [
      "+--------+----+-----------+\n",
      "|    Date|Hour|Predict_val|\n",
      "+--------+----+-----------+\n",
      "|20210304|  14|     7.1103|\n",
      "+--------+----+-----------+\n",
      "\n",
      "None\n",
      "+--------+----+-----------+--------------------+\n",
      "|    Date|Hour|Predict_val|               value|\n",
      "+--------+----+-----------+--------------------+\n",
      "|20210304|  14|     7.1103|[20210304, 14, 7....|\n",
      "+--------+----+-----------+--------------------+\n",
      "\n",
      "None\n",
      "origin Data\n",
      "                                                  df\n",
      "8  (0.0, 7.5469, 생활정수, 0.0, 고양정수장, None, 4128512319)\n",
      "Prediction: 7.1103 Ph\n",
      "Generate New Prediction...\n"
     ]
    },
    {
     "data": {
      "text/plain": [
       "DataFrame[Date: string, Hour: string, Predict_val: double]"
      ]
     },
     "metadata": {},
     "output_type": "display_data"
    },
    {
     "name": "stdout",
     "output_type": "stream",
     "text": [
      "+--------+----+-----------+\n",
      "|    Date|Hour|Predict_val|\n",
      "+--------+----+-----------+\n",
      "|20210304|  14|     7.1103|\n",
      "+--------+----+-----------+\n",
      "\n",
      "None\n",
      "+--------+----+-----------+--------------------+\n",
      "|    Date|Hour|Predict_val|               value|\n",
      "+--------+----+-----------+--------------------+\n",
      "|20210304|  14|     7.1103|[20210304, 14, 7....|\n",
      "+--------+----+-----------+--------------------+\n",
      "\n",
      "None\n",
      "origin Data\n",
      "                                                  df\n",
      "8  (0.0, 7.5469, 생활정수, 0.0, 고양정수장, None, 4128512319)\n",
      "Prediction: 7.1103 Ph\n",
      "Generate New Prediction...\n"
     ]
    },
    {
     "data": {
      "text/plain": [
       "DataFrame[Date: string, Hour: string, Predict_val: double]"
      ]
     },
     "metadata": {},
     "output_type": "display_data"
    },
    {
     "name": "stdout",
     "output_type": "stream",
     "text": [
      "+--------+----+-----------+\n",
      "|    Date|Hour|Predict_val|\n",
      "+--------+----+-----------+\n",
      "|20210304|  14|     7.1103|\n",
      "+--------+----+-----------+\n",
      "\n",
      "None\n",
      "+--------+----+-----------+--------------------+\n",
      "|    Date|Hour|Predict_val|               value|\n",
      "+--------+----+-----------+--------------------+\n",
      "|20210304|  14|     7.1103|[20210304, 14, 7....|\n",
      "+--------+----+-----------+--------------------+\n",
      "\n",
      "None\n",
      "origin Data\n",
      "                                                  df\n",
      "8  (0.0, 7.5469, 생활정수, 0.0, 고양정수장, None, 4128512319)\n",
      "Prediction: 7.1103 Ph\n",
      "Generate New Prediction...\n"
     ]
    },
    {
     "data": {
      "text/plain": [
       "DataFrame[Date: string, Hour: string, Predict_val: double]"
      ]
     },
     "metadata": {},
     "output_type": "display_data"
    },
    {
     "name": "stdout",
     "output_type": "stream",
     "text": [
      "+--------+----+-----------+\n",
      "|    Date|Hour|Predict_val|\n",
      "+--------+----+-----------+\n",
      "|20210304|  14|     7.1103|\n",
      "+--------+----+-----------+\n",
      "\n",
      "None\n",
      "+--------+----+-----------+--------------------+\n",
      "|    Date|Hour|Predict_val|               value|\n",
      "+--------+----+-----------+--------------------+\n",
      "|20210304|  14|     7.1103|[20210304, 14, 7....|\n",
      "+--------+----+-----------+--------------------+\n",
      "\n",
      "None\n",
      "origin Data\n",
      "                                                  df\n",
      "8  (0.0, 7.5469, 생활정수, 0.0, 고양정수장, None, 4128512319)\n",
      "Prediction: 7.1103 Ph\n",
      "Generate New Prediction...\n"
     ]
    },
    {
     "data": {
      "text/plain": [
       "DataFrame[Date: string, Hour: string, Predict_val: double]"
      ]
     },
     "metadata": {},
     "output_type": "display_data"
    },
    {
     "name": "stdout",
     "output_type": "stream",
     "text": [
      "+--------+----+-----------+\n",
      "|    Date|Hour|Predict_val|\n",
      "+--------+----+-----------+\n",
      "|20210304|  14|     7.1103|\n",
      "+--------+----+-----------+\n",
      "\n",
      "None\n",
      "+--------+----+-----------+--------------------+\n",
      "|    Date|Hour|Predict_val|               value|\n",
      "+--------+----+-----------+--------------------+\n",
      "|20210304|  14|     7.1103|[20210304, 14, 7....|\n",
      "+--------+----+-----------+--------------------+\n",
      "\n",
      "None\n",
      "origin Data\n",
      "                                                  df\n",
      "8  (0.0, 7.5469, 생활정수, 0.0, 고양정수장, None, 4128512319)\n",
      "Prediction: 7.1103 Ph\n",
      "Generate New Prediction...\n"
     ]
    },
    {
     "data": {
      "text/plain": [
       "DataFrame[Date: string, Hour: string, Predict_val: double]"
      ]
     },
     "metadata": {},
     "output_type": "display_data"
    },
    {
     "name": "stdout",
     "output_type": "stream",
     "text": [
      "+--------+----+-----------+\n",
      "|    Date|Hour|Predict_val|\n",
      "+--------+----+-----------+\n",
      "|20210304|  14|     7.1103|\n",
      "+--------+----+-----------+\n",
      "\n",
      "None\n",
      "+--------+----+-----------+--------------------+\n",
      "|    Date|Hour|Predict_val|               value|\n",
      "+--------+----+-----------+--------------------+\n",
      "|20210304|  14|     7.1103|[20210304, 14, 7....|\n",
      "+--------+----+-----------+--------------------+\n",
      "\n",
      "None\n",
      "origin Data\n",
      "                                                  df\n",
      "8  (0.0, 7.5469, 생활정수, 0.0, 고양정수장, None, 4128512319)\n",
      "Prediction: 7.1103 Ph\n",
      "Generate New Prediction...\n"
     ]
    },
    {
     "data": {
      "text/plain": [
       "DataFrame[Date: string, Hour: string, Predict_val: double]"
      ]
     },
     "metadata": {},
     "output_type": "display_data"
    },
    {
     "name": "stdout",
     "output_type": "stream",
     "text": [
      "+--------+----+-----------+\n",
      "|    Date|Hour|Predict_val|\n",
      "+--------+----+-----------+\n",
      "|20210304|  14|     7.1103|\n",
      "+--------+----+-----------+\n",
      "\n",
      "None\n",
      "+--------+----+-----------+--------------------+\n",
      "|    Date|Hour|Predict_val|               value|\n",
      "+--------+----+-----------+--------------------+\n",
      "|20210304|  14|     7.1103|[20210304, 14, 7....|\n",
      "+--------+----+-----------+--------------------+\n",
      "\n",
      "None\n",
      "origin Data\n",
      "                                                  df\n",
      "8  (0.0, 7.5469, 생활정수, 0.0, 고양정수장, None, 4128512319)\n",
      "Prediction: 7.1103 Ph\n",
      "Generate New Prediction...\n"
     ]
    },
    {
     "data": {
      "text/plain": [
       "DataFrame[Date: string, Hour: string, Predict_val: double]"
      ]
     },
     "metadata": {},
     "output_type": "display_data"
    },
    {
     "name": "stdout",
     "output_type": "stream",
     "text": [
      "+--------+----+-----------+\n",
      "|    Date|Hour|Predict_val|\n",
      "+--------+----+-----------+\n",
      "|20210304|  14|     7.1103|\n",
      "+--------+----+-----------+\n",
      "\n",
      "None\n",
      "+--------+----+-----------+--------------------+\n",
      "|    Date|Hour|Predict_val|               value|\n",
      "+--------+----+-----------+--------------------+\n",
      "|20210304|  14|     7.1103|[20210304, 14, 7....|\n",
      "+--------+----+-----------+--------------------+\n",
      "\n",
      "None\n",
      "origin Data\n",
      "                                                  df\n",
      "8  (0.0, 7.5469, 생활정수, 0.0, 고양정수장, None, 4128512319)\n",
      "Prediction: 7.1103 Ph\n",
      "Generate New Prediction...\n"
     ]
    },
    {
     "data": {
      "text/plain": [
       "DataFrame[Date: string, Hour: string, Predict_val: double]"
      ]
     },
     "metadata": {},
     "output_type": "display_data"
    },
    {
     "name": "stdout",
     "output_type": "stream",
     "text": [
      "+--------+----+-----------+\n",
      "|    Date|Hour|Predict_val|\n",
      "+--------+----+-----------+\n",
      "|20210304|  14|     7.1103|\n",
      "+--------+----+-----------+\n",
      "\n",
      "None\n",
      "+--------+----+-----------+--------------------+\n",
      "|    Date|Hour|Predict_val|               value|\n",
      "+--------+----+-----------+--------------------+\n",
      "|20210304|  14|     7.1103|[20210304, 14, 7....|\n",
      "+--------+----+-----------+--------------------+\n",
      "\n",
      "None\n",
      "origin Data\n",
      "                                                  df\n",
      "8  (0.0, 7.5469, 생활정수, 0.0, 고양정수장, None, 4128512319)\n",
      "Prediction: 7.1103 Ph\n",
      "Generate New Prediction...\n"
     ]
    },
    {
     "data": {
      "text/plain": [
       "DataFrame[Date: string, Hour: string, Predict_val: double]"
      ]
     },
     "metadata": {},
     "output_type": "display_data"
    },
    {
     "name": "stdout",
     "output_type": "stream",
     "text": [
      "+--------+----+-----------+\n",
      "|    Date|Hour|Predict_val|\n",
      "+--------+----+-----------+\n",
      "|20210304|  14|     7.1103|\n",
      "+--------+----+-----------+\n",
      "\n",
      "None\n",
      "+--------+----+-----------+--------------------+\n",
      "|    Date|Hour|Predict_val|               value|\n",
      "+--------+----+-----------+--------------------+\n",
      "|20210304|  14|     7.1103|[20210304, 14, 7....|\n",
      "+--------+----+-----------+--------------------+\n",
      "\n",
      "None\n",
      "origin Data\n",
      "                                                  df\n",
      "8  (0.0, 7.5469, 생활정수, 0.0, 고양정수장, None, 4128512319)\n",
      "Prediction: 7.1103 Ph\n",
      "Generate New Prediction...\n"
     ]
    },
    {
     "data": {
      "text/plain": [
       "DataFrame[Date: string, Hour: string, Predict_val: double]"
      ]
     },
     "metadata": {},
     "output_type": "display_data"
    },
    {
     "name": "stdout",
     "output_type": "stream",
     "text": [
      "+--------+----+-----------+\n",
      "|    Date|Hour|Predict_val|\n",
      "+--------+----+-----------+\n",
      "|20210304|  14|     7.1103|\n",
      "+--------+----+-----------+\n",
      "\n",
      "None\n",
      "+--------+----+-----------+--------------------+\n",
      "|    Date|Hour|Predict_val|               value|\n",
      "+--------+----+-----------+--------------------+\n",
      "|20210304|  14|     7.1103|[20210304, 14, 7....|\n",
      "+--------+----+-----------+--------------------+\n",
      "\n",
      "None\n",
      "origin Data\n",
      "                                                  df\n",
      "8  (0.0, 7.5469, 생활정수, 0.0, 고양정수장, None, 4128512319)\n",
      "Prediction: 7.1103 Ph\n",
      "Generate New Prediction...\n"
     ]
    },
    {
     "data": {
      "text/plain": [
       "DataFrame[Date: string, Hour: string, Predict_val: double]"
      ]
     },
     "metadata": {},
     "output_type": "display_data"
    },
    {
     "name": "stdout",
     "output_type": "stream",
     "text": [
      "+--------+----+-----------+\n",
      "|    Date|Hour|Predict_val|\n",
      "+--------+----+-----------+\n",
      "|20210304|  14|     7.1103|\n",
      "+--------+----+-----------+\n",
      "\n",
      "None\n",
      "+--------+----+-----------+--------------------+\n",
      "|    Date|Hour|Predict_val|               value|\n",
      "+--------+----+-----------+--------------------+\n",
      "|20210304|  14|     7.1103|[20210304, 14, 7....|\n",
      "+--------+----+-----------+--------------------+\n",
      "\n",
      "None\n",
      "origin Data\n",
      "                                                  df\n",
      "8  (0.0, 7.5469, 생활정수, 0.0, 고양정수장, None, 4128512319)\n",
      "Prediction: 7.1103 Ph\n",
      "Generate New Prediction...\n"
     ]
    },
    {
     "data": {
      "text/plain": [
       "DataFrame[Date: string, Hour: string, Predict_val: double]"
      ]
     },
     "metadata": {},
     "output_type": "display_data"
    },
    {
     "name": "stdout",
     "output_type": "stream",
     "text": [
      "+--------+----+-----------+\n",
      "|    Date|Hour|Predict_val|\n",
      "+--------+----+-----------+\n",
      "|20210304|  14|     7.1103|\n",
      "+--------+----+-----------+\n",
      "\n",
      "None\n",
      "+--------+----+-----------+--------------------+\n",
      "|    Date|Hour|Predict_val|               value|\n",
      "+--------+----+-----------+--------------------+\n",
      "|20210304|  14|     7.1103|[20210304, 14, 7....|\n",
      "+--------+----+-----------+--------------------+\n",
      "\n",
      "None\n",
      "origin Data\n",
      "                                                  df\n",
      "8  (0.0, 7.5469, 생활정수, 0.0, 고양정수장, None, 4128512319)\n",
      "Prediction: 7.1103 Ph\n",
      "Generate New Prediction...\n"
     ]
    },
    {
     "data": {
      "text/plain": [
       "DataFrame[Date: string, Hour: string, Predict_val: double]"
      ]
     },
     "metadata": {},
     "output_type": "display_data"
    },
    {
     "name": "stdout",
     "output_type": "stream",
     "text": [
      "+--------+----+-----------+\n",
      "|    Date|Hour|Predict_val|\n",
      "+--------+----+-----------+\n",
      "|20210304|  14|     7.1103|\n",
      "+--------+----+-----------+\n",
      "\n",
      "None\n",
      "+--------+----+-----------+--------------------+\n",
      "|    Date|Hour|Predict_val|               value|\n",
      "+--------+----+-----------+--------------------+\n",
      "|20210304|  14|     7.1103|[20210304, 14, 7....|\n",
      "+--------+----+-----------+--------------------+\n",
      "\n",
      "None\n",
      "origin Data\n",
      "                                                  df\n",
      "8  (0.0, 7.5469, 생활정수, 0.0, 고양정수장, None, 4128512319)\n",
      "Prediction: 7.1103 Ph\n",
      "Generate New Prediction...\n"
     ]
    },
    {
     "data": {
      "text/plain": [
       "DataFrame[Date: string, Hour: string, Predict_val: double]"
      ]
     },
     "metadata": {},
     "output_type": "display_data"
    },
    {
     "name": "stdout",
     "output_type": "stream",
     "text": [
      "+--------+----+-----------+\n",
      "|    Date|Hour|Predict_val|\n",
      "+--------+----+-----------+\n",
      "|20210304|  14|     7.1103|\n",
      "+--------+----+-----------+\n",
      "\n",
      "None\n",
      "+--------+----+-----------+--------------------+\n",
      "|    Date|Hour|Predict_val|               value|\n",
      "+--------+----+-----------+--------------------+\n",
      "|20210304|  14|     7.1103|[20210304, 14, 7....|\n",
      "+--------+----+-----------+--------------------+\n",
      "\n",
      "None\n",
      "origin Data\n",
      "                                                  df\n",
      "8  (0.0, 7.5469, 생활정수, 0.0, 고양정수장, None, 4128512319)\n",
      "Prediction: 7.1103 Ph\n",
      "Generate New Prediction...\n"
     ]
    },
    {
     "data": {
      "text/plain": [
       "DataFrame[Date: string, Hour: string, Predict_val: double]"
      ]
     },
     "metadata": {},
     "output_type": "display_data"
    },
    {
     "name": "stdout",
     "output_type": "stream",
     "text": [
      "+--------+----+-----------+\n",
      "|    Date|Hour|Predict_val|\n",
      "+--------+----+-----------+\n",
      "|20210304|  14|     7.1103|\n",
      "+--------+----+-----------+\n",
      "\n",
      "None\n",
      "+--------+----+-----------+--------------------+\n",
      "|    Date|Hour|Predict_val|               value|\n",
      "+--------+----+-----------+--------------------+\n",
      "|20210304|  14|     7.1103|[20210304, 14, 7....|\n",
      "+--------+----+-----------+--------------------+\n",
      "\n",
      "None\n",
      "origin Data\n",
      "                                                  df\n",
      "8  (0.0, 7.5469, 생활정수, 0.0, 고양정수장, None, 4128512319)\n",
      "Prediction: 7.1103 Ph\n",
      "Generate New Prediction...\n"
     ]
    },
    {
     "data": {
      "text/plain": [
       "DataFrame[Date: string, Hour: string, Predict_val: double]"
      ]
     },
     "metadata": {},
     "output_type": "display_data"
    },
    {
     "name": "stdout",
     "output_type": "stream",
     "text": [
      "+--------+----+-----------+\n",
      "|    Date|Hour|Predict_val|\n",
      "+--------+----+-----------+\n",
      "|20210304|  14|     7.1103|\n",
      "+--------+----+-----------+\n",
      "\n",
      "None\n",
      "+--------+----+-----------+--------------------+\n",
      "|    Date|Hour|Predict_val|               value|\n",
      "+--------+----+-----------+--------------------+\n",
      "|20210304|  14|     7.1103|[20210304, 14, 7....|\n",
      "+--------+----+-----------+--------------------+\n",
      "\n",
      "None\n",
      "origin Data\n",
      "                                                  df\n",
      "8  (0.0, 7.5469, 생활정수, 0.0, 고양정수장, None, 4128512319)\n",
      "Prediction: 7.1103 Ph\n",
      "Generate New Prediction...\n"
     ]
    },
    {
     "data": {
      "text/plain": [
       "DataFrame[Date: string, Hour: string, Predict_val: double]"
      ]
     },
     "metadata": {},
     "output_type": "display_data"
    },
    {
     "name": "stdout",
     "output_type": "stream",
     "text": [
      "+--------+----+-----------+\n",
      "|    Date|Hour|Predict_val|\n",
      "+--------+----+-----------+\n",
      "|20210304|  14|     7.1103|\n",
      "+--------+----+-----------+\n",
      "\n",
      "None\n",
      "+--------+----+-----------+--------------------+\n",
      "|    Date|Hour|Predict_val|               value|\n",
      "+--------+----+-----------+--------------------+\n",
      "|20210304|  14|     7.1103|[20210304, 14, 7....|\n",
      "+--------+----+-----------+--------------------+\n",
      "\n",
      "None\n",
      "origin Data\n",
      "                                                  df\n",
      "8  (0.0, 7.5469, 생활정수, 0.0, 고양정수장, None, 4128512319)\n",
      "Prediction: 7.1103 Ph\n",
      "Generate New Prediction...\n"
     ]
    },
    {
     "data": {
      "text/plain": [
       "DataFrame[Date: string, Hour: string, Predict_val: double]"
      ]
     },
     "metadata": {},
     "output_type": "display_data"
    },
    {
     "name": "stdout",
     "output_type": "stream",
     "text": [
      "+--------+----+-----------+\n",
      "|    Date|Hour|Predict_val|\n",
      "+--------+----+-----------+\n",
      "|20210304|  14|     7.1103|\n",
      "+--------+----+-----------+\n",
      "\n",
      "None\n",
      "+--------+----+-----------+--------------------+\n",
      "|    Date|Hour|Predict_val|               value|\n",
      "+--------+----+-----------+--------------------+\n",
      "|20210304|  14|     7.1103|[20210304, 14, 7....|\n",
      "+--------+----+-----------+--------------------+\n",
      "\n",
      "None\n",
      "origin Data\n",
      "                                                  df\n",
      "8  (0.0, 7.5469, 생활정수, 0.0, 고양정수장, None, 4128512319)\n",
      "Prediction: 7.1103 Ph\n",
      "Generate New Prediction...\n"
     ]
    },
    {
     "data": {
      "text/plain": [
       "DataFrame[Date: string, Hour: string, Predict_val: double]"
      ]
     },
     "metadata": {},
     "output_type": "display_data"
    },
    {
     "name": "stdout",
     "output_type": "stream",
     "text": [
      "+--------+----+-----------+\n",
      "|    Date|Hour|Predict_val|\n",
      "+--------+----+-----------+\n",
      "|20210304|  14|     7.1103|\n",
      "+--------+----+-----------+\n",
      "\n",
      "None\n",
      "+--------+----+-----------+--------------------+\n",
      "|    Date|Hour|Predict_val|               value|\n",
      "+--------+----+-----------+--------------------+\n",
      "|20210304|  14|     7.1103|[20210304, 14, 7....|\n",
      "+--------+----+-----------+--------------------+\n",
      "\n",
      "None\n",
      "origin Data\n",
      "                                                  df\n",
      "8  (0.0, 7.5469, 생활정수, 0.0, 고양정수장, None, 4128512319)\n",
      "Prediction: 7.1103 Ph\n",
      "Generate New Prediction...\n"
     ]
    },
    {
     "data": {
      "text/plain": [
       "DataFrame[Date: string, Hour: string, Predict_val: double]"
      ]
     },
     "metadata": {},
     "output_type": "display_data"
    },
    {
     "name": "stdout",
     "output_type": "stream",
     "text": [
      "+--------+----+-----------+\n",
      "|    Date|Hour|Predict_val|\n",
      "+--------+----+-----------+\n",
      "|20210304|  14|     7.1103|\n",
      "+--------+----+-----------+\n",
      "\n",
      "None\n",
      "+--------+----+-----------+--------------------+\n",
      "|    Date|Hour|Predict_val|               value|\n",
      "+--------+----+-----------+--------------------+\n",
      "|20210304|  14|     7.1103|[20210304, 14, 7....|\n",
      "+--------+----+-----------+--------------------+\n",
      "\n",
      "None\n",
      "origin Data\n",
      "                                                  df\n",
      "8  (0.0, 7.5469, 생활정수, 0.0, 고양정수장, None, 4128512319)\n",
      "Prediction: 7.1103 Ph\n",
      "Generate New Prediction...\n"
     ]
    },
    {
     "data": {
      "text/plain": [
       "DataFrame[Date: string, Hour: string, Predict_val: double]"
      ]
     },
     "metadata": {},
     "output_type": "display_data"
    },
    {
     "name": "stdout",
     "output_type": "stream",
     "text": [
      "+--------+----+-----------+\n",
      "|    Date|Hour|Predict_val|\n",
      "+--------+----+-----------+\n",
      "|20210304|  14|     7.1103|\n",
      "+--------+----+-----------+\n",
      "\n",
      "None\n",
      "+--------+----+-----------+--------------------+\n",
      "|    Date|Hour|Predict_val|               value|\n",
      "+--------+----+-----------+--------------------+\n",
      "|20210304|  14|     7.1103|[20210304, 14, 7....|\n",
      "+--------+----+-----------+--------------------+\n",
      "\n",
      "None\n",
      "origin Data\n",
      "                                                  df\n",
      "8  (0.0, 7.5469, 생활정수, 0.0, 고양정수장, None, 4128512319)\n",
      "Prediction: 7.1103 Ph\n",
      "Generate New Prediction...\n"
     ]
    },
    {
     "data": {
      "text/plain": [
       "DataFrame[Date: string, Hour: string, Predict_val: double]"
      ]
     },
     "metadata": {},
     "output_type": "display_data"
    },
    {
     "name": "stdout",
     "output_type": "stream",
     "text": [
      "+--------+----+-----------+\n",
      "|    Date|Hour|Predict_val|\n",
      "+--------+----+-----------+\n",
      "|20210304|  14|     7.1103|\n",
      "+--------+----+-----------+\n",
      "\n",
      "None\n",
      "+--------+----+-----------+--------------------+\n",
      "|    Date|Hour|Predict_val|               value|\n",
      "+--------+----+-----------+--------------------+\n",
      "|20210304|  14|     7.1103|[20210304, 14, 7....|\n",
      "+--------+----+-----------+--------------------+\n",
      "\n",
      "None\n",
      "origin Data\n",
      "                                                  df\n",
      "8  (0.0, 7.5469, 생활정수, 0.0, 고양정수장, None, 4128512319)\n",
      "Prediction: 7.1103 Ph\n",
      "Generate New Prediction...\n"
     ]
    },
    {
     "data": {
      "text/plain": [
       "DataFrame[Date: string, Hour: string, Predict_val: double]"
      ]
     },
     "metadata": {},
     "output_type": "display_data"
    },
    {
     "name": "stdout",
     "output_type": "stream",
     "text": [
      "+--------+----+-----------+\n",
      "|    Date|Hour|Predict_val|\n",
      "+--------+----+-----------+\n",
      "|20210304|  14|     7.1103|\n",
      "+--------+----+-----------+\n",
      "\n",
      "None\n",
      "+--------+----+-----------+--------------------+\n",
      "|    Date|Hour|Predict_val|               value|\n",
      "+--------+----+-----------+--------------------+\n",
      "|20210304|  14|     7.1103|[20210304, 14, 7....|\n",
      "+--------+----+-----------+--------------------+\n",
      "\n",
      "None\n",
      "origin Data\n",
      "                                                  df\n",
      "8  (0.0, 7.5469, 생활정수, 0.0, 고양정수장, None, 4128512319)\n",
      "Prediction: 7.1103 Ph\n",
      "Generate New Prediction...\n"
     ]
    },
    {
     "data": {
      "text/plain": [
       "DataFrame[Date: string, Hour: string, Predict_val: double]"
      ]
     },
     "metadata": {},
     "output_type": "display_data"
    },
    {
     "name": "stdout",
     "output_type": "stream",
     "text": [
      "+--------+----+-----------+\n",
      "|    Date|Hour|Predict_val|\n",
      "+--------+----+-----------+\n",
      "|20210304|  14|     7.1103|\n",
      "+--------+----+-----------+\n",
      "\n",
      "None\n",
      "+--------+----+-----------+--------------------+\n",
      "|    Date|Hour|Predict_val|               value|\n",
      "+--------+----+-----------+--------------------+\n",
      "|20210304|  14|     7.1103|[20210304, 14, 7....|\n",
      "+--------+----+-----------+--------------------+\n",
      "\n",
      "None\n",
      "origin Data\n",
      "                                                  df\n",
      "8  (0.0, 7.5469, 생활정수, 0.0, 고양정수장, None, 4128512319)\n",
      "Prediction: 7.1103 Ph\n",
      "Generate New Prediction...\n"
     ]
    },
    {
     "data": {
      "text/plain": [
       "DataFrame[Date: string, Hour: string, Predict_val: double]"
      ]
     },
     "metadata": {},
     "output_type": "display_data"
    },
    {
     "name": "stdout",
     "output_type": "stream",
     "text": [
      "+--------+----+-----------+\n",
      "|    Date|Hour|Predict_val|\n",
      "+--------+----+-----------+\n",
      "|20210304|  14|     7.1103|\n",
      "+--------+----+-----------+\n",
      "\n",
      "None\n",
      "+--------+----+-----------+--------------------+\n",
      "|    Date|Hour|Predict_val|               value|\n",
      "+--------+----+-----------+--------------------+\n",
      "|20210304|  14|     7.1103|[20210304, 14, 7....|\n",
      "+--------+----+-----------+--------------------+\n",
      "\n",
      "None\n",
      "origin Data\n",
      "                                                  df\n",
      "8  (0.0, 7.5469, 생활정수, 0.0, 고양정수장, None, 4128512319)\n",
      "Prediction: 7.1103 Ph\n",
      "Generate New Prediction...\n"
     ]
    },
    {
     "data": {
      "text/plain": [
       "DataFrame[Date: string, Hour: string, Predict_val: double]"
      ]
     },
     "metadata": {},
     "output_type": "display_data"
    },
    {
     "name": "stdout",
     "output_type": "stream",
     "text": [
      "+--------+----+-----------+\n",
      "|    Date|Hour|Predict_val|\n",
      "+--------+----+-----------+\n",
      "|20210304|  14|     7.1103|\n",
      "+--------+----+-----------+\n",
      "\n",
      "None\n",
      "+--------+----+-----------+--------------------+\n",
      "|    Date|Hour|Predict_val|               value|\n",
      "+--------+----+-----------+--------------------+\n",
      "|20210304|  14|     7.1103|[20210304, 14, 7....|\n",
      "+--------+----+-----------+--------------------+\n",
      "\n",
      "None\n",
      "origin Data\n",
      "                                                  df\n",
      "8  (0.0, 7.5469, 생활정수, 0.0, 고양정수장, None, 4128512319)\n",
      "Prediction: 7.1103 Ph\n",
      "Generate New Prediction...\n"
     ]
    },
    {
     "data": {
      "text/plain": [
       "DataFrame[Date: string, Hour: string, Predict_val: double]"
      ]
     },
     "metadata": {},
     "output_type": "display_data"
    },
    {
     "name": "stdout",
     "output_type": "stream",
     "text": [
      "+--------+----+-----------+\n",
      "|    Date|Hour|Predict_val|\n",
      "+--------+----+-----------+\n",
      "|20210304|  14|     7.1103|\n",
      "+--------+----+-----------+\n",
      "\n",
      "None\n",
      "+--------+----+-----------+--------------------+\n",
      "|    Date|Hour|Predict_val|               value|\n",
      "+--------+----+-----------+--------------------+\n",
      "|20210304|  14|     7.1103|[20210304, 14, 7....|\n",
      "+--------+----+-----------+--------------------+\n",
      "\n",
      "None\n",
      "origin Data\n",
      "                                                  df\n",
      "8  (0.0, 7.5469, 생활정수, 0.0, 고양정수장, None, 4128512319)\n",
      "Prediction: 7.1103 Ph\n"
     ]
    }
   ],
   "source": [
    "while True:\n",
    "\n",
    "\n",
    "    df = spark\\\n",
    "         .read\\\n",
    "         .format(\"kafka\")\\\n",
    "         .option(\"kafka.bootstrap.servers\", \"localhost:9092\")\\\n",
    "         .option(\"subscribe\", \"waterQuality\")\\\n",
    "         .load()\n",
    "\n",
    "    # df.printSchema()\n",
    "\n",
    "    # print(df.show())\n",
    "\n",
    "    df1 = df.selectExpr(\"CAST(value AS STRING)\")\n",
    "\n",
    "    # print(df1.show())\n",
    "    \n",
    "    df_org = StructType()\\\n",
    "\t.add(\"tbVal\", StringType()) \\\n",
    "\t.add(\"phVal\", StringType()) \\\n",
    "\t.add(\"liIndDivName\", StringType()) \\\n",
    "\t.add(\"clVal\", StringType()) \\\n",
    "\t.add(\"fcltyMngNm\", StringType()) \\\n",
    "\t.add(\"occrrncDt\", StringType()) \\\n",
    "\t.add(\"fcltyMngNo\", StringType())\n",
    "\n",
    "    df_void = StructType()\\\n",
    "        .add(\"clVal\", StringType()) \\\n",
    "        .add(\"tbVal\", StringType()) \\\n",
    "        .add(\"fcltyMngNo\", StringType())\n",
    "\n",
    "    df2 = df1.select(from_json(col(\"value\"), df_void).alias(\"df\"))\n",
    "    df_org = df1.select(from_json(col(\"value\"), df_org).alias(\"df\"))\n",
    "    \n",
    "    # print(df2.show())\n",
    "\n",
    "    df3 = df2.select(\"df.*\")\n",
    "    df4 = df3.selectExpr(\"CAST(clVal AS FLOAT)\"\\\n",
    "        , \"CAST(tbVal AS FLOAT)\"\\\n",
    "        , \"CAST(fcltyMngNo AS LONG)\")\n",
    "\n",
    "    # print(df4.show())\n",
    "    # df4.printSchema()\n",
    "\n",
    "    df5 = df4.toPandas()\n",
    "    df_org = df_org.toPandas()\n",
    "    df5.rename(columns = {'clVal':'cl', 'fcltyMngNo':'placeNo', 'phVal':'ph', 'tbVal':\"tb\"},inplace=True)\n",
    "\n",
    "    data = df5.tail(1).to_numpy()\n",
    "    data = data.astype('float64')\n",
    "\n",
    "    # print(data)\n",
    "\n",
    "    X_new = data\n",
    "\n",
    "    # Use the model to predict tomorrow's rentals\n",
    "    result = loaded_model.predict(X_new)\n",
    "\n",
    "        \n",
    "    date = time.strftime('%Y%m%d', time.localtime(time.time()))\n",
    "    hour = time.strftime('%H', time.localtime(time.time()))\n",
    "    prediction_val = float(np.round(result[0],4))\n",
    "    out_data = {\"date\":date, \"hour\":hour, \"predict_val\":prediction_val}\n",
    "    \n",
    "    department1 = Row(Date=date, Hour=hour, Predict_val =prediction_val)\n",
    "\n",
    "    departmentsWithEmployeesSeq1 = [department1]\n",
    "    df_out = spark.createDataFrame(departmentsWithEmployeesSeq1)\n",
    "\n",
    "    display(df_out)\n",
    "\n",
    "    print(df_out.show())\n",
    "\n",
    "    df_out = df_out.selectExpr(\"CAST(Date AS STRING)\"\\\n",
    "            , \"CAST(Hour AS STRING)\"\\\n",
    "            , \"CAST(Predict_val AS STRING)\")\n",
    "\n",
    "    df_ar = df_out.withColumn(\"value\", array(\"Date\", \"Hour\", \"Predict_val\"))\n",
    "\n",
    "    print(df_ar.show())\n",
    "\n",
    "    df_ar.selectExpr(\"CAST(value AS STRING)\") \\\n",
    "          .write \\\n",
    "          .format(\"kafka\") \\\n",
    "          .option(\"kafka.bootstrap.servers\", \"localhost:9092\") \\\n",
    "          .option(\"topic\", \"water_predict\") \\\n",
    "          .save()\n",
    "    \n",
    "    print(\"origin Data\")\n",
    "    print(df_org.tail(1))\n",
    "    \n",
    "    print('Prediction: {0} Ph'.format(np.round(result[0], 4)))\n",
    "    #print(df1.show())\n",
    "    #df1.printSchema()\n",
    "    \n",
    "    time.sleep(5)\n",
    "    \n",
    "    print(\"Generate New Prediction...\")"
   ]
  },
  {
   "cell_type": "code",
   "execution_count": null,
   "id": "improved-amount",
   "metadata": {},
   "outputs": [],
   "source": [
    "\n",
    "department1 = Row(Date=date, Hour=hour, Predict_val =prediction_val)\n",
    "\n",
    "departmentsWithEmployeesSeq1 = [department1]\n",
    "df_out = spark.createDataFrame(departmentsWithEmployeesSeq1)\n",
    "\n",
    "display(df_out)\n",
    "\n",
    "print(df_out.show())\n",
    "\n",
    "df_out = df_out.selectExpr(\"CAST(Date AS STRING)\"\\\n",
    "        , \"CAST(Hour AS STRING)\"\\\n",
    "        , \"CAST(Predict_val AS STRING)\")\n",
    "\n",
    "df_ar = df_out.withColumn(\"value\", array(\"Date\", \"Hour\", \"Predict_val\"))\n",
    "\n",
    "print(df_ar.show())\n",
    "\n",
    "df_ar.selectExpr(\"CAST(value AS STRING)\") \\\n",
    "      .write \\\n",
    "      .format(\"kafka\") \\\n",
    "      .option(\"kafka.bootstrap.servers\", \"localhost:9092\") \\\n",
    "      .option(\"topic\", \"water_predict\") \\\n",
    "      .save()\n",
    "\n",
    "\n",
    "\n",
    "# df_out = array(df_out.select(\"Date\",\"Hour\",\"Predict_val\").collect())\n",
    "# feature_columns = df_out.columns[0:] # here we omit the final column\n",
    "# assembler = VectorAssembler(inputCols=feature_columns,outputCol=\"value\")\n",
    "# df_out = assembler.transform(df_out)\n",
    "\n",
    "df_out.printSchema()"
   ]
  },
  {
   "cell_type": "code",
   "execution_count": null,
   "id": "behavioral-balloon",
   "metadata": {},
   "outputs": [],
   "source": []
  }
 ],
 "metadata": {
  "kernelspec": {
   "display_name": "Python 3",
   "language": "python",
   "name": "python3"
  },
  "language_info": {
   "codemirror_mode": {
    "name": "ipython",
    "version": 3
   },
   "file_extension": ".py",
   "mimetype": "text/x-python",
   "name": "python",
   "nbconvert_exporter": "python",
   "pygments_lexer": "ipython3",
   "version": "3.6.8"
  }
 },
 "nbformat": 4,
 "nbformat_minor": 5
}