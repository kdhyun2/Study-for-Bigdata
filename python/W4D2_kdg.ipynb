{
 "metadata": {
  "language_info": {
   "codemirror_mode": {
    "name": "ipython",
    "version": 3
   },
   "file_extension": ".py",
   "mimetype": "text/x-python",
   "name": "python",
   "nbconvert_exporter": "python",
   "pygments_lexer": "ipython3",
   "version": "3.7.9-final"
  },
  "orig_nbformat": 2,
  "kernelspec": {
   "name": "python3",
   "display_name": "Python 3.7.9 64-bit ('myenv': conda)",
   "metadata": {
    "interpreter": {
     "hash": "a8cc31e1a1c07f97743dce8e32d7d56b0cd4892ef8f6a51b714e88a5f772ba52"
    }
   }
  }
 },
 "nbformat": 4,
 "nbformat_minor": 2,
 "cells": [
  {
   "cell_type": "code",
   "execution_count": 13,
   "metadata": {
    "tags": []
   },
   "outputs": [
    {
     "output_type": "stream",
     "name": "stdout",
     "text": [
      "4776\n"
     ]
    }
   ],
   "source": [
    "import random\n",
    "\n",
    "sum = 0 \n",
    "\n",
    "number = list()\n",
    "\n",
    "target = random.randrange(1,5000)\n",
    "\n",
    "for i in range(1,5000):\n",
    "\n",
    "    number.append(i)\n",
    "\n",
    "if \n"
   ]
  },
  {
   "cell_type": "code",
   "execution_count": null,
   "metadata": {},
   "outputs": [],
   "source": []
  }
 ]
}