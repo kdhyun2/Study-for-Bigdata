{
 "metadata": {
  "language_info": {
   "codemirror_mode": {
    "name": "ipython",
    "version": 3
   },
   "file_extension": ".py",
   "mimetype": "text/x-python",
   "name": "python",
   "nbconvert_exporter": "python",
   "pygments_lexer": "ipython3",
   "version": "3.7.9-final"
  },
  "orig_nbformat": 2,
  "kernelspec": {
   "name": "python3",
   "display_name": "Python 3.7.9 64-bit ('myenv': conda)",
   "metadata": {
    "interpreter": {
     "hash": "88dea5ee6d29d589ee7f1f3809b456f7b9e9350dd2c157ef442f76177668745b"
    }
   }
  }
 },
 "nbformat": 4,
 "nbformat_minor": 2,
 "cells": [
  {
   "cell_type": "code",
   "execution_count": 51,
   "metadata": {
    "tags": []
   },
   "outputs": [
    {
     "output_type": "stream",
     "name": "stdout",
     "text": [
      "[1, 3, 6, 9, 14, 15, 16, 17, 18, 19, 20, 25, 26, 29, 35, 36]\n",
      "번호가 리스트에 없습니다.\n"
     ]
    }
   ],
   "source": [
    "#이진 탐색기 \n",
    "\n",
    "# random 함수 import\n",
    "import random\n",
    "\n",
    "#list 지정 \n",
    "number = list()\n",
    "\n",
    "# List에 random 숫자 20개 넣는 반복문실행\n",
    "for i in range(1,21):\n",
    "\n",
    "    # 1~ 39까지의 숫자만 20개 선별\n",
    "    number.append(random.randrange(1,40))\n",
    "\n",
    "# 20개의 선별 숫자중 중복 제거 \n",
    "number_set = set(number)\n",
    "number = list(number_set)\n",
    "\n",
    "# numner list 오름차순 정렬\n",
    "number.sort()\n",
    "print(number)\n",
    "# 검색을 원하는 숫자를 입력\n",
    "target = int(input(\"enter... target\"))\n",
    "\n",
    "# 초기 max값 리스트의 목록 개수\n",
    "max_list = len(number)\n",
    "# 초기 min값 0\n",
    "min_list = 0\n",
    "\n",
    "# 만약 number list에 입력한 target 값이 있으면 아래 반복문 실행 없으면 \n",
    "# 없다고 알려줌 \n",
    "\n",
    "if target in number:\n",
    "   # 반복문 실행 \n",
    "    while(True):\n",
    "        # index 위치의 중간 지점 설정 위에서 설정한 min/max 평균\n",
    "        avrg = (max_list+min_list)//2\n",
    "        # 중간위치 값이 크면 max 값을 평균위치로 옮겨 상위 반 제거 \n",
    "        if(number[avrg]>target):\n",
    "            max_list = avrg\n",
    "        # 중간위치 값이 작으면 min 값을 평균위치로 옮겨 하위 반 제거\n",
    "        elif(number[avrg]<target):\n",
    "            min_list = avrg\n",
    "        # 같다면 해당 target이 있는 위치인 aver 반환 후 반복문 종료 \n",
    "        else:\n",
    "            print(\"target index is.. {0}\".format(avrg))\n",
    "            break\n",
    "\n",
    "else:\n",
    "    print(\"번호가 리스트에 없습니다.\")\n",
    "\n",
    "\n",
    "\n",
    "\n",
    "\n",
    "\n"
   ]
  },
  {
   "cell_type": "code",
   "execution_count": null,
   "metadata": {},
   "outputs": [],
   "source": []
  }
 ]
}