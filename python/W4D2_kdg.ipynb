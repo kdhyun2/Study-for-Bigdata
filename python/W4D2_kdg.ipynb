{
 "metadata": {
  "language_info": {
   "codemirror_mode": {
    "name": "ipython",
    "version": 3
   },
   "file_extension": ".py",
   "mimetype": "text/x-python",
   "name": "python",
   "nbconvert_exporter": "python",
   "pygments_lexer": "ipython3",
   "version": "3.7.9-final"
  },
  "orig_nbformat": 2,
  "kernelspec": {
   "name": "python3",
   "display_name": "Python 3.7.9 64-bit ('myenv': conda)",
   "metadata": {
    "interpreter": {
     "hash": "88dea5ee6d29d589ee7f1f3809b456f7b9e9350dd2c157ef442f76177668745b"
    }
   }
  }
 },
 "nbformat": 4,
 "nbformat_minor": 2,
 "cells": [
  {
   "cell_type": "code",
   "execution_count": null,
   "metadata": {},
   "outputs": [],
   "source": [
    "import random\n",
    "\n",
    "sum = 0 \n",
    "\n",
    "number = list()\n",
    "max_number = random.randrange(1,5000)\n",
    "print(max_number)\n",
    "target = random.randrange(1,max_number)\n",
    "print(target)\n",
    "\n",
    "for i in range(1,max_number+1):\n",
    "\n",
    "    number.append(i)\n",
    "    if i == max_number:\n",
    "        print(\"max number is .. {0}\".format(max_number))\n",
    "\n",
    "while(True):\n",
    "    con_max = max(number)\n",
    "    con_min = min(number)\n",
    "    avrg = ((max(number)+min(number))//2)\n",
    "\n",
    "    if(avrg > target):\n",
    "        con_max = avrg\n",
    "    elif(avrg < target):\n",
    "        con_min = avrg\n",
    "    \n",
    "    elif(avrg==target):\n",
    "        print(\"finish..avrg{0} Target is... {1}\".format(avrg, target))\n",
    "        break\n",
    "    "
   ]
  },
  {
   "cell_type": "code",
   "execution_count": null,
   "metadata": {},
   "outputs": [],
   "source": [
    "target = 25\n",
    "m_list = [30, 94, 27, 92, 21, 37, 25, 47, 25, 53, 98, 19, 32, 32, 7]\n",
    "length = len(m_list)\n",
    "\n",
    "m_list.sort()\n",
    "left = 0 \n",
    "right = length-1\n",
    "\n",
    "while left<=right:\n",
    "    mid = (left+right)//2\n",
    "    if m_list[mid] == target:\n",
    "        print(mid+1)\n",
    "        break\n",
    "    elif m_list[mid]>target:\n",
    "        right = mid-1\n",
    "    else :\n",
    "        left = mid+1"
   ]
  },
  {
   "cell_type": "code",
   "execution_count": null,
   "metadata": {},
   "outputs": [],
   "source": []
  }
 ]
}