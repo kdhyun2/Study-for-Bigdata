{
 "metadata": {
  "language_info": {
   "codemirror_mode": {
    "name": "ipython",
    "version": 3
   },
   "file_extension": ".py",
   "mimetype": "text/x-python",
   "name": "python",
   "nbconvert_exporter": "python",
   "pygments_lexer": "ipython3",
   "version": "3.7.9-final"
  },
  "orig_nbformat": 2,
  "kernelspec": {
   "name": "python3",
   "display_name": "Python 3.7.9 64-bit ('myenv': conda)",
   "metadata": {
    "interpreter": {
     "hash": "88dea5ee6d29d589ee7f1f3809b456f7b9e9350dd2c157ef442f76177668745b"
    }
   }
  }
 },
 "nbformat": 4,
 "nbformat_minor": 2,
 "cells": [
  {
   "cell_type": "code",
   "execution_count": null,
   "metadata": {
    "tags": [
     "outputPrepend"
    ]
   },
   "outputs": [],
   "source": [
    "import sys\n",
    "from urllib.request import urlopen\n",
    "f = urlopen('http://www.hanbit.co.kr/store/books/full_book_list.html')\n",
    "# http 헤더를 기반으로 인코딩 방식을 추출합니다. (지정되어 있지 않을경우\n",
    "#  UTF-8을 이용합니다. )\n",
    "\n",
    "encoding = f.info().get_content_charset(failobj=\"uft-8\")\n",
    "#(UTF-8 사용 하게 만듬 )\n",
    "\n",
    "print('encoding:', encoding, file=sys.stderr)\n",
    "#(인코딩 방식을 표준 오류에 출력합니다.)\n",
    "\n",
    "text = f.read().decode(encoding)\n",
    "#(추출한 내용을 인코딩 방식으로 디코딩 합니다.)\n",
    "\n",
    "print(text)\n",
    "# 웹페이지 내용을 표준 출력에 출력합니다."
   ]
  },
  {
   "cell_type": "code",
   "execution_count": 8,
   "metadata": {},
   "outputs": [
    {
     "output_type": "stream",
     "name": "stdout",
     "text": [
      "응답코드 : 200\n13827\n"
     ]
    }
   ],
   "source": [
    "import requests\n",
    "res = requests.get(\"http://google.com\")\n",
    "print(\"응답코드 :\", res.status_code)\n",
    "\n",
    "'''if res.status_code == requests.codes.ok:\n",
    "    print(\"정상입니다.\")\n",
    "else:\n",
    "    print(\"문제가 생겼습니다. [에러 코드\",res.status_code,\"]\")'''\n",
    "\n",
    "res.raise_for_status()\n",
    "# 위 request.get 과 raise_for_status는 쌍으로 주로 사용한다. \n",
    "# 403코드 같은 오류 발생시 오류를 밷고 프로그램 종료 한다. \n",
    "\n",
    "\n",
    "print(len(res.text))\n",
    "\n",
    "with open(\"mygoogle.html\", \"w\", encoding=\"utf8\") as f:\n",
    "    f.write(res.text)"
   ]
  },
  {
   "cell_type": "code",
   "execution_count": 2,
   "metadata": {},
   "outputs": [
    {
     "output_type": "stream",
     "name": "stdout",
     "text": [
      "care\n"
     ]
    }
   ],
   "source": [
    "import re\n",
    "# 교통사고 번호반 외우기 \n",
    "# abcd, book, desk\n",
    "# 세개만 기억난다.\n",
    "# ca?e\n",
    "# care , cafe, case, cave등등일수 있다. \n",
    "# caae, cabe, cace 등등 할수 있지만 정규식을 써본다.\n",
    "\n",
    "p = re.compile(\"ca.e\") \n",
    "# (ca.e) : .은 하나의 문자를 의미한다. > care, cafe, case | caffe\n",
    "# (^de) : ^은 문자열의 시작을 의미한다. > desk, destination(O) |  fade (X)\n",
    "# (se$) : $는 문자열의 끝을 의미한다. > case, base(O) | face (X)\n",
    "\n",
    "def print_match(m):\n",
    "    if m:\n",
    "        print(m.group())\n",
    "    else:\n",
    "        print(\"not match\")\n",
    "\n",
    "# m = p.match(\"careless\")\n",
    "# print_match(m)\n",
    "\n",
    "m = p.search(\"good care\")\n",
    "print_match(m)\n",
    "# search 주어진 문자열 중에 일치하는것이 있으면 가능"
   ]
  },
  {
   "cell_type": "code",
   "execution_count": null,
   "metadata": {},
   "outputs": [],
   "source": []
  }
 ]
}